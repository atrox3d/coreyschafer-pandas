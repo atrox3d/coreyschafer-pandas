{
 "cells": [
  {
   "cell_type": "markdown",
   "id": "460344a3",
   "metadata": {},
   "source": [
    "# Part 4 - filtering"
   ]
  },
  {
   "cell_type": "code",
   "execution_count": 225,
   "id": "2a3f36e6",
   "metadata": {},
   "outputs": [],
   "source": [
    "import pandas as pd"
   ]
  },
  {
   "cell_type": "code",
   "execution_count": 226,
   "id": "cb79bdf9",
   "metadata": {},
   "outputs": [],
   "source": [
    "survey_df = pd.read_csv('data/survey_results_public.csv')\n",
    "schema_df = pd.read_csv('data/survey_results_schema.csv')"
   ]
  },
  {
   "cell_type": "code",
   "execution_count": 227,
   "id": "2e7b0b3e",
   "metadata": {},
   "outputs": [
    {
     "data": {
      "application/vnd.microsoft.datawrangler.viewer.v0+json": {
       "columns": [
        {
         "name": "index",
         "rawType": "int64",
         "type": "integer"
        },
        {
         "name": "first",
         "rawType": "object",
         "type": "string"
        },
        {
         "name": "last",
         "rawType": "object",
         "type": "string"
        },
        {
         "name": "email",
         "rawType": "object",
         "type": "string"
        }
       ],
       "conversionMethod": "pd.DataFrame",
       "ref": "52eeafaf-6e16-4b9a-8280-de2643dc817d",
       "rows": [
        [
         "0",
         "Corey",
         "Schafer",
         "CoreyMSchafer@gmail.com"
        ],
        [
         "1",
         "Jane",
         "Doe",
         "JaneDoe@gmail.com"
        ],
        [
         "2",
         "John",
         "Doe",
         "JohnDoe@gmail.com"
        ]
       ],
       "shape": {
        "columns": 3,
        "rows": 3
       }
      },
      "text/html": [
       "<div>\n",
       "<style scoped>\n",
       "    .dataframe tbody tr th:only-of-type {\n",
       "        vertical-align: middle;\n",
       "    }\n",
       "\n",
       "    .dataframe tbody tr th {\n",
       "        vertical-align: top;\n",
       "    }\n",
       "\n",
       "    .dataframe thead th {\n",
       "        text-align: right;\n",
       "    }\n",
       "</style>\n",
       "<table border=\"1\" class=\"dataframe\">\n",
       "  <thead>\n",
       "    <tr style=\"text-align: right;\">\n",
       "      <th></th>\n",
       "      <th>first</th>\n",
       "      <th>last</th>\n",
       "      <th>email</th>\n",
       "    </tr>\n",
       "  </thead>\n",
       "  <tbody>\n",
       "    <tr>\n",
       "      <th>0</th>\n",
       "      <td>Corey</td>\n",
       "      <td>Schafer</td>\n",
       "      <td>CoreyMSchafer@gmail.com</td>\n",
       "    </tr>\n",
       "    <tr>\n",
       "      <th>1</th>\n",
       "      <td>Jane</td>\n",
       "      <td>Doe</td>\n",
       "      <td>JaneDoe@gmail.com</td>\n",
       "    </tr>\n",
       "    <tr>\n",
       "      <th>2</th>\n",
       "      <td>John</td>\n",
       "      <td>Doe</td>\n",
       "      <td>JohnDoe@gmail.com</td>\n",
       "    </tr>\n",
       "  </tbody>\n",
       "</table>\n",
       "</div>"
      ],
      "text/plain": [
       "   first     last                    email\n",
       "0  Corey  Schafer  CoreyMSchafer@gmail.com\n",
       "1   Jane      Doe        JaneDoe@gmail.com\n",
       "2   John      Doe        JohnDoe@gmail.com"
      ]
     },
     "execution_count": 227,
     "metadata": {},
     "output_type": "execute_result"
    }
   ],
   "source": [
    "people_df = pd.DataFrame({\n",
    "    'first': 'Corey Jane John'.split(),\n",
    "    'last': 'Schafer Doe Doe'.split(),\n",
    "    'email': 'CoreyMSchafer@gmail.com JaneDoe@gmail.com JohnDoe@gmail.com'.split()\n",
    "})\n",
    "people_df"
   ]
  },
  {
   "cell_type": "code",
   "execution_count": 228,
   "id": "8b8a1be0",
   "metadata": {},
   "outputs": [],
   "source": [
    "pd.set_option('display.max_columns', 85)\n",
    "pd.set_option('display.max_rows', 85)"
   ]
  },
  {
   "cell_type": "markdown",
   "id": "561f13ee",
   "metadata": {},
   "source": [
    "# manage ALL column names"
   ]
  },
  {
   "cell_type": "code",
   "execution_count": 229,
   "id": "60a2fed3",
   "metadata": {},
   "outputs": [
    {
     "data": {
      "text/plain": [
       "Index(['first', 'last', 'email'], dtype='object')"
      ]
     },
     "execution_count": 229,
     "metadata": {},
     "output_type": "execute_result"
    }
   ],
   "source": [
    "people_df.columns"
   ]
  },
  {
   "cell_type": "markdown",
   "id": "0205e081",
   "metadata": {},
   "source": [
    "## replace all column names"
   ]
  },
  {
   "cell_type": "code",
   "execution_count": 230,
   "id": "e9899c91",
   "metadata": {},
   "outputs": [
    {
     "data": {
      "text/plain": [
       "Index(['first_name', 'last_name', 'email'], dtype='object')"
      ]
     },
     "metadata": {},
     "output_type": "display_data"
    },
    {
     "data": {
      "application/vnd.microsoft.datawrangler.viewer.v0+json": {
       "columns": [
        {
         "name": "index",
         "rawType": "int64",
         "type": "integer"
        },
        {
         "name": "first_name",
         "rawType": "object",
         "type": "string"
        },
        {
         "name": "last_name",
         "rawType": "object",
         "type": "string"
        },
        {
         "name": "email",
         "rawType": "object",
         "type": "string"
        }
       ],
       "conversionMethod": "pd.DataFrame",
       "ref": "fe5eaaa7-b885-427c-9d1e-acf9d80d0cdd",
       "rows": [
        [
         "0",
         "Corey",
         "Schafer",
         "CoreyMSchafer@gmail.com"
        ],
        [
         "1",
         "Jane",
         "Doe",
         "JaneDoe@gmail.com"
        ],
        [
         "2",
         "John",
         "Doe",
         "JohnDoe@gmail.com"
        ]
       ],
       "shape": {
        "columns": 3,
        "rows": 3
       }
      },
      "text/html": [
       "<div>\n",
       "<style scoped>\n",
       "    .dataframe tbody tr th:only-of-type {\n",
       "        vertical-align: middle;\n",
       "    }\n",
       "\n",
       "    .dataframe tbody tr th {\n",
       "        vertical-align: top;\n",
       "    }\n",
       "\n",
       "    .dataframe thead th {\n",
       "        text-align: right;\n",
       "    }\n",
       "</style>\n",
       "<table border=\"1\" class=\"dataframe\">\n",
       "  <thead>\n",
       "    <tr style=\"text-align: right;\">\n",
       "      <th></th>\n",
       "      <th>first_name</th>\n",
       "      <th>last_name</th>\n",
       "      <th>email</th>\n",
       "    </tr>\n",
       "  </thead>\n",
       "  <tbody>\n",
       "    <tr>\n",
       "      <th>0</th>\n",
       "      <td>Corey</td>\n",
       "      <td>Schafer</td>\n",
       "      <td>CoreyMSchafer@gmail.com</td>\n",
       "    </tr>\n",
       "    <tr>\n",
       "      <th>1</th>\n",
       "      <td>Jane</td>\n",
       "      <td>Doe</td>\n",
       "      <td>JaneDoe@gmail.com</td>\n",
       "    </tr>\n",
       "    <tr>\n",
       "      <th>2</th>\n",
       "      <td>John</td>\n",
       "      <td>Doe</td>\n",
       "      <td>JohnDoe@gmail.com</td>\n",
       "    </tr>\n",
       "  </tbody>\n",
       "</table>\n",
       "</div>"
      ],
      "text/plain": [
       "  first_name last_name                    email\n",
       "0      Corey   Schafer  CoreyMSchafer@gmail.com\n",
       "1       Jane       Doe        JaneDoe@gmail.com\n",
       "2       John       Doe        JohnDoe@gmail.com"
      ]
     },
     "execution_count": 230,
     "metadata": {},
     "output_type": "execute_result"
    }
   ],
   "source": [
    "people_df.columns = 'first_name last_name email'.split()\n",
    "display(people_df.columns)\n",
    "people_df"
   ]
  },
  {
   "cell_type": "markdown",
   "id": "c3d089d1",
   "metadata": {},
   "source": [
    "## make all column names uppercase"
   ]
  },
  {
   "cell_type": "code",
   "execution_count": 231,
   "id": "0a8f5a4a",
   "metadata": {},
   "outputs": [
    {
     "data": {
      "text/plain": [
       "Index(['FIRST_NAME', 'LAST_NAME', 'EMAIL'], dtype='object')"
      ]
     },
     "metadata": {},
     "output_type": "display_data"
    },
    {
     "data": {
      "application/vnd.microsoft.datawrangler.viewer.v0+json": {
       "columns": [
        {
         "name": "index",
         "rawType": "int64",
         "type": "integer"
        },
        {
         "name": "FIRST_NAME",
         "rawType": "object",
         "type": "string"
        },
        {
         "name": "LAST_NAME",
         "rawType": "object",
         "type": "string"
        },
        {
         "name": "EMAIL",
         "rawType": "object",
         "type": "string"
        }
       ],
       "conversionMethod": "pd.DataFrame",
       "ref": "a0224732-8d0f-4b93-8838-7072707a1dbc",
       "rows": [
        [
         "0",
         "Corey",
         "Schafer",
         "CoreyMSchafer@gmail.com"
        ],
        [
         "1",
         "Jane",
         "Doe",
         "JaneDoe@gmail.com"
        ],
        [
         "2",
         "John",
         "Doe",
         "JohnDoe@gmail.com"
        ]
       ],
       "shape": {
        "columns": 3,
        "rows": 3
       }
      },
      "text/html": [
       "<div>\n",
       "<style scoped>\n",
       "    .dataframe tbody tr th:only-of-type {\n",
       "        vertical-align: middle;\n",
       "    }\n",
       "\n",
       "    .dataframe tbody tr th {\n",
       "        vertical-align: top;\n",
       "    }\n",
       "\n",
       "    .dataframe thead th {\n",
       "        text-align: right;\n",
       "    }\n",
       "</style>\n",
       "<table border=\"1\" class=\"dataframe\">\n",
       "  <thead>\n",
       "    <tr style=\"text-align: right;\">\n",
       "      <th></th>\n",
       "      <th>FIRST_NAME</th>\n",
       "      <th>LAST_NAME</th>\n",
       "      <th>EMAIL</th>\n",
       "    </tr>\n",
       "  </thead>\n",
       "  <tbody>\n",
       "    <tr>\n",
       "      <th>0</th>\n",
       "      <td>Corey</td>\n",
       "      <td>Schafer</td>\n",
       "      <td>CoreyMSchafer@gmail.com</td>\n",
       "    </tr>\n",
       "    <tr>\n",
       "      <th>1</th>\n",
       "      <td>Jane</td>\n",
       "      <td>Doe</td>\n",
       "      <td>JaneDoe@gmail.com</td>\n",
       "    </tr>\n",
       "    <tr>\n",
       "      <th>2</th>\n",
       "      <td>John</td>\n",
       "      <td>Doe</td>\n",
       "      <td>JohnDoe@gmail.com</td>\n",
       "    </tr>\n",
       "  </tbody>\n",
       "</table>\n",
       "</div>"
      ],
      "text/plain": [
       "  FIRST_NAME LAST_NAME                    EMAIL\n",
       "0      Corey   Schafer  CoreyMSchafer@gmail.com\n",
       "1       Jane       Doe        JaneDoe@gmail.com\n",
       "2       John       Doe        JohnDoe@gmail.com"
      ]
     },
     "execution_count": 231,
     "metadata": {},
     "output_type": "execute_result"
    }
   ],
   "source": [
    "people_df.columns = [x.upper() for x in people_df.columns]\n",
    "display(people_df.columns)\n",
    "people_df"
   ]
  },
  {
   "cell_type": "markdown",
   "id": "0c0cc593",
   "metadata": {},
   "source": [
    "## make all column names lowercase vectorized"
   ]
  },
  {
   "cell_type": "code",
   "execution_count": 232,
   "id": "faef6f75",
   "metadata": {},
   "outputs": [
    {
     "data": {
      "text/plain": [
       "Index(['first_name', 'last_name', 'email'], dtype='object')"
      ]
     },
     "metadata": {},
     "output_type": "display_data"
    },
    {
     "data": {
      "application/vnd.microsoft.datawrangler.viewer.v0+json": {
       "columns": [
        {
         "name": "index",
         "rawType": "int64",
         "type": "integer"
        },
        {
         "name": "first_name",
         "rawType": "object",
         "type": "string"
        },
        {
         "name": "last_name",
         "rawType": "object",
         "type": "string"
        },
        {
         "name": "email",
         "rawType": "object",
         "type": "string"
        }
       ],
       "conversionMethod": "pd.DataFrame",
       "ref": "50593284-878d-49ad-bd4b-81ee65a42657",
       "rows": [
        [
         "0",
         "Corey",
         "Schafer",
         "CoreyMSchafer@gmail.com"
        ],
        [
         "1",
         "Jane",
         "Doe",
         "JaneDoe@gmail.com"
        ],
        [
         "2",
         "John",
         "Doe",
         "JohnDoe@gmail.com"
        ]
       ],
       "shape": {
        "columns": 3,
        "rows": 3
       }
      },
      "text/html": [
       "<div>\n",
       "<style scoped>\n",
       "    .dataframe tbody tr th:only-of-type {\n",
       "        vertical-align: middle;\n",
       "    }\n",
       "\n",
       "    .dataframe tbody tr th {\n",
       "        vertical-align: top;\n",
       "    }\n",
       "\n",
       "    .dataframe thead th {\n",
       "        text-align: right;\n",
       "    }\n",
       "</style>\n",
       "<table border=\"1\" class=\"dataframe\">\n",
       "  <thead>\n",
       "    <tr style=\"text-align: right;\">\n",
       "      <th></th>\n",
       "      <th>first_name</th>\n",
       "      <th>last_name</th>\n",
       "      <th>email</th>\n",
       "    </tr>\n",
       "  </thead>\n",
       "  <tbody>\n",
       "    <tr>\n",
       "      <th>0</th>\n",
       "      <td>Corey</td>\n",
       "      <td>Schafer</td>\n",
       "      <td>CoreyMSchafer@gmail.com</td>\n",
       "    </tr>\n",
       "    <tr>\n",
       "      <th>1</th>\n",
       "      <td>Jane</td>\n",
       "      <td>Doe</td>\n",
       "      <td>JaneDoe@gmail.com</td>\n",
       "    </tr>\n",
       "    <tr>\n",
       "      <th>2</th>\n",
       "      <td>John</td>\n",
       "      <td>Doe</td>\n",
       "      <td>JohnDoe@gmail.com</td>\n",
       "    </tr>\n",
       "  </tbody>\n",
       "</table>\n",
       "</div>"
      ],
      "text/plain": [
       "  first_name last_name                    email\n",
       "0      Corey   Schafer  CoreyMSchafer@gmail.com\n",
       "1       Jane       Doe        JaneDoe@gmail.com\n",
       "2       John       Doe        JohnDoe@gmail.com"
      ]
     },
     "execution_count": 232,
     "metadata": {},
     "output_type": "execute_result"
    }
   ],
   "source": [
    "people_df.columns = people_df.columns.str.lower()\n",
    "display(people_df.columns)\n",
    "people_df"
   ]
  },
  {
   "cell_type": "markdown",
   "id": "5420ff64",
   "metadata": {},
   "source": [
    "## replace spaces in column names"
   ]
  },
  {
   "cell_type": "code",
   "execution_count": 233,
   "id": "b1c3f163",
   "metadata": {},
   "outputs": [
    {
     "data": {
      "text/plain": [
       "Index(['first_name', 'last_name', 'email'], dtype='object')"
      ]
     },
     "metadata": {},
     "output_type": "display_data"
    },
    {
     "data": {
      "application/vnd.microsoft.datawrangler.viewer.v0+json": {
       "columns": [
        {
         "name": "index",
         "rawType": "int64",
         "type": "integer"
        },
        {
         "name": "first_name",
         "rawType": "object",
         "type": "string"
        },
        {
         "name": "last_name",
         "rawType": "object",
         "type": "string"
        },
        {
         "name": "email",
         "rawType": "object",
         "type": "string"
        }
       ],
       "conversionMethod": "pd.DataFrame",
       "ref": "0b92384c-d25f-41a3-a000-9b95f1bac4fc",
       "rows": [
        [
         "0",
         "Corey",
         "Schafer",
         "CoreyMSchafer@gmail.com"
        ],
        [
         "1",
         "Jane",
         "Doe",
         "JaneDoe@gmail.com"
        ],
        [
         "2",
         "John",
         "Doe",
         "JohnDoe@gmail.com"
        ]
       ],
       "shape": {
        "columns": 3,
        "rows": 3
       }
      },
      "text/html": [
       "<div>\n",
       "<style scoped>\n",
       "    .dataframe tbody tr th:only-of-type {\n",
       "        vertical-align: middle;\n",
       "    }\n",
       "\n",
       "    .dataframe tbody tr th {\n",
       "        vertical-align: top;\n",
       "    }\n",
       "\n",
       "    .dataframe thead th {\n",
       "        text-align: right;\n",
       "    }\n",
       "</style>\n",
       "<table border=\"1\" class=\"dataframe\">\n",
       "  <thead>\n",
       "    <tr style=\"text-align: right;\">\n",
       "      <th></th>\n",
       "      <th>first_name</th>\n",
       "      <th>last_name</th>\n",
       "      <th>email</th>\n",
       "    </tr>\n",
       "  </thead>\n",
       "  <tbody>\n",
       "    <tr>\n",
       "      <th>0</th>\n",
       "      <td>Corey</td>\n",
       "      <td>Schafer</td>\n",
       "      <td>CoreyMSchafer@gmail.com</td>\n",
       "    </tr>\n",
       "    <tr>\n",
       "      <th>1</th>\n",
       "      <td>Jane</td>\n",
       "      <td>Doe</td>\n",
       "      <td>JaneDoe@gmail.com</td>\n",
       "    </tr>\n",
       "    <tr>\n",
       "      <th>2</th>\n",
       "      <td>John</td>\n",
       "      <td>Doe</td>\n",
       "      <td>JohnDoe@gmail.com</td>\n",
       "    </tr>\n",
       "  </tbody>\n",
       "</table>\n",
       "</div>"
      ],
      "text/plain": [
       "  first_name last_name                    email\n",
       "0      Corey   Schafer  CoreyMSchafer@gmail.com\n",
       "1       Jane       Doe        JaneDoe@gmail.com\n",
       "2       John       Doe        JohnDoe@gmail.com"
      ]
     },
     "execution_count": 233,
     "metadata": {},
     "output_type": "execute_result"
    }
   ],
   "source": [
    "people_df.columns = people_df.columns.str.replace(' ', '_')\n",
    "display(people_df.columns)\n",
    "people_df"
   ]
  },
  {
   "cell_type": "markdown",
   "id": "de8cb5e3",
   "metadata": {},
   "source": [
    "# manage SOME column names"
   ]
  },
  {
   "cell_type": "code",
   "execution_count": 234,
   "id": "b59263ba",
   "metadata": {},
   "outputs": [
    {
     "data": {
      "text/plain": [
       "Index(['first', 'last', 'email'], dtype='object')"
      ]
     },
     "metadata": {},
     "output_type": "display_data"
    },
    {
     "data": {
      "application/vnd.microsoft.datawrangler.viewer.v0+json": {
       "columns": [
        {
         "name": "index",
         "rawType": "int64",
         "type": "integer"
        },
        {
         "name": "first",
         "rawType": "object",
         "type": "string"
        },
        {
         "name": "last",
         "rawType": "object",
         "type": "string"
        },
        {
         "name": "email",
         "rawType": "object",
         "type": "string"
        }
       ],
       "conversionMethod": "pd.DataFrame",
       "ref": "ebef8ad5-c04f-4a06-8d0e-0959c9adc4d0",
       "rows": [
        [
         "0",
         "Corey",
         "Schafer",
         "CoreyMSchafer@gmail.com"
        ],
        [
         "1",
         "Jane",
         "Doe",
         "JaneDoe@gmail.com"
        ],
        [
         "2",
         "John",
         "Doe",
         "JohnDoe@gmail.com"
        ]
       ],
       "shape": {
        "columns": 3,
        "rows": 3
       }
      },
      "text/html": [
       "<div>\n",
       "<style scoped>\n",
       "    .dataframe tbody tr th:only-of-type {\n",
       "        vertical-align: middle;\n",
       "    }\n",
       "\n",
       "    .dataframe tbody tr th {\n",
       "        vertical-align: top;\n",
       "    }\n",
       "\n",
       "    .dataframe thead th {\n",
       "        text-align: right;\n",
       "    }\n",
       "</style>\n",
       "<table border=\"1\" class=\"dataframe\">\n",
       "  <thead>\n",
       "    <tr style=\"text-align: right;\">\n",
       "      <th></th>\n",
       "      <th>first</th>\n",
       "      <th>last</th>\n",
       "      <th>email</th>\n",
       "    </tr>\n",
       "  </thead>\n",
       "  <tbody>\n",
       "    <tr>\n",
       "      <th>0</th>\n",
       "      <td>Corey</td>\n",
       "      <td>Schafer</td>\n",
       "      <td>CoreyMSchafer@gmail.com</td>\n",
       "    </tr>\n",
       "    <tr>\n",
       "      <th>1</th>\n",
       "      <td>Jane</td>\n",
       "      <td>Doe</td>\n",
       "      <td>JaneDoe@gmail.com</td>\n",
       "    </tr>\n",
       "    <tr>\n",
       "      <th>2</th>\n",
       "      <td>John</td>\n",
       "      <td>Doe</td>\n",
       "      <td>JohnDoe@gmail.com</td>\n",
       "    </tr>\n",
       "  </tbody>\n",
       "</table>\n",
       "</div>"
      ],
      "text/plain": [
       "   first     last                    email\n",
       "0  Corey  Schafer  CoreyMSchafer@gmail.com\n",
       "1   Jane      Doe        JaneDoe@gmail.com\n",
       "2   John      Doe        JohnDoe@gmail.com"
      ]
     },
     "execution_count": 234,
     "metadata": {},
     "output_type": "execute_result"
    }
   ],
   "source": [
    "people_df.rename(\n",
    "    columns={\n",
    "        'first_name': 'first',\n",
    "        'last_name': 'last',\n",
    "    },\n",
    "    inplace=True\n",
    ")\n",
    "display(people_df.columns)\n",
    "people_df"
   ]
  },
  {
   "cell_type": "markdown",
   "id": "ea2e9aff",
   "metadata": {},
   "source": [
    "# update whole row"
   ]
  },
  {
   "cell_type": "markdown",
   "id": "c7a6ca44",
   "metadata": {},
   "source": [
    "## target dest row wiith .loc or .iloc"
   ]
  },
  {
   "cell_type": "code",
   "execution_count": 235,
   "id": "6de43acd",
   "metadata": {},
   "outputs": [
    {
     "data": {
      "text/plain": [
       "first                 John\n",
       "last                   Doe\n",
       "email    JohnDoe@gmail.com\n",
       "Name: 2, dtype: object"
      ]
     },
     "execution_count": 235,
     "metadata": {},
     "output_type": "execute_result"
    }
   ],
   "source": [
    "people_df.loc[2]"
   ]
  },
  {
   "cell_type": "markdown",
   "id": "c87aac84",
   "metadata": {},
   "source": [
    "## assign list of values to target row"
   ]
  },
  {
   "cell_type": "code",
   "execution_count": 236,
   "id": "5ae638f7",
   "metadata": {},
   "outputs": [
    {
     "data": {
      "application/vnd.microsoft.datawrangler.viewer.v0+json": {
       "columns": [
        {
         "name": "index",
         "rawType": "int64",
         "type": "integer"
        },
        {
         "name": "first",
         "rawType": "object",
         "type": "string"
        },
        {
         "name": "last",
         "rawType": "object",
         "type": "string"
        },
        {
         "name": "email",
         "rawType": "object",
         "type": "string"
        }
       ],
       "conversionMethod": "pd.DataFrame",
       "ref": "290d85c1-8192-4897-8522-1bd1b098895b",
       "rows": [
        [
         "0",
         "Corey",
         "Schafer",
         "CoreyMSchafer@gmail.com"
        ],
        [
         "1",
         "Jane",
         "Doe",
         "JaneDoe@gmail.com"
        ],
        [
         "2",
         "John",
         "Smith",
         "JohnSmith@email.com"
        ]
       ],
       "shape": {
        "columns": 3,
        "rows": 3
       }
      },
      "text/html": [
       "<div>\n",
       "<style scoped>\n",
       "    .dataframe tbody tr th:only-of-type {\n",
       "        vertical-align: middle;\n",
       "    }\n",
       "\n",
       "    .dataframe tbody tr th {\n",
       "        vertical-align: top;\n",
       "    }\n",
       "\n",
       "    .dataframe thead th {\n",
       "        text-align: right;\n",
       "    }\n",
       "</style>\n",
       "<table border=\"1\" class=\"dataframe\">\n",
       "  <thead>\n",
       "    <tr style=\"text-align: right;\">\n",
       "      <th></th>\n",
       "      <th>first</th>\n",
       "      <th>last</th>\n",
       "      <th>email</th>\n",
       "    </tr>\n",
       "  </thead>\n",
       "  <tbody>\n",
       "    <tr>\n",
       "      <th>0</th>\n",
       "      <td>Corey</td>\n",
       "      <td>Schafer</td>\n",
       "      <td>CoreyMSchafer@gmail.com</td>\n",
       "    </tr>\n",
       "    <tr>\n",
       "      <th>1</th>\n",
       "      <td>Jane</td>\n",
       "      <td>Doe</td>\n",
       "      <td>JaneDoe@gmail.com</td>\n",
       "    </tr>\n",
       "    <tr>\n",
       "      <th>2</th>\n",
       "      <td>John</td>\n",
       "      <td>Smith</td>\n",
       "      <td>JohnSmith@email.com</td>\n",
       "    </tr>\n",
       "  </tbody>\n",
       "</table>\n",
       "</div>"
      ],
      "text/plain": [
       "   first     last                    email\n",
       "0  Corey  Schafer  CoreyMSchafer@gmail.com\n",
       "1   Jane      Doe        JaneDoe@gmail.com\n",
       "2   John    Smith      JohnSmith@email.com"
      ]
     },
     "execution_count": 236,
     "metadata": {},
     "output_type": "execute_result"
    }
   ],
   "source": [
    "people_df.loc[2] = ['John', 'Smith', 'JohnSmith@email.com']\n",
    "people_df"
   ]
  },
  {
   "cell_type": "markdown",
   "id": "1702c821",
   "metadata": {},
   "source": [
    "## target dest row with filter"
   ]
  },
  {
   "cell_type": "code",
   "execution_count": 237,
   "id": "0f2709e0",
   "metadata": {},
   "outputs": [
    {
     "data": {
      "application/vnd.microsoft.datawrangler.viewer.v0+json": {
       "columns": [
        {
         "name": "index",
         "rawType": "int64",
         "type": "integer"
        },
        {
         "name": "first",
         "rawType": "object",
         "type": "string"
        },
        {
         "name": "last",
         "rawType": "object",
         "type": "string"
        },
        {
         "name": "email",
         "rawType": "object",
         "type": "string"
        }
       ],
       "conversionMethod": "pd.DataFrame",
       "ref": "6e80d5cf-8d19-4b0e-8a2a-1eb251fa7bcd",
       "rows": [
        [
         "2",
         "John",
         "Smith",
         "JohnSmith@email.com"
        ]
       ],
       "shape": {
        "columns": 3,
        "rows": 1
       }
      },
      "text/html": [
       "<div>\n",
       "<style scoped>\n",
       "    .dataframe tbody tr th:only-of-type {\n",
       "        vertical-align: middle;\n",
       "    }\n",
       "\n",
       "    .dataframe tbody tr th {\n",
       "        vertical-align: top;\n",
       "    }\n",
       "\n",
       "    .dataframe thead th {\n",
       "        text-align: right;\n",
       "    }\n",
       "</style>\n",
       "<table border=\"1\" class=\"dataframe\">\n",
       "  <thead>\n",
       "    <tr style=\"text-align: right;\">\n",
       "      <th></th>\n",
       "      <th>first</th>\n",
       "      <th>last</th>\n",
       "      <th>email</th>\n",
       "    </tr>\n",
       "  </thead>\n",
       "  <tbody>\n",
       "    <tr>\n",
       "      <th>2</th>\n",
       "      <td>John</td>\n",
       "      <td>Smith</td>\n",
       "      <td>JohnSmith@email.com</td>\n",
       "    </tr>\n",
       "  </tbody>\n",
       "</table>\n",
       "</div>"
      ],
      "text/plain": [
       "  first   last                email\n",
       "2  John  Smith  JohnSmith@email.com"
      ]
     },
     "execution_count": 237,
     "metadata": {},
     "output_type": "execute_result"
    }
   ],
   "source": [
    "filt_jonsmith = (people_df['first'] == 'John') & (people_df['last'] == 'Smith')\n",
    "people_df.loc[filt_jonsmith]"
   ]
  },
  {
   "cell_type": "markdown",
   "id": "9657e492",
   "metadata": {},
   "source": [
    "## assign new single value with filter and .loc"
   ]
  },
  {
   "cell_type": "code",
   "execution_count": 238,
   "id": "46a5434f",
   "metadata": {},
   "outputs": [
    {
     "data": {
      "application/vnd.microsoft.datawrangler.viewer.v0+json": {
       "columns": [
        {
         "name": "index",
         "rawType": "int64",
         "type": "integer"
        },
        {
         "name": "first",
         "rawType": "object",
         "type": "string"
        },
        {
         "name": "last",
         "rawType": "object",
         "type": "string"
        },
        {
         "name": "email",
         "rawType": "object",
         "type": "string"
        }
       ],
       "conversionMethod": "pd.DataFrame",
       "ref": "bb8842ee-edcb-4166-938a-77a9430a6d84",
       "rows": [
        [
         "0",
         "Corey",
         "Schafer",
         "CoreyMSchafer@gmail.com"
        ],
        [
         "1",
         "Jane",
         "Doe",
         "JaneDoe@gmail.com"
        ],
        [
         "2",
         "John",
         "Smith",
         "test"
        ]
       ],
       "shape": {
        "columns": 3,
        "rows": 3
       }
      },
      "text/html": [
       "<div>\n",
       "<style scoped>\n",
       "    .dataframe tbody tr th:only-of-type {\n",
       "        vertical-align: middle;\n",
       "    }\n",
       "\n",
       "    .dataframe tbody tr th {\n",
       "        vertical-align: top;\n",
       "    }\n",
       "\n",
       "    .dataframe thead th {\n",
       "        text-align: right;\n",
       "    }\n",
       "</style>\n",
       "<table border=\"1\" class=\"dataframe\">\n",
       "  <thead>\n",
       "    <tr style=\"text-align: right;\">\n",
       "      <th></th>\n",
       "      <th>first</th>\n",
       "      <th>last</th>\n",
       "      <th>email</th>\n",
       "    </tr>\n",
       "  </thead>\n",
       "  <tbody>\n",
       "    <tr>\n",
       "      <th>0</th>\n",
       "      <td>Corey</td>\n",
       "      <td>Schafer</td>\n",
       "      <td>CoreyMSchafer@gmail.com</td>\n",
       "    </tr>\n",
       "    <tr>\n",
       "      <th>1</th>\n",
       "      <td>Jane</td>\n",
       "      <td>Doe</td>\n",
       "      <td>JaneDoe@gmail.com</td>\n",
       "    </tr>\n",
       "    <tr>\n",
       "      <th>2</th>\n",
       "      <td>John</td>\n",
       "      <td>Smith</td>\n",
       "      <td>test</td>\n",
       "    </tr>\n",
       "  </tbody>\n",
       "</table>\n",
       "</div>"
      ],
      "text/plain": [
       "   first     last                    email\n",
       "0  Corey  Schafer  CoreyMSchafer@gmail.com\n",
       "1   Jane      Doe        JaneDoe@gmail.com\n",
       "2   John    Smith                     test"
      ]
     },
     "execution_count": 238,
     "metadata": {},
     "output_type": "execute_result"
    }
   ],
   "source": [
    "people_df.loc[filt_jonsmith, ['email']] = 'test'\n",
    "people_df\n"
   ]
  },
  {
   "cell_type": "markdown",
   "id": "e27b9f90",
   "metadata": {},
   "source": [
    "## assign new values with a filter and .loc"
   ]
  },
  {
   "cell_type": "code",
   "execution_count": 239,
   "id": "cb49c270",
   "metadata": {},
   "outputs": [
    {
     "data": {
      "application/vnd.microsoft.datawrangler.viewer.v0+json": {
       "columns": [
        {
         "name": "index",
         "rawType": "int64",
         "type": "integer"
        },
        {
         "name": "first",
         "rawType": "object",
         "type": "string"
        },
        {
         "name": "last",
         "rawType": "object",
         "type": "string"
        },
        {
         "name": "email",
         "rawType": "object",
         "type": "string"
        }
       ],
       "conversionMethod": "pd.DataFrame",
       "ref": "dea2198a-b243-4d78-a948-53d19f88f15a",
       "rows": [
        [
         "0",
         "Corey",
         "Schafer",
         "CoreyMSchafer@gmail.com"
        ],
        [
         "1",
         "Jane",
         "Doe",
         "JaneDoe@gmail.com"
        ],
        [
         "2",
         "John",
         "Smith",
         "JohnSmith@email.com"
        ]
       ],
       "shape": {
        "columns": 3,
        "rows": 3
       }
      },
      "text/html": [
       "<div>\n",
       "<style scoped>\n",
       "    .dataframe tbody tr th:only-of-type {\n",
       "        vertical-align: middle;\n",
       "    }\n",
       "\n",
       "    .dataframe tbody tr th {\n",
       "        vertical-align: top;\n",
       "    }\n",
       "\n",
       "    .dataframe thead th {\n",
       "        text-align: right;\n",
       "    }\n",
       "</style>\n",
       "<table border=\"1\" class=\"dataframe\">\n",
       "  <thead>\n",
       "    <tr style=\"text-align: right;\">\n",
       "      <th></th>\n",
       "      <th>first</th>\n",
       "      <th>last</th>\n",
       "      <th>email</th>\n",
       "    </tr>\n",
       "  </thead>\n",
       "  <tbody>\n",
       "    <tr>\n",
       "      <th>0</th>\n",
       "      <td>Corey</td>\n",
       "      <td>Schafer</td>\n",
       "      <td>CoreyMSchafer@gmail.com</td>\n",
       "    </tr>\n",
       "    <tr>\n",
       "      <th>1</th>\n",
       "      <td>Jane</td>\n",
       "      <td>Doe</td>\n",
       "      <td>JaneDoe@gmail.com</td>\n",
       "    </tr>\n",
       "    <tr>\n",
       "      <th>2</th>\n",
       "      <td>John</td>\n",
       "      <td>Smith</td>\n",
       "      <td>JohnSmith@email.com</td>\n",
       "    </tr>\n",
       "  </tbody>\n",
       "</table>\n",
       "</div>"
      ],
      "text/plain": [
       "   first     last                    email\n",
       "0  Corey  Schafer  CoreyMSchafer@gmail.com\n",
       "1   Jane      Doe        JaneDoe@gmail.com\n",
       "2   John    Smith      JohnSmith@email.com"
      ]
     },
     "execution_count": 239,
     "metadata": {},
     "output_type": "execute_result"
    }
   ],
   "source": [
    "people_df.loc[filt_jonsmith, ['first', 'last', 'email']] = ['John', 'Smith', 'JohnSmith@email.com']\n",
    "people_df\n"
   ]
  },
  {
   "cell_type": "markdown",
   "id": "d22312fd",
   "metadata": {},
   "source": [
    "## assign some values with .loc"
   ]
  },
  {
   "cell_type": "code",
   "execution_count": 240,
   "id": "9c6923f2",
   "metadata": {},
   "outputs": [
    {
     "data": {
      "application/vnd.microsoft.datawrangler.viewer.v0+json": {
       "columns": [
        {
         "name": "index",
         "rawType": "int64",
         "type": "integer"
        },
        {
         "name": "first",
         "rawType": "object",
         "type": "string"
        },
        {
         "name": "last",
         "rawType": "object",
         "type": "string"
        },
        {
         "name": "email",
         "rawType": "object",
         "type": "string"
        }
       ],
       "conversionMethod": "pd.DataFrame",
       "ref": "ed7b4a60-bf20-4633-af73-56ca74172676",
       "rows": [
        [
         "0",
         "Corey",
         "Schafer",
         "CoreyMSchafer@gmail.com"
        ],
        [
         "1",
         "Jane",
         "Doe",
         "JaneDoe@gmail.com"
        ],
        [
         "2",
         "John",
         "Doe",
         "JohnDoe@email.com"
        ]
       ],
       "shape": {
        "columns": 3,
        "rows": 3
       }
      },
      "text/html": [
       "<div>\n",
       "<style scoped>\n",
       "    .dataframe tbody tr th:only-of-type {\n",
       "        vertical-align: middle;\n",
       "    }\n",
       "\n",
       "    .dataframe tbody tr th {\n",
       "        vertical-align: top;\n",
       "    }\n",
       "\n",
       "    .dataframe thead th {\n",
       "        text-align: right;\n",
       "    }\n",
       "</style>\n",
       "<table border=\"1\" class=\"dataframe\">\n",
       "  <thead>\n",
       "    <tr style=\"text-align: right;\">\n",
       "      <th></th>\n",
       "      <th>first</th>\n",
       "      <th>last</th>\n",
       "      <th>email</th>\n",
       "    </tr>\n",
       "  </thead>\n",
       "  <tbody>\n",
       "    <tr>\n",
       "      <th>0</th>\n",
       "      <td>Corey</td>\n",
       "      <td>Schafer</td>\n",
       "      <td>CoreyMSchafer@gmail.com</td>\n",
       "    </tr>\n",
       "    <tr>\n",
       "      <th>1</th>\n",
       "      <td>Jane</td>\n",
       "      <td>Doe</td>\n",
       "      <td>JaneDoe@gmail.com</td>\n",
       "    </tr>\n",
       "    <tr>\n",
       "      <th>2</th>\n",
       "      <td>John</td>\n",
       "      <td>Doe</td>\n",
       "      <td>JohnDoe@email.com</td>\n",
       "    </tr>\n",
       "  </tbody>\n",
       "</table>\n",
       "</div>"
      ],
      "text/plain": [
       "   first     last                    email\n",
       "0  Corey  Schafer  CoreyMSchafer@gmail.com\n",
       "1   Jane      Doe        JaneDoe@gmail.com\n",
       "2   John      Doe        JohnDoe@email.com"
      ]
     },
     "execution_count": 240,
     "metadata": {},
     "output_type": "execute_result"
    }
   ],
   "source": [
    "people_df.loc[2, ['last', 'email']] = ['Doe', 'JohnDoe@email.com']\n",
    "people_df"
   ]
  },
  {
   "cell_type": "markdown",
   "id": "4db8ab70",
   "metadata": {},
   "source": [
    "## assign ONE value with .loc"
   ]
  },
  {
   "cell_type": "code",
   "execution_count": 241,
   "id": "16e81026",
   "metadata": {},
   "outputs": [
    {
     "data": {
      "application/vnd.microsoft.datawrangler.viewer.v0+json": {
       "columns": [
        {
         "name": "index",
         "rawType": "int64",
         "type": "integer"
        },
        {
         "name": "first",
         "rawType": "object",
         "type": "string"
        },
        {
         "name": "last",
         "rawType": "object",
         "type": "string"
        },
        {
         "name": "email",
         "rawType": "object",
         "type": "string"
        }
       ],
       "conversionMethod": "pd.DataFrame",
       "ref": "b51a79e2-c781-4a35-9eb1-750ffcf3d916",
       "rows": [
        [
         "0",
         "Corey",
         "Schafer",
         "CoreyMSchafer@gmail.com"
        ],
        [
         "1",
         "Jane",
         "Doe",
         "JaneDoe@gmail.com"
        ],
        [
         "2",
         "John",
         "Smith",
         "JohnDoe@email.com"
        ]
       ],
       "shape": {
        "columns": 3,
        "rows": 3
       }
      },
      "text/html": [
       "<div>\n",
       "<style scoped>\n",
       "    .dataframe tbody tr th:only-of-type {\n",
       "        vertical-align: middle;\n",
       "    }\n",
       "\n",
       "    .dataframe tbody tr th {\n",
       "        vertical-align: top;\n",
       "    }\n",
       "\n",
       "    .dataframe thead th {\n",
       "        text-align: right;\n",
       "    }\n",
       "</style>\n",
       "<table border=\"1\" class=\"dataframe\">\n",
       "  <thead>\n",
       "    <tr style=\"text-align: right;\">\n",
       "      <th></th>\n",
       "      <th>first</th>\n",
       "      <th>last</th>\n",
       "      <th>email</th>\n",
       "    </tr>\n",
       "  </thead>\n",
       "  <tbody>\n",
       "    <tr>\n",
       "      <th>0</th>\n",
       "      <td>Corey</td>\n",
       "      <td>Schafer</td>\n",
       "      <td>CoreyMSchafer@gmail.com</td>\n",
       "    </tr>\n",
       "    <tr>\n",
       "      <th>1</th>\n",
       "      <td>Jane</td>\n",
       "      <td>Doe</td>\n",
       "      <td>JaneDoe@gmail.com</td>\n",
       "    </tr>\n",
       "    <tr>\n",
       "      <th>2</th>\n",
       "      <td>John</td>\n",
       "      <td>Smith</td>\n",
       "      <td>JohnDoe@email.com</td>\n",
       "    </tr>\n",
       "  </tbody>\n",
       "</table>\n",
       "</div>"
      ],
      "text/plain": [
       "   first     last                    email\n",
       "0  Corey  Schafer  CoreyMSchafer@gmail.com\n",
       "1   Jane      Doe        JaneDoe@gmail.com\n",
       "2   John    Smith        JohnDoe@email.com"
      ]
     },
     "execution_count": 241,
     "metadata": {},
     "output_type": "execute_result"
    }
   ],
   "source": [
    "people_df.loc[2, 'last'] = 'Smith'\n",
    "people_df"
   ]
  },
  {
   "cell_type": "markdown",
   "id": "27e4d0da",
   "metadata": {},
   "source": [
    "## assign ONE value with .at"
   ]
  },
  {
   "cell_type": "code",
   "execution_count": 242,
   "id": "f7944f6a",
   "metadata": {},
   "outputs": [
    {
     "data": {
      "application/vnd.microsoft.datawrangler.viewer.v0+json": {
       "columns": [
        {
         "name": "index",
         "rawType": "int64",
         "type": "integer"
        },
        {
         "name": "first",
         "rawType": "object",
         "type": "string"
        },
        {
         "name": "last",
         "rawType": "object",
         "type": "string"
        },
        {
         "name": "email",
         "rawType": "object",
         "type": "string"
        }
       ],
       "conversionMethod": "pd.DataFrame",
       "ref": "9b7e8f71-550a-45ad-8db8-920f44341ab5",
       "rows": [
        [
         "0",
         "Corey",
         "Schafer",
         "CoreyMSchafer@gmail.com"
        ],
        [
         "1",
         "Jane",
         "Doe",
         "JaneDoe@gmail.com"
        ],
        [
         "2",
         "John",
         "Doe",
         "JohnDoe@email.com"
        ]
       ],
       "shape": {
        "columns": 3,
        "rows": 3
       }
      },
      "text/html": [
       "<div>\n",
       "<style scoped>\n",
       "    .dataframe tbody tr th:only-of-type {\n",
       "        vertical-align: middle;\n",
       "    }\n",
       "\n",
       "    .dataframe tbody tr th {\n",
       "        vertical-align: top;\n",
       "    }\n",
       "\n",
       "    .dataframe thead th {\n",
       "        text-align: right;\n",
       "    }\n",
       "</style>\n",
       "<table border=\"1\" class=\"dataframe\">\n",
       "  <thead>\n",
       "    <tr style=\"text-align: right;\">\n",
       "      <th></th>\n",
       "      <th>first</th>\n",
       "      <th>last</th>\n",
       "      <th>email</th>\n",
       "    </tr>\n",
       "  </thead>\n",
       "  <tbody>\n",
       "    <tr>\n",
       "      <th>0</th>\n",
       "      <td>Corey</td>\n",
       "      <td>Schafer</td>\n",
       "      <td>CoreyMSchafer@gmail.com</td>\n",
       "    </tr>\n",
       "    <tr>\n",
       "      <th>1</th>\n",
       "      <td>Jane</td>\n",
       "      <td>Doe</td>\n",
       "      <td>JaneDoe@gmail.com</td>\n",
       "    </tr>\n",
       "    <tr>\n",
       "      <th>2</th>\n",
       "      <td>John</td>\n",
       "      <td>Doe</td>\n",
       "      <td>JohnDoe@email.com</td>\n",
       "    </tr>\n",
       "  </tbody>\n",
       "</table>\n",
       "</div>"
      ],
      "text/plain": [
       "   first     last                    email\n",
       "0  Corey  Schafer  CoreyMSchafer@gmail.com\n",
       "1   Jane      Doe        JaneDoe@gmail.com\n",
       "2   John      Doe        JohnDoe@email.com"
      ]
     },
     "execution_count": 242,
     "metadata": {},
     "output_type": "execute_result"
    }
   ],
   "source": [
    "people_df.at[2, 'last'] = 'Doe'\n",
    "people_df"
   ]
  },
  {
   "cell_type": "markdown",
   "id": "c219d7e9",
   "metadata": {},
   "source": [
    "# classic gotcha"
   ]
  },
  {
   "cell_type": "markdown",
   "id": "4ca26648",
   "metadata": {},
   "source": [
    "## SettingWithCopyWarning"
   ]
  },
  {
   "cell_type": "code",
   "execution_count": 243,
   "id": "ab63ccb8",
   "metadata": {},
   "outputs": [
    {
     "name": "stderr",
     "output_type": "stream",
     "text": [
      "/var/folders/ch/0323xqnn3vbc6t95tfvmh0w40000gn/T/ipykernel_19502/3081735161.py:2: SettingWithCopyWarning: \n",
      "A value is trying to be set on a copy of a slice from a DataFrame.\n",
      "Try using .loc[row_indexer,col_indexer] = value instead\n",
      "\n",
      "See the caveats in the documentation: https://pandas.pydata.org/pandas-docs/stable/user_guide/indexing.html#returning-a-view-versus-a-copy\n",
      "  people_df[filt]['last'] = 'Smith'\n"
     ]
    },
    {
     "data": {
      "application/vnd.microsoft.datawrangler.viewer.v0+json": {
       "columns": [
        {
         "name": "index",
         "rawType": "int64",
         "type": "integer"
        },
        {
         "name": "first",
         "rawType": "object",
         "type": "string"
        },
        {
         "name": "last",
         "rawType": "object",
         "type": "string"
        },
        {
         "name": "email",
         "rawType": "object",
         "type": "string"
        }
       ],
       "conversionMethod": "pd.DataFrame",
       "ref": "b83c7b2a-4741-429b-8adb-7fb1f87e378b",
       "rows": [
        [
         "0",
         "Corey",
         "Schafer",
         "CoreyMSchafer@gmail.com"
        ],
        [
         "1",
         "Jane",
         "Doe",
         "JaneDoe@gmail.com"
        ],
        [
         "2",
         "John",
         "Doe",
         "JohnDoe@email.com"
        ]
       ],
       "shape": {
        "columns": 3,
        "rows": 3
       }
      },
      "text/html": [
       "<div>\n",
       "<style scoped>\n",
       "    .dataframe tbody tr th:only-of-type {\n",
       "        vertical-align: middle;\n",
       "    }\n",
       "\n",
       "    .dataframe tbody tr th {\n",
       "        vertical-align: top;\n",
       "    }\n",
       "\n",
       "    .dataframe thead th {\n",
       "        text-align: right;\n",
       "    }\n",
       "</style>\n",
       "<table border=\"1\" class=\"dataframe\">\n",
       "  <thead>\n",
       "    <tr style=\"text-align: right;\">\n",
       "      <th></th>\n",
       "      <th>first</th>\n",
       "      <th>last</th>\n",
       "      <th>email</th>\n",
       "    </tr>\n",
       "  </thead>\n",
       "  <tbody>\n",
       "    <tr>\n",
       "      <th>0</th>\n",
       "      <td>Corey</td>\n",
       "      <td>Schafer</td>\n",
       "      <td>CoreyMSchafer@gmail.com</td>\n",
       "    </tr>\n",
       "    <tr>\n",
       "      <th>1</th>\n",
       "      <td>Jane</td>\n",
       "      <td>Doe</td>\n",
       "      <td>JaneDoe@gmail.com</td>\n",
       "    </tr>\n",
       "    <tr>\n",
       "      <th>2</th>\n",
       "      <td>John</td>\n",
       "      <td>Doe</td>\n",
       "      <td>JohnDoe@email.com</td>\n",
       "    </tr>\n",
       "  </tbody>\n",
       "</table>\n",
       "</div>"
      ],
      "text/plain": [
       "   first     last                    email\n",
       "0  Corey  Schafer  CoreyMSchafer@gmail.com\n",
       "1   Jane      Doe        JaneDoe@gmail.com\n",
       "2   John      Doe        JohnDoe@email.com"
      ]
     },
     "execution_count": 243,
     "metadata": {},
     "output_type": "execute_result"
    }
   ],
   "source": [
    "filt = (people_df['email'] == 'JohnDoe@email.com')\n",
    "people_df[filt]['last'] = 'Smith'\n",
    "people_df"
   ]
  },
  {
   "cell_type": "markdown",
   "id": "e6a95f54",
   "metadata": {},
   "source": [
    "## FIX SettingWithCopyWarning"
   ]
  },
  {
   "cell_type": "code",
   "execution_count": 244,
   "id": "ccdecba6",
   "metadata": {},
   "outputs": [
    {
     "data": {
      "application/vnd.microsoft.datawrangler.viewer.v0+json": {
       "columns": [
        {
         "name": "index",
         "rawType": "int64",
         "type": "integer"
        },
        {
         "name": "first",
         "rawType": "object",
         "type": "string"
        },
        {
         "name": "last",
         "rawType": "object",
         "type": "string"
        },
        {
         "name": "email",
         "rawType": "object",
         "type": "string"
        }
       ],
       "conversionMethod": "pd.DataFrame",
       "ref": "31fe64f7-dd33-49b9-a05a-468b1e4be9c0",
       "rows": [
        [
         "0",
         "Corey",
         "Schafer",
         "CoreyMSchafer@gmail.com"
        ],
        [
         "1",
         "Jane",
         "Doe",
         "JaneDoe@gmail.com"
        ],
        [
         "2",
         "John",
         "Smith",
         "JohnDoe@email.com"
        ]
       ],
       "shape": {
        "columns": 3,
        "rows": 3
       }
      },
      "text/html": [
       "<div>\n",
       "<style scoped>\n",
       "    .dataframe tbody tr th:only-of-type {\n",
       "        vertical-align: middle;\n",
       "    }\n",
       "\n",
       "    .dataframe tbody tr th {\n",
       "        vertical-align: top;\n",
       "    }\n",
       "\n",
       "    .dataframe thead th {\n",
       "        text-align: right;\n",
       "    }\n",
       "</style>\n",
       "<table border=\"1\" class=\"dataframe\">\n",
       "  <thead>\n",
       "    <tr style=\"text-align: right;\">\n",
       "      <th></th>\n",
       "      <th>first</th>\n",
       "      <th>last</th>\n",
       "      <th>email</th>\n",
       "    </tr>\n",
       "  </thead>\n",
       "  <tbody>\n",
       "    <tr>\n",
       "      <th>0</th>\n",
       "      <td>Corey</td>\n",
       "      <td>Schafer</td>\n",
       "      <td>CoreyMSchafer@gmail.com</td>\n",
       "    </tr>\n",
       "    <tr>\n",
       "      <th>1</th>\n",
       "      <td>Jane</td>\n",
       "      <td>Doe</td>\n",
       "      <td>JaneDoe@gmail.com</td>\n",
       "    </tr>\n",
       "    <tr>\n",
       "      <th>2</th>\n",
       "      <td>John</td>\n",
       "      <td>Smith</td>\n",
       "      <td>JohnDoe@email.com</td>\n",
       "    </tr>\n",
       "  </tbody>\n",
       "</table>\n",
       "</div>"
      ],
      "text/plain": [
       "   first     last                    email\n",
       "0  Corey  Schafer  CoreyMSchafer@gmail.com\n",
       "1   Jane      Doe        JaneDoe@gmail.com\n",
       "2   John    Smith        JohnDoe@email.com"
      ]
     },
     "execution_count": 244,
     "metadata": {},
     "output_type": "execute_result"
    }
   ],
   "source": [
    "filt = (people_df['email'] == 'JohnDoe@email.com')\n",
    "people_df.loc[filt, 'last'] = 'Smith'\n",
    "people_df"
   ]
  },
  {
   "cell_type": "markdown",
   "id": "0480d1d4",
   "metadata": {},
   "source": [
    "# change multiple rows"
   ]
  },
  {
   "cell_type": "code",
   "execution_count": 245,
   "id": "d75e4a15",
   "metadata": {},
   "outputs": [
    {
     "data": {
      "text/plain": [
       "0    coreymschafer@gmail.com\n",
       "1          janedoe@gmail.com\n",
       "2          johndoe@email.com\n",
       "Name: email, dtype: object"
      ]
     },
     "execution_count": 245,
     "metadata": {},
     "output_type": "execute_result"
    }
   ],
   "source": [
    "people_df['email'].str.lower()"
   ]
  },
  {
   "cell_type": "code",
   "execution_count": 246,
   "id": "b33d1aa7",
   "metadata": {},
   "outputs": [
    {
     "data": {
      "application/vnd.microsoft.datawrangler.viewer.v0+json": {
       "columns": [
        {
         "name": "index",
         "rawType": "int64",
         "type": "integer"
        },
        {
         "name": "first",
         "rawType": "object",
         "type": "string"
        },
        {
         "name": "last",
         "rawType": "object",
         "type": "string"
        },
        {
         "name": "email",
         "rawType": "object",
         "type": "string"
        }
       ],
       "conversionMethod": "pd.DataFrame",
       "ref": "c57dc4e1-3dd5-4797-89b6-f52034e0c48b",
       "rows": [
        [
         "0",
         "Corey",
         "Schafer",
         "coreymschafer@gmail.com"
        ],
        [
         "1",
         "Jane",
         "Doe",
         "janedoe@gmail.com"
        ],
        [
         "2",
         "John",
         "Smith",
         "johndoe@email.com"
        ]
       ],
       "shape": {
        "columns": 3,
        "rows": 3
       }
      },
      "text/html": [
       "<div>\n",
       "<style scoped>\n",
       "    .dataframe tbody tr th:only-of-type {\n",
       "        vertical-align: middle;\n",
       "    }\n",
       "\n",
       "    .dataframe tbody tr th {\n",
       "        vertical-align: top;\n",
       "    }\n",
       "\n",
       "    .dataframe thead th {\n",
       "        text-align: right;\n",
       "    }\n",
       "</style>\n",
       "<table border=\"1\" class=\"dataframe\">\n",
       "  <thead>\n",
       "    <tr style=\"text-align: right;\">\n",
       "      <th></th>\n",
       "      <th>first</th>\n",
       "      <th>last</th>\n",
       "      <th>email</th>\n",
       "    </tr>\n",
       "  </thead>\n",
       "  <tbody>\n",
       "    <tr>\n",
       "      <th>0</th>\n",
       "      <td>Corey</td>\n",
       "      <td>Schafer</td>\n",
       "      <td>coreymschafer@gmail.com</td>\n",
       "    </tr>\n",
       "    <tr>\n",
       "      <th>1</th>\n",
       "      <td>Jane</td>\n",
       "      <td>Doe</td>\n",
       "      <td>janedoe@gmail.com</td>\n",
       "    </tr>\n",
       "    <tr>\n",
       "      <th>2</th>\n",
       "      <td>John</td>\n",
       "      <td>Smith</td>\n",
       "      <td>johndoe@email.com</td>\n",
       "    </tr>\n",
       "  </tbody>\n",
       "</table>\n",
       "</div>"
      ],
      "text/plain": [
       "   first     last                    email\n",
       "0  Corey  Schafer  coreymschafer@gmail.com\n",
       "1   Jane      Doe        janedoe@gmail.com\n",
       "2   John    Smith        johndoe@email.com"
      ]
     },
     "execution_count": 246,
     "metadata": {},
     "output_type": "execute_result"
    }
   ],
   "source": [
    "people_df['email'] = people_df['email'].str.lower()\n",
    "people_df"
   ]
  },
  {
   "cell_type": "markdown",
   "id": "47fc2247",
   "metadata": {},
   "source": [
    "# using .apply"
   ]
  },
  {
   "cell_type": "markdown",
   "id": "a547883b",
   "metadata": {},
   "source": [
    "## apply on column"
   ]
  },
  {
   "cell_type": "code",
   "execution_count": 247,
   "id": "02f5ff99",
   "metadata": {},
   "outputs": [
    {
     "data": {
      "text/plain": [
       "0    23\n",
       "1    17\n",
       "2    17\n",
       "Name: email, dtype: int64"
      ]
     },
     "execution_count": 247,
     "metadata": {},
     "output_type": "execute_result"
    }
   ],
   "source": [
    "people_df['email'].apply(len)"
   ]
  },
  {
   "cell_type": "code",
   "execution_count": 248,
   "id": "0870f428",
   "metadata": {},
   "outputs": [
    {
     "data": {
      "text/plain": [
       "0    COREYMSCHAFER@GMAIL.COM\n",
       "1          JANEDOE@GMAIL.COM\n",
       "2          JOHNDOE@EMAIL.COM\n",
       "Name: email, dtype: object"
      ]
     },
     "execution_count": 248,
     "metadata": {},
     "output_type": "execute_result"
    }
   ],
   "source": [
    "def update_email(email:str) -> str:\n",
    "    return email.upper()\n",
    "\n",
    "people_df['email'].apply(update_email)"
   ]
  },
  {
   "cell_type": "code",
   "execution_count": 249,
   "id": "2975b6fe",
   "metadata": {},
   "outputs": [
    {
     "data": {
      "application/vnd.microsoft.datawrangler.viewer.v0+json": {
       "columns": [
        {
         "name": "index",
         "rawType": "int64",
         "type": "integer"
        },
        {
         "name": "first",
         "rawType": "object",
         "type": "string"
        },
        {
         "name": "last",
         "rawType": "object",
         "type": "string"
        },
        {
         "name": "email",
         "rawType": "object",
         "type": "string"
        }
       ],
       "conversionMethod": "pd.DataFrame",
       "ref": "a47537f2-8dec-4cfc-9e8b-0bcde76a4bbf",
       "rows": [
        [
         "0",
         "Corey",
         "Schafer",
         "COREYMSCHAFER@GMAIL.COM"
        ],
        [
         "1",
         "Jane",
         "Doe",
         "JANEDOE@GMAIL.COM"
        ],
        [
         "2",
         "John",
         "Smith",
         "JOHNDOE@EMAIL.COM"
        ]
       ],
       "shape": {
        "columns": 3,
        "rows": 3
       }
      },
      "text/html": [
       "<div>\n",
       "<style scoped>\n",
       "    .dataframe tbody tr th:only-of-type {\n",
       "        vertical-align: middle;\n",
       "    }\n",
       "\n",
       "    .dataframe tbody tr th {\n",
       "        vertical-align: top;\n",
       "    }\n",
       "\n",
       "    .dataframe thead th {\n",
       "        text-align: right;\n",
       "    }\n",
       "</style>\n",
       "<table border=\"1\" class=\"dataframe\">\n",
       "  <thead>\n",
       "    <tr style=\"text-align: right;\">\n",
       "      <th></th>\n",
       "      <th>first</th>\n",
       "      <th>last</th>\n",
       "      <th>email</th>\n",
       "    </tr>\n",
       "  </thead>\n",
       "  <tbody>\n",
       "    <tr>\n",
       "      <th>0</th>\n",
       "      <td>Corey</td>\n",
       "      <td>Schafer</td>\n",
       "      <td>COREYMSCHAFER@GMAIL.COM</td>\n",
       "    </tr>\n",
       "    <tr>\n",
       "      <th>1</th>\n",
       "      <td>Jane</td>\n",
       "      <td>Doe</td>\n",
       "      <td>JANEDOE@GMAIL.COM</td>\n",
       "    </tr>\n",
       "    <tr>\n",
       "      <th>2</th>\n",
       "      <td>John</td>\n",
       "      <td>Smith</td>\n",
       "      <td>JOHNDOE@EMAIL.COM</td>\n",
       "    </tr>\n",
       "  </tbody>\n",
       "</table>\n",
       "</div>"
      ],
      "text/plain": [
       "   first     last                    email\n",
       "0  Corey  Schafer  COREYMSCHAFER@GMAIL.COM\n",
       "1   Jane      Doe        JANEDOE@GMAIL.COM\n",
       "2   John    Smith        JOHNDOE@EMAIL.COM"
      ]
     },
     "execution_count": 249,
     "metadata": {},
     "output_type": "execute_result"
    }
   ],
   "source": [
    "people_df['email'] = people_df['email'].apply(update_email)\n",
    "people_df"
   ]
  },
  {
   "cell_type": "code",
   "execution_count": 250,
   "id": "e3b1e331",
   "metadata": {},
   "outputs": [
    {
     "data": {
      "application/vnd.microsoft.datawrangler.viewer.v0+json": {
       "columns": [
        {
         "name": "index",
         "rawType": "int64",
         "type": "integer"
        },
        {
         "name": "first",
         "rawType": "object",
         "type": "string"
        },
        {
         "name": "last",
         "rawType": "object",
         "type": "string"
        },
        {
         "name": "email",
         "rawType": "object",
         "type": "string"
        }
       ],
       "conversionMethod": "pd.DataFrame",
       "ref": "ee860055-8ab6-4227-acef-ad3be99041d0",
       "rows": [
        [
         "0",
         "Corey",
         "Schafer",
         "coreymschafer@gmail.com"
        ],
        [
         "1",
         "Jane",
         "Doe",
         "janedoe@gmail.com"
        ],
        [
         "2",
         "John",
         "Smith",
         "johndoe@email.com"
        ]
       ],
       "shape": {
        "columns": 3,
        "rows": 3
       }
      },
      "text/html": [
       "<div>\n",
       "<style scoped>\n",
       "    .dataframe tbody tr th:only-of-type {\n",
       "        vertical-align: middle;\n",
       "    }\n",
       "\n",
       "    .dataframe tbody tr th {\n",
       "        vertical-align: top;\n",
       "    }\n",
       "\n",
       "    .dataframe thead th {\n",
       "        text-align: right;\n",
       "    }\n",
       "</style>\n",
       "<table border=\"1\" class=\"dataframe\">\n",
       "  <thead>\n",
       "    <tr style=\"text-align: right;\">\n",
       "      <th></th>\n",
       "      <th>first</th>\n",
       "      <th>last</th>\n",
       "      <th>email</th>\n",
       "    </tr>\n",
       "  </thead>\n",
       "  <tbody>\n",
       "    <tr>\n",
       "      <th>0</th>\n",
       "      <td>Corey</td>\n",
       "      <td>Schafer</td>\n",
       "      <td>coreymschafer@gmail.com</td>\n",
       "    </tr>\n",
       "    <tr>\n",
       "      <th>1</th>\n",
       "      <td>Jane</td>\n",
       "      <td>Doe</td>\n",
       "      <td>janedoe@gmail.com</td>\n",
       "    </tr>\n",
       "    <tr>\n",
       "      <th>2</th>\n",
       "      <td>John</td>\n",
       "      <td>Smith</td>\n",
       "      <td>johndoe@email.com</td>\n",
       "    </tr>\n",
       "  </tbody>\n",
       "</table>\n",
       "</div>"
      ],
      "text/plain": [
       "   first     last                    email\n",
       "0  Corey  Schafer  coreymschafer@gmail.com\n",
       "1   Jane      Doe        janedoe@gmail.com\n",
       "2   John    Smith        johndoe@email.com"
      ]
     },
     "execution_count": 250,
     "metadata": {},
     "output_type": "execute_result"
    }
   ],
   "source": [
    "people_df['email'] = people_df['email'].apply(lambda email: email.lower())\n",
    "people_df"
   ]
  },
  {
   "cell_type": "markdown",
   "id": "cbf696ce",
   "metadata": {},
   "source": [
    "## apply on df"
   ]
  },
  {
   "cell_type": "markdown",
   "id": "e924187f",
   "metadata": {},
   "source": [
    "### get len of each column"
   ]
  },
  {
   "cell_type": "code",
   "execution_count": 251,
   "id": "68eef511",
   "metadata": {},
   "outputs": [
    {
     "data": {
      "text/plain": [
       "first    3\n",
       "last     3\n",
       "email    3\n",
       "dtype: int64"
      ]
     },
     "metadata": {},
     "output_type": "display_data"
    },
    {
     "data": {
      "text/plain": [
       "3"
      ]
     },
     "execution_count": 251,
     "metadata": {},
     "output_type": "execute_result"
    }
   ],
   "source": [
    "display(people_df.apply(len))\n",
    "len(people_df['email'])"
   ]
  },
  {
   "cell_type": "markdown",
   "id": "e3b81f61",
   "metadata": {},
   "source": [
    "### get len of each row"
   ]
  },
  {
   "cell_type": "code",
   "execution_count": 252,
   "id": "c615106e",
   "metadata": {},
   "outputs": [
    {
     "data": {
      "text/plain": [
       "0    3\n",
       "1    3\n",
       "2    3\n",
       "dtype: int64"
      ]
     },
     "metadata": {},
     "output_type": "display_data"
    },
    {
     "data": {
      "text/plain": [
       "3"
      ]
     },
     "execution_count": 252,
     "metadata": {},
     "output_type": "execute_result"
    }
   ],
   "source": [
    "display(people_df.apply(len, axis=1))\n",
    "len(people_df.loc[0])"
   ]
  },
  {
   "cell_type": "markdown",
   "id": "719be35b",
   "metadata": {},
   "source": [
    "### apply min to each column"
   ]
  },
  {
   "cell_type": "code",
   "execution_count": 253,
   "id": "8910db0f",
   "metadata": {},
   "outputs": [
    {
     "data": {
      "text/plain": [
       "first                      Corey\n",
       "last                         Doe\n",
       "email    coreymschafer@gmail.com\n",
       "dtype: object"
      ]
     },
     "metadata": {},
     "output_type": "display_data"
    },
    {
     "data": {
      "text/plain": [
       "first                      Corey\n",
       "last                         Doe\n",
       "email    coreymschafer@gmail.com\n",
       "dtype: object"
      ]
     },
     "metadata": {},
     "output_type": "display_data"
    },
    {
     "data": {
      "text/plain": [
       "first                      Corey\n",
       "last                         Doe\n",
       "email    coreymschafer@gmail.com\n",
       "dtype: object"
      ]
     },
     "metadata": {},
     "output_type": "display_data"
    }
   ],
   "source": [
    "display(people_df.apply(min))\n",
    "display(people_df.apply(pd.Series.min))\n",
    "display(people_df.apply(lambda series: series.min()))"
   ]
  },
  {
   "cell_type": "markdown",
   "id": "0d7c04f5",
   "metadata": {},
   "source": [
    "### apply upper to each item of each column as series"
   ]
  },
  {
   "cell_type": "code",
   "execution_count": 254,
   "id": "4d717c3c",
   "metadata": {},
   "outputs": [
    {
     "data": {
      "application/vnd.microsoft.datawrangler.viewer.v0+json": {
       "columns": [
        {
         "name": "index",
         "rawType": "int64",
         "type": "integer"
        },
        {
         "name": "first",
         "rawType": "object",
         "type": "string"
        },
        {
         "name": "last",
         "rawType": "object",
         "type": "string"
        },
        {
         "name": "email",
         "rawType": "object",
         "type": "string"
        }
       ],
       "conversionMethod": "pd.DataFrame",
       "ref": "d9c7cd78-8753-44e5-b215-0bb8eda7e27e",
       "rows": [
        [
         "0",
         "COREY",
         "SCHAFER",
         "COREYMSCHAFER@GMAIL.COM"
        ],
        [
         "1",
         "JANE",
         "DOE",
         "JANEDOE@GMAIL.COM"
        ],
        [
         "2",
         "JOHN",
         "SMITH",
         "JOHNDOE@EMAIL.COM"
        ]
       ],
       "shape": {
        "columns": 3,
        "rows": 3
       }
      },
      "text/html": [
       "<div>\n",
       "<style scoped>\n",
       "    .dataframe tbody tr th:only-of-type {\n",
       "        vertical-align: middle;\n",
       "    }\n",
       "\n",
       "    .dataframe tbody tr th {\n",
       "        vertical-align: top;\n",
       "    }\n",
       "\n",
       "    .dataframe thead th {\n",
       "        text-align: right;\n",
       "    }\n",
       "</style>\n",
       "<table border=\"1\" class=\"dataframe\">\n",
       "  <thead>\n",
       "    <tr style=\"text-align: right;\">\n",
       "      <th></th>\n",
       "      <th>first</th>\n",
       "      <th>last</th>\n",
       "      <th>email</th>\n",
       "    </tr>\n",
       "  </thead>\n",
       "  <tbody>\n",
       "    <tr>\n",
       "      <th>0</th>\n",
       "      <td>COREY</td>\n",
       "      <td>SCHAFER</td>\n",
       "      <td>COREYMSCHAFER@GMAIL.COM</td>\n",
       "    </tr>\n",
       "    <tr>\n",
       "      <th>1</th>\n",
       "      <td>JANE</td>\n",
       "      <td>DOE</td>\n",
       "      <td>JANEDOE@GMAIL.COM</td>\n",
       "    </tr>\n",
       "    <tr>\n",
       "      <th>2</th>\n",
       "      <td>JOHN</td>\n",
       "      <td>SMITH</td>\n",
       "      <td>JOHNDOE@EMAIL.COM</td>\n",
       "    </tr>\n",
       "  </tbody>\n",
       "</table>\n",
       "</div>"
      ],
      "text/plain": [
       "   first     last                    email\n",
       "0  COREY  SCHAFER  COREYMSCHAFER@GMAIL.COM\n",
       "1   JANE      DOE        JANEDOE@GMAIL.COM\n",
       "2   JOHN    SMITH        JOHNDOE@EMAIL.COM"
      ]
     },
     "execution_count": 254,
     "metadata": {},
     "output_type": "execute_result"
    }
   ],
   "source": [
    "people_df.apply(lambda x: x.str.upper())"
   ]
  },
  {
   "cell_type": "markdown",
   "id": "c2f36dd5",
   "metadata": {},
   "source": [
    "# using map"
   ]
  },
  {
   "cell_type": "markdown",
   "id": "20d13591",
   "metadata": {},
   "source": [
    "## apply len to each cell of df"
   ]
  },
  {
   "cell_type": "code",
   "execution_count": 255,
   "id": "45a72122",
   "metadata": {},
   "outputs": [
    {
     "name": "stderr",
     "output_type": "stream",
     "text": [
      "/var/folders/ch/0323xqnn3vbc6t95tfvmh0w40000gn/T/ipykernel_19502/828034906.py:1: FutureWarning: DataFrame.applymap has been deprecated. Use DataFrame.map instead.\n",
      "  display(people_df.applymap(len))    # deprecated\n"
     ]
    },
    {
     "data": {
      "application/vnd.microsoft.datawrangler.viewer.v0+json": {
       "columns": [
        {
         "name": "index",
         "rawType": "int64",
         "type": "integer"
        },
        {
         "name": "first",
         "rawType": "int64",
         "type": "integer"
        },
        {
         "name": "last",
         "rawType": "int64",
         "type": "integer"
        },
        {
         "name": "email",
         "rawType": "int64",
         "type": "integer"
        }
       ],
       "conversionMethod": "pd.DataFrame",
       "ref": "247873f2-db87-4bf1-ab23-267e72eed357",
       "rows": [
        [
         "0",
         "5",
         "7",
         "23"
        ],
        [
         "1",
         "4",
         "3",
         "17"
        ],
        [
         "2",
         "4",
         "5",
         "17"
        ]
       ],
       "shape": {
        "columns": 3,
        "rows": 3
       }
      },
      "text/html": [
       "<div>\n",
       "<style scoped>\n",
       "    .dataframe tbody tr th:only-of-type {\n",
       "        vertical-align: middle;\n",
       "    }\n",
       "\n",
       "    .dataframe tbody tr th {\n",
       "        vertical-align: top;\n",
       "    }\n",
       "\n",
       "    .dataframe thead th {\n",
       "        text-align: right;\n",
       "    }\n",
       "</style>\n",
       "<table border=\"1\" class=\"dataframe\">\n",
       "  <thead>\n",
       "    <tr style=\"text-align: right;\">\n",
       "      <th></th>\n",
       "      <th>first</th>\n",
       "      <th>last</th>\n",
       "      <th>email</th>\n",
       "    </tr>\n",
       "  </thead>\n",
       "  <tbody>\n",
       "    <tr>\n",
       "      <th>0</th>\n",
       "      <td>5</td>\n",
       "      <td>7</td>\n",
       "      <td>23</td>\n",
       "    </tr>\n",
       "    <tr>\n",
       "      <th>1</th>\n",
       "      <td>4</td>\n",
       "      <td>3</td>\n",
       "      <td>17</td>\n",
       "    </tr>\n",
       "    <tr>\n",
       "      <th>2</th>\n",
       "      <td>4</td>\n",
       "      <td>5</td>\n",
       "      <td>17</td>\n",
       "    </tr>\n",
       "  </tbody>\n",
       "</table>\n",
       "</div>"
      ],
      "text/plain": [
       "   first  last  email\n",
       "0      5     7     23\n",
       "1      4     3     17\n",
       "2      4     5     17"
      ]
     },
     "metadata": {},
     "output_type": "display_data"
    },
    {
     "data": {
      "application/vnd.microsoft.datawrangler.viewer.v0+json": {
       "columns": [
        {
         "name": "index",
         "rawType": "int64",
         "type": "integer"
        },
        {
         "name": "first",
         "rawType": "int64",
         "type": "integer"
        },
        {
         "name": "last",
         "rawType": "int64",
         "type": "integer"
        },
        {
         "name": "email",
         "rawType": "int64",
         "type": "integer"
        }
       ],
       "conversionMethod": "pd.DataFrame",
       "ref": "4d15e6af-cd23-4e66-b5cd-2705adc00655",
       "rows": [
        [
         "0",
         "5",
         "7",
         "23"
        ],
        [
         "1",
         "4",
         "3",
         "17"
        ],
        [
         "2",
         "4",
         "5",
         "17"
        ]
       ],
       "shape": {
        "columns": 3,
        "rows": 3
       }
      },
      "text/html": [
       "<div>\n",
       "<style scoped>\n",
       "    .dataframe tbody tr th:only-of-type {\n",
       "        vertical-align: middle;\n",
       "    }\n",
       "\n",
       "    .dataframe tbody tr th {\n",
       "        vertical-align: top;\n",
       "    }\n",
       "\n",
       "    .dataframe thead th {\n",
       "        text-align: right;\n",
       "    }\n",
       "</style>\n",
       "<table border=\"1\" class=\"dataframe\">\n",
       "  <thead>\n",
       "    <tr style=\"text-align: right;\">\n",
       "      <th></th>\n",
       "      <th>first</th>\n",
       "      <th>last</th>\n",
       "      <th>email</th>\n",
       "    </tr>\n",
       "  </thead>\n",
       "  <tbody>\n",
       "    <tr>\n",
       "      <th>0</th>\n",
       "      <td>5</td>\n",
       "      <td>7</td>\n",
       "      <td>23</td>\n",
       "    </tr>\n",
       "    <tr>\n",
       "      <th>1</th>\n",
       "      <td>4</td>\n",
       "      <td>3</td>\n",
       "      <td>17</td>\n",
       "    </tr>\n",
       "    <tr>\n",
       "      <th>2</th>\n",
       "      <td>4</td>\n",
       "      <td>5</td>\n",
       "      <td>17</td>\n",
       "    </tr>\n",
       "  </tbody>\n",
       "</table>\n",
       "</div>"
      ],
      "text/plain": [
       "   first  last  email\n",
       "0      5     7     23\n",
       "1      4     3     17\n",
       "2      4     5     17"
      ]
     },
     "execution_count": 255,
     "metadata": {},
     "output_type": "execute_result"
    }
   ],
   "source": [
    "display(people_df.applymap(len))    # deprecated\n",
    "people_df.map(len)"
   ]
  },
  {
   "cell_type": "markdown",
   "id": "19d1946c",
   "metadata": {},
   "source": [
    "## using map on a series"
   ]
  },
  {
   "cell_type": "code",
   "execution_count": 256,
   "id": "b18aa8e2",
   "metadata": {},
   "outputs": [
    {
     "data": {
      "text/plain": [
       "0    Cris\n",
       "1    Mary\n",
       "2     NaN\n",
       "Name: first, dtype: object"
      ]
     },
     "execution_count": 256,
     "metadata": {},
     "output_type": "execute_result"
    }
   ],
   "source": [
    "people_df['first'].map({\n",
    "    'Corey': 'Cris',\n",
    "    'Jane': 'Mary',\n",
    "})"
   ]
  },
  {
   "cell_type": "markdown",
   "id": "6863461d",
   "metadata": {},
   "source": [
    "## using replace on a series"
   ]
  },
  {
   "cell_type": "code",
   "execution_count": 257,
   "id": "4b3afb83",
   "metadata": {},
   "outputs": [
    {
     "data": {
      "text/plain": [
       "0    Cris\n",
       "1    Mary\n",
       "2    John\n",
       "Name: first, dtype: object"
      ]
     },
     "execution_count": 257,
     "metadata": {},
     "output_type": "execute_result"
    }
   ],
   "source": [
    "people_df['first'].replace({\n",
    "    'Corey': 'Cris',\n",
    "    'Jane': 'Mary',\n",
    "})"
   ]
  },
  {
   "cell_type": "markdown",
   "id": "78ba3901",
   "metadata": {},
   "source": [
    "## using replace on a df"
   ]
  },
  {
   "cell_type": "code",
   "execution_count": 258,
   "id": "6508cae1",
   "metadata": {},
   "outputs": [
    {
     "data": {
      "application/vnd.microsoft.datawrangler.viewer.v0+json": {
       "columns": [
        {
         "name": "index",
         "rawType": "int64",
         "type": "integer"
        },
        {
         "name": "first",
         "rawType": "object",
         "type": "string"
        },
        {
         "name": "last",
         "rawType": "object",
         "type": "string"
        },
        {
         "name": "email",
         "rawType": "object",
         "type": "string"
        }
       ],
       "conversionMethod": "pd.DataFrame",
       "ref": "7e837b93-76f7-4949-913c-1b1a564c8bd0",
       "rows": [
        [
         "0",
         "Cris",
         "Schafer",
         "coreymschafer@gmail.com"
        ],
        [
         "1",
         "Mary",
         "Smith",
         "janedoe@gmail.com"
        ],
        [
         "2",
         "John",
         "Smith",
         "johndoe@email.com"
        ]
       ],
       "shape": {
        "columns": 3,
        "rows": 3
       }
      },
      "text/html": [
       "<div>\n",
       "<style scoped>\n",
       "    .dataframe tbody tr th:only-of-type {\n",
       "        vertical-align: middle;\n",
       "    }\n",
       "\n",
       "    .dataframe tbody tr th {\n",
       "        vertical-align: top;\n",
       "    }\n",
       "\n",
       "    .dataframe thead th {\n",
       "        text-align: right;\n",
       "    }\n",
       "</style>\n",
       "<table border=\"1\" class=\"dataframe\">\n",
       "  <thead>\n",
       "    <tr style=\"text-align: right;\">\n",
       "      <th></th>\n",
       "      <th>first</th>\n",
       "      <th>last</th>\n",
       "      <th>email</th>\n",
       "    </tr>\n",
       "  </thead>\n",
       "  <tbody>\n",
       "    <tr>\n",
       "      <th>0</th>\n",
       "      <td>Cris</td>\n",
       "      <td>Schafer</td>\n",
       "      <td>coreymschafer@gmail.com</td>\n",
       "    </tr>\n",
       "    <tr>\n",
       "      <th>1</th>\n",
       "      <td>Mary</td>\n",
       "      <td>Smith</td>\n",
       "      <td>janedoe@gmail.com</td>\n",
       "    </tr>\n",
       "    <tr>\n",
       "      <th>2</th>\n",
       "      <td>John</td>\n",
       "      <td>Smith</td>\n",
       "      <td>johndoe@email.com</td>\n",
       "    </tr>\n",
       "  </tbody>\n",
       "</table>\n",
       "</div>"
      ],
      "text/plain": [
       "  first     last                    email\n",
       "0  Cris  Schafer  coreymschafer@gmail.com\n",
       "1  Mary    Smith        janedoe@gmail.com\n",
       "2  John    Smith        johndoe@email.com"
      ]
     },
     "execution_count": 258,
     "metadata": {},
     "output_type": "execute_result"
    }
   ],
   "source": [
    "people_df.replace({\n",
    "    'Corey': 'Cris',\n",
    "    'Jane': 'Mary',\n",
    "    'Doe': 'Smith'\n",
    "})"
   ]
  },
  {
   "cell_type": "code",
   "execution_count": 259,
   "id": "8ef8debd",
   "metadata": {},
   "outputs": [
    {
     "data": {
      "application/vnd.microsoft.datawrangler.viewer.v0+json": {
       "columns": [
        {
         "name": "index",
         "rawType": "int64",
         "type": "integer"
        },
        {
         "name": "Respondent",
         "rawType": "int64",
         "type": "integer"
        },
        {
         "name": "MainBranch",
         "rawType": "object",
         "type": "string"
        },
        {
         "name": "Hobbyist",
         "rawType": "object",
         "type": "string"
        },
        {
         "name": "Age",
         "rawType": "float64",
         "type": "float"
        },
        {
         "name": "Age1stCode",
         "rawType": "object",
         "type": "string"
        },
        {
         "name": "CompFreq",
         "rawType": "object",
         "type": "string"
        },
        {
         "name": "CompTotal",
         "rawType": "float64",
         "type": "float"
        },
        {
         "name": "SalaryUSD",
         "rawType": "float64",
         "type": "float"
        },
        {
         "name": "Country",
         "rawType": "object",
         "type": "string"
        },
        {
         "name": "CurrencyDesc",
         "rawType": "object",
         "type": "string"
        },
        {
         "name": "CurrencySymbol",
         "rawType": "object",
         "type": "string"
        },
        {
         "name": "DatabaseDesireNextYear",
         "rawType": "object",
         "type": "string"
        },
        {
         "name": "DatabaseWorkedWith",
         "rawType": "object",
         "type": "string"
        },
        {
         "name": "DevType",
         "rawType": "object",
         "type": "string"
        },
        {
         "name": "EdLevel",
         "rawType": "object",
         "type": "string"
        },
        {
         "name": "Employment",
         "rawType": "object",
         "type": "string"
        },
        {
         "name": "Ethnicity",
         "rawType": "object",
         "type": "string"
        },
        {
         "name": "Gender",
         "rawType": "object",
         "type": "string"
        },
        {
         "name": "JobFactors",
         "rawType": "object",
         "type": "string"
        },
        {
         "name": "JobSat",
         "rawType": "object",
         "type": "string"
        },
        {
         "name": "JobSeek",
         "rawType": "object",
         "type": "string"
        },
        {
         "name": "LanguageDesireNextYear",
         "rawType": "object",
         "type": "string"
        },
        {
         "name": "LanguageWorkedWith",
         "rawType": "object",
         "type": "string"
        },
        {
         "name": "MiscTechDesireNextYear",
         "rawType": "object",
         "type": "string"
        },
        {
         "name": "MiscTechWorkedWith",
         "rawType": "object",
         "type": "string"
        },
        {
         "name": "NEWCollabToolsDesireNextYear",
         "rawType": "object",
         "type": "string"
        },
        {
         "name": "NEWCollabToolsWorkedWith",
         "rawType": "object",
         "type": "string"
        },
        {
         "name": "NEWDevOps",
         "rawType": "object",
         "type": "string"
        },
        {
         "name": "NEWDevOpsImpt",
         "rawType": "object",
         "type": "string"
        },
        {
         "name": "NEWEdImpt",
         "rawType": "object",
         "type": "string"
        },
        {
         "name": "NEWJobHunt",
         "rawType": "object",
         "type": "unknown"
        },
        {
         "name": "NEWJobHuntResearch",
         "rawType": "object",
         "type": "unknown"
        },
        {
         "name": "NEWLearn",
         "rawType": "object",
         "type": "string"
        },
        {
         "name": "NEWOffTopic",
         "rawType": "object",
         "type": "string"
        },
        {
         "name": "NEWOnboardGood",
         "rawType": "object",
         "type": "unknown"
        },
        {
         "name": "NEWOtherComms",
         "rawType": "object",
         "type": "string"
        },
        {
         "name": "NEWOvertime",
         "rawType": "object",
         "type": "string"
        },
        {
         "name": "NEWPurchaseResearch",
         "rawType": "object",
         "type": "string"
        },
        {
         "name": "NEWPurpleLink",
         "rawType": "object",
         "type": "string"
        },
        {
         "name": "NEWSOSites",
         "rawType": "object",
         "type": "string"
        },
        {
         "name": "NEWStuck",
         "rawType": "object",
         "type": "string"
        },
        {
         "name": "OpSys",
         "rawType": "object",
         "type": "string"
        },
        {
         "name": "OrgSize",
         "rawType": "object",
         "type": "string"
        },
        {
         "name": "PlatformDesireNextYear",
         "rawType": "object",
         "type": "string"
        },
        {
         "name": "PlatformWorkedWith",
         "rawType": "object",
         "type": "string"
        },
        {
         "name": "PurchaseWhat",
         "rawType": "object",
         "type": "unknown"
        },
        {
         "name": "Sexuality",
         "rawType": "object",
         "type": "string"
        },
        {
         "name": "SOAccount",
         "rawType": "object",
         "type": "string"
        },
        {
         "name": "SOComm",
         "rawType": "object",
         "type": "string"
        },
        {
         "name": "SOPartFreq",
         "rawType": "object",
         "type": "unknown"
        },
        {
         "name": "SOVisitFreq",
         "rawType": "object",
         "type": "string"
        },
        {
         "name": "SurveyEase",
         "rawType": "object",
         "type": "string"
        },
        {
         "name": "SurveyLength",
         "rawType": "object",
         "type": "string"
        },
        {
         "name": "Trans",
         "rawType": "object",
         "type": "string"
        },
        {
         "name": "UndergradMajor",
         "rawType": "object",
         "type": "string"
        },
        {
         "name": "WebframeDesireNextYear",
         "rawType": "object",
         "type": "string"
        },
        {
         "name": "WebframeWorkedWith",
         "rawType": "object",
         "type": "string"
        },
        {
         "name": "WelcomeChange",
         "rawType": "object",
         "type": "string"
        },
        {
         "name": "WorkWeekHrs",
         "rawType": "float64",
         "type": "float"
        },
        {
         "name": "YearsCode",
         "rawType": "object",
         "type": "string"
        },
        {
         "name": "YearsCodePro",
         "rawType": "object",
         "type": "string"
        }
       ],
       "conversionMethod": "pd.DataFrame",
       "ref": "345839fc-1f86-4932-b8a7-6edbe2cade6c",
       "rows": [
        [
         "0",
         "1",
         "I am a developer by profession",
         "Yes",
         null,
         "13",
         "Monthly",
         null,
         null,
         "Germany",
         "European Euro",
         "EUR",
         "Microsoft SQL Server",
         "Elasticsearch;Microsoft SQL Server;Oracle",
         "Developer, desktop or enterprise applications;Developer, full-stack",
         "Master’s degree (M.A., M.S., M.Eng., MBA, etc.)",
         "Independent contractor, freelancer, or self-employed",
         "White or of European descent",
         "Man",
         "Languages, frameworks, and other technologies I’d be working with;Remote work options;Opportunities for professional development",
         "Slightly satisfied",
         "I am not interested in new job opportunities",
         "C#;HTML/CSS;JavaScript",
         "C#;HTML/CSS;JavaScript",
         ".NET Core;Xamarin",
         ".NET;.NET Core",
         "Microsoft Teams;Microsoft Azure;Trello",
         "Confluence;Jira;Slack;Microsoft Azure;Trello",
         "No",
         "Somewhat important",
         "Fairly important",
         null,
         null,
         "Once a year",
         "Not sure",
         null,
         "No",
         "Often: 1-2 days per week or more",
         "Start a free trial;Ask developers I know/work with",
         "Amused",
         "Stack Overflow (public Q&A for anyone who codes)",
         "Visit Stack Overflow;Go for a walk or other physical activity;Do other work and come back later",
         "Windows",
         "2 to 9 employees",
         "Android;iOS;Kubernetes;Microsoft Azure;Windows",
         "Windows",
         null,
         "Straight / Heterosexual",
         "No",
         "No, not at all",
         null,
         "Multiple times per day",
         "Neither easy nor difficult",
         "Appropriate in length",
         "No",
         "Computer science, computer engineering, or software engineering",
         "ASP.NET Core",
         "ASP.NET;ASP.NET Core",
         "Just as welcome now as I felt last year",
         "50.0",
         "36",
         "27"
        ]
       ],
       "shape": {
        "columns": 61,
        "rows": 1
       }
      },
      "text/html": [
       "<div>\n",
       "<style scoped>\n",
       "    .dataframe tbody tr th:only-of-type {\n",
       "        vertical-align: middle;\n",
       "    }\n",
       "\n",
       "    .dataframe tbody tr th {\n",
       "        vertical-align: top;\n",
       "    }\n",
       "\n",
       "    .dataframe thead th {\n",
       "        text-align: right;\n",
       "    }\n",
       "</style>\n",
       "<table border=\"1\" class=\"dataframe\">\n",
       "  <thead>\n",
       "    <tr style=\"text-align: right;\">\n",
       "      <th></th>\n",
       "      <th>Respondent</th>\n",
       "      <th>MainBranch</th>\n",
       "      <th>Hobbyist</th>\n",
       "      <th>Age</th>\n",
       "      <th>Age1stCode</th>\n",
       "      <th>CompFreq</th>\n",
       "      <th>CompTotal</th>\n",
       "      <th>SalaryUSD</th>\n",
       "      <th>Country</th>\n",
       "      <th>CurrencyDesc</th>\n",
       "      <th>CurrencySymbol</th>\n",
       "      <th>DatabaseDesireNextYear</th>\n",
       "      <th>DatabaseWorkedWith</th>\n",
       "      <th>DevType</th>\n",
       "      <th>EdLevel</th>\n",
       "      <th>Employment</th>\n",
       "      <th>Ethnicity</th>\n",
       "      <th>Gender</th>\n",
       "      <th>JobFactors</th>\n",
       "      <th>JobSat</th>\n",
       "      <th>JobSeek</th>\n",
       "      <th>LanguageDesireNextYear</th>\n",
       "      <th>LanguageWorkedWith</th>\n",
       "      <th>MiscTechDesireNextYear</th>\n",
       "      <th>MiscTechWorkedWith</th>\n",
       "      <th>NEWCollabToolsDesireNextYear</th>\n",
       "      <th>NEWCollabToolsWorkedWith</th>\n",
       "      <th>NEWDevOps</th>\n",
       "      <th>NEWDevOpsImpt</th>\n",
       "      <th>NEWEdImpt</th>\n",
       "      <th>NEWJobHunt</th>\n",
       "      <th>NEWJobHuntResearch</th>\n",
       "      <th>NEWLearn</th>\n",
       "      <th>NEWOffTopic</th>\n",
       "      <th>NEWOnboardGood</th>\n",
       "      <th>NEWOtherComms</th>\n",
       "      <th>NEWOvertime</th>\n",
       "      <th>NEWPurchaseResearch</th>\n",
       "      <th>NEWPurpleLink</th>\n",
       "      <th>NEWSOSites</th>\n",
       "      <th>NEWStuck</th>\n",
       "      <th>OpSys</th>\n",
       "      <th>OrgSize</th>\n",
       "      <th>PlatformDesireNextYear</th>\n",
       "      <th>PlatformWorkedWith</th>\n",
       "      <th>PurchaseWhat</th>\n",
       "      <th>Sexuality</th>\n",
       "      <th>SOAccount</th>\n",
       "      <th>SOComm</th>\n",
       "      <th>SOPartFreq</th>\n",
       "      <th>SOVisitFreq</th>\n",
       "      <th>SurveyEase</th>\n",
       "      <th>SurveyLength</th>\n",
       "      <th>Trans</th>\n",
       "      <th>UndergradMajor</th>\n",
       "      <th>WebframeDesireNextYear</th>\n",
       "      <th>WebframeWorkedWith</th>\n",
       "      <th>WelcomeChange</th>\n",
       "      <th>WorkWeekHrs</th>\n",
       "      <th>YearsCode</th>\n",
       "      <th>YearsCodePro</th>\n",
       "    </tr>\n",
       "  </thead>\n",
       "  <tbody>\n",
       "    <tr>\n",
       "      <th>0</th>\n",
       "      <td>1</td>\n",
       "      <td>I am a developer by profession</td>\n",
       "      <td>Yes</td>\n",
       "      <td>NaN</td>\n",
       "      <td>13</td>\n",
       "      <td>Monthly</td>\n",
       "      <td>NaN</td>\n",
       "      <td>NaN</td>\n",
       "      <td>Germany</td>\n",
       "      <td>European Euro</td>\n",
       "      <td>EUR</td>\n",
       "      <td>Microsoft SQL Server</td>\n",
       "      <td>Elasticsearch;Microsoft SQL Server;Oracle</td>\n",
       "      <td>Developer, desktop or enterprise applications;...</td>\n",
       "      <td>Master’s degree (M.A., M.S., M.Eng., MBA, etc.)</td>\n",
       "      <td>Independent contractor, freelancer, or self-em...</td>\n",
       "      <td>White or of European descent</td>\n",
       "      <td>Man</td>\n",
       "      <td>Languages, frameworks, and other technologies ...</td>\n",
       "      <td>Slightly satisfied</td>\n",
       "      <td>I am not interested in new job opportunities</td>\n",
       "      <td>C#;HTML/CSS;JavaScript</td>\n",
       "      <td>C#;HTML/CSS;JavaScript</td>\n",
       "      <td>.NET Core;Xamarin</td>\n",
       "      <td>.NET;.NET Core</td>\n",
       "      <td>Microsoft Teams;Microsoft Azure;Trello</td>\n",
       "      <td>Confluence;Jira;Slack;Microsoft Azure;Trello</td>\n",
       "      <td>No</td>\n",
       "      <td>Somewhat important</td>\n",
       "      <td>Fairly important</td>\n",
       "      <td>NaN</td>\n",
       "      <td>NaN</td>\n",
       "      <td>Once a year</td>\n",
       "      <td>Not sure</td>\n",
       "      <td>NaN</td>\n",
       "      <td>No</td>\n",
       "      <td>Often: 1-2 days per week or more</td>\n",
       "      <td>Start a free trial;Ask developers I know/work ...</td>\n",
       "      <td>Amused</td>\n",
       "      <td>Stack Overflow (public Q&amp;A for anyone who codes)</td>\n",
       "      <td>Visit Stack Overflow;Go for a walk or other ph...</td>\n",
       "      <td>Windows</td>\n",
       "      <td>2 to 9 employees</td>\n",
       "      <td>Android;iOS;Kubernetes;Microsoft Azure;Windows</td>\n",
       "      <td>Windows</td>\n",
       "      <td>NaN</td>\n",
       "      <td>Straight / Heterosexual</td>\n",
       "      <td>No</td>\n",
       "      <td>No, not at all</td>\n",
       "      <td>NaN</td>\n",
       "      <td>Multiple times per day</td>\n",
       "      <td>Neither easy nor difficult</td>\n",
       "      <td>Appropriate in length</td>\n",
       "      <td>No</td>\n",
       "      <td>Computer science, computer engineering, or sof...</td>\n",
       "      <td>ASP.NET Core</td>\n",
       "      <td>ASP.NET;ASP.NET Core</td>\n",
       "      <td>Just as welcome now as I felt last year</td>\n",
       "      <td>50.0</td>\n",
       "      <td>36</td>\n",
       "      <td>27</td>\n",
       "    </tr>\n",
       "  </tbody>\n",
       "</table>\n",
       "</div>"
      ],
      "text/plain": [
       "   Respondent                      MainBranch Hobbyist  Age Age1stCode  \\\n",
       "0           1  I am a developer by profession      Yes  NaN         13   \n",
       "\n",
       "  CompFreq  CompTotal  SalaryUSD  Country   CurrencyDesc CurrencySymbol  \\\n",
       "0  Monthly        NaN        NaN  Germany  European Euro            EUR   \n",
       "\n",
       "  DatabaseDesireNextYear                         DatabaseWorkedWith  \\\n",
       "0   Microsoft SQL Server  Elasticsearch;Microsoft SQL Server;Oracle   \n",
       "\n",
       "                                             DevType  \\\n",
       "0  Developer, desktop or enterprise applications;...   \n",
       "\n",
       "                                           EdLevel  \\\n",
       "0  Master’s degree (M.A., M.S., M.Eng., MBA, etc.)   \n",
       "\n",
       "                                          Employment  \\\n",
       "0  Independent contractor, freelancer, or self-em...   \n",
       "\n",
       "                      Ethnicity Gender  \\\n",
       "0  White or of European descent    Man   \n",
       "\n",
       "                                          JobFactors              JobSat  \\\n",
       "0  Languages, frameworks, and other technologies ...  Slightly satisfied   \n",
       "\n",
       "                                        JobSeek  LanguageDesireNextYear  \\\n",
       "0  I am not interested in new job opportunities  C#;HTML/CSS;JavaScript   \n",
       "\n",
       "       LanguageWorkedWith MiscTechDesireNextYear MiscTechWorkedWith  \\\n",
       "0  C#;HTML/CSS;JavaScript      .NET Core;Xamarin     .NET;.NET Core   \n",
       "\n",
       "             NEWCollabToolsDesireNextYear  \\\n",
       "0  Microsoft Teams;Microsoft Azure;Trello   \n",
       "\n",
       "                       NEWCollabToolsWorkedWith NEWDevOps       NEWDevOpsImpt  \\\n",
       "0  Confluence;Jira;Slack;Microsoft Azure;Trello        No  Somewhat important   \n",
       "\n",
       "          NEWEdImpt NEWJobHunt NEWJobHuntResearch     NEWLearn NEWOffTopic  \\\n",
       "0  Fairly important        NaN                NaN  Once a year    Not sure   \n",
       "\n",
       "  NEWOnboardGood NEWOtherComms                       NEWOvertime  \\\n",
       "0            NaN            No  Often: 1-2 days per week or more   \n",
       "\n",
       "                                 NEWPurchaseResearch NEWPurpleLink  \\\n",
       "0  Start a free trial;Ask developers I know/work ...        Amused   \n",
       "\n",
       "                                         NEWSOSites  \\\n",
       "0  Stack Overflow (public Q&A for anyone who codes)   \n",
       "\n",
       "                                            NEWStuck    OpSys  \\\n",
       "0  Visit Stack Overflow;Go for a walk or other ph...  Windows   \n",
       "\n",
       "            OrgSize                          PlatformDesireNextYear  \\\n",
       "0  2 to 9 employees  Android;iOS;Kubernetes;Microsoft Azure;Windows   \n",
       "\n",
       "  PlatformWorkedWith PurchaseWhat                Sexuality SOAccount  \\\n",
       "0            Windows          NaN  Straight / Heterosexual        No   \n",
       "\n",
       "           SOComm SOPartFreq             SOVisitFreq  \\\n",
       "0  No, not at all        NaN  Multiple times per day   \n",
       "\n",
       "                   SurveyEase           SurveyLength Trans  \\\n",
       "0  Neither easy nor difficult  Appropriate in length    No   \n",
       "\n",
       "                                      UndergradMajor WebframeDesireNextYear  \\\n",
       "0  Computer science, computer engineering, or sof...           ASP.NET Core   \n",
       "\n",
       "     WebframeWorkedWith                            WelcomeChange  WorkWeekHrs  \\\n",
       "0  ASP.NET;ASP.NET Core  Just as welcome now as I felt last year         50.0   \n",
       "\n",
       "  YearsCode YearsCodePro  \n",
       "0        36           27  "
      ]
     },
     "execution_count": 259,
     "metadata": {},
     "output_type": "execute_result"
    }
   ],
   "source": [
    "survey_df.rename(columns={'ConvertedComp': 'SalaryUSD'}, inplace=True); survey_df.head(1)"
   ]
  },
  {
   "cell_type": "code",
   "execution_count": 260,
   "id": "b09f886e",
   "metadata": {},
   "outputs": [
    {
     "data": {
      "text/plain": [
       "0    Yes\n",
       "1     No\n",
       "2    Yes\n",
       "3    Yes\n",
       "4    Yes\n",
       "Name: Hobbyist, dtype: object"
      ]
     },
     "execution_count": 260,
     "metadata": {},
     "output_type": "execute_result"
    }
   ],
   "source": [
    "survey_df['Hobbyist'].head()"
   ]
  },
  {
   "cell_type": "code",
   "execution_count": 263,
   "id": "bfcefee1",
   "metadata": {},
   "outputs": [
    {
     "data": {
      "application/vnd.microsoft.datawrangler.viewer.v0+json": {
       "columns": [
        {
         "name": "index",
         "rawType": "int64",
         "type": "integer"
        },
        {
         "name": "Respondent",
         "rawType": "int64",
         "type": "integer"
        },
        {
         "name": "MainBranch",
         "rawType": "object",
         "type": "string"
        },
        {
         "name": "Hobbyist",
         "rawType": "object",
         "type": "unknown"
        },
        {
         "name": "Age",
         "rawType": "float64",
         "type": "float"
        },
        {
         "name": "Age1stCode",
         "rawType": "object",
         "type": "string"
        },
        {
         "name": "CompFreq",
         "rawType": "object",
         "type": "unknown"
        },
        {
         "name": "CompTotal",
         "rawType": "float64",
         "type": "float"
        },
        {
         "name": "SalaryUSD",
         "rawType": "float64",
         "type": "float"
        },
        {
         "name": "Country",
         "rawType": "object",
         "type": "string"
        },
        {
         "name": "CurrencyDesc",
         "rawType": "object",
         "type": "unknown"
        },
        {
         "name": "CurrencySymbol",
         "rawType": "object",
         "type": "unknown"
        },
        {
         "name": "DatabaseDesireNextYear",
         "rawType": "object",
         "type": "unknown"
        },
        {
         "name": "DatabaseWorkedWith",
         "rawType": "object",
         "type": "unknown"
        },
        {
         "name": "DevType",
         "rawType": "object",
         "type": "unknown"
        },
        {
         "name": "EdLevel",
         "rawType": "object",
         "type": "unknown"
        },
        {
         "name": "Employment",
         "rawType": "object",
         "type": "unknown"
        },
        {
         "name": "Ethnicity",
         "rawType": "object",
         "type": "unknown"
        },
        {
         "name": "Gender",
         "rawType": "object",
         "type": "unknown"
        },
        {
         "name": "JobFactors",
         "rawType": "object",
         "type": "unknown"
        },
        {
         "name": "JobSat",
         "rawType": "object",
         "type": "unknown"
        },
        {
         "name": "JobSeek",
         "rawType": "object",
         "type": "unknown"
        },
        {
         "name": "LanguageDesireNextYear",
         "rawType": "object",
         "type": "unknown"
        },
        {
         "name": "LanguageWorkedWith",
         "rawType": "object",
         "type": "unknown"
        },
        {
         "name": "MiscTechDesireNextYear",
         "rawType": "object",
         "type": "unknown"
        },
        {
         "name": "MiscTechWorkedWith",
         "rawType": "object",
         "type": "unknown"
        },
        {
         "name": "NEWCollabToolsDesireNextYear",
         "rawType": "object",
         "type": "unknown"
        },
        {
         "name": "NEWCollabToolsWorkedWith",
         "rawType": "object",
         "type": "unknown"
        },
        {
         "name": "NEWDevOps",
         "rawType": "object",
         "type": "unknown"
        },
        {
         "name": "NEWDevOpsImpt",
         "rawType": "object",
         "type": "unknown"
        },
        {
         "name": "NEWEdImpt",
         "rawType": "object",
         "type": "unknown"
        },
        {
         "name": "NEWJobHunt",
         "rawType": "object",
         "type": "unknown"
        },
        {
         "name": "NEWJobHuntResearch",
         "rawType": "object",
         "type": "unknown"
        },
        {
         "name": "NEWLearn",
         "rawType": "object",
         "type": "string"
        },
        {
         "name": "NEWOffTopic",
         "rawType": "object",
         "type": "unknown"
        },
        {
         "name": "NEWOnboardGood",
         "rawType": "object",
         "type": "unknown"
        },
        {
         "name": "NEWOtherComms",
         "rawType": "object",
         "type": "string"
        },
        {
         "name": "NEWOvertime",
         "rawType": "object",
         "type": "unknown"
        },
        {
         "name": "NEWPurchaseResearch",
         "rawType": "object",
         "type": "unknown"
        },
        {
         "name": "NEWPurpleLink",
         "rawType": "object",
         "type": "unknown"
        },
        {
         "name": "NEWSOSites",
         "rawType": "object",
         "type": "string"
        },
        {
         "name": "NEWStuck",
         "rawType": "object",
         "type": "unknown"
        },
        {
         "name": "OpSys",
         "rawType": "object",
         "type": "string"
        },
        {
         "name": "OrgSize",
         "rawType": "object",
         "type": "unknown"
        },
        {
         "name": "PlatformDesireNextYear",
         "rawType": "object",
         "type": "unknown"
        },
        {
         "name": "PlatformWorkedWith",
         "rawType": "object",
         "type": "unknown"
        },
        {
         "name": "PurchaseWhat",
         "rawType": "object",
         "type": "unknown"
        },
        {
         "name": "Sexuality",
         "rawType": "object",
         "type": "unknown"
        },
        {
         "name": "SOAccount",
         "rawType": "object",
         "type": "string"
        },
        {
         "name": "SOComm",
         "rawType": "object",
         "type": "string"
        },
        {
         "name": "SOPartFreq",
         "rawType": "object",
         "type": "unknown"
        },
        {
         "name": "SOVisitFreq",
         "rawType": "object",
         "type": "string"
        },
        {
         "name": "SurveyEase",
         "rawType": "object",
         "type": "unknown"
        },
        {
         "name": "SurveyLength",
         "rawType": "object",
         "type": "unknown"
        },
        {
         "name": "Trans",
         "rawType": "object",
         "type": "unknown"
        },
        {
         "name": "UndergradMajor",
         "rawType": "object",
         "type": "unknown"
        },
        {
         "name": "WebframeDesireNextYear",
         "rawType": "object",
         "type": "unknown"
        },
        {
         "name": "WebframeWorkedWith",
         "rawType": "object",
         "type": "unknown"
        },
        {
         "name": "WelcomeChange",
         "rawType": "object",
         "type": "string"
        },
        {
         "name": "WorkWeekHrs",
         "rawType": "float64",
         "type": "float"
        },
        {
         "name": "YearsCode",
         "rawType": "object",
         "type": "string"
        },
        {
         "name": "YearsCodePro",
         "rawType": "object",
         "type": "unknown"
        }
       ],
       "conversionMethod": "pd.DataFrame",
       "ref": "49a67ca9-eaf1-4aa9-87e6-e4f18797e0b1",
       "rows": [
        [
         "0",
         "1",
         "I am a developer by profession",
         null,
         null,
         "13",
         "Monthly",
         null,
         null,
         "Germany",
         "European Euro",
         "EUR",
         "Microsoft SQL Server",
         "Elasticsearch;Microsoft SQL Server;Oracle",
         "Developer, desktop or enterprise applications;Developer, full-stack",
         "Master’s degree (M.A., M.S., M.Eng., MBA, etc.)",
         "Independent contractor, freelancer, or self-employed",
         "White or of European descent",
         "Man",
         "Languages, frameworks, and other technologies I’d be working with;Remote work options;Opportunities for professional development",
         "Slightly satisfied",
         "I am not interested in new job opportunities",
         "C#;HTML/CSS;JavaScript",
         "C#;HTML/CSS;JavaScript",
         ".NET Core;Xamarin",
         ".NET;.NET Core",
         "Microsoft Teams;Microsoft Azure;Trello",
         "Confluence;Jira;Slack;Microsoft Azure;Trello",
         "No",
         "Somewhat important",
         "Fairly important",
         null,
         null,
         "Once a year",
         "Not sure",
         null,
         "No",
         "Often: 1-2 days per week or more",
         "Start a free trial;Ask developers I know/work with",
         "Amused",
         "Stack Overflow (public Q&A for anyone who codes)",
         "Visit Stack Overflow;Go for a walk or other physical activity;Do other work and come back later",
         "Windows",
         "2 to 9 employees",
         "Android;iOS;Kubernetes;Microsoft Azure;Windows",
         "Windows",
         null,
         "Straight / Heterosexual",
         "No",
         "No, not at all",
         null,
         "Multiple times per day",
         "Neither easy nor difficult",
         "Appropriate in length",
         "No",
         "Computer science, computer engineering, or software engineering",
         "ASP.NET Core",
         "ASP.NET;ASP.NET Core",
         "Just as welcome now as I felt last year",
         "50.0",
         "36",
         "27"
        ],
        [
         "1",
         "2",
         "I am a developer by profession",
         null,
         null,
         "19",
         null,
         null,
         null,
         "United Kingdom",
         "Pound sterling",
         "GBP",
         null,
         null,
         "Developer, full-stack;Developer, mobile",
         "Bachelor’s degree (B.A., B.S., B.Eng., etc.)",
         "Employed full-time",
         null,
         null,
         null,
         "Very dissatisfied",
         "I am not interested in new job opportunities",
         "Python;Swift",
         "JavaScript;Swift",
         "React Native;TensorFlow;Unity 3D",
         "React Native",
         "Github;Slack",
         "Confluence;Jira;Github;Gitlab;Slack",
         null,
         null,
         "Fairly important",
         null,
         null,
         "Once a year",
         "Not sure",
         null,
         "No",
         null,
         null,
         "Amused",
         "Stack Overflow (public Q&A for anyone who codes);Stack Exchange (public Q&A for a variety of topics);Stack Overflow Jobs (for job seekers)",
         "Visit Stack Overflow;Go for a walk or other physical activity",
         "MacOS",
         "1,000 to 4,999 employees",
         "iOS;Kubernetes;Linux;MacOS",
         "iOS",
         "I have little or no influence",
         null,
         "Yes",
         "Yes, definitely",
         "Less than once per month or monthly",
         "Multiple times per day",
         null,
         null,
         null,
         "Computer science, computer engineering, or software engineering",
         null,
         null,
         "Somewhat more welcome now than last year",
         null,
         "7",
         "4"
        ],
        [
         "2",
         "3",
         "I code primarily as a hobby",
         null,
         null,
         "15",
         null,
         null,
         null,
         "Russian Federation",
         null,
         null,
         null,
         null,
         null,
         null,
         null,
         null,
         null,
         null,
         null,
         null,
         "Objective-C;Python;Swift",
         "Objective-C;Python;Swift",
         null,
         null,
         null,
         null,
         null,
         null,
         null,
         null,
         null,
         "Once a decade",
         null,
         null,
         "No",
         null,
         null,
         null,
         "Stack Overflow (public Q&A for anyone who codes)",
         null,
         "Linux-based",
         null,
         null,
         null,
         null,
         null,
         "Yes",
         "Yes, somewhat",
         "A few times per month or weekly",
         "Daily or almost daily",
         "Neither easy nor difficult",
         "Appropriate in length",
         null,
         null,
         null,
         null,
         "Somewhat more welcome now than last year",
         null,
         "4",
         null
        ],
        [
         "3",
         "4",
         "I am a developer by profession",
         null,
         "25.0",
         "18",
         null,
         null,
         null,
         "Albania",
         "Albanian lek",
         "ALL",
         null,
         null,
         null,
         "Master’s degree (M.A., M.S., M.Eng., MBA, etc.)",
         null,
         "White or of European descent",
         "Man",
         "Flex time or a flexible schedule;Office environment or company culture;Opportunities for professional development",
         "Slightly dissatisfied",
         "I’m not actively looking, but I am open to new opportunities",
         null,
         null,
         null,
         null,
         null,
         null,
         "No",
         null,
         "Not at all important/not necessary",
         "Curious about other opportunities;Wanting to work with new technologies",
         null,
         "Once a year",
         "Not sure",
         "Yes",
         "Yes",
         "Occasionally: 1-2 days per quarter but less than monthly",
         null,
         null,
         "Stack Overflow (public Q&A for anyone who codes);Stack Exchange (public Q&A for a variety of topics);Stack Overflow Jobs (for job seekers)",
         null,
         "Linux-based",
         "20 to 99 employees",
         null,
         null,
         "I have a great deal of influence",
         "Straight / Heterosexual",
         "Yes",
         "Yes, definitely",
         "A few times per month or weekly",
         "Multiple times per day",
         null,
         null,
         "No",
         "Computer science, computer engineering, or software engineering",
         null,
         null,
         "Somewhat less welcome now than last year",
         "40.0",
         "7",
         "4"
        ],
        [
         "4",
         "5",
         "I used to be a developer by profession, but no longer am",
         null,
         "31.0",
         "16",
         null,
         null,
         null,
         "United States",
         null,
         null,
         "MySQL;PostgreSQL",
         "MySQL;PostgreSQL;Redis;SQLite",
         null,
         "Bachelor’s degree (B.A., B.S., B.Eng., etc.)",
         "Employed full-time",
         "White or of European descent",
         "Man",
         null,
         null,
         null,
         "Java;Ruby;Scala",
         "HTML/CSS;Ruby;SQL",
         "Ansible;Chef",
         "Ansible",
         "Github;Google Suite (Docs, Meet, etc)",
         "Confluence;Jira;Github;Slack;Google Suite (Docs, Meet, etc)",
         null,
         null,
         "Very important",
         null,
         null,
         "Once a year",
         "No",
         null,
         "Yes",
         null,
         "Start a free trial;Ask developers I know/work with;Visit developer communities like Stack Overflow;Read ratings or reviews on third party sites like G2Crowd;Research companies that have advertised on sites I visit",
         "Hello, old friend",
         "Stack Overflow (public Q&A for anyone who codes);Stack Exchange (public Q&A for a variety of topics);Stack Overflow Jobs (for job seekers);Stack Overflow for Teams (private Q&A for organizations);Stack Overflow Talent (for hiring companies/recruiters)",
         "Call a coworker or friend;Visit Stack Overflow;Watch help / tutorial videos;Do other work and come back later;Visit another developer community (please name):",
         "Windows",
         null,
         "Docker;Google Cloud Platform;Heroku;Linux;Windows",
         "AWS;Docker;Linux;MacOS;Windows",
         null,
         "Straight / Heterosexual",
         "Yes",
         "Yes, somewhat",
         "Less than once per month or monthly",
         "A few times per month or weekly",
         "Easy",
         "Too short",
         "No",
         "Computer science, computer engineering, or software engineering",
         "Django;Ruby on Rails",
         "Ruby on Rails",
         "Just as welcome now as I felt last year",
         null,
         "15",
         "8"
        ]
       ],
       "shape": {
        "columns": 61,
        "rows": 5
       }
      },
      "text/html": [
       "<div>\n",
       "<style scoped>\n",
       "    .dataframe tbody tr th:only-of-type {\n",
       "        vertical-align: middle;\n",
       "    }\n",
       "\n",
       "    .dataframe tbody tr th {\n",
       "        vertical-align: top;\n",
       "    }\n",
       "\n",
       "    .dataframe thead th {\n",
       "        text-align: right;\n",
       "    }\n",
       "</style>\n",
       "<table border=\"1\" class=\"dataframe\">\n",
       "  <thead>\n",
       "    <tr style=\"text-align: right;\">\n",
       "      <th></th>\n",
       "      <th>Respondent</th>\n",
       "      <th>MainBranch</th>\n",
       "      <th>Hobbyist</th>\n",
       "      <th>Age</th>\n",
       "      <th>Age1stCode</th>\n",
       "      <th>CompFreq</th>\n",
       "      <th>CompTotal</th>\n",
       "      <th>SalaryUSD</th>\n",
       "      <th>Country</th>\n",
       "      <th>CurrencyDesc</th>\n",
       "      <th>CurrencySymbol</th>\n",
       "      <th>DatabaseDesireNextYear</th>\n",
       "      <th>DatabaseWorkedWith</th>\n",
       "      <th>DevType</th>\n",
       "      <th>EdLevel</th>\n",
       "      <th>Employment</th>\n",
       "      <th>Ethnicity</th>\n",
       "      <th>Gender</th>\n",
       "      <th>JobFactors</th>\n",
       "      <th>JobSat</th>\n",
       "      <th>JobSeek</th>\n",
       "      <th>LanguageDesireNextYear</th>\n",
       "      <th>LanguageWorkedWith</th>\n",
       "      <th>MiscTechDesireNextYear</th>\n",
       "      <th>MiscTechWorkedWith</th>\n",
       "      <th>NEWCollabToolsDesireNextYear</th>\n",
       "      <th>NEWCollabToolsWorkedWith</th>\n",
       "      <th>NEWDevOps</th>\n",
       "      <th>NEWDevOpsImpt</th>\n",
       "      <th>NEWEdImpt</th>\n",
       "      <th>NEWJobHunt</th>\n",
       "      <th>NEWJobHuntResearch</th>\n",
       "      <th>NEWLearn</th>\n",
       "      <th>NEWOffTopic</th>\n",
       "      <th>NEWOnboardGood</th>\n",
       "      <th>NEWOtherComms</th>\n",
       "      <th>NEWOvertime</th>\n",
       "      <th>NEWPurchaseResearch</th>\n",
       "      <th>NEWPurpleLink</th>\n",
       "      <th>NEWSOSites</th>\n",
       "      <th>NEWStuck</th>\n",
       "      <th>OpSys</th>\n",
       "      <th>OrgSize</th>\n",
       "      <th>PlatformDesireNextYear</th>\n",
       "      <th>PlatformWorkedWith</th>\n",
       "      <th>PurchaseWhat</th>\n",
       "      <th>Sexuality</th>\n",
       "      <th>SOAccount</th>\n",
       "      <th>SOComm</th>\n",
       "      <th>SOPartFreq</th>\n",
       "      <th>SOVisitFreq</th>\n",
       "      <th>SurveyEase</th>\n",
       "      <th>SurveyLength</th>\n",
       "      <th>Trans</th>\n",
       "      <th>UndergradMajor</th>\n",
       "      <th>WebframeDesireNextYear</th>\n",
       "      <th>WebframeWorkedWith</th>\n",
       "      <th>WelcomeChange</th>\n",
       "      <th>WorkWeekHrs</th>\n",
       "      <th>YearsCode</th>\n",
       "      <th>YearsCodePro</th>\n",
       "    </tr>\n",
       "  </thead>\n",
       "  <tbody>\n",
       "    <tr>\n",
       "      <th>0</th>\n",
       "      <td>1</td>\n",
       "      <td>I am a developer by profession</td>\n",
       "      <td>NaN</td>\n",
       "      <td>NaN</td>\n",
       "      <td>13</td>\n",
       "      <td>Monthly</td>\n",
       "      <td>NaN</td>\n",
       "      <td>NaN</td>\n",
       "      <td>Germany</td>\n",
       "      <td>European Euro</td>\n",
       "      <td>EUR</td>\n",
       "      <td>Microsoft SQL Server</td>\n",
       "      <td>Elasticsearch;Microsoft SQL Server;Oracle</td>\n",
       "      <td>Developer, desktop or enterprise applications;...</td>\n",
       "      <td>Master’s degree (M.A., M.S., M.Eng., MBA, etc.)</td>\n",
       "      <td>Independent contractor, freelancer, or self-em...</td>\n",
       "      <td>White or of European descent</td>\n",
       "      <td>Man</td>\n",
       "      <td>Languages, frameworks, and other technologies ...</td>\n",
       "      <td>Slightly satisfied</td>\n",
       "      <td>I am not interested in new job opportunities</td>\n",
       "      <td>C#;HTML/CSS;JavaScript</td>\n",
       "      <td>C#;HTML/CSS;JavaScript</td>\n",
       "      <td>.NET Core;Xamarin</td>\n",
       "      <td>.NET;.NET Core</td>\n",
       "      <td>Microsoft Teams;Microsoft Azure;Trello</td>\n",
       "      <td>Confluence;Jira;Slack;Microsoft Azure;Trello</td>\n",
       "      <td>No</td>\n",
       "      <td>Somewhat important</td>\n",
       "      <td>Fairly important</td>\n",
       "      <td>NaN</td>\n",
       "      <td>NaN</td>\n",
       "      <td>Once a year</td>\n",
       "      <td>Not sure</td>\n",
       "      <td>NaN</td>\n",
       "      <td>No</td>\n",
       "      <td>Often: 1-2 days per week or more</td>\n",
       "      <td>Start a free trial;Ask developers I know/work ...</td>\n",
       "      <td>Amused</td>\n",
       "      <td>Stack Overflow (public Q&amp;A for anyone who codes)</td>\n",
       "      <td>Visit Stack Overflow;Go for a walk or other ph...</td>\n",
       "      <td>Windows</td>\n",
       "      <td>2 to 9 employees</td>\n",
       "      <td>Android;iOS;Kubernetes;Microsoft Azure;Windows</td>\n",
       "      <td>Windows</td>\n",
       "      <td>NaN</td>\n",
       "      <td>Straight / Heterosexual</td>\n",
       "      <td>No</td>\n",
       "      <td>No, not at all</td>\n",
       "      <td>NaN</td>\n",
       "      <td>Multiple times per day</td>\n",
       "      <td>Neither easy nor difficult</td>\n",
       "      <td>Appropriate in length</td>\n",
       "      <td>No</td>\n",
       "      <td>Computer science, computer engineering, or sof...</td>\n",
       "      <td>ASP.NET Core</td>\n",
       "      <td>ASP.NET;ASP.NET Core</td>\n",
       "      <td>Just as welcome now as I felt last year</td>\n",
       "      <td>50.0</td>\n",
       "      <td>36</td>\n",
       "      <td>27</td>\n",
       "    </tr>\n",
       "    <tr>\n",
       "      <th>1</th>\n",
       "      <td>2</td>\n",
       "      <td>I am a developer by profession</td>\n",
       "      <td>NaN</td>\n",
       "      <td>NaN</td>\n",
       "      <td>19</td>\n",
       "      <td>NaN</td>\n",
       "      <td>NaN</td>\n",
       "      <td>NaN</td>\n",
       "      <td>United Kingdom</td>\n",
       "      <td>Pound sterling</td>\n",
       "      <td>GBP</td>\n",
       "      <td>NaN</td>\n",
       "      <td>NaN</td>\n",
       "      <td>Developer, full-stack;Developer, mobile</td>\n",
       "      <td>Bachelor’s degree (B.A., B.S., B.Eng., etc.)</td>\n",
       "      <td>Employed full-time</td>\n",
       "      <td>NaN</td>\n",
       "      <td>NaN</td>\n",
       "      <td>NaN</td>\n",
       "      <td>Very dissatisfied</td>\n",
       "      <td>I am not interested in new job opportunities</td>\n",
       "      <td>Python;Swift</td>\n",
       "      <td>JavaScript;Swift</td>\n",
       "      <td>React Native;TensorFlow;Unity 3D</td>\n",
       "      <td>React Native</td>\n",
       "      <td>Github;Slack</td>\n",
       "      <td>Confluence;Jira;Github;Gitlab;Slack</td>\n",
       "      <td>NaN</td>\n",
       "      <td>NaN</td>\n",
       "      <td>Fairly important</td>\n",
       "      <td>NaN</td>\n",
       "      <td>NaN</td>\n",
       "      <td>Once a year</td>\n",
       "      <td>Not sure</td>\n",
       "      <td>NaN</td>\n",
       "      <td>No</td>\n",
       "      <td>NaN</td>\n",
       "      <td>NaN</td>\n",
       "      <td>Amused</td>\n",
       "      <td>Stack Overflow (public Q&amp;A for anyone who code...</td>\n",
       "      <td>Visit Stack Overflow;Go for a walk or other ph...</td>\n",
       "      <td>MacOS</td>\n",
       "      <td>1,000 to 4,999 employees</td>\n",
       "      <td>iOS;Kubernetes;Linux;MacOS</td>\n",
       "      <td>iOS</td>\n",
       "      <td>I have little or no influence</td>\n",
       "      <td>NaN</td>\n",
       "      <td>Yes</td>\n",
       "      <td>Yes, definitely</td>\n",
       "      <td>Less than once per month or monthly</td>\n",
       "      <td>Multiple times per day</td>\n",
       "      <td>NaN</td>\n",
       "      <td>NaN</td>\n",
       "      <td>NaN</td>\n",
       "      <td>Computer science, computer engineering, or sof...</td>\n",
       "      <td>NaN</td>\n",
       "      <td>NaN</td>\n",
       "      <td>Somewhat more welcome now than last year</td>\n",
       "      <td>NaN</td>\n",
       "      <td>7</td>\n",
       "      <td>4</td>\n",
       "    </tr>\n",
       "    <tr>\n",
       "      <th>2</th>\n",
       "      <td>3</td>\n",
       "      <td>I code primarily as a hobby</td>\n",
       "      <td>NaN</td>\n",
       "      <td>NaN</td>\n",
       "      <td>15</td>\n",
       "      <td>NaN</td>\n",
       "      <td>NaN</td>\n",
       "      <td>NaN</td>\n",
       "      <td>Russian Federation</td>\n",
       "      <td>NaN</td>\n",
       "      <td>NaN</td>\n",
       "      <td>NaN</td>\n",
       "      <td>NaN</td>\n",
       "      <td>NaN</td>\n",
       "      <td>NaN</td>\n",
       "      <td>NaN</td>\n",
       "      <td>NaN</td>\n",
       "      <td>NaN</td>\n",
       "      <td>NaN</td>\n",
       "      <td>NaN</td>\n",
       "      <td>NaN</td>\n",
       "      <td>Objective-C;Python;Swift</td>\n",
       "      <td>Objective-C;Python;Swift</td>\n",
       "      <td>NaN</td>\n",
       "      <td>NaN</td>\n",
       "      <td>NaN</td>\n",
       "      <td>NaN</td>\n",
       "      <td>NaN</td>\n",
       "      <td>NaN</td>\n",
       "      <td>NaN</td>\n",
       "      <td>NaN</td>\n",
       "      <td>NaN</td>\n",
       "      <td>Once a decade</td>\n",
       "      <td>NaN</td>\n",
       "      <td>NaN</td>\n",
       "      <td>No</td>\n",
       "      <td>NaN</td>\n",
       "      <td>NaN</td>\n",
       "      <td>NaN</td>\n",
       "      <td>Stack Overflow (public Q&amp;A for anyone who codes)</td>\n",
       "      <td>NaN</td>\n",
       "      <td>Linux-based</td>\n",
       "      <td>NaN</td>\n",
       "      <td>NaN</td>\n",
       "      <td>NaN</td>\n",
       "      <td>NaN</td>\n",
       "      <td>NaN</td>\n",
       "      <td>Yes</td>\n",
       "      <td>Yes, somewhat</td>\n",
       "      <td>A few times per month or weekly</td>\n",
       "      <td>Daily or almost daily</td>\n",
       "      <td>Neither easy nor difficult</td>\n",
       "      <td>Appropriate in length</td>\n",
       "      <td>NaN</td>\n",
       "      <td>NaN</td>\n",
       "      <td>NaN</td>\n",
       "      <td>NaN</td>\n",
       "      <td>Somewhat more welcome now than last year</td>\n",
       "      <td>NaN</td>\n",
       "      <td>4</td>\n",
       "      <td>NaN</td>\n",
       "    </tr>\n",
       "    <tr>\n",
       "      <th>3</th>\n",
       "      <td>4</td>\n",
       "      <td>I am a developer by profession</td>\n",
       "      <td>NaN</td>\n",
       "      <td>25.0</td>\n",
       "      <td>18</td>\n",
       "      <td>NaN</td>\n",
       "      <td>NaN</td>\n",
       "      <td>NaN</td>\n",
       "      <td>Albania</td>\n",
       "      <td>Albanian lek</td>\n",
       "      <td>ALL</td>\n",
       "      <td>NaN</td>\n",
       "      <td>NaN</td>\n",
       "      <td>NaN</td>\n",
       "      <td>Master’s degree (M.A., M.S., M.Eng., MBA, etc.)</td>\n",
       "      <td>NaN</td>\n",
       "      <td>White or of European descent</td>\n",
       "      <td>Man</td>\n",
       "      <td>Flex time or a flexible schedule;Office enviro...</td>\n",
       "      <td>Slightly dissatisfied</td>\n",
       "      <td>I’m not actively looking, but I am open to new...</td>\n",
       "      <td>NaN</td>\n",
       "      <td>NaN</td>\n",
       "      <td>NaN</td>\n",
       "      <td>NaN</td>\n",
       "      <td>NaN</td>\n",
       "      <td>NaN</td>\n",
       "      <td>No</td>\n",
       "      <td>NaN</td>\n",
       "      <td>Not at all important/not necessary</td>\n",
       "      <td>Curious about other opportunities;Wanting to w...</td>\n",
       "      <td>NaN</td>\n",
       "      <td>Once a year</td>\n",
       "      <td>Not sure</td>\n",
       "      <td>Yes</td>\n",
       "      <td>Yes</td>\n",
       "      <td>Occasionally: 1-2 days per quarter but less th...</td>\n",
       "      <td>NaN</td>\n",
       "      <td>NaN</td>\n",
       "      <td>Stack Overflow (public Q&amp;A for anyone who code...</td>\n",
       "      <td>NaN</td>\n",
       "      <td>Linux-based</td>\n",
       "      <td>20 to 99 employees</td>\n",
       "      <td>NaN</td>\n",
       "      <td>NaN</td>\n",
       "      <td>I have a great deal of influence</td>\n",
       "      <td>Straight / Heterosexual</td>\n",
       "      <td>Yes</td>\n",
       "      <td>Yes, definitely</td>\n",
       "      <td>A few times per month or weekly</td>\n",
       "      <td>Multiple times per day</td>\n",
       "      <td>NaN</td>\n",
       "      <td>NaN</td>\n",
       "      <td>No</td>\n",
       "      <td>Computer science, computer engineering, or sof...</td>\n",
       "      <td>NaN</td>\n",
       "      <td>NaN</td>\n",
       "      <td>Somewhat less welcome now than last year</td>\n",
       "      <td>40.0</td>\n",
       "      <td>7</td>\n",
       "      <td>4</td>\n",
       "    </tr>\n",
       "    <tr>\n",
       "      <th>4</th>\n",
       "      <td>5</td>\n",
       "      <td>I used to be a developer by profession, but no...</td>\n",
       "      <td>NaN</td>\n",
       "      <td>31.0</td>\n",
       "      <td>16</td>\n",
       "      <td>NaN</td>\n",
       "      <td>NaN</td>\n",
       "      <td>NaN</td>\n",
       "      <td>United States</td>\n",
       "      <td>NaN</td>\n",
       "      <td>NaN</td>\n",
       "      <td>MySQL;PostgreSQL</td>\n",
       "      <td>MySQL;PostgreSQL;Redis;SQLite</td>\n",
       "      <td>NaN</td>\n",
       "      <td>Bachelor’s degree (B.A., B.S., B.Eng., etc.)</td>\n",
       "      <td>Employed full-time</td>\n",
       "      <td>White or of European descent</td>\n",
       "      <td>Man</td>\n",
       "      <td>NaN</td>\n",
       "      <td>NaN</td>\n",
       "      <td>NaN</td>\n",
       "      <td>Java;Ruby;Scala</td>\n",
       "      <td>HTML/CSS;Ruby;SQL</td>\n",
       "      <td>Ansible;Chef</td>\n",
       "      <td>Ansible</td>\n",
       "      <td>Github;Google Suite (Docs, Meet, etc)</td>\n",
       "      <td>Confluence;Jira;Github;Slack;Google Suite (Doc...</td>\n",
       "      <td>NaN</td>\n",
       "      <td>NaN</td>\n",
       "      <td>Very important</td>\n",
       "      <td>NaN</td>\n",
       "      <td>NaN</td>\n",
       "      <td>Once a year</td>\n",
       "      <td>No</td>\n",
       "      <td>NaN</td>\n",
       "      <td>Yes</td>\n",
       "      <td>NaN</td>\n",
       "      <td>Start a free trial;Ask developers I know/work ...</td>\n",
       "      <td>Hello, old friend</td>\n",
       "      <td>Stack Overflow (public Q&amp;A for anyone who code...</td>\n",
       "      <td>Call a coworker or friend;Visit Stack Overflow...</td>\n",
       "      <td>Windows</td>\n",
       "      <td>NaN</td>\n",
       "      <td>Docker;Google Cloud Platform;Heroku;Linux;Windows</td>\n",
       "      <td>AWS;Docker;Linux;MacOS;Windows</td>\n",
       "      <td>NaN</td>\n",
       "      <td>Straight / Heterosexual</td>\n",
       "      <td>Yes</td>\n",
       "      <td>Yes, somewhat</td>\n",
       "      <td>Less than once per month or monthly</td>\n",
       "      <td>A few times per month or weekly</td>\n",
       "      <td>Easy</td>\n",
       "      <td>Too short</td>\n",
       "      <td>No</td>\n",
       "      <td>Computer science, computer engineering, or sof...</td>\n",
       "      <td>Django;Ruby on Rails</td>\n",
       "      <td>Ruby on Rails</td>\n",
       "      <td>Just as welcome now as I felt last year</td>\n",
       "      <td>NaN</td>\n",
       "      <td>15</td>\n",
       "      <td>8</td>\n",
       "    </tr>\n",
       "  </tbody>\n",
       "</table>\n",
       "</div>"
      ],
      "text/plain": [
       "   Respondent                                         MainBranch Hobbyist  \\\n",
       "0           1                     I am a developer by profession      NaN   \n",
       "1           2                     I am a developer by profession      NaN   \n",
       "2           3                        I code primarily as a hobby      NaN   \n",
       "3           4                     I am a developer by profession      NaN   \n",
       "4           5  I used to be a developer by profession, but no...      NaN   \n",
       "\n",
       "    Age Age1stCode CompFreq  CompTotal  SalaryUSD             Country  \\\n",
       "0   NaN         13  Monthly        NaN        NaN             Germany   \n",
       "1   NaN         19      NaN        NaN        NaN      United Kingdom   \n",
       "2   NaN         15      NaN        NaN        NaN  Russian Federation   \n",
       "3  25.0         18      NaN        NaN        NaN             Albania   \n",
       "4  31.0         16      NaN        NaN        NaN       United States   \n",
       "\n",
       "     CurrencyDesc CurrencySymbol DatabaseDesireNextYear  \\\n",
       "0   European Euro            EUR   Microsoft SQL Server   \n",
       "1  Pound sterling            GBP                    NaN   \n",
       "2             NaN            NaN                    NaN   \n",
       "3    Albanian lek            ALL                    NaN   \n",
       "4             NaN            NaN       MySQL;PostgreSQL   \n",
       "\n",
       "                          DatabaseWorkedWith  \\\n",
       "0  Elasticsearch;Microsoft SQL Server;Oracle   \n",
       "1                                        NaN   \n",
       "2                                        NaN   \n",
       "3                                        NaN   \n",
       "4              MySQL;PostgreSQL;Redis;SQLite   \n",
       "\n",
       "                                             DevType  \\\n",
       "0  Developer, desktop or enterprise applications;...   \n",
       "1            Developer, full-stack;Developer, mobile   \n",
       "2                                                NaN   \n",
       "3                                                NaN   \n",
       "4                                                NaN   \n",
       "\n",
       "                                           EdLevel  \\\n",
       "0  Master’s degree (M.A., M.S., M.Eng., MBA, etc.)   \n",
       "1     Bachelor’s degree (B.A., B.S., B.Eng., etc.)   \n",
       "2                                              NaN   \n",
       "3  Master’s degree (M.A., M.S., M.Eng., MBA, etc.)   \n",
       "4     Bachelor’s degree (B.A., B.S., B.Eng., etc.)   \n",
       "\n",
       "                                          Employment  \\\n",
       "0  Independent contractor, freelancer, or self-em...   \n",
       "1                                 Employed full-time   \n",
       "2                                                NaN   \n",
       "3                                                NaN   \n",
       "4                                 Employed full-time   \n",
       "\n",
       "                      Ethnicity Gender  \\\n",
       "0  White or of European descent    Man   \n",
       "1                           NaN    NaN   \n",
       "2                           NaN    NaN   \n",
       "3  White or of European descent    Man   \n",
       "4  White or of European descent    Man   \n",
       "\n",
       "                                          JobFactors                 JobSat  \\\n",
       "0  Languages, frameworks, and other technologies ...     Slightly satisfied   \n",
       "1                                                NaN      Very dissatisfied   \n",
       "2                                                NaN                    NaN   \n",
       "3  Flex time or a flexible schedule;Office enviro...  Slightly dissatisfied   \n",
       "4                                                NaN                    NaN   \n",
       "\n",
       "                                             JobSeek  \\\n",
       "0       I am not interested in new job opportunities   \n",
       "1       I am not interested in new job opportunities   \n",
       "2                                                NaN   \n",
       "3  I’m not actively looking, but I am open to new...   \n",
       "4                                                NaN   \n",
       "\n",
       "     LanguageDesireNextYear        LanguageWorkedWith  \\\n",
       "0    C#;HTML/CSS;JavaScript    C#;HTML/CSS;JavaScript   \n",
       "1              Python;Swift          JavaScript;Swift   \n",
       "2  Objective-C;Python;Swift  Objective-C;Python;Swift   \n",
       "3                       NaN                       NaN   \n",
       "4           Java;Ruby;Scala         HTML/CSS;Ruby;SQL   \n",
       "\n",
       "             MiscTechDesireNextYear MiscTechWorkedWith  \\\n",
       "0                 .NET Core;Xamarin     .NET;.NET Core   \n",
       "1  React Native;TensorFlow;Unity 3D       React Native   \n",
       "2                               NaN                NaN   \n",
       "3                               NaN                NaN   \n",
       "4                      Ansible;Chef            Ansible   \n",
       "\n",
       "             NEWCollabToolsDesireNextYear  \\\n",
       "0  Microsoft Teams;Microsoft Azure;Trello   \n",
       "1                            Github;Slack   \n",
       "2                                     NaN   \n",
       "3                                     NaN   \n",
       "4   Github;Google Suite (Docs, Meet, etc)   \n",
       "\n",
       "                            NEWCollabToolsWorkedWith NEWDevOps  \\\n",
       "0       Confluence;Jira;Slack;Microsoft Azure;Trello        No   \n",
       "1                Confluence;Jira;Github;Gitlab;Slack       NaN   \n",
       "2                                                NaN       NaN   \n",
       "3                                                NaN        No   \n",
       "4  Confluence;Jira;Github;Slack;Google Suite (Doc...       NaN   \n",
       "\n",
       "        NEWDevOpsImpt                           NEWEdImpt  \\\n",
       "0  Somewhat important                    Fairly important   \n",
       "1                 NaN                    Fairly important   \n",
       "2                 NaN                                 NaN   \n",
       "3                 NaN  Not at all important/not necessary   \n",
       "4                 NaN                      Very important   \n",
       "\n",
       "                                          NEWJobHunt NEWJobHuntResearch  \\\n",
       "0                                                NaN                NaN   \n",
       "1                                                NaN                NaN   \n",
       "2                                                NaN                NaN   \n",
       "3  Curious about other opportunities;Wanting to w...                NaN   \n",
       "4                                                NaN                NaN   \n",
       "\n",
       "        NEWLearn NEWOffTopic NEWOnboardGood NEWOtherComms  \\\n",
       "0    Once a year    Not sure            NaN            No   \n",
       "1    Once a year    Not sure            NaN            No   \n",
       "2  Once a decade         NaN            NaN            No   \n",
       "3    Once a year    Not sure            Yes           Yes   \n",
       "4    Once a year          No            NaN           Yes   \n",
       "\n",
       "                                         NEWOvertime  \\\n",
       "0                   Often: 1-2 days per week or more   \n",
       "1                                                NaN   \n",
       "2                                                NaN   \n",
       "3  Occasionally: 1-2 days per quarter but less th...   \n",
       "4                                                NaN   \n",
       "\n",
       "                                 NEWPurchaseResearch      NEWPurpleLink  \\\n",
       "0  Start a free trial;Ask developers I know/work ...             Amused   \n",
       "1                                                NaN             Amused   \n",
       "2                                                NaN                NaN   \n",
       "3                                                NaN                NaN   \n",
       "4  Start a free trial;Ask developers I know/work ...  Hello, old friend   \n",
       "\n",
       "                                          NEWSOSites  \\\n",
       "0   Stack Overflow (public Q&A for anyone who codes)   \n",
       "1  Stack Overflow (public Q&A for anyone who code...   \n",
       "2   Stack Overflow (public Q&A for anyone who codes)   \n",
       "3  Stack Overflow (public Q&A for anyone who code...   \n",
       "4  Stack Overflow (public Q&A for anyone who code...   \n",
       "\n",
       "                                            NEWStuck        OpSys  \\\n",
       "0  Visit Stack Overflow;Go for a walk or other ph...      Windows   \n",
       "1  Visit Stack Overflow;Go for a walk or other ph...        MacOS   \n",
       "2                                                NaN  Linux-based   \n",
       "3                                                NaN  Linux-based   \n",
       "4  Call a coworker or friend;Visit Stack Overflow...      Windows   \n",
       "\n",
       "                    OrgSize  \\\n",
       "0          2 to 9 employees   \n",
       "1  1,000 to 4,999 employees   \n",
       "2                       NaN   \n",
       "3        20 to 99 employees   \n",
       "4                       NaN   \n",
       "\n",
       "                              PlatformDesireNextYear  \\\n",
       "0     Android;iOS;Kubernetes;Microsoft Azure;Windows   \n",
       "1                         iOS;Kubernetes;Linux;MacOS   \n",
       "2                                                NaN   \n",
       "3                                                NaN   \n",
       "4  Docker;Google Cloud Platform;Heroku;Linux;Windows   \n",
       "\n",
       "               PlatformWorkedWith                      PurchaseWhat  \\\n",
       "0                         Windows                               NaN   \n",
       "1                             iOS     I have little or no influence   \n",
       "2                             NaN                               NaN   \n",
       "3                             NaN  I have a great deal of influence   \n",
       "4  AWS;Docker;Linux;MacOS;Windows                               NaN   \n",
       "\n",
       "                 Sexuality SOAccount           SOComm  \\\n",
       "0  Straight / Heterosexual        No   No, not at all   \n",
       "1                      NaN       Yes  Yes, definitely   \n",
       "2                      NaN       Yes    Yes, somewhat   \n",
       "3  Straight / Heterosexual       Yes  Yes, definitely   \n",
       "4  Straight / Heterosexual       Yes    Yes, somewhat   \n",
       "\n",
       "                            SOPartFreq                      SOVisitFreq  \\\n",
       "0                                  NaN           Multiple times per day   \n",
       "1  Less than once per month or monthly           Multiple times per day   \n",
       "2      A few times per month or weekly            Daily or almost daily   \n",
       "3      A few times per month or weekly           Multiple times per day   \n",
       "4  Less than once per month or monthly  A few times per month or weekly   \n",
       "\n",
       "                   SurveyEase           SurveyLength Trans  \\\n",
       "0  Neither easy nor difficult  Appropriate in length    No   \n",
       "1                         NaN                    NaN   NaN   \n",
       "2  Neither easy nor difficult  Appropriate in length   NaN   \n",
       "3                         NaN                    NaN    No   \n",
       "4                        Easy              Too short    No   \n",
       "\n",
       "                                      UndergradMajor WebframeDesireNextYear  \\\n",
       "0  Computer science, computer engineering, or sof...           ASP.NET Core   \n",
       "1  Computer science, computer engineering, or sof...                    NaN   \n",
       "2                                                NaN                    NaN   \n",
       "3  Computer science, computer engineering, or sof...                    NaN   \n",
       "4  Computer science, computer engineering, or sof...   Django;Ruby on Rails   \n",
       "\n",
       "     WebframeWorkedWith                             WelcomeChange  \\\n",
       "0  ASP.NET;ASP.NET Core   Just as welcome now as I felt last year   \n",
       "1                   NaN  Somewhat more welcome now than last year   \n",
       "2                   NaN  Somewhat more welcome now than last year   \n",
       "3                   NaN  Somewhat less welcome now than last year   \n",
       "4         Ruby on Rails   Just as welcome now as I felt last year   \n",
       "\n",
       "   WorkWeekHrs YearsCode YearsCodePro  \n",
       "0         50.0        36           27  \n",
       "1          NaN         7            4  \n",
       "2          NaN         4          NaN  \n",
       "3         40.0         7            4  \n",
       "4          NaN        15            8  "
      ]
     },
     "execution_count": 263,
     "metadata": {},
     "output_type": "execute_result"
    }
   ],
   "source": [
    "survey_df['Hobbyist'] = survey_df['Hobbyist'].map({'Yes': True, 'No': False}, na_action='ignore'); survey_df.head()"
   ]
  },
  {
   "cell_type": "code",
   "execution_count": 262,
   "id": "059be001",
   "metadata": {},
   "outputs": [
    {
     "data": {
      "text/plain": [
       "0    Yes\n",
       "1     No\n",
       "2    Yes\n",
       "3    Yes\n",
       "4    Yes\n",
       "Name: Hobbyist, dtype: object"
      ]
     },
     "execution_count": 262,
     "metadata": {},
     "output_type": "execute_result"
    }
   ],
   "source": [
    "survey_df['Hobbyist'].replace({True: 'Yes', False: 'No'}).head()"
   ]
  }
 ],
 "metadata": {
  "kernelspec": {
   "display_name": ".venv",
   "language": "python",
   "name": "python3"
  },
  "language_info": {
   "codemirror_mode": {
    "name": "ipython",
    "version": 3
   },
   "file_extension": ".py",
   "mimetype": "text/x-python",
   "name": "python",
   "nbconvert_exporter": "python",
   "pygments_lexer": "ipython3",
   "version": "3.12.4"
  }
 },
 "nbformat": 4,
 "nbformat_minor": 5
}
