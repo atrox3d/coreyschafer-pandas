{
 "cells": [
  {
   "cell_type": "markdown",
   "id": "460344a3",
   "metadata": {},
   "source": [
    "# Part 4 - filtering"
   ]
  },
  {
   "cell_type": "code",
   "execution_count": 1,
   "id": "2a3f36e6",
   "metadata": {},
   "outputs": [],
   "source": [
    "import pandas as pd"
   ]
  },
  {
   "cell_type": "code",
   "execution_count": 2,
   "id": "cb79bdf9",
   "metadata": {},
   "outputs": [],
   "source": [
    "survey_df = pd.read_csv('data/survey_results_public.csv')\n",
    "schema_df = pd.read_csv('data/survey_results_schema.csv')"
   ]
  },
  {
   "cell_type": "code",
   "execution_count": 3,
   "id": "2e7b0b3e",
   "metadata": {},
   "outputs": [
    {
     "data": {
      "application/vnd.microsoft.datawrangler.viewer.v0+json": {
       "columns": [
        {
         "name": "index",
         "rawType": "int64",
         "type": "integer"
        },
        {
         "name": "first",
         "rawType": "object",
         "type": "string"
        },
        {
         "name": "last",
         "rawType": "object",
         "type": "string"
        },
        {
         "name": "email",
         "rawType": "object",
         "type": "string"
        }
       ],
       "conversionMethod": "pd.DataFrame",
       "ref": "1e30356d-ea99-4cda-bf62-ee895bfe4b18",
       "rows": [
        [
         "0",
         "Corey",
         "Schafer",
         "CoreyMSchafer@gmail.com"
        ],
        [
         "1",
         "Jane",
         "Doe",
         "JaneDoe@gmail.com"
        ],
        [
         "2",
         "John",
         "Doe",
         "JohnDoe@gmail.com"
        ]
       ],
       "shape": {
        "columns": 3,
        "rows": 3
       }
      },
      "text/html": [
       "<div>\n",
       "<style scoped>\n",
       "    .dataframe tbody tr th:only-of-type {\n",
       "        vertical-align: middle;\n",
       "    }\n",
       "\n",
       "    .dataframe tbody tr th {\n",
       "        vertical-align: top;\n",
       "    }\n",
       "\n",
       "    .dataframe thead th {\n",
       "        text-align: right;\n",
       "    }\n",
       "</style>\n",
       "<table border=\"1\" class=\"dataframe\">\n",
       "  <thead>\n",
       "    <tr style=\"text-align: right;\">\n",
       "      <th></th>\n",
       "      <th>first</th>\n",
       "      <th>last</th>\n",
       "      <th>email</th>\n",
       "    </tr>\n",
       "  </thead>\n",
       "  <tbody>\n",
       "    <tr>\n",
       "      <th>0</th>\n",
       "      <td>Corey</td>\n",
       "      <td>Schafer</td>\n",
       "      <td>CoreyMSchafer@gmail.com</td>\n",
       "    </tr>\n",
       "    <tr>\n",
       "      <th>1</th>\n",
       "      <td>Jane</td>\n",
       "      <td>Doe</td>\n",
       "      <td>JaneDoe@gmail.com</td>\n",
       "    </tr>\n",
       "    <tr>\n",
       "      <th>2</th>\n",
       "      <td>John</td>\n",
       "      <td>Doe</td>\n",
       "      <td>JohnDoe@gmail.com</td>\n",
       "    </tr>\n",
       "  </tbody>\n",
       "</table>\n",
       "</div>"
      ],
      "text/plain": [
       "   first     last                    email\n",
       "0  Corey  Schafer  CoreyMSchafer@gmail.com\n",
       "1   Jane      Doe        JaneDoe@gmail.com\n",
       "2   John      Doe        JohnDoe@gmail.com"
      ]
     },
     "execution_count": 3,
     "metadata": {},
     "output_type": "execute_result"
    }
   ],
   "source": [
    "people_df = pd.DataFrame({\n",
    "    'first': 'Corey Jane John'.split(),\n",
    "    'last': 'Schafer Doe Doe'.split(),\n",
    "    'email': 'CoreyMSchafer@gmail.com JaneDoe@gmail.com JohnDoe@gmail.com'.split()\n",
    "})\n",
    "people_df"
   ]
  },
  {
   "cell_type": "code",
   "execution_count": 4,
   "id": "8b8a1be0",
   "metadata": {},
   "outputs": [],
   "source": [
    "pd.set_option('display.max_columns', 85)\n",
    "pd.set_option('display.max_rows', 85)"
   ]
  },
  {
   "cell_type": "markdown",
   "id": "561f13ee",
   "metadata": {},
   "source": [
    "# manage ALL column names"
   ]
  },
  {
   "cell_type": "code",
   "execution_count": 5,
   "id": "60a2fed3",
   "metadata": {},
   "outputs": [
    {
     "data": {
      "text/plain": [
       "Index(['first', 'last', 'email'], dtype='object')"
      ]
     },
     "execution_count": 5,
     "metadata": {},
     "output_type": "execute_result"
    }
   ],
   "source": [
    "people_df.columns"
   ]
  },
  {
   "cell_type": "markdown",
   "id": "0205e081",
   "metadata": {},
   "source": [
    "## replace all column names"
   ]
  },
  {
   "cell_type": "code",
   "execution_count": 6,
   "id": "e9899c91",
   "metadata": {},
   "outputs": [
    {
     "data": {
      "text/plain": [
       "Index(['first_name', 'last_name', 'email'], dtype='object')"
      ]
     },
     "metadata": {},
     "output_type": "display_data"
    },
    {
     "data": {
      "application/vnd.microsoft.datawrangler.viewer.v0+json": {
       "columns": [
        {
         "name": "index",
         "rawType": "int64",
         "type": "integer"
        },
        {
         "name": "first_name",
         "rawType": "object",
         "type": "string"
        },
        {
         "name": "last_name",
         "rawType": "object",
         "type": "string"
        },
        {
         "name": "email",
         "rawType": "object",
         "type": "string"
        }
       ],
       "conversionMethod": "pd.DataFrame",
       "ref": "2bb4caae-35a6-4676-8659-56b7ac41bd3e",
       "rows": [
        [
         "0",
         "Corey",
         "Schafer",
         "CoreyMSchafer@gmail.com"
        ],
        [
         "1",
         "Jane",
         "Doe",
         "JaneDoe@gmail.com"
        ],
        [
         "2",
         "John",
         "Doe",
         "JohnDoe@gmail.com"
        ]
       ],
       "shape": {
        "columns": 3,
        "rows": 3
       }
      },
      "text/html": [
       "<div>\n",
       "<style scoped>\n",
       "    .dataframe tbody tr th:only-of-type {\n",
       "        vertical-align: middle;\n",
       "    }\n",
       "\n",
       "    .dataframe tbody tr th {\n",
       "        vertical-align: top;\n",
       "    }\n",
       "\n",
       "    .dataframe thead th {\n",
       "        text-align: right;\n",
       "    }\n",
       "</style>\n",
       "<table border=\"1\" class=\"dataframe\">\n",
       "  <thead>\n",
       "    <tr style=\"text-align: right;\">\n",
       "      <th></th>\n",
       "      <th>first_name</th>\n",
       "      <th>last_name</th>\n",
       "      <th>email</th>\n",
       "    </tr>\n",
       "  </thead>\n",
       "  <tbody>\n",
       "    <tr>\n",
       "      <th>0</th>\n",
       "      <td>Corey</td>\n",
       "      <td>Schafer</td>\n",
       "      <td>CoreyMSchafer@gmail.com</td>\n",
       "    </tr>\n",
       "    <tr>\n",
       "      <th>1</th>\n",
       "      <td>Jane</td>\n",
       "      <td>Doe</td>\n",
       "      <td>JaneDoe@gmail.com</td>\n",
       "    </tr>\n",
       "    <tr>\n",
       "      <th>2</th>\n",
       "      <td>John</td>\n",
       "      <td>Doe</td>\n",
       "      <td>JohnDoe@gmail.com</td>\n",
       "    </tr>\n",
       "  </tbody>\n",
       "</table>\n",
       "</div>"
      ],
      "text/plain": [
       "  first_name last_name                    email\n",
       "0      Corey   Schafer  CoreyMSchafer@gmail.com\n",
       "1       Jane       Doe        JaneDoe@gmail.com\n",
       "2       John       Doe        JohnDoe@gmail.com"
      ]
     },
     "execution_count": 6,
     "metadata": {},
     "output_type": "execute_result"
    }
   ],
   "source": [
    "people_df.columns = 'first_name last_name email'.split()\n",
    "display(people_df.columns)\n",
    "people_df"
   ]
  },
  {
   "cell_type": "markdown",
   "id": "c3d089d1",
   "metadata": {},
   "source": [
    "## make all column names uppercase"
   ]
  },
  {
   "cell_type": "code",
   "execution_count": 7,
   "id": "0a8f5a4a",
   "metadata": {},
   "outputs": [
    {
     "data": {
      "text/plain": [
       "Index(['FIRST_NAME', 'LAST_NAME', 'EMAIL'], dtype='object')"
      ]
     },
     "metadata": {},
     "output_type": "display_data"
    },
    {
     "data": {
      "application/vnd.microsoft.datawrangler.viewer.v0+json": {
       "columns": [
        {
         "name": "index",
         "rawType": "int64",
         "type": "integer"
        },
        {
         "name": "FIRST_NAME",
         "rawType": "object",
         "type": "string"
        },
        {
         "name": "LAST_NAME",
         "rawType": "object",
         "type": "string"
        },
        {
         "name": "EMAIL",
         "rawType": "object",
         "type": "string"
        }
       ],
       "conversionMethod": "pd.DataFrame",
       "ref": "90df204a-ea3b-4715-9a07-da6becd773e0",
       "rows": [
        [
         "0",
         "Corey",
         "Schafer",
         "CoreyMSchafer@gmail.com"
        ],
        [
         "1",
         "Jane",
         "Doe",
         "JaneDoe@gmail.com"
        ],
        [
         "2",
         "John",
         "Doe",
         "JohnDoe@gmail.com"
        ]
       ],
       "shape": {
        "columns": 3,
        "rows": 3
       }
      },
      "text/html": [
       "<div>\n",
       "<style scoped>\n",
       "    .dataframe tbody tr th:only-of-type {\n",
       "        vertical-align: middle;\n",
       "    }\n",
       "\n",
       "    .dataframe tbody tr th {\n",
       "        vertical-align: top;\n",
       "    }\n",
       "\n",
       "    .dataframe thead th {\n",
       "        text-align: right;\n",
       "    }\n",
       "</style>\n",
       "<table border=\"1\" class=\"dataframe\">\n",
       "  <thead>\n",
       "    <tr style=\"text-align: right;\">\n",
       "      <th></th>\n",
       "      <th>FIRST_NAME</th>\n",
       "      <th>LAST_NAME</th>\n",
       "      <th>EMAIL</th>\n",
       "    </tr>\n",
       "  </thead>\n",
       "  <tbody>\n",
       "    <tr>\n",
       "      <th>0</th>\n",
       "      <td>Corey</td>\n",
       "      <td>Schafer</td>\n",
       "      <td>CoreyMSchafer@gmail.com</td>\n",
       "    </tr>\n",
       "    <tr>\n",
       "      <th>1</th>\n",
       "      <td>Jane</td>\n",
       "      <td>Doe</td>\n",
       "      <td>JaneDoe@gmail.com</td>\n",
       "    </tr>\n",
       "    <tr>\n",
       "      <th>2</th>\n",
       "      <td>John</td>\n",
       "      <td>Doe</td>\n",
       "      <td>JohnDoe@gmail.com</td>\n",
       "    </tr>\n",
       "  </tbody>\n",
       "</table>\n",
       "</div>"
      ],
      "text/plain": [
       "  FIRST_NAME LAST_NAME                    EMAIL\n",
       "0      Corey   Schafer  CoreyMSchafer@gmail.com\n",
       "1       Jane       Doe        JaneDoe@gmail.com\n",
       "2       John       Doe        JohnDoe@gmail.com"
      ]
     },
     "execution_count": 7,
     "metadata": {},
     "output_type": "execute_result"
    }
   ],
   "source": [
    "people_df.columns = [x.upper() for x in people_df.columns]\n",
    "display(people_df.columns)\n",
    "people_df"
   ]
  },
  {
   "cell_type": "markdown",
   "id": "0c0cc593",
   "metadata": {},
   "source": [
    "## make all column names lowercase vectorized"
   ]
  },
  {
   "cell_type": "code",
   "execution_count": 8,
   "id": "faef6f75",
   "metadata": {},
   "outputs": [
    {
     "data": {
      "text/plain": [
       "Index(['first_name', 'last_name', 'email'], dtype='object')"
      ]
     },
     "metadata": {},
     "output_type": "display_data"
    },
    {
     "data": {
      "application/vnd.microsoft.datawrangler.viewer.v0+json": {
       "columns": [
        {
         "name": "index",
         "rawType": "int64",
         "type": "integer"
        },
        {
         "name": "first_name",
         "rawType": "object",
         "type": "string"
        },
        {
         "name": "last_name",
         "rawType": "object",
         "type": "string"
        },
        {
         "name": "email",
         "rawType": "object",
         "type": "string"
        }
       ],
       "conversionMethod": "pd.DataFrame",
       "ref": "f3a1344a-8e78-4907-b2b4-15112440b7e8",
       "rows": [
        [
         "0",
         "Corey",
         "Schafer",
         "CoreyMSchafer@gmail.com"
        ],
        [
         "1",
         "Jane",
         "Doe",
         "JaneDoe@gmail.com"
        ],
        [
         "2",
         "John",
         "Doe",
         "JohnDoe@gmail.com"
        ]
       ],
       "shape": {
        "columns": 3,
        "rows": 3
       }
      },
      "text/html": [
       "<div>\n",
       "<style scoped>\n",
       "    .dataframe tbody tr th:only-of-type {\n",
       "        vertical-align: middle;\n",
       "    }\n",
       "\n",
       "    .dataframe tbody tr th {\n",
       "        vertical-align: top;\n",
       "    }\n",
       "\n",
       "    .dataframe thead th {\n",
       "        text-align: right;\n",
       "    }\n",
       "</style>\n",
       "<table border=\"1\" class=\"dataframe\">\n",
       "  <thead>\n",
       "    <tr style=\"text-align: right;\">\n",
       "      <th></th>\n",
       "      <th>first_name</th>\n",
       "      <th>last_name</th>\n",
       "      <th>email</th>\n",
       "    </tr>\n",
       "  </thead>\n",
       "  <tbody>\n",
       "    <tr>\n",
       "      <th>0</th>\n",
       "      <td>Corey</td>\n",
       "      <td>Schafer</td>\n",
       "      <td>CoreyMSchafer@gmail.com</td>\n",
       "    </tr>\n",
       "    <tr>\n",
       "      <th>1</th>\n",
       "      <td>Jane</td>\n",
       "      <td>Doe</td>\n",
       "      <td>JaneDoe@gmail.com</td>\n",
       "    </tr>\n",
       "    <tr>\n",
       "      <th>2</th>\n",
       "      <td>John</td>\n",
       "      <td>Doe</td>\n",
       "      <td>JohnDoe@gmail.com</td>\n",
       "    </tr>\n",
       "  </tbody>\n",
       "</table>\n",
       "</div>"
      ],
      "text/plain": [
       "  first_name last_name                    email\n",
       "0      Corey   Schafer  CoreyMSchafer@gmail.com\n",
       "1       Jane       Doe        JaneDoe@gmail.com\n",
       "2       John       Doe        JohnDoe@gmail.com"
      ]
     },
     "execution_count": 8,
     "metadata": {},
     "output_type": "execute_result"
    }
   ],
   "source": [
    "people_df.columns = people_df.columns.str.lower()\n",
    "display(people_df.columns)\n",
    "people_df"
   ]
  },
  {
   "cell_type": "markdown",
   "id": "5420ff64",
   "metadata": {},
   "source": [
    "## replace spaces in column names"
   ]
  },
  {
   "cell_type": "code",
   "execution_count": 9,
   "id": "b1c3f163",
   "metadata": {},
   "outputs": [
    {
     "data": {
      "text/plain": [
       "Index(['first_name', 'last_name', 'email'], dtype='object')"
      ]
     },
     "metadata": {},
     "output_type": "display_data"
    },
    {
     "data": {
      "application/vnd.microsoft.datawrangler.viewer.v0+json": {
       "columns": [
        {
         "name": "index",
         "rawType": "int64",
         "type": "integer"
        },
        {
         "name": "first_name",
         "rawType": "object",
         "type": "string"
        },
        {
         "name": "last_name",
         "rawType": "object",
         "type": "string"
        },
        {
         "name": "email",
         "rawType": "object",
         "type": "string"
        }
       ],
       "conversionMethod": "pd.DataFrame",
       "ref": "cd65b556-4a0f-4011-b530-914eaf38e609",
       "rows": [
        [
         "0",
         "Corey",
         "Schafer",
         "CoreyMSchafer@gmail.com"
        ],
        [
         "1",
         "Jane",
         "Doe",
         "JaneDoe@gmail.com"
        ],
        [
         "2",
         "John",
         "Doe",
         "JohnDoe@gmail.com"
        ]
       ],
       "shape": {
        "columns": 3,
        "rows": 3
       }
      },
      "text/html": [
       "<div>\n",
       "<style scoped>\n",
       "    .dataframe tbody tr th:only-of-type {\n",
       "        vertical-align: middle;\n",
       "    }\n",
       "\n",
       "    .dataframe tbody tr th {\n",
       "        vertical-align: top;\n",
       "    }\n",
       "\n",
       "    .dataframe thead th {\n",
       "        text-align: right;\n",
       "    }\n",
       "</style>\n",
       "<table border=\"1\" class=\"dataframe\">\n",
       "  <thead>\n",
       "    <tr style=\"text-align: right;\">\n",
       "      <th></th>\n",
       "      <th>first_name</th>\n",
       "      <th>last_name</th>\n",
       "      <th>email</th>\n",
       "    </tr>\n",
       "  </thead>\n",
       "  <tbody>\n",
       "    <tr>\n",
       "      <th>0</th>\n",
       "      <td>Corey</td>\n",
       "      <td>Schafer</td>\n",
       "      <td>CoreyMSchafer@gmail.com</td>\n",
       "    </tr>\n",
       "    <tr>\n",
       "      <th>1</th>\n",
       "      <td>Jane</td>\n",
       "      <td>Doe</td>\n",
       "      <td>JaneDoe@gmail.com</td>\n",
       "    </tr>\n",
       "    <tr>\n",
       "      <th>2</th>\n",
       "      <td>John</td>\n",
       "      <td>Doe</td>\n",
       "      <td>JohnDoe@gmail.com</td>\n",
       "    </tr>\n",
       "  </tbody>\n",
       "</table>\n",
       "</div>"
      ],
      "text/plain": [
       "  first_name last_name                    email\n",
       "0      Corey   Schafer  CoreyMSchafer@gmail.com\n",
       "1       Jane       Doe        JaneDoe@gmail.com\n",
       "2       John       Doe        JohnDoe@gmail.com"
      ]
     },
     "execution_count": 9,
     "metadata": {},
     "output_type": "execute_result"
    }
   ],
   "source": [
    "people_df.columns = people_df.columns.str.replace(' ', '_')\n",
    "display(people_df.columns)\n",
    "people_df"
   ]
  },
  {
   "cell_type": "markdown",
   "id": "de8cb5e3",
   "metadata": {},
   "source": [
    "# manage SOME column names"
   ]
  },
  {
   "cell_type": "code",
   "execution_count": 10,
   "id": "b59263ba",
   "metadata": {},
   "outputs": [
    {
     "data": {
      "text/plain": [
       "Index(['first', 'last', 'email'], dtype='object')"
      ]
     },
     "metadata": {},
     "output_type": "display_data"
    },
    {
     "data": {
      "application/vnd.microsoft.datawrangler.viewer.v0+json": {
       "columns": [
        {
         "name": "index",
         "rawType": "int64",
         "type": "integer"
        },
        {
         "name": "first",
         "rawType": "object",
         "type": "string"
        },
        {
         "name": "last",
         "rawType": "object",
         "type": "string"
        },
        {
         "name": "email",
         "rawType": "object",
         "type": "string"
        }
       ],
       "conversionMethod": "pd.DataFrame",
       "ref": "99ced63c-7369-4e22-90ee-654f696e7b75",
       "rows": [
        [
         "0",
         "Corey",
         "Schafer",
         "CoreyMSchafer@gmail.com"
        ],
        [
         "1",
         "Jane",
         "Doe",
         "JaneDoe@gmail.com"
        ],
        [
         "2",
         "John",
         "Doe",
         "JohnDoe@gmail.com"
        ]
       ],
       "shape": {
        "columns": 3,
        "rows": 3
       }
      },
      "text/html": [
       "<div>\n",
       "<style scoped>\n",
       "    .dataframe tbody tr th:only-of-type {\n",
       "        vertical-align: middle;\n",
       "    }\n",
       "\n",
       "    .dataframe tbody tr th {\n",
       "        vertical-align: top;\n",
       "    }\n",
       "\n",
       "    .dataframe thead th {\n",
       "        text-align: right;\n",
       "    }\n",
       "</style>\n",
       "<table border=\"1\" class=\"dataframe\">\n",
       "  <thead>\n",
       "    <tr style=\"text-align: right;\">\n",
       "      <th></th>\n",
       "      <th>first</th>\n",
       "      <th>last</th>\n",
       "      <th>email</th>\n",
       "    </tr>\n",
       "  </thead>\n",
       "  <tbody>\n",
       "    <tr>\n",
       "      <th>0</th>\n",
       "      <td>Corey</td>\n",
       "      <td>Schafer</td>\n",
       "      <td>CoreyMSchafer@gmail.com</td>\n",
       "    </tr>\n",
       "    <tr>\n",
       "      <th>1</th>\n",
       "      <td>Jane</td>\n",
       "      <td>Doe</td>\n",
       "      <td>JaneDoe@gmail.com</td>\n",
       "    </tr>\n",
       "    <tr>\n",
       "      <th>2</th>\n",
       "      <td>John</td>\n",
       "      <td>Doe</td>\n",
       "      <td>JohnDoe@gmail.com</td>\n",
       "    </tr>\n",
       "  </tbody>\n",
       "</table>\n",
       "</div>"
      ],
      "text/plain": [
       "   first     last                    email\n",
       "0  Corey  Schafer  CoreyMSchafer@gmail.com\n",
       "1   Jane      Doe        JaneDoe@gmail.com\n",
       "2   John      Doe        JohnDoe@gmail.com"
      ]
     },
     "execution_count": 10,
     "metadata": {},
     "output_type": "execute_result"
    }
   ],
   "source": [
    "people_df.rename(\n",
    "    columns={\n",
    "        'first_name': 'first',\n",
    "        'last_name': 'last',\n",
    "    },\n",
    "    inplace=True\n",
    ")\n",
    "display(people_df.columns)\n",
    "people_df"
   ]
  },
  {
   "cell_type": "markdown",
   "id": "ea2e9aff",
   "metadata": {},
   "source": [
    "# update whole row"
   ]
  },
  {
   "cell_type": "markdown",
   "id": "c7a6ca44",
   "metadata": {},
   "source": [
    "## target dest row wiith .loc or .iloc"
   ]
  },
  {
   "cell_type": "code",
   "execution_count": 11,
   "id": "6de43acd",
   "metadata": {},
   "outputs": [
    {
     "data": {
      "text/plain": [
       "first                 John\n",
       "last                   Doe\n",
       "email    JohnDoe@gmail.com\n",
       "Name: 2, dtype: object"
      ]
     },
     "execution_count": 11,
     "metadata": {},
     "output_type": "execute_result"
    }
   ],
   "source": [
    "people_df.loc[2]"
   ]
  },
  {
   "cell_type": "markdown",
   "id": "c87aac84",
   "metadata": {},
   "source": [
    "## assign list of values to target row"
   ]
  },
  {
   "cell_type": "code",
   "execution_count": 12,
   "id": "5ae638f7",
   "metadata": {},
   "outputs": [
    {
     "data": {
      "application/vnd.microsoft.datawrangler.viewer.v0+json": {
       "columns": [
        {
         "name": "index",
         "rawType": "int64",
         "type": "integer"
        },
        {
         "name": "first",
         "rawType": "object",
         "type": "string"
        },
        {
         "name": "last",
         "rawType": "object",
         "type": "string"
        },
        {
         "name": "email",
         "rawType": "object",
         "type": "string"
        }
       ],
       "conversionMethod": "pd.DataFrame",
       "ref": "11bf9186-aee7-4457-8c15-01ac8fcf6f0e",
       "rows": [
        [
         "0",
         "Corey",
         "Schafer",
         "CoreyMSchafer@gmail.com"
        ],
        [
         "1",
         "Jane",
         "Doe",
         "JaneDoe@gmail.com"
        ],
        [
         "2",
         "John",
         "Smith",
         "JohnSmith@email.com"
        ]
       ],
       "shape": {
        "columns": 3,
        "rows": 3
       }
      },
      "text/html": [
       "<div>\n",
       "<style scoped>\n",
       "    .dataframe tbody tr th:only-of-type {\n",
       "        vertical-align: middle;\n",
       "    }\n",
       "\n",
       "    .dataframe tbody tr th {\n",
       "        vertical-align: top;\n",
       "    }\n",
       "\n",
       "    .dataframe thead th {\n",
       "        text-align: right;\n",
       "    }\n",
       "</style>\n",
       "<table border=\"1\" class=\"dataframe\">\n",
       "  <thead>\n",
       "    <tr style=\"text-align: right;\">\n",
       "      <th></th>\n",
       "      <th>first</th>\n",
       "      <th>last</th>\n",
       "      <th>email</th>\n",
       "    </tr>\n",
       "  </thead>\n",
       "  <tbody>\n",
       "    <tr>\n",
       "      <th>0</th>\n",
       "      <td>Corey</td>\n",
       "      <td>Schafer</td>\n",
       "      <td>CoreyMSchafer@gmail.com</td>\n",
       "    </tr>\n",
       "    <tr>\n",
       "      <th>1</th>\n",
       "      <td>Jane</td>\n",
       "      <td>Doe</td>\n",
       "      <td>JaneDoe@gmail.com</td>\n",
       "    </tr>\n",
       "    <tr>\n",
       "      <th>2</th>\n",
       "      <td>John</td>\n",
       "      <td>Smith</td>\n",
       "      <td>JohnSmith@email.com</td>\n",
       "    </tr>\n",
       "  </tbody>\n",
       "</table>\n",
       "</div>"
      ],
      "text/plain": [
       "   first     last                    email\n",
       "0  Corey  Schafer  CoreyMSchafer@gmail.com\n",
       "1   Jane      Doe        JaneDoe@gmail.com\n",
       "2   John    Smith      JohnSmith@email.com"
      ]
     },
     "execution_count": 12,
     "metadata": {},
     "output_type": "execute_result"
    }
   ],
   "source": [
    "people_df.loc[2] = ['John', 'Smith', 'JohnSmith@email.com']\n",
    "people_df"
   ]
  },
  {
   "cell_type": "markdown",
   "id": "1702c821",
   "metadata": {},
   "source": [
    "## target dest row with filter"
   ]
  },
  {
   "cell_type": "code",
   "execution_count": 13,
   "id": "0f2709e0",
   "metadata": {},
   "outputs": [
    {
     "data": {
      "application/vnd.microsoft.datawrangler.viewer.v0+json": {
       "columns": [
        {
         "name": "index",
         "rawType": "int64",
         "type": "integer"
        },
        {
         "name": "first",
         "rawType": "object",
         "type": "string"
        },
        {
         "name": "last",
         "rawType": "object",
         "type": "string"
        },
        {
         "name": "email",
         "rawType": "object",
         "type": "string"
        }
       ],
       "conversionMethod": "pd.DataFrame",
       "ref": "a33bda81-88d8-4d9d-a91c-d4c922656e6e",
       "rows": [
        [
         "2",
         "John",
         "Smith",
         "JohnSmith@email.com"
        ]
       ],
       "shape": {
        "columns": 3,
        "rows": 1
       }
      },
      "text/html": [
       "<div>\n",
       "<style scoped>\n",
       "    .dataframe tbody tr th:only-of-type {\n",
       "        vertical-align: middle;\n",
       "    }\n",
       "\n",
       "    .dataframe tbody tr th {\n",
       "        vertical-align: top;\n",
       "    }\n",
       "\n",
       "    .dataframe thead th {\n",
       "        text-align: right;\n",
       "    }\n",
       "</style>\n",
       "<table border=\"1\" class=\"dataframe\">\n",
       "  <thead>\n",
       "    <tr style=\"text-align: right;\">\n",
       "      <th></th>\n",
       "      <th>first</th>\n",
       "      <th>last</th>\n",
       "      <th>email</th>\n",
       "    </tr>\n",
       "  </thead>\n",
       "  <tbody>\n",
       "    <tr>\n",
       "      <th>2</th>\n",
       "      <td>John</td>\n",
       "      <td>Smith</td>\n",
       "      <td>JohnSmith@email.com</td>\n",
       "    </tr>\n",
       "  </tbody>\n",
       "</table>\n",
       "</div>"
      ],
      "text/plain": [
       "  first   last                email\n",
       "2  John  Smith  JohnSmith@email.com"
      ]
     },
     "execution_count": 13,
     "metadata": {},
     "output_type": "execute_result"
    }
   ],
   "source": [
    "filt_jonsmith = (people_df['first'] == 'John') & (people_df['last'] == 'Smith')\n",
    "people_df.loc[filt_jonsmith]"
   ]
  },
  {
   "cell_type": "markdown",
   "id": "9657e492",
   "metadata": {},
   "source": [
    "## assign new single value with filter and .loc"
   ]
  },
  {
   "cell_type": "code",
   "execution_count": 14,
   "id": "46a5434f",
   "metadata": {},
   "outputs": [
    {
     "data": {
      "application/vnd.microsoft.datawrangler.viewer.v0+json": {
       "columns": [
        {
         "name": "index",
         "rawType": "int64",
         "type": "integer"
        },
        {
         "name": "first",
         "rawType": "object",
         "type": "string"
        },
        {
         "name": "last",
         "rawType": "object",
         "type": "string"
        },
        {
         "name": "email",
         "rawType": "object",
         "type": "string"
        }
       ],
       "conversionMethod": "pd.DataFrame",
       "ref": "3e606afd-a910-433f-b84b-a9e6dbc6e9eb",
       "rows": [
        [
         "0",
         "Corey",
         "Schafer",
         "CoreyMSchafer@gmail.com"
        ],
        [
         "1",
         "Jane",
         "Doe",
         "JaneDoe@gmail.com"
        ],
        [
         "2",
         "John",
         "Smith",
         "test"
        ]
       ],
       "shape": {
        "columns": 3,
        "rows": 3
       }
      },
      "text/html": [
       "<div>\n",
       "<style scoped>\n",
       "    .dataframe tbody tr th:only-of-type {\n",
       "        vertical-align: middle;\n",
       "    }\n",
       "\n",
       "    .dataframe tbody tr th {\n",
       "        vertical-align: top;\n",
       "    }\n",
       "\n",
       "    .dataframe thead th {\n",
       "        text-align: right;\n",
       "    }\n",
       "</style>\n",
       "<table border=\"1\" class=\"dataframe\">\n",
       "  <thead>\n",
       "    <tr style=\"text-align: right;\">\n",
       "      <th></th>\n",
       "      <th>first</th>\n",
       "      <th>last</th>\n",
       "      <th>email</th>\n",
       "    </tr>\n",
       "  </thead>\n",
       "  <tbody>\n",
       "    <tr>\n",
       "      <th>0</th>\n",
       "      <td>Corey</td>\n",
       "      <td>Schafer</td>\n",
       "      <td>CoreyMSchafer@gmail.com</td>\n",
       "    </tr>\n",
       "    <tr>\n",
       "      <th>1</th>\n",
       "      <td>Jane</td>\n",
       "      <td>Doe</td>\n",
       "      <td>JaneDoe@gmail.com</td>\n",
       "    </tr>\n",
       "    <tr>\n",
       "      <th>2</th>\n",
       "      <td>John</td>\n",
       "      <td>Smith</td>\n",
       "      <td>test</td>\n",
       "    </tr>\n",
       "  </tbody>\n",
       "</table>\n",
       "</div>"
      ],
      "text/plain": [
       "   first     last                    email\n",
       "0  Corey  Schafer  CoreyMSchafer@gmail.com\n",
       "1   Jane      Doe        JaneDoe@gmail.com\n",
       "2   John    Smith                     test"
      ]
     },
     "execution_count": 14,
     "metadata": {},
     "output_type": "execute_result"
    }
   ],
   "source": [
    "people_df.loc[filt_jonsmith, ['email']] = 'test'\n",
    "people_df\n"
   ]
  },
  {
   "cell_type": "markdown",
   "id": "e27b9f90",
   "metadata": {},
   "source": [
    "## assign new values with a filter and .loc"
   ]
  },
  {
   "cell_type": "code",
   "execution_count": 15,
   "id": "cb49c270",
   "metadata": {},
   "outputs": [
    {
     "data": {
      "application/vnd.microsoft.datawrangler.viewer.v0+json": {
       "columns": [
        {
         "name": "index",
         "rawType": "int64",
         "type": "integer"
        },
        {
         "name": "first",
         "rawType": "object",
         "type": "string"
        },
        {
         "name": "last",
         "rawType": "object",
         "type": "string"
        },
        {
         "name": "email",
         "rawType": "object",
         "type": "string"
        }
       ],
       "conversionMethod": "pd.DataFrame",
       "ref": "9b8efdfc-4cf2-47f2-9843-db8cec9a4020",
       "rows": [
        [
         "0",
         "Corey",
         "Schafer",
         "CoreyMSchafer@gmail.com"
        ],
        [
         "1",
         "Jane",
         "Doe",
         "JaneDoe@gmail.com"
        ],
        [
         "2",
         "John",
         "Smith",
         "JohnSmith@email.com"
        ]
       ],
       "shape": {
        "columns": 3,
        "rows": 3
       }
      },
      "text/html": [
       "<div>\n",
       "<style scoped>\n",
       "    .dataframe tbody tr th:only-of-type {\n",
       "        vertical-align: middle;\n",
       "    }\n",
       "\n",
       "    .dataframe tbody tr th {\n",
       "        vertical-align: top;\n",
       "    }\n",
       "\n",
       "    .dataframe thead th {\n",
       "        text-align: right;\n",
       "    }\n",
       "</style>\n",
       "<table border=\"1\" class=\"dataframe\">\n",
       "  <thead>\n",
       "    <tr style=\"text-align: right;\">\n",
       "      <th></th>\n",
       "      <th>first</th>\n",
       "      <th>last</th>\n",
       "      <th>email</th>\n",
       "    </tr>\n",
       "  </thead>\n",
       "  <tbody>\n",
       "    <tr>\n",
       "      <th>0</th>\n",
       "      <td>Corey</td>\n",
       "      <td>Schafer</td>\n",
       "      <td>CoreyMSchafer@gmail.com</td>\n",
       "    </tr>\n",
       "    <tr>\n",
       "      <th>1</th>\n",
       "      <td>Jane</td>\n",
       "      <td>Doe</td>\n",
       "      <td>JaneDoe@gmail.com</td>\n",
       "    </tr>\n",
       "    <tr>\n",
       "      <th>2</th>\n",
       "      <td>John</td>\n",
       "      <td>Smith</td>\n",
       "      <td>JohnSmith@email.com</td>\n",
       "    </tr>\n",
       "  </tbody>\n",
       "</table>\n",
       "</div>"
      ],
      "text/plain": [
       "   first     last                    email\n",
       "0  Corey  Schafer  CoreyMSchafer@gmail.com\n",
       "1   Jane      Doe        JaneDoe@gmail.com\n",
       "2   John    Smith      JohnSmith@email.com"
      ]
     },
     "execution_count": 15,
     "metadata": {},
     "output_type": "execute_result"
    }
   ],
   "source": [
    "people_df.loc[filt_jonsmith, ['first', 'last', 'email']] = ['John', 'Smith', 'JohnSmith@email.com']\n",
    "people_df\n"
   ]
  },
  {
   "cell_type": "markdown",
   "id": "d22312fd",
   "metadata": {},
   "source": [
    "## assign some values with .loc"
   ]
  },
  {
   "cell_type": "code",
   "execution_count": 16,
   "id": "9c6923f2",
   "metadata": {},
   "outputs": [
    {
     "data": {
      "application/vnd.microsoft.datawrangler.viewer.v0+json": {
       "columns": [
        {
         "name": "index",
         "rawType": "int64",
         "type": "integer"
        },
        {
         "name": "first",
         "rawType": "object",
         "type": "string"
        },
        {
         "name": "last",
         "rawType": "object",
         "type": "string"
        },
        {
         "name": "email",
         "rawType": "object",
         "type": "string"
        }
       ],
       "conversionMethod": "pd.DataFrame",
       "ref": "0bd42545-d4a1-4cf7-856f-e125509c9d71",
       "rows": [
        [
         "0",
         "Corey",
         "Schafer",
         "CoreyMSchafer@gmail.com"
        ],
        [
         "1",
         "Jane",
         "Doe",
         "JaneDoe@gmail.com"
        ],
        [
         "2",
         "John",
         "Doe",
         "JohnDoe@email.com"
        ]
       ],
       "shape": {
        "columns": 3,
        "rows": 3
       }
      },
      "text/html": [
       "<div>\n",
       "<style scoped>\n",
       "    .dataframe tbody tr th:only-of-type {\n",
       "        vertical-align: middle;\n",
       "    }\n",
       "\n",
       "    .dataframe tbody tr th {\n",
       "        vertical-align: top;\n",
       "    }\n",
       "\n",
       "    .dataframe thead th {\n",
       "        text-align: right;\n",
       "    }\n",
       "</style>\n",
       "<table border=\"1\" class=\"dataframe\">\n",
       "  <thead>\n",
       "    <tr style=\"text-align: right;\">\n",
       "      <th></th>\n",
       "      <th>first</th>\n",
       "      <th>last</th>\n",
       "      <th>email</th>\n",
       "    </tr>\n",
       "  </thead>\n",
       "  <tbody>\n",
       "    <tr>\n",
       "      <th>0</th>\n",
       "      <td>Corey</td>\n",
       "      <td>Schafer</td>\n",
       "      <td>CoreyMSchafer@gmail.com</td>\n",
       "    </tr>\n",
       "    <tr>\n",
       "      <th>1</th>\n",
       "      <td>Jane</td>\n",
       "      <td>Doe</td>\n",
       "      <td>JaneDoe@gmail.com</td>\n",
       "    </tr>\n",
       "    <tr>\n",
       "      <th>2</th>\n",
       "      <td>John</td>\n",
       "      <td>Doe</td>\n",
       "      <td>JohnDoe@email.com</td>\n",
       "    </tr>\n",
       "  </tbody>\n",
       "</table>\n",
       "</div>"
      ],
      "text/plain": [
       "   first     last                    email\n",
       "0  Corey  Schafer  CoreyMSchafer@gmail.com\n",
       "1   Jane      Doe        JaneDoe@gmail.com\n",
       "2   John      Doe        JohnDoe@email.com"
      ]
     },
     "execution_count": 16,
     "metadata": {},
     "output_type": "execute_result"
    }
   ],
   "source": [
    "people_df.loc[2, ['last', 'email']] = ['Doe', 'JohnDoe@email.com']\n",
    "people_df"
   ]
  },
  {
   "cell_type": "markdown",
   "id": "4db8ab70",
   "metadata": {},
   "source": [
    "## assign ONE value with .loc"
   ]
  },
  {
   "cell_type": "code",
   "execution_count": 17,
   "id": "16e81026",
   "metadata": {},
   "outputs": [
    {
     "data": {
      "application/vnd.microsoft.datawrangler.viewer.v0+json": {
       "columns": [
        {
         "name": "index",
         "rawType": "int64",
         "type": "integer"
        },
        {
         "name": "first",
         "rawType": "object",
         "type": "string"
        },
        {
         "name": "last",
         "rawType": "object",
         "type": "string"
        },
        {
         "name": "email",
         "rawType": "object",
         "type": "string"
        }
       ],
       "conversionMethod": "pd.DataFrame",
       "ref": "9113ec7e-51d2-46a3-a127-175ae57ac1b4",
       "rows": [
        [
         "0",
         "Corey",
         "Schafer",
         "CoreyMSchafer@gmail.com"
        ],
        [
         "1",
         "Jane",
         "Doe",
         "JaneDoe@gmail.com"
        ],
        [
         "2",
         "John",
         "Smith",
         "JohnDoe@email.com"
        ]
       ],
       "shape": {
        "columns": 3,
        "rows": 3
       }
      },
      "text/html": [
       "<div>\n",
       "<style scoped>\n",
       "    .dataframe tbody tr th:only-of-type {\n",
       "        vertical-align: middle;\n",
       "    }\n",
       "\n",
       "    .dataframe tbody tr th {\n",
       "        vertical-align: top;\n",
       "    }\n",
       "\n",
       "    .dataframe thead th {\n",
       "        text-align: right;\n",
       "    }\n",
       "</style>\n",
       "<table border=\"1\" class=\"dataframe\">\n",
       "  <thead>\n",
       "    <tr style=\"text-align: right;\">\n",
       "      <th></th>\n",
       "      <th>first</th>\n",
       "      <th>last</th>\n",
       "      <th>email</th>\n",
       "    </tr>\n",
       "  </thead>\n",
       "  <tbody>\n",
       "    <tr>\n",
       "      <th>0</th>\n",
       "      <td>Corey</td>\n",
       "      <td>Schafer</td>\n",
       "      <td>CoreyMSchafer@gmail.com</td>\n",
       "    </tr>\n",
       "    <tr>\n",
       "      <th>1</th>\n",
       "      <td>Jane</td>\n",
       "      <td>Doe</td>\n",
       "      <td>JaneDoe@gmail.com</td>\n",
       "    </tr>\n",
       "    <tr>\n",
       "      <th>2</th>\n",
       "      <td>John</td>\n",
       "      <td>Smith</td>\n",
       "      <td>JohnDoe@email.com</td>\n",
       "    </tr>\n",
       "  </tbody>\n",
       "</table>\n",
       "</div>"
      ],
      "text/plain": [
       "   first     last                    email\n",
       "0  Corey  Schafer  CoreyMSchafer@gmail.com\n",
       "1   Jane      Doe        JaneDoe@gmail.com\n",
       "2   John    Smith        JohnDoe@email.com"
      ]
     },
     "execution_count": 17,
     "metadata": {},
     "output_type": "execute_result"
    }
   ],
   "source": [
    "people_df.loc[2, 'last'] = 'Smith'\n",
    "people_df"
   ]
  },
  {
   "cell_type": "markdown",
   "id": "27e4d0da",
   "metadata": {},
   "source": [
    "## assign ONE value with .at"
   ]
  },
  {
   "cell_type": "code",
   "execution_count": 18,
   "id": "f7944f6a",
   "metadata": {},
   "outputs": [
    {
     "data": {
      "application/vnd.microsoft.datawrangler.viewer.v0+json": {
       "columns": [
        {
         "name": "index",
         "rawType": "int64",
         "type": "integer"
        },
        {
         "name": "first",
         "rawType": "object",
         "type": "string"
        },
        {
         "name": "last",
         "rawType": "object",
         "type": "string"
        },
        {
         "name": "email",
         "rawType": "object",
         "type": "string"
        }
       ],
       "conversionMethod": "pd.DataFrame",
       "ref": "a18379a9-d32d-4bd9-8d0a-410dee9a46d5",
       "rows": [
        [
         "0",
         "Corey",
         "Schafer",
         "CoreyMSchafer@gmail.com"
        ],
        [
         "1",
         "Jane",
         "Doe",
         "JaneDoe@gmail.com"
        ],
        [
         "2",
         "John",
         "Doe",
         "JohnDoe@email.com"
        ]
       ],
       "shape": {
        "columns": 3,
        "rows": 3
       }
      },
      "text/html": [
       "<div>\n",
       "<style scoped>\n",
       "    .dataframe tbody tr th:only-of-type {\n",
       "        vertical-align: middle;\n",
       "    }\n",
       "\n",
       "    .dataframe tbody tr th {\n",
       "        vertical-align: top;\n",
       "    }\n",
       "\n",
       "    .dataframe thead th {\n",
       "        text-align: right;\n",
       "    }\n",
       "</style>\n",
       "<table border=\"1\" class=\"dataframe\">\n",
       "  <thead>\n",
       "    <tr style=\"text-align: right;\">\n",
       "      <th></th>\n",
       "      <th>first</th>\n",
       "      <th>last</th>\n",
       "      <th>email</th>\n",
       "    </tr>\n",
       "  </thead>\n",
       "  <tbody>\n",
       "    <tr>\n",
       "      <th>0</th>\n",
       "      <td>Corey</td>\n",
       "      <td>Schafer</td>\n",
       "      <td>CoreyMSchafer@gmail.com</td>\n",
       "    </tr>\n",
       "    <tr>\n",
       "      <th>1</th>\n",
       "      <td>Jane</td>\n",
       "      <td>Doe</td>\n",
       "      <td>JaneDoe@gmail.com</td>\n",
       "    </tr>\n",
       "    <tr>\n",
       "      <th>2</th>\n",
       "      <td>John</td>\n",
       "      <td>Doe</td>\n",
       "      <td>JohnDoe@email.com</td>\n",
       "    </tr>\n",
       "  </tbody>\n",
       "</table>\n",
       "</div>"
      ],
      "text/plain": [
       "   first     last                    email\n",
       "0  Corey  Schafer  CoreyMSchafer@gmail.com\n",
       "1   Jane      Doe        JaneDoe@gmail.com\n",
       "2   John      Doe        JohnDoe@email.com"
      ]
     },
     "execution_count": 18,
     "metadata": {},
     "output_type": "execute_result"
    }
   ],
   "source": [
    "people_df.at[2, 'last'] = 'Doe'\n",
    "people_df"
   ]
  },
  {
   "cell_type": "markdown",
   "id": "c219d7e9",
   "metadata": {},
   "source": [
    "# classic gotcha"
   ]
  },
  {
   "cell_type": "markdown",
   "id": "4ca26648",
   "metadata": {},
   "source": [
    "## SettingWithCopyWarning"
   ]
  },
  {
   "cell_type": "code",
   "execution_count": 19,
   "id": "ab63ccb8",
   "metadata": {},
   "outputs": [
    {
     "name": "stderr",
     "output_type": "stream",
     "text": [
      "/var/folders/ch/0323xqnn3vbc6t95tfvmh0w40000gn/T/ipykernel_66783/3081735161.py:2: SettingWithCopyWarning: \n",
      "A value is trying to be set on a copy of a slice from a DataFrame.\n",
      "Try using .loc[row_indexer,col_indexer] = value instead\n",
      "\n",
      "See the caveats in the documentation: https://pandas.pydata.org/pandas-docs/stable/user_guide/indexing.html#returning-a-view-versus-a-copy\n",
      "  people_df[filt]['last'] = 'Smith'\n"
     ]
    },
    {
     "data": {
      "application/vnd.microsoft.datawrangler.viewer.v0+json": {
       "columns": [
        {
         "name": "index",
         "rawType": "int64",
         "type": "integer"
        },
        {
         "name": "first",
         "rawType": "object",
         "type": "string"
        },
        {
         "name": "last",
         "rawType": "object",
         "type": "string"
        },
        {
         "name": "email",
         "rawType": "object",
         "type": "string"
        }
       ],
       "conversionMethod": "pd.DataFrame",
       "ref": "e1b95a9f-2480-4ebe-a744-b94780800875",
       "rows": [
        [
         "0",
         "Corey",
         "Schafer",
         "CoreyMSchafer@gmail.com"
        ],
        [
         "1",
         "Jane",
         "Doe",
         "JaneDoe@gmail.com"
        ],
        [
         "2",
         "John",
         "Doe",
         "JohnDoe@email.com"
        ]
       ],
       "shape": {
        "columns": 3,
        "rows": 3
       }
      },
      "text/html": [
       "<div>\n",
       "<style scoped>\n",
       "    .dataframe tbody tr th:only-of-type {\n",
       "        vertical-align: middle;\n",
       "    }\n",
       "\n",
       "    .dataframe tbody tr th {\n",
       "        vertical-align: top;\n",
       "    }\n",
       "\n",
       "    .dataframe thead th {\n",
       "        text-align: right;\n",
       "    }\n",
       "</style>\n",
       "<table border=\"1\" class=\"dataframe\">\n",
       "  <thead>\n",
       "    <tr style=\"text-align: right;\">\n",
       "      <th></th>\n",
       "      <th>first</th>\n",
       "      <th>last</th>\n",
       "      <th>email</th>\n",
       "    </tr>\n",
       "  </thead>\n",
       "  <tbody>\n",
       "    <tr>\n",
       "      <th>0</th>\n",
       "      <td>Corey</td>\n",
       "      <td>Schafer</td>\n",
       "      <td>CoreyMSchafer@gmail.com</td>\n",
       "    </tr>\n",
       "    <tr>\n",
       "      <th>1</th>\n",
       "      <td>Jane</td>\n",
       "      <td>Doe</td>\n",
       "      <td>JaneDoe@gmail.com</td>\n",
       "    </tr>\n",
       "    <tr>\n",
       "      <th>2</th>\n",
       "      <td>John</td>\n",
       "      <td>Doe</td>\n",
       "      <td>JohnDoe@email.com</td>\n",
       "    </tr>\n",
       "  </tbody>\n",
       "</table>\n",
       "</div>"
      ],
      "text/plain": [
       "   first     last                    email\n",
       "0  Corey  Schafer  CoreyMSchafer@gmail.com\n",
       "1   Jane      Doe        JaneDoe@gmail.com\n",
       "2   John      Doe        JohnDoe@email.com"
      ]
     },
     "execution_count": 19,
     "metadata": {},
     "output_type": "execute_result"
    }
   ],
   "source": [
    "filt = (people_df['email'] == 'JohnDoe@email.com')\n",
    "people_df[filt]['last'] = 'Smith'\n",
    "people_df"
   ]
  },
  {
   "cell_type": "markdown",
   "id": "e6a95f54",
   "metadata": {},
   "source": [
    "## FIX SettingWithCopyWarning"
   ]
  },
  {
   "cell_type": "code",
   "execution_count": 20,
   "id": "ccdecba6",
   "metadata": {},
   "outputs": [
    {
     "data": {
      "application/vnd.microsoft.datawrangler.viewer.v0+json": {
       "columns": [
        {
         "name": "index",
         "rawType": "int64",
         "type": "integer"
        },
        {
         "name": "first",
         "rawType": "object",
         "type": "string"
        },
        {
         "name": "last",
         "rawType": "object",
         "type": "string"
        },
        {
         "name": "email",
         "rawType": "object",
         "type": "string"
        }
       ],
       "conversionMethod": "pd.DataFrame",
       "ref": "11882298-9b8b-4ec5-ae6b-036e2b538f3d",
       "rows": [
        [
         "0",
         "Corey",
         "Schafer",
         "CoreyMSchafer@gmail.com"
        ],
        [
         "1",
         "Jane",
         "Doe",
         "JaneDoe@gmail.com"
        ],
        [
         "2",
         "John",
         "Smith",
         "JohnDoe@email.com"
        ]
       ],
       "shape": {
        "columns": 3,
        "rows": 3
       }
      },
      "text/html": [
       "<div>\n",
       "<style scoped>\n",
       "    .dataframe tbody tr th:only-of-type {\n",
       "        vertical-align: middle;\n",
       "    }\n",
       "\n",
       "    .dataframe tbody tr th {\n",
       "        vertical-align: top;\n",
       "    }\n",
       "\n",
       "    .dataframe thead th {\n",
       "        text-align: right;\n",
       "    }\n",
       "</style>\n",
       "<table border=\"1\" class=\"dataframe\">\n",
       "  <thead>\n",
       "    <tr style=\"text-align: right;\">\n",
       "      <th></th>\n",
       "      <th>first</th>\n",
       "      <th>last</th>\n",
       "      <th>email</th>\n",
       "    </tr>\n",
       "  </thead>\n",
       "  <tbody>\n",
       "    <tr>\n",
       "      <th>0</th>\n",
       "      <td>Corey</td>\n",
       "      <td>Schafer</td>\n",
       "      <td>CoreyMSchafer@gmail.com</td>\n",
       "    </tr>\n",
       "    <tr>\n",
       "      <th>1</th>\n",
       "      <td>Jane</td>\n",
       "      <td>Doe</td>\n",
       "      <td>JaneDoe@gmail.com</td>\n",
       "    </tr>\n",
       "    <tr>\n",
       "      <th>2</th>\n",
       "      <td>John</td>\n",
       "      <td>Smith</td>\n",
       "      <td>JohnDoe@email.com</td>\n",
       "    </tr>\n",
       "  </tbody>\n",
       "</table>\n",
       "</div>"
      ],
      "text/plain": [
       "   first     last                    email\n",
       "0  Corey  Schafer  CoreyMSchafer@gmail.com\n",
       "1   Jane      Doe        JaneDoe@gmail.com\n",
       "2   John    Smith        JohnDoe@email.com"
      ]
     },
     "execution_count": 20,
     "metadata": {},
     "output_type": "execute_result"
    }
   ],
   "source": [
    "filt = (people_df['email'] == 'JohnDoe@email.com')\n",
    "people_df.loc[filt, 'last'] = 'Smith'\n",
    "people_df"
   ]
  },
  {
   "cell_type": "markdown",
   "id": "0480d1d4",
   "metadata": {},
   "source": [
    "# change multiple rows"
   ]
  },
  {
   "cell_type": "code",
   "execution_count": 21,
   "id": "d75e4a15",
   "metadata": {},
   "outputs": [
    {
     "data": {
      "text/plain": [
       "0    coreymschafer@gmail.com\n",
       "1          janedoe@gmail.com\n",
       "2          johndoe@email.com\n",
       "Name: email, dtype: object"
      ]
     },
     "execution_count": 21,
     "metadata": {},
     "output_type": "execute_result"
    }
   ],
   "source": [
    "people_df['email'].str.lower()"
   ]
  },
  {
   "cell_type": "code",
   "execution_count": 22,
   "id": "b33d1aa7",
   "metadata": {},
   "outputs": [
    {
     "data": {
      "application/vnd.microsoft.datawrangler.viewer.v0+json": {
       "columns": [
        {
         "name": "index",
         "rawType": "int64",
         "type": "integer"
        },
        {
         "name": "first",
         "rawType": "object",
         "type": "string"
        },
        {
         "name": "last",
         "rawType": "object",
         "type": "string"
        },
        {
         "name": "email",
         "rawType": "object",
         "type": "string"
        }
       ],
       "conversionMethod": "pd.DataFrame",
       "ref": "a6a25615-f89b-4551-b25b-c74d7e3f7d34",
       "rows": [
        [
         "0",
         "Corey",
         "Schafer",
         "coreymschafer@gmail.com"
        ],
        [
         "1",
         "Jane",
         "Doe",
         "janedoe@gmail.com"
        ],
        [
         "2",
         "John",
         "Smith",
         "johndoe@email.com"
        ]
       ],
       "shape": {
        "columns": 3,
        "rows": 3
       }
      },
      "text/html": [
       "<div>\n",
       "<style scoped>\n",
       "    .dataframe tbody tr th:only-of-type {\n",
       "        vertical-align: middle;\n",
       "    }\n",
       "\n",
       "    .dataframe tbody tr th {\n",
       "        vertical-align: top;\n",
       "    }\n",
       "\n",
       "    .dataframe thead th {\n",
       "        text-align: right;\n",
       "    }\n",
       "</style>\n",
       "<table border=\"1\" class=\"dataframe\">\n",
       "  <thead>\n",
       "    <tr style=\"text-align: right;\">\n",
       "      <th></th>\n",
       "      <th>first</th>\n",
       "      <th>last</th>\n",
       "      <th>email</th>\n",
       "    </tr>\n",
       "  </thead>\n",
       "  <tbody>\n",
       "    <tr>\n",
       "      <th>0</th>\n",
       "      <td>Corey</td>\n",
       "      <td>Schafer</td>\n",
       "      <td>coreymschafer@gmail.com</td>\n",
       "    </tr>\n",
       "    <tr>\n",
       "      <th>1</th>\n",
       "      <td>Jane</td>\n",
       "      <td>Doe</td>\n",
       "      <td>janedoe@gmail.com</td>\n",
       "    </tr>\n",
       "    <tr>\n",
       "      <th>2</th>\n",
       "      <td>John</td>\n",
       "      <td>Smith</td>\n",
       "      <td>johndoe@email.com</td>\n",
       "    </tr>\n",
       "  </tbody>\n",
       "</table>\n",
       "</div>"
      ],
      "text/plain": [
       "   first     last                    email\n",
       "0  Corey  Schafer  coreymschafer@gmail.com\n",
       "1   Jane      Doe        janedoe@gmail.com\n",
       "2   John    Smith        johndoe@email.com"
      ]
     },
     "execution_count": 22,
     "metadata": {},
     "output_type": "execute_result"
    }
   ],
   "source": [
    "people_df['email'] = people_df['email'].str.lower()\n",
    "people_df"
   ]
  },
  {
   "cell_type": "markdown",
   "id": "47fc2247",
   "metadata": {},
   "source": [
    "# using .apply"
   ]
  },
  {
   "cell_type": "markdown",
   "id": "a547883b",
   "metadata": {},
   "source": [
    "## apply on column"
   ]
  },
  {
   "cell_type": "code",
   "execution_count": 23,
   "id": "02f5ff99",
   "metadata": {},
   "outputs": [
    {
     "data": {
      "text/plain": [
       "0    23\n",
       "1    17\n",
       "2    17\n",
       "Name: email, dtype: int64"
      ]
     },
     "execution_count": 23,
     "metadata": {},
     "output_type": "execute_result"
    }
   ],
   "source": [
    "people_df['email'].apply(len)"
   ]
  },
  {
   "cell_type": "code",
   "execution_count": 24,
   "id": "0870f428",
   "metadata": {},
   "outputs": [
    {
     "data": {
      "text/plain": [
       "0    COREYMSCHAFER@GMAIL.COM\n",
       "1          JANEDOE@GMAIL.COM\n",
       "2          JOHNDOE@EMAIL.COM\n",
       "Name: email, dtype: object"
      ]
     },
     "execution_count": 24,
     "metadata": {},
     "output_type": "execute_result"
    }
   ],
   "source": [
    "def update_email(email:str) -> str:\n",
    "    return email.upper()\n",
    "\n",
    "people_df['email'].apply(update_email)"
   ]
  },
  {
   "cell_type": "code",
   "execution_count": 25,
   "id": "2975b6fe",
   "metadata": {},
   "outputs": [
    {
     "data": {
      "application/vnd.microsoft.datawrangler.viewer.v0+json": {
       "columns": [
        {
         "name": "index",
         "rawType": "int64",
         "type": "integer"
        },
        {
         "name": "first",
         "rawType": "object",
         "type": "string"
        },
        {
         "name": "last",
         "rawType": "object",
         "type": "string"
        },
        {
         "name": "email",
         "rawType": "object",
         "type": "string"
        }
       ],
       "conversionMethod": "pd.DataFrame",
       "ref": "4ec86f97-a0c6-4eff-96cb-1f64feb7d993",
       "rows": [
        [
         "0",
         "Corey",
         "Schafer",
         "COREYMSCHAFER@GMAIL.COM"
        ],
        [
         "1",
         "Jane",
         "Doe",
         "JANEDOE@GMAIL.COM"
        ],
        [
         "2",
         "John",
         "Smith",
         "JOHNDOE@EMAIL.COM"
        ]
       ],
       "shape": {
        "columns": 3,
        "rows": 3
       }
      },
      "text/html": [
       "<div>\n",
       "<style scoped>\n",
       "    .dataframe tbody tr th:only-of-type {\n",
       "        vertical-align: middle;\n",
       "    }\n",
       "\n",
       "    .dataframe tbody tr th {\n",
       "        vertical-align: top;\n",
       "    }\n",
       "\n",
       "    .dataframe thead th {\n",
       "        text-align: right;\n",
       "    }\n",
       "</style>\n",
       "<table border=\"1\" class=\"dataframe\">\n",
       "  <thead>\n",
       "    <tr style=\"text-align: right;\">\n",
       "      <th></th>\n",
       "      <th>first</th>\n",
       "      <th>last</th>\n",
       "      <th>email</th>\n",
       "    </tr>\n",
       "  </thead>\n",
       "  <tbody>\n",
       "    <tr>\n",
       "      <th>0</th>\n",
       "      <td>Corey</td>\n",
       "      <td>Schafer</td>\n",
       "      <td>COREYMSCHAFER@GMAIL.COM</td>\n",
       "    </tr>\n",
       "    <tr>\n",
       "      <th>1</th>\n",
       "      <td>Jane</td>\n",
       "      <td>Doe</td>\n",
       "      <td>JANEDOE@GMAIL.COM</td>\n",
       "    </tr>\n",
       "    <tr>\n",
       "      <th>2</th>\n",
       "      <td>John</td>\n",
       "      <td>Smith</td>\n",
       "      <td>JOHNDOE@EMAIL.COM</td>\n",
       "    </tr>\n",
       "  </tbody>\n",
       "</table>\n",
       "</div>"
      ],
      "text/plain": [
       "   first     last                    email\n",
       "0  Corey  Schafer  COREYMSCHAFER@GMAIL.COM\n",
       "1   Jane      Doe        JANEDOE@GMAIL.COM\n",
       "2   John    Smith        JOHNDOE@EMAIL.COM"
      ]
     },
     "execution_count": 25,
     "metadata": {},
     "output_type": "execute_result"
    }
   ],
   "source": [
    "people_df['email'] = people_df['email'].apply(update_email)\n",
    "people_df"
   ]
  },
  {
   "cell_type": "code",
   "execution_count": 26,
   "id": "e3b1e331",
   "metadata": {},
   "outputs": [
    {
     "data": {
      "application/vnd.microsoft.datawrangler.viewer.v0+json": {
       "columns": [
        {
         "name": "index",
         "rawType": "int64",
         "type": "integer"
        },
        {
         "name": "first",
         "rawType": "object",
         "type": "string"
        },
        {
         "name": "last",
         "rawType": "object",
         "type": "string"
        },
        {
         "name": "email",
         "rawType": "object",
         "type": "string"
        }
       ],
       "conversionMethod": "pd.DataFrame",
       "ref": "eaeb8d6d-b324-48e0-8569-3e669f47208b",
       "rows": [
        [
         "0",
         "Corey",
         "Schafer",
         "coreymschafer@gmail.com"
        ],
        [
         "1",
         "Jane",
         "Doe",
         "janedoe@gmail.com"
        ],
        [
         "2",
         "John",
         "Smith",
         "johndoe@email.com"
        ]
       ],
       "shape": {
        "columns": 3,
        "rows": 3
       }
      },
      "text/html": [
       "<div>\n",
       "<style scoped>\n",
       "    .dataframe tbody tr th:only-of-type {\n",
       "        vertical-align: middle;\n",
       "    }\n",
       "\n",
       "    .dataframe tbody tr th {\n",
       "        vertical-align: top;\n",
       "    }\n",
       "\n",
       "    .dataframe thead th {\n",
       "        text-align: right;\n",
       "    }\n",
       "</style>\n",
       "<table border=\"1\" class=\"dataframe\">\n",
       "  <thead>\n",
       "    <tr style=\"text-align: right;\">\n",
       "      <th></th>\n",
       "      <th>first</th>\n",
       "      <th>last</th>\n",
       "      <th>email</th>\n",
       "    </tr>\n",
       "  </thead>\n",
       "  <tbody>\n",
       "    <tr>\n",
       "      <th>0</th>\n",
       "      <td>Corey</td>\n",
       "      <td>Schafer</td>\n",
       "      <td>coreymschafer@gmail.com</td>\n",
       "    </tr>\n",
       "    <tr>\n",
       "      <th>1</th>\n",
       "      <td>Jane</td>\n",
       "      <td>Doe</td>\n",
       "      <td>janedoe@gmail.com</td>\n",
       "    </tr>\n",
       "    <tr>\n",
       "      <th>2</th>\n",
       "      <td>John</td>\n",
       "      <td>Smith</td>\n",
       "      <td>johndoe@email.com</td>\n",
       "    </tr>\n",
       "  </tbody>\n",
       "</table>\n",
       "</div>"
      ],
      "text/plain": [
       "   first     last                    email\n",
       "0  Corey  Schafer  coreymschafer@gmail.com\n",
       "1   Jane      Doe        janedoe@gmail.com\n",
       "2   John    Smith        johndoe@email.com"
      ]
     },
     "execution_count": 26,
     "metadata": {},
     "output_type": "execute_result"
    }
   ],
   "source": [
    "people_df['email'] = people_df['email'].apply(lambda email: email.lower())\n",
    "people_df"
   ]
  },
  {
   "cell_type": "markdown",
   "id": "cbf696ce",
   "metadata": {},
   "source": [
    "## apply on df"
   ]
  },
  {
   "cell_type": "markdown",
   "id": "e924187f",
   "metadata": {},
   "source": [
    "### get len of each column"
   ]
  },
  {
   "cell_type": "code",
   "execution_count": 27,
   "id": "68eef511",
   "metadata": {},
   "outputs": [
    {
     "data": {
      "text/plain": [
       "first    3\n",
       "last     3\n",
       "email    3\n",
       "dtype: int64"
      ]
     },
     "metadata": {},
     "output_type": "display_data"
    },
    {
     "data": {
      "text/plain": [
       "3"
      ]
     },
     "execution_count": 27,
     "metadata": {},
     "output_type": "execute_result"
    }
   ],
   "source": [
    "display(people_df.apply(len))\n",
    "len(people_df['email'])"
   ]
  },
  {
   "cell_type": "markdown",
   "id": "e3b81f61",
   "metadata": {},
   "source": [
    "### get len of each row"
   ]
  },
  {
   "cell_type": "code",
   "execution_count": 28,
   "id": "c615106e",
   "metadata": {},
   "outputs": [
    {
     "data": {
      "text/plain": [
       "0    3\n",
       "1    3\n",
       "2    3\n",
       "dtype: int64"
      ]
     },
     "metadata": {},
     "output_type": "display_data"
    },
    {
     "data": {
      "text/plain": [
       "3"
      ]
     },
     "execution_count": 28,
     "metadata": {},
     "output_type": "execute_result"
    }
   ],
   "source": [
    "display(people_df.apply(len, axis=1))\n",
    "len(people_df.loc[0])"
   ]
  },
  {
   "cell_type": "markdown",
   "id": "719be35b",
   "metadata": {},
   "source": [
    "### apply min to each column"
   ]
  },
  {
   "cell_type": "code",
   "execution_count": 29,
   "id": "8910db0f",
   "metadata": {},
   "outputs": [
    {
     "data": {
      "text/plain": [
       "first                      Corey\n",
       "last                         Doe\n",
       "email    coreymschafer@gmail.com\n",
       "dtype: object"
      ]
     },
     "metadata": {},
     "output_type": "display_data"
    },
    {
     "data": {
      "text/plain": [
       "first                      Corey\n",
       "last                         Doe\n",
       "email    coreymschafer@gmail.com\n",
       "dtype: object"
      ]
     },
     "metadata": {},
     "output_type": "display_data"
    },
    {
     "data": {
      "text/plain": [
       "first                      Corey\n",
       "last                         Doe\n",
       "email    coreymschafer@gmail.com\n",
       "dtype: object"
      ]
     },
     "metadata": {},
     "output_type": "display_data"
    }
   ],
   "source": [
    "display(people_df.apply(min))\n",
    "display(people_df.apply(pd.Series.min))\n",
    "display(people_df.apply(lambda series: series.min()))"
   ]
  },
  {
   "cell_type": "markdown",
   "id": "0d7c04f5",
   "metadata": {},
   "source": [
    "### apply upper to each item of each column as series"
   ]
  },
  {
   "cell_type": "code",
   "execution_count": null,
   "id": "4d717c3c",
   "metadata": {},
   "outputs": [
    {
     "data": {
      "application/vnd.microsoft.datawrangler.viewer.v0+json": {
       "columns": [
        {
         "name": "index",
         "rawType": "int64",
         "type": "integer"
        },
        {
         "name": "first",
         "rawType": "object",
         "type": "string"
        },
        {
         "name": "last",
         "rawType": "object",
         "type": "string"
        },
        {
         "name": "email",
         "rawType": "object",
         "type": "string"
        }
       ],
       "conversionMethod": "pd.DataFrame",
       "ref": "c2d197a8-4af9-4f7a-826c-97efcc09ac4e",
       "rows": [
        [
         "0",
         "COREY",
         "SCHAFER",
         "COREYMSCHAFER@GMAIL.COM"
        ],
        [
         "1",
         "JANE",
         "DOE",
         "JANEDOE@GMAIL.COM"
        ],
        [
         "2",
         "JOHN",
         "SMITH",
         "JOHNDOE@EMAIL.COM"
        ]
       ],
       "shape": {
        "columns": 3,
        "rows": 3
       }
      },
      "text/html": [
       "<div>\n",
       "<style scoped>\n",
       "    .dataframe tbody tr th:only-of-type {\n",
       "        vertical-align: middle;\n",
       "    }\n",
       "\n",
       "    .dataframe tbody tr th {\n",
       "        vertical-align: top;\n",
       "    }\n",
       "\n",
       "    .dataframe thead th {\n",
       "        text-align: right;\n",
       "    }\n",
       "</style>\n",
       "<table border=\"1\" class=\"dataframe\">\n",
       "  <thead>\n",
       "    <tr style=\"text-align: right;\">\n",
       "      <th></th>\n",
       "      <th>first</th>\n",
       "      <th>last</th>\n",
       "      <th>email</th>\n",
       "    </tr>\n",
       "  </thead>\n",
       "  <tbody>\n",
       "    <tr>\n",
       "      <th>0</th>\n",
       "      <td>COREY</td>\n",
       "      <td>SCHAFER</td>\n",
       "      <td>COREYMSCHAFER@GMAIL.COM</td>\n",
       "    </tr>\n",
       "    <tr>\n",
       "      <th>1</th>\n",
       "      <td>JANE</td>\n",
       "      <td>DOE</td>\n",
       "      <td>JANEDOE@GMAIL.COM</td>\n",
       "    </tr>\n",
       "    <tr>\n",
       "      <th>2</th>\n",
       "      <td>JOHN</td>\n",
       "      <td>SMITH</td>\n",
       "      <td>JOHNDOE@EMAIL.COM</td>\n",
       "    </tr>\n",
       "  </tbody>\n",
       "</table>\n",
       "</div>"
      ],
      "text/plain": [
       "   first     last                    email\n",
       "0  COREY  SCHAFER  COREYMSCHAFER@GMAIL.COM\n",
       "1   JANE      DOE        JANEDOE@GMAIL.COM\n",
       "2   JOHN    SMITH        JOHNDOE@EMAIL.COM"
      ]
     },
     "execution_count": 30,
     "metadata": {},
     "output_type": "execute_result"
    }
   ],
   "source": [
    "people_df.apply(lambda x: x.str.upper()) #axis=0"
   ]
  },
  {
   "cell_type": "markdown",
   "id": "c2f36dd5",
   "metadata": {},
   "source": [
    "# using map"
   ]
  },
  {
   "cell_type": "markdown",
   "id": "20d13591",
   "metadata": {},
   "source": [
    "## apply len to each cell of df"
   ]
  },
  {
   "cell_type": "code",
   "execution_count": 31,
   "id": "45a72122",
   "metadata": {},
   "outputs": [
    {
     "name": "stderr",
     "output_type": "stream",
     "text": [
      "/var/folders/ch/0323xqnn3vbc6t95tfvmh0w40000gn/T/ipykernel_66783/828034906.py:1: FutureWarning: DataFrame.applymap has been deprecated. Use DataFrame.map instead.\n",
      "  display(people_df.applymap(len))    # deprecated\n"
     ]
    },
    {
     "data": {
      "application/vnd.microsoft.datawrangler.viewer.v0+json": {
       "columns": [
        {
         "name": "index",
         "rawType": "int64",
         "type": "integer"
        },
        {
         "name": "first",
         "rawType": "int64",
         "type": "integer"
        },
        {
         "name": "last",
         "rawType": "int64",
         "type": "integer"
        },
        {
         "name": "email",
         "rawType": "int64",
         "type": "integer"
        }
       ],
       "conversionMethod": "pd.DataFrame",
       "ref": "9120f148-4be8-4240-baee-2fee4d7a3dd5",
       "rows": [
        [
         "0",
         "5",
         "7",
         "23"
        ],
        [
         "1",
         "4",
         "3",
         "17"
        ],
        [
         "2",
         "4",
         "5",
         "17"
        ]
       ],
       "shape": {
        "columns": 3,
        "rows": 3
       }
      },
      "text/html": [
       "<div>\n",
       "<style scoped>\n",
       "    .dataframe tbody tr th:only-of-type {\n",
       "        vertical-align: middle;\n",
       "    }\n",
       "\n",
       "    .dataframe tbody tr th {\n",
       "        vertical-align: top;\n",
       "    }\n",
       "\n",
       "    .dataframe thead th {\n",
       "        text-align: right;\n",
       "    }\n",
       "</style>\n",
       "<table border=\"1\" class=\"dataframe\">\n",
       "  <thead>\n",
       "    <tr style=\"text-align: right;\">\n",
       "      <th></th>\n",
       "      <th>first</th>\n",
       "      <th>last</th>\n",
       "      <th>email</th>\n",
       "    </tr>\n",
       "  </thead>\n",
       "  <tbody>\n",
       "    <tr>\n",
       "      <th>0</th>\n",
       "      <td>5</td>\n",
       "      <td>7</td>\n",
       "      <td>23</td>\n",
       "    </tr>\n",
       "    <tr>\n",
       "      <th>1</th>\n",
       "      <td>4</td>\n",
       "      <td>3</td>\n",
       "      <td>17</td>\n",
       "    </tr>\n",
       "    <tr>\n",
       "      <th>2</th>\n",
       "      <td>4</td>\n",
       "      <td>5</td>\n",
       "      <td>17</td>\n",
       "    </tr>\n",
       "  </tbody>\n",
       "</table>\n",
       "</div>"
      ],
      "text/plain": [
       "   first  last  email\n",
       "0      5     7     23\n",
       "1      4     3     17\n",
       "2      4     5     17"
      ]
     },
     "metadata": {},
     "output_type": "display_data"
    },
    {
     "data": {
      "application/vnd.microsoft.datawrangler.viewer.v0+json": {
       "columns": [
        {
         "name": "index",
         "rawType": "int64",
         "type": "integer"
        },
        {
         "name": "first",
         "rawType": "int64",
         "type": "integer"
        },
        {
         "name": "last",
         "rawType": "int64",
         "type": "integer"
        },
        {
         "name": "email",
         "rawType": "int64",
         "type": "integer"
        }
       ],
       "conversionMethod": "pd.DataFrame",
       "ref": "16fa2f45-b45b-4a9e-82e4-e6eee482e1e5",
       "rows": [
        [
         "0",
         "5",
         "7",
         "23"
        ],
        [
         "1",
         "4",
         "3",
         "17"
        ],
        [
         "2",
         "4",
         "5",
         "17"
        ]
       ],
       "shape": {
        "columns": 3,
        "rows": 3
       }
      },
      "text/html": [
       "<div>\n",
       "<style scoped>\n",
       "    .dataframe tbody tr th:only-of-type {\n",
       "        vertical-align: middle;\n",
       "    }\n",
       "\n",
       "    .dataframe tbody tr th {\n",
       "        vertical-align: top;\n",
       "    }\n",
       "\n",
       "    .dataframe thead th {\n",
       "        text-align: right;\n",
       "    }\n",
       "</style>\n",
       "<table border=\"1\" class=\"dataframe\">\n",
       "  <thead>\n",
       "    <tr style=\"text-align: right;\">\n",
       "      <th></th>\n",
       "      <th>first</th>\n",
       "      <th>last</th>\n",
       "      <th>email</th>\n",
       "    </tr>\n",
       "  </thead>\n",
       "  <tbody>\n",
       "    <tr>\n",
       "      <th>0</th>\n",
       "      <td>5</td>\n",
       "      <td>7</td>\n",
       "      <td>23</td>\n",
       "    </tr>\n",
       "    <tr>\n",
       "      <th>1</th>\n",
       "      <td>4</td>\n",
       "      <td>3</td>\n",
       "      <td>17</td>\n",
       "    </tr>\n",
       "    <tr>\n",
       "      <th>2</th>\n",
       "      <td>4</td>\n",
       "      <td>5</td>\n",
       "      <td>17</td>\n",
       "    </tr>\n",
       "  </tbody>\n",
       "</table>\n",
       "</div>"
      ],
      "text/plain": [
       "   first  last  email\n",
       "0      5     7     23\n",
       "1      4     3     17\n",
       "2      4     5     17"
      ]
     },
     "execution_count": 31,
     "metadata": {},
     "output_type": "execute_result"
    }
   ],
   "source": [
    "display(people_df.applymap(len))    # deprecated\n",
    "people_df.map(len)"
   ]
  },
  {
   "cell_type": "markdown",
   "id": "19d1946c",
   "metadata": {},
   "source": [
    "## using map on a series"
   ]
  },
  {
   "cell_type": "code",
   "execution_count": null,
   "id": "b18aa8e2",
   "metadata": {},
   "outputs": [
    {
     "data": {
      "text/plain": [
       "0    Cris\n",
       "1    Mary\n",
       "2     NaN\n",
       "Name: first, dtype: object"
      ]
     },
     "execution_count": 32,
     "metadata": {},
     "output_type": "execute_result"
    }
   ],
   "source": [
    "# missing keys return NaN\n",
    "people_df['first'].map({\n",
    "    'Corey': 'Cris',\n",
    "    'Jane': 'Mary',\n",
    "})"
   ]
  },
  {
   "cell_type": "markdown",
   "id": "6863461d",
   "metadata": {},
   "source": [
    "## using replace on a series"
   ]
  },
  {
   "cell_type": "code",
   "execution_count": null,
   "id": "4b3afb83",
   "metadata": {},
   "outputs": [
    {
     "data": {
      "text/plain": [
       "0    Cris\n",
       "1    Mary\n",
       "2    John\n",
       "Name: first, dtype: object"
      ]
     },
     "execution_count": 33,
     "metadata": {},
     "output_type": "execute_result"
    }
   ],
   "source": [
    "# missing keys ar left untouched\n",
    "people_df['first'].replace({\n",
    "    'Corey': 'Cris',\n",
    "    'Jane': 'Mary',\n",
    "})"
   ]
  },
  {
   "cell_type": "markdown",
   "id": "78ba3901",
   "metadata": {},
   "source": [
    "## using replace on a df"
   ]
  },
  {
   "cell_type": "code",
   "execution_count": 34,
   "id": "6508cae1",
   "metadata": {},
   "outputs": [
    {
     "data": {
      "application/vnd.microsoft.datawrangler.viewer.v0+json": {
       "columns": [
        {
         "name": "index",
         "rawType": "int64",
         "type": "integer"
        },
        {
         "name": "first",
         "rawType": "object",
         "type": "string"
        },
        {
         "name": "last",
         "rawType": "object",
         "type": "string"
        },
        {
         "name": "email",
         "rawType": "object",
         "type": "string"
        }
       ],
       "conversionMethod": "pd.DataFrame",
       "ref": "d9e821c0-8be3-4586-8c54-7d60f3d49fcc",
       "rows": [
        [
         "0",
         "Cris",
         "Schafer",
         "coreymschafer@gmail.com"
        ],
        [
         "1",
         "Mary",
         "Smith",
         "janedoe@gmail.com"
        ],
        [
         "2",
         "John",
         "Smith",
         "johndoe@email.com"
        ]
       ],
       "shape": {
        "columns": 3,
        "rows": 3
       }
      },
      "text/html": [
       "<div>\n",
       "<style scoped>\n",
       "    .dataframe tbody tr th:only-of-type {\n",
       "        vertical-align: middle;\n",
       "    }\n",
       "\n",
       "    .dataframe tbody tr th {\n",
       "        vertical-align: top;\n",
       "    }\n",
       "\n",
       "    .dataframe thead th {\n",
       "        text-align: right;\n",
       "    }\n",
       "</style>\n",
       "<table border=\"1\" class=\"dataframe\">\n",
       "  <thead>\n",
       "    <tr style=\"text-align: right;\">\n",
       "      <th></th>\n",
       "      <th>first</th>\n",
       "      <th>last</th>\n",
       "      <th>email</th>\n",
       "    </tr>\n",
       "  </thead>\n",
       "  <tbody>\n",
       "    <tr>\n",
       "      <th>0</th>\n",
       "      <td>Cris</td>\n",
       "      <td>Schafer</td>\n",
       "      <td>coreymschafer@gmail.com</td>\n",
       "    </tr>\n",
       "    <tr>\n",
       "      <th>1</th>\n",
       "      <td>Mary</td>\n",
       "      <td>Smith</td>\n",
       "      <td>janedoe@gmail.com</td>\n",
       "    </tr>\n",
       "    <tr>\n",
       "      <th>2</th>\n",
       "      <td>John</td>\n",
       "      <td>Smith</td>\n",
       "      <td>johndoe@email.com</td>\n",
       "    </tr>\n",
       "  </tbody>\n",
       "</table>\n",
       "</div>"
      ],
      "text/plain": [
       "  first     last                    email\n",
       "0  Cris  Schafer  coreymschafer@gmail.com\n",
       "1  Mary    Smith        janedoe@gmail.com\n",
       "2  John    Smith        johndoe@email.com"
      ]
     },
     "execution_count": 34,
     "metadata": {},
     "output_type": "execute_result"
    }
   ],
   "source": [
    "people_df.replace({\n",
    "    'Corey': 'Cris',\n",
    "    'Jane': 'Mary',\n",
    "    'Doe': 'Smith'\n",
    "})"
   ]
  },
  {
   "cell_type": "code",
   "execution_count": 35,
   "id": "8ef8debd",
   "metadata": {},
   "outputs": [
    {
     "data": {
      "application/vnd.microsoft.datawrangler.viewer.v0+json": {
       "columns": [
        {
         "name": "index",
         "rawType": "int64",
         "type": "integer"
        },
        {
         "name": "Respondent",
         "rawType": "int64",
         "type": "integer"
        },
        {
         "name": "MainBranch",
         "rawType": "object",
         "type": "string"
        },
        {
         "name": "Hobbyist",
         "rawType": "object",
         "type": "string"
        },
        {
         "name": "Age",
         "rawType": "float64",
         "type": "float"
        },
        {
         "name": "Age1stCode",
         "rawType": "object",
         "type": "string"
        },
        {
         "name": "CompFreq",
         "rawType": "object",
         "type": "string"
        },
        {
         "name": "CompTotal",
         "rawType": "float64",
         "type": "float"
        },
        {
         "name": "SalaryUSD",
         "rawType": "float64",
         "type": "float"
        },
        {
         "name": "Country",
         "rawType": "object",
         "type": "string"
        },
        {
         "name": "CurrencyDesc",
         "rawType": "object",
         "type": "string"
        },
        {
         "name": "CurrencySymbol",
         "rawType": "object",
         "type": "string"
        },
        {
         "name": "DatabaseDesireNextYear",
         "rawType": "object",
         "type": "string"
        },
        {
         "name": "DatabaseWorkedWith",
         "rawType": "object",
         "type": "string"
        },
        {
         "name": "DevType",
         "rawType": "object",
         "type": "string"
        },
        {
         "name": "EdLevel",
         "rawType": "object",
         "type": "string"
        },
        {
         "name": "Employment",
         "rawType": "object",
         "type": "string"
        },
        {
         "name": "Ethnicity",
         "rawType": "object",
         "type": "string"
        },
        {
         "name": "Gender",
         "rawType": "object",
         "type": "string"
        },
        {
         "name": "JobFactors",
         "rawType": "object",
         "type": "string"
        },
        {
         "name": "JobSat",
         "rawType": "object",
         "type": "string"
        },
        {
         "name": "JobSeek",
         "rawType": "object",
         "type": "string"
        },
        {
         "name": "LanguageDesireNextYear",
         "rawType": "object",
         "type": "string"
        },
        {
         "name": "LanguageWorkedWith",
         "rawType": "object",
         "type": "string"
        },
        {
         "name": "MiscTechDesireNextYear",
         "rawType": "object",
         "type": "string"
        },
        {
         "name": "MiscTechWorkedWith",
         "rawType": "object",
         "type": "string"
        },
        {
         "name": "NEWCollabToolsDesireNextYear",
         "rawType": "object",
         "type": "string"
        },
        {
         "name": "NEWCollabToolsWorkedWith",
         "rawType": "object",
         "type": "string"
        },
        {
         "name": "NEWDevOps",
         "rawType": "object",
         "type": "string"
        },
        {
         "name": "NEWDevOpsImpt",
         "rawType": "object",
         "type": "string"
        },
        {
         "name": "NEWEdImpt",
         "rawType": "object",
         "type": "string"
        },
        {
         "name": "NEWJobHunt",
         "rawType": "object",
         "type": "unknown"
        },
        {
         "name": "NEWJobHuntResearch",
         "rawType": "object",
         "type": "unknown"
        },
        {
         "name": "NEWLearn",
         "rawType": "object",
         "type": "string"
        },
        {
         "name": "NEWOffTopic",
         "rawType": "object",
         "type": "string"
        },
        {
         "name": "NEWOnboardGood",
         "rawType": "object",
         "type": "unknown"
        },
        {
         "name": "NEWOtherComms",
         "rawType": "object",
         "type": "string"
        },
        {
         "name": "NEWOvertime",
         "rawType": "object",
         "type": "string"
        },
        {
         "name": "NEWPurchaseResearch",
         "rawType": "object",
         "type": "string"
        },
        {
         "name": "NEWPurpleLink",
         "rawType": "object",
         "type": "string"
        },
        {
         "name": "NEWSOSites",
         "rawType": "object",
         "type": "string"
        },
        {
         "name": "NEWStuck",
         "rawType": "object",
         "type": "string"
        },
        {
         "name": "OpSys",
         "rawType": "object",
         "type": "string"
        },
        {
         "name": "OrgSize",
         "rawType": "object",
         "type": "string"
        },
        {
         "name": "PlatformDesireNextYear",
         "rawType": "object",
         "type": "string"
        },
        {
         "name": "PlatformWorkedWith",
         "rawType": "object",
         "type": "string"
        },
        {
         "name": "PurchaseWhat",
         "rawType": "object",
         "type": "unknown"
        },
        {
         "name": "Sexuality",
         "rawType": "object",
         "type": "string"
        },
        {
         "name": "SOAccount",
         "rawType": "object",
         "type": "string"
        },
        {
         "name": "SOComm",
         "rawType": "object",
         "type": "string"
        },
        {
         "name": "SOPartFreq",
         "rawType": "object",
         "type": "unknown"
        },
        {
         "name": "SOVisitFreq",
         "rawType": "object",
         "type": "string"
        },
        {
         "name": "SurveyEase",
         "rawType": "object",
         "type": "string"
        },
        {
         "name": "SurveyLength",
         "rawType": "object",
         "type": "string"
        },
        {
         "name": "Trans",
         "rawType": "object",
         "type": "string"
        },
        {
         "name": "UndergradMajor",
         "rawType": "object",
         "type": "string"
        },
        {
         "name": "WebframeDesireNextYear",
         "rawType": "object",
         "type": "string"
        },
        {
         "name": "WebframeWorkedWith",
         "rawType": "object",
         "type": "string"
        },
        {
         "name": "WelcomeChange",
         "rawType": "object",
         "type": "string"
        },
        {
         "name": "WorkWeekHrs",
         "rawType": "float64",
         "type": "float"
        },
        {
         "name": "YearsCode",
         "rawType": "object",
         "type": "string"
        },
        {
         "name": "YearsCodePro",
         "rawType": "object",
         "type": "string"
        }
       ],
       "conversionMethod": "pd.DataFrame",
       "ref": "24d1af7d-1348-4639-8752-8b0d16a3855d",
       "rows": [
        [
         "0",
         "1",
         "I am a developer by profession",
         "Yes",
         null,
         "13",
         "Monthly",
         null,
         null,
         "Germany",
         "European Euro",
         "EUR",
         "Microsoft SQL Server",
         "Elasticsearch;Microsoft SQL Server;Oracle",
         "Developer, desktop or enterprise applications;Developer, full-stack",
         "Master’s degree (M.A., M.S., M.Eng., MBA, etc.)",
         "Independent contractor, freelancer, or self-employed",
         "White or of European descent",
         "Man",
         "Languages, frameworks, and other technologies I’d be working with;Remote work options;Opportunities for professional development",
         "Slightly satisfied",
         "I am not interested in new job opportunities",
         "C#;HTML/CSS;JavaScript",
         "C#;HTML/CSS;JavaScript",
         ".NET Core;Xamarin",
         ".NET;.NET Core",
         "Microsoft Teams;Microsoft Azure;Trello",
         "Confluence;Jira;Slack;Microsoft Azure;Trello",
         "No",
         "Somewhat important",
         "Fairly important",
         null,
         null,
         "Once a year",
         "Not sure",
         null,
         "No",
         "Often: 1-2 days per week or more",
         "Start a free trial;Ask developers I know/work with",
         "Amused",
         "Stack Overflow (public Q&A for anyone who codes)",
         "Visit Stack Overflow;Go for a walk or other physical activity;Do other work and come back later",
         "Windows",
         "2 to 9 employees",
         "Android;iOS;Kubernetes;Microsoft Azure;Windows",
         "Windows",
         null,
         "Straight / Heterosexual",
         "No",
         "No, not at all",
         null,
         "Multiple times per day",
         "Neither easy nor difficult",
         "Appropriate in length",
         "No",
         "Computer science, computer engineering, or software engineering",
         "ASP.NET Core",
         "ASP.NET;ASP.NET Core",
         "Just as welcome now as I felt last year",
         "50.0",
         "36",
         "27"
        ]
       ],
       "shape": {
        "columns": 61,
        "rows": 1
       }
      },
      "text/html": [
       "<div>\n",
       "<style scoped>\n",
       "    .dataframe tbody tr th:only-of-type {\n",
       "        vertical-align: middle;\n",
       "    }\n",
       "\n",
       "    .dataframe tbody tr th {\n",
       "        vertical-align: top;\n",
       "    }\n",
       "\n",
       "    .dataframe thead th {\n",
       "        text-align: right;\n",
       "    }\n",
       "</style>\n",
       "<table border=\"1\" class=\"dataframe\">\n",
       "  <thead>\n",
       "    <tr style=\"text-align: right;\">\n",
       "      <th></th>\n",
       "      <th>Respondent</th>\n",
       "      <th>MainBranch</th>\n",
       "      <th>Hobbyist</th>\n",
       "      <th>Age</th>\n",
       "      <th>Age1stCode</th>\n",
       "      <th>CompFreq</th>\n",
       "      <th>CompTotal</th>\n",
       "      <th>SalaryUSD</th>\n",
       "      <th>Country</th>\n",
       "      <th>CurrencyDesc</th>\n",
       "      <th>CurrencySymbol</th>\n",
       "      <th>DatabaseDesireNextYear</th>\n",
       "      <th>DatabaseWorkedWith</th>\n",
       "      <th>DevType</th>\n",
       "      <th>EdLevel</th>\n",
       "      <th>Employment</th>\n",
       "      <th>Ethnicity</th>\n",
       "      <th>Gender</th>\n",
       "      <th>JobFactors</th>\n",
       "      <th>JobSat</th>\n",
       "      <th>JobSeek</th>\n",
       "      <th>LanguageDesireNextYear</th>\n",
       "      <th>LanguageWorkedWith</th>\n",
       "      <th>MiscTechDesireNextYear</th>\n",
       "      <th>MiscTechWorkedWith</th>\n",
       "      <th>NEWCollabToolsDesireNextYear</th>\n",
       "      <th>NEWCollabToolsWorkedWith</th>\n",
       "      <th>NEWDevOps</th>\n",
       "      <th>NEWDevOpsImpt</th>\n",
       "      <th>NEWEdImpt</th>\n",
       "      <th>NEWJobHunt</th>\n",
       "      <th>NEWJobHuntResearch</th>\n",
       "      <th>NEWLearn</th>\n",
       "      <th>NEWOffTopic</th>\n",
       "      <th>NEWOnboardGood</th>\n",
       "      <th>NEWOtherComms</th>\n",
       "      <th>NEWOvertime</th>\n",
       "      <th>NEWPurchaseResearch</th>\n",
       "      <th>NEWPurpleLink</th>\n",
       "      <th>NEWSOSites</th>\n",
       "      <th>NEWStuck</th>\n",
       "      <th>OpSys</th>\n",
       "      <th>OrgSize</th>\n",
       "      <th>PlatformDesireNextYear</th>\n",
       "      <th>PlatformWorkedWith</th>\n",
       "      <th>PurchaseWhat</th>\n",
       "      <th>Sexuality</th>\n",
       "      <th>SOAccount</th>\n",
       "      <th>SOComm</th>\n",
       "      <th>SOPartFreq</th>\n",
       "      <th>SOVisitFreq</th>\n",
       "      <th>SurveyEase</th>\n",
       "      <th>SurveyLength</th>\n",
       "      <th>Trans</th>\n",
       "      <th>UndergradMajor</th>\n",
       "      <th>WebframeDesireNextYear</th>\n",
       "      <th>WebframeWorkedWith</th>\n",
       "      <th>WelcomeChange</th>\n",
       "      <th>WorkWeekHrs</th>\n",
       "      <th>YearsCode</th>\n",
       "      <th>YearsCodePro</th>\n",
       "    </tr>\n",
       "  </thead>\n",
       "  <tbody>\n",
       "    <tr>\n",
       "      <th>0</th>\n",
       "      <td>1</td>\n",
       "      <td>I am a developer by profession</td>\n",
       "      <td>Yes</td>\n",
       "      <td>NaN</td>\n",
       "      <td>13</td>\n",
       "      <td>Monthly</td>\n",
       "      <td>NaN</td>\n",
       "      <td>NaN</td>\n",
       "      <td>Germany</td>\n",
       "      <td>European Euro</td>\n",
       "      <td>EUR</td>\n",
       "      <td>Microsoft SQL Server</td>\n",
       "      <td>Elasticsearch;Microsoft SQL Server;Oracle</td>\n",
       "      <td>Developer, desktop or enterprise applications;...</td>\n",
       "      <td>Master’s degree (M.A., M.S., M.Eng., MBA, etc.)</td>\n",
       "      <td>Independent contractor, freelancer, or self-em...</td>\n",
       "      <td>White or of European descent</td>\n",
       "      <td>Man</td>\n",
       "      <td>Languages, frameworks, and other technologies ...</td>\n",
       "      <td>Slightly satisfied</td>\n",
       "      <td>I am not interested in new job opportunities</td>\n",
       "      <td>C#;HTML/CSS;JavaScript</td>\n",
       "      <td>C#;HTML/CSS;JavaScript</td>\n",
       "      <td>.NET Core;Xamarin</td>\n",
       "      <td>.NET;.NET Core</td>\n",
       "      <td>Microsoft Teams;Microsoft Azure;Trello</td>\n",
       "      <td>Confluence;Jira;Slack;Microsoft Azure;Trello</td>\n",
       "      <td>No</td>\n",
       "      <td>Somewhat important</td>\n",
       "      <td>Fairly important</td>\n",
       "      <td>NaN</td>\n",
       "      <td>NaN</td>\n",
       "      <td>Once a year</td>\n",
       "      <td>Not sure</td>\n",
       "      <td>NaN</td>\n",
       "      <td>No</td>\n",
       "      <td>Often: 1-2 days per week or more</td>\n",
       "      <td>Start a free trial;Ask developers I know/work ...</td>\n",
       "      <td>Amused</td>\n",
       "      <td>Stack Overflow (public Q&amp;A for anyone who codes)</td>\n",
       "      <td>Visit Stack Overflow;Go for a walk or other ph...</td>\n",
       "      <td>Windows</td>\n",
       "      <td>2 to 9 employees</td>\n",
       "      <td>Android;iOS;Kubernetes;Microsoft Azure;Windows</td>\n",
       "      <td>Windows</td>\n",
       "      <td>NaN</td>\n",
       "      <td>Straight / Heterosexual</td>\n",
       "      <td>No</td>\n",
       "      <td>No, not at all</td>\n",
       "      <td>NaN</td>\n",
       "      <td>Multiple times per day</td>\n",
       "      <td>Neither easy nor difficult</td>\n",
       "      <td>Appropriate in length</td>\n",
       "      <td>No</td>\n",
       "      <td>Computer science, computer engineering, or sof...</td>\n",
       "      <td>ASP.NET Core</td>\n",
       "      <td>ASP.NET;ASP.NET Core</td>\n",
       "      <td>Just as welcome now as I felt last year</td>\n",
       "      <td>50.0</td>\n",
       "      <td>36</td>\n",
       "      <td>27</td>\n",
       "    </tr>\n",
       "  </tbody>\n",
       "</table>\n",
       "</div>"
      ],
      "text/plain": [
       "   Respondent                      MainBranch Hobbyist  Age Age1stCode  \\\n",
       "0           1  I am a developer by profession      Yes  NaN         13   \n",
       "\n",
       "  CompFreq  CompTotal  SalaryUSD  Country   CurrencyDesc CurrencySymbol  \\\n",
       "0  Monthly        NaN        NaN  Germany  European Euro            EUR   \n",
       "\n",
       "  DatabaseDesireNextYear                         DatabaseWorkedWith  \\\n",
       "0   Microsoft SQL Server  Elasticsearch;Microsoft SQL Server;Oracle   \n",
       "\n",
       "                                             DevType  \\\n",
       "0  Developer, desktop or enterprise applications;...   \n",
       "\n",
       "                                           EdLevel  \\\n",
       "0  Master’s degree (M.A., M.S., M.Eng., MBA, etc.)   \n",
       "\n",
       "                                          Employment  \\\n",
       "0  Independent contractor, freelancer, or self-em...   \n",
       "\n",
       "                      Ethnicity Gender  \\\n",
       "0  White or of European descent    Man   \n",
       "\n",
       "                                          JobFactors              JobSat  \\\n",
       "0  Languages, frameworks, and other technologies ...  Slightly satisfied   \n",
       "\n",
       "                                        JobSeek  LanguageDesireNextYear  \\\n",
       "0  I am not interested in new job opportunities  C#;HTML/CSS;JavaScript   \n",
       "\n",
       "       LanguageWorkedWith MiscTechDesireNextYear MiscTechWorkedWith  \\\n",
       "0  C#;HTML/CSS;JavaScript      .NET Core;Xamarin     .NET;.NET Core   \n",
       "\n",
       "             NEWCollabToolsDesireNextYear  \\\n",
       "0  Microsoft Teams;Microsoft Azure;Trello   \n",
       "\n",
       "                       NEWCollabToolsWorkedWith NEWDevOps       NEWDevOpsImpt  \\\n",
       "0  Confluence;Jira;Slack;Microsoft Azure;Trello        No  Somewhat important   \n",
       "\n",
       "          NEWEdImpt NEWJobHunt NEWJobHuntResearch     NEWLearn NEWOffTopic  \\\n",
       "0  Fairly important        NaN                NaN  Once a year    Not sure   \n",
       "\n",
       "  NEWOnboardGood NEWOtherComms                       NEWOvertime  \\\n",
       "0            NaN            No  Often: 1-2 days per week or more   \n",
       "\n",
       "                                 NEWPurchaseResearch NEWPurpleLink  \\\n",
       "0  Start a free trial;Ask developers I know/work ...        Amused   \n",
       "\n",
       "                                         NEWSOSites  \\\n",
       "0  Stack Overflow (public Q&A for anyone who codes)   \n",
       "\n",
       "                                            NEWStuck    OpSys  \\\n",
       "0  Visit Stack Overflow;Go for a walk or other ph...  Windows   \n",
       "\n",
       "            OrgSize                          PlatformDesireNextYear  \\\n",
       "0  2 to 9 employees  Android;iOS;Kubernetes;Microsoft Azure;Windows   \n",
       "\n",
       "  PlatformWorkedWith PurchaseWhat                Sexuality SOAccount  \\\n",
       "0            Windows          NaN  Straight / Heterosexual        No   \n",
       "\n",
       "           SOComm SOPartFreq             SOVisitFreq  \\\n",
       "0  No, not at all        NaN  Multiple times per day   \n",
       "\n",
       "                   SurveyEase           SurveyLength Trans  \\\n",
       "0  Neither easy nor difficult  Appropriate in length    No   \n",
       "\n",
       "                                      UndergradMajor WebframeDesireNextYear  \\\n",
       "0  Computer science, computer engineering, or sof...           ASP.NET Core   \n",
       "\n",
       "     WebframeWorkedWith                            WelcomeChange  WorkWeekHrs  \\\n",
       "0  ASP.NET;ASP.NET Core  Just as welcome now as I felt last year         50.0   \n",
       "\n",
       "  YearsCode YearsCodePro  \n",
       "0        36           27  "
      ]
     },
     "execution_count": 35,
     "metadata": {},
     "output_type": "execute_result"
    }
   ],
   "source": [
    "survey_df.rename(columns={'ConvertedComp': 'SalaryUSD'}, inplace=True); survey_df.head(1)"
   ]
  },
  {
   "cell_type": "code",
   "execution_count": 36,
   "id": "b09f886e",
   "metadata": {},
   "outputs": [
    {
     "data": {
      "text/plain": [
       "0    Yes\n",
       "1     No\n",
       "2    Yes\n",
       "3    Yes\n",
       "4    Yes\n",
       "Name: Hobbyist, dtype: object"
      ]
     },
     "execution_count": 36,
     "metadata": {},
     "output_type": "execute_result"
    }
   ],
   "source": [
    "survey_df['Hobbyist'].head()"
   ]
  },
  {
   "cell_type": "code",
   "execution_count": 41,
   "id": "bfcefee1",
   "metadata": {},
   "outputs": [
    {
     "data": {
      "application/vnd.microsoft.datawrangler.viewer.v0+json": {
       "columns": [
        {
         "name": "index",
         "rawType": "int64",
         "type": "integer"
        },
        {
         "name": "Respondent",
         "rawType": "int64",
         "type": "integer"
        },
        {
         "name": "MainBranch",
         "rawType": "object",
         "type": "string"
        },
        {
         "name": "Hobbyist",
         "rawType": "object",
         "type": "unknown"
        },
        {
         "name": "Age",
         "rawType": "float64",
         "type": "float"
        },
        {
         "name": "Age1stCode",
         "rawType": "object",
         "type": "string"
        },
        {
         "name": "CompFreq",
         "rawType": "object",
         "type": "unknown"
        },
        {
         "name": "CompTotal",
         "rawType": "float64",
         "type": "float"
        },
        {
         "name": "SalaryUSD",
         "rawType": "float64",
         "type": "float"
        },
        {
         "name": "Country",
         "rawType": "object",
         "type": "string"
        },
        {
         "name": "CurrencyDesc",
         "rawType": "object",
         "type": "unknown"
        },
        {
         "name": "CurrencySymbol",
         "rawType": "object",
         "type": "unknown"
        },
        {
         "name": "DatabaseDesireNextYear",
         "rawType": "object",
         "type": "unknown"
        },
        {
         "name": "DatabaseWorkedWith",
         "rawType": "object",
         "type": "unknown"
        },
        {
         "name": "DevType",
         "rawType": "object",
         "type": "unknown"
        },
        {
         "name": "EdLevel",
         "rawType": "object",
         "type": "unknown"
        },
        {
         "name": "Employment",
         "rawType": "object",
         "type": "unknown"
        },
        {
         "name": "Ethnicity",
         "rawType": "object",
         "type": "unknown"
        },
        {
         "name": "Gender",
         "rawType": "object",
         "type": "unknown"
        },
        {
         "name": "JobFactors",
         "rawType": "object",
         "type": "unknown"
        },
        {
         "name": "JobSat",
         "rawType": "object",
         "type": "unknown"
        },
        {
         "name": "JobSeek",
         "rawType": "object",
         "type": "unknown"
        },
        {
         "name": "LanguageDesireNextYear",
         "rawType": "object",
         "type": "string"
        },
        {
         "name": "LanguageWorkedWith",
         "rawType": "object",
         "type": "string"
        },
        {
         "name": "MiscTechDesireNextYear",
         "rawType": "object",
         "type": "unknown"
        },
        {
         "name": "MiscTechWorkedWith",
         "rawType": "object",
         "type": "unknown"
        },
        {
         "name": "NEWCollabToolsDesireNextYear",
         "rawType": "object",
         "type": "unknown"
        },
        {
         "name": "NEWCollabToolsWorkedWith",
         "rawType": "object",
         "type": "unknown"
        },
        {
         "name": "NEWDevOps",
         "rawType": "object",
         "type": "unknown"
        },
        {
         "name": "NEWDevOpsImpt",
         "rawType": "object",
         "type": "unknown"
        },
        {
         "name": "NEWEdImpt",
         "rawType": "object",
         "type": "unknown"
        },
        {
         "name": "NEWJobHunt",
         "rawType": "object",
         "type": "unknown"
        },
        {
         "name": "NEWJobHuntResearch",
         "rawType": "object",
         "type": "unknown"
        },
        {
         "name": "NEWLearn",
         "rawType": "object",
         "type": "string"
        },
        {
         "name": "NEWOffTopic",
         "rawType": "object",
         "type": "unknown"
        },
        {
         "name": "NEWOnboardGood",
         "rawType": "object",
         "type": "unknown"
        },
        {
         "name": "NEWOtherComms",
         "rawType": "object",
         "type": "string"
        },
        {
         "name": "NEWOvertime",
         "rawType": "object",
         "type": "unknown"
        },
        {
         "name": "NEWPurchaseResearch",
         "rawType": "object",
         "type": "unknown"
        },
        {
         "name": "NEWPurpleLink",
         "rawType": "object",
         "type": "unknown"
        },
        {
         "name": "NEWSOSites",
         "rawType": "object",
         "type": "string"
        },
        {
         "name": "NEWStuck",
         "rawType": "object",
         "type": "unknown"
        },
        {
         "name": "OpSys",
         "rawType": "object",
         "type": "string"
        },
        {
         "name": "OrgSize",
         "rawType": "object",
         "type": "unknown"
        },
        {
         "name": "PlatformDesireNextYear",
         "rawType": "object",
         "type": "unknown"
        },
        {
         "name": "PlatformWorkedWith",
         "rawType": "object",
         "type": "unknown"
        },
        {
         "name": "PurchaseWhat",
         "rawType": "object",
         "type": "unknown"
        },
        {
         "name": "Sexuality",
         "rawType": "object",
         "type": "unknown"
        },
        {
         "name": "SOAccount",
         "rawType": "object",
         "type": "string"
        },
        {
         "name": "SOComm",
         "rawType": "object",
         "type": "string"
        },
        {
         "name": "SOPartFreq",
         "rawType": "object",
         "type": "unknown"
        },
        {
         "name": "SOVisitFreq",
         "rawType": "object",
         "type": "string"
        },
        {
         "name": "SurveyEase",
         "rawType": "object",
         "type": "unknown"
        },
        {
         "name": "SurveyLength",
         "rawType": "object",
         "type": "unknown"
        },
        {
         "name": "Trans",
         "rawType": "object",
         "type": "unknown"
        },
        {
         "name": "UndergradMajor",
         "rawType": "object",
         "type": "unknown"
        },
        {
         "name": "WebframeDesireNextYear",
         "rawType": "object",
         "type": "unknown"
        },
        {
         "name": "WebframeWorkedWith",
         "rawType": "object",
         "type": "unknown"
        },
        {
         "name": "WelcomeChange",
         "rawType": "object",
         "type": "string"
        },
        {
         "name": "WorkWeekHrs",
         "rawType": "float64",
         "type": "float"
        },
        {
         "name": "YearsCode",
         "rawType": "object",
         "type": "string"
        },
        {
         "name": "YearsCodePro",
         "rawType": "object",
         "type": "unknown"
        }
       ],
       "conversionMethod": "pd.DataFrame",
       "ref": "59d728ce-b52f-4562-a0a8-8b3c0d0a51a9",
       "rows": [
        [
         "0",
         "1",
         "I am a developer by profession",
         "True",
         null,
         "13",
         "Monthly",
         null,
         null,
         "Germany",
         "European Euro",
         "EUR",
         "Microsoft SQL Server",
         "Elasticsearch;Microsoft SQL Server;Oracle",
         "Developer, desktop or enterprise applications;Developer, full-stack",
         "Master’s degree (M.A., M.S., M.Eng., MBA, etc.)",
         "Independent contractor, freelancer, or self-employed",
         "White or of European descent",
         "Man",
         "Languages, frameworks, and other technologies I’d be working with;Remote work options;Opportunities for professional development",
         "Slightly satisfied",
         "I am not interested in new job opportunities",
         "C#;HTML/CSS;JavaScript",
         "C#;HTML/CSS;JavaScript",
         ".NET Core;Xamarin",
         ".NET;.NET Core",
         "Microsoft Teams;Microsoft Azure;Trello",
         "Confluence;Jira;Slack;Microsoft Azure;Trello",
         "No",
         "Somewhat important",
         "Fairly important",
         null,
         null,
         "Once a year",
         "Not sure",
         null,
         "No",
         "Often: 1-2 days per week or more",
         "Start a free trial;Ask developers I know/work with",
         "Amused",
         "Stack Overflow (public Q&A for anyone who codes)",
         "Visit Stack Overflow;Go for a walk or other physical activity;Do other work and come back later",
         "Windows",
         "2 to 9 employees",
         "Android;iOS;Kubernetes;Microsoft Azure;Windows",
         "Windows",
         null,
         "Straight / Heterosexual",
         "No",
         "No, not at all",
         null,
         "Multiple times per day",
         "Neither easy nor difficult",
         "Appropriate in length",
         "No",
         "Computer science, computer engineering, or software engineering",
         "ASP.NET Core",
         "ASP.NET;ASP.NET Core",
         "Just as welcome now as I felt last year",
         "50.0",
         "36",
         "27"
        ],
        [
         "1",
         "2",
         "I am a developer by profession",
         "False",
         null,
         "19",
         null,
         null,
         null,
         "United Kingdom",
         "Pound sterling",
         "GBP",
         null,
         null,
         "Developer, full-stack;Developer, mobile",
         "Bachelor’s degree (B.A., B.S., B.Eng., etc.)",
         "Employed full-time",
         null,
         null,
         null,
         "Very dissatisfied",
         "I am not interested in new job opportunities",
         "Python;Swift",
         "JavaScript;Swift",
         "React Native;TensorFlow;Unity 3D",
         "React Native",
         "Github;Slack",
         "Confluence;Jira;Github;Gitlab;Slack",
         null,
         null,
         "Fairly important",
         null,
         null,
         "Once a year",
         "Not sure",
         null,
         "No",
         null,
         null,
         "Amused",
         "Stack Overflow (public Q&A for anyone who codes);Stack Exchange (public Q&A for a variety of topics);Stack Overflow Jobs (for job seekers)",
         "Visit Stack Overflow;Go for a walk or other physical activity",
         "MacOS",
         "1,000 to 4,999 employees",
         "iOS;Kubernetes;Linux;MacOS",
         "iOS",
         "I have little or no influence",
         null,
         "Yes",
         "Yes, definitely",
         "Less than once per month or monthly",
         "Multiple times per day",
         null,
         null,
         null,
         "Computer science, computer engineering, or software engineering",
         null,
         null,
         "Somewhat more welcome now than last year",
         null,
         "7",
         "4"
        ],
        [
         "2",
         "3",
         "I code primarily as a hobby",
         "True",
         null,
         "15",
         null,
         null,
         null,
         "Russian Federation",
         null,
         null,
         null,
         null,
         null,
         null,
         null,
         null,
         null,
         null,
         null,
         null,
         "Objective-C;Python;Swift",
         "Objective-C;Python;Swift",
         null,
         null,
         null,
         null,
         null,
         null,
         null,
         null,
         null,
         "Once a decade",
         null,
         null,
         "No",
         null,
         null,
         null,
         "Stack Overflow (public Q&A for anyone who codes)",
         null,
         "Linux-based",
         null,
         null,
         null,
         null,
         null,
         "Yes",
         "Yes, somewhat",
         "A few times per month or weekly",
         "Daily or almost daily",
         "Neither easy nor difficult",
         "Appropriate in length",
         null,
         null,
         null,
         null,
         "Somewhat more welcome now than last year",
         null,
         "4",
         null
        ]
       ],
       "shape": {
        "columns": 61,
        "rows": 3
       }
      },
      "text/html": [
       "<div>\n",
       "<style scoped>\n",
       "    .dataframe tbody tr th:only-of-type {\n",
       "        vertical-align: middle;\n",
       "    }\n",
       "\n",
       "    .dataframe tbody tr th {\n",
       "        vertical-align: top;\n",
       "    }\n",
       "\n",
       "    .dataframe thead th {\n",
       "        text-align: right;\n",
       "    }\n",
       "</style>\n",
       "<table border=\"1\" class=\"dataframe\">\n",
       "  <thead>\n",
       "    <tr style=\"text-align: right;\">\n",
       "      <th></th>\n",
       "      <th>Respondent</th>\n",
       "      <th>MainBranch</th>\n",
       "      <th>Hobbyist</th>\n",
       "      <th>Age</th>\n",
       "      <th>Age1stCode</th>\n",
       "      <th>CompFreq</th>\n",
       "      <th>CompTotal</th>\n",
       "      <th>SalaryUSD</th>\n",
       "      <th>Country</th>\n",
       "      <th>CurrencyDesc</th>\n",
       "      <th>CurrencySymbol</th>\n",
       "      <th>DatabaseDesireNextYear</th>\n",
       "      <th>DatabaseWorkedWith</th>\n",
       "      <th>DevType</th>\n",
       "      <th>EdLevel</th>\n",
       "      <th>Employment</th>\n",
       "      <th>Ethnicity</th>\n",
       "      <th>Gender</th>\n",
       "      <th>JobFactors</th>\n",
       "      <th>JobSat</th>\n",
       "      <th>JobSeek</th>\n",
       "      <th>LanguageDesireNextYear</th>\n",
       "      <th>LanguageWorkedWith</th>\n",
       "      <th>MiscTechDesireNextYear</th>\n",
       "      <th>MiscTechWorkedWith</th>\n",
       "      <th>NEWCollabToolsDesireNextYear</th>\n",
       "      <th>NEWCollabToolsWorkedWith</th>\n",
       "      <th>NEWDevOps</th>\n",
       "      <th>NEWDevOpsImpt</th>\n",
       "      <th>NEWEdImpt</th>\n",
       "      <th>NEWJobHunt</th>\n",
       "      <th>NEWJobHuntResearch</th>\n",
       "      <th>NEWLearn</th>\n",
       "      <th>NEWOffTopic</th>\n",
       "      <th>NEWOnboardGood</th>\n",
       "      <th>NEWOtherComms</th>\n",
       "      <th>NEWOvertime</th>\n",
       "      <th>NEWPurchaseResearch</th>\n",
       "      <th>NEWPurpleLink</th>\n",
       "      <th>NEWSOSites</th>\n",
       "      <th>NEWStuck</th>\n",
       "      <th>OpSys</th>\n",
       "      <th>OrgSize</th>\n",
       "      <th>PlatformDesireNextYear</th>\n",
       "      <th>PlatformWorkedWith</th>\n",
       "      <th>PurchaseWhat</th>\n",
       "      <th>Sexuality</th>\n",
       "      <th>SOAccount</th>\n",
       "      <th>SOComm</th>\n",
       "      <th>SOPartFreq</th>\n",
       "      <th>SOVisitFreq</th>\n",
       "      <th>SurveyEase</th>\n",
       "      <th>SurveyLength</th>\n",
       "      <th>Trans</th>\n",
       "      <th>UndergradMajor</th>\n",
       "      <th>WebframeDesireNextYear</th>\n",
       "      <th>WebframeWorkedWith</th>\n",
       "      <th>WelcomeChange</th>\n",
       "      <th>WorkWeekHrs</th>\n",
       "      <th>YearsCode</th>\n",
       "      <th>YearsCodePro</th>\n",
       "    </tr>\n",
       "  </thead>\n",
       "  <tbody>\n",
       "    <tr>\n",
       "      <th>0</th>\n",
       "      <td>1</td>\n",
       "      <td>I am a developer by profession</td>\n",
       "      <td>True</td>\n",
       "      <td>NaN</td>\n",
       "      <td>13</td>\n",
       "      <td>Monthly</td>\n",
       "      <td>NaN</td>\n",
       "      <td>NaN</td>\n",
       "      <td>Germany</td>\n",
       "      <td>European Euro</td>\n",
       "      <td>EUR</td>\n",
       "      <td>Microsoft SQL Server</td>\n",
       "      <td>Elasticsearch;Microsoft SQL Server;Oracle</td>\n",
       "      <td>Developer, desktop or enterprise applications;...</td>\n",
       "      <td>Master’s degree (M.A., M.S., M.Eng., MBA, etc.)</td>\n",
       "      <td>Independent contractor, freelancer, or self-em...</td>\n",
       "      <td>White or of European descent</td>\n",
       "      <td>Man</td>\n",
       "      <td>Languages, frameworks, and other technologies ...</td>\n",
       "      <td>Slightly satisfied</td>\n",
       "      <td>I am not interested in new job opportunities</td>\n",
       "      <td>C#;HTML/CSS;JavaScript</td>\n",
       "      <td>C#;HTML/CSS;JavaScript</td>\n",
       "      <td>.NET Core;Xamarin</td>\n",
       "      <td>.NET;.NET Core</td>\n",
       "      <td>Microsoft Teams;Microsoft Azure;Trello</td>\n",
       "      <td>Confluence;Jira;Slack;Microsoft Azure;Trello</td>\n",
       "      <td>No</td>\n",
       "      <td>Somewhat important</td>\n",
       "      <td>Fairly important</td>\n",
       "      <td>NaN</td>\n",
       "      <td>NaN</td>\n",
       "      <td>Once a year</td>\n",
       "      <td>Not sure</td>\n",
       "      <td>NaN</td>\n",
       "      <td>No</td>\n",
       "      <td>Often: 1-2 days per week or more</td>\n",
       "      <td>Start a free trial;Ask developers I know/work ...</td>\n",
       "      <td>Amused</td>\n",
       "      <td>Stack Overflow (public Q&amp;A for anyone who codes)</td>\n",
       "      <td>Visit Stack Overflow;Go for a walk or other ph...</td>\n",
       "      <td>Windows</td>\n",
       "      <td>2 to 9 employees</td>\n",
       "      <td>Android;iOS;Kubernetes;Microsoft Azure;Windows</td>\n",
       "      <td>Windows</td>\n",
       "      <td>NaN</td>\n",
       "      <td>Straight / Heterosexual</td>\n",
       "      <td>No</td>\n",
       "      <td>No, not at all</td>\n",
       "      <td>NaN</td>\n",
       "      <td>Multiple times per day</td>\n",
       "      <td>Neither easy nor difficult</td>\n",
       "      <td>Appropriate in length</td>\n",
       "      <td>No</td>\n",
       "      <td>Computer science, computer engineering, or sof...</td>\n",
       "      <td>ASP.NET Core</td>\n",
       "      <td>ASP.NET;ASP.NET Core</td>\n",
       "      <td>Just as welcome now as I felt last year</td>\n",
       "      <td>50.0</td>\n",
       "      <td>36</td>\n",
       "      <td>27</td>\n",
       "    </tr>\n",
       "    <tr>\n",
       "      <th>1</th>\n",
       "      <td>2</td>\n",
       "      <td>I am a developer by profession</td>\n",
       "      <td>False</td>\n",
       "      <td>NaN</td>\n",
       "      <td>19</td>\n",
       "      <td>NaN</td>\n",
       "      <td>NaN</td>\n",
       "      <td>NaN</td>\n",
       "      <td>United Kingdom</td>\n",
       "      <td>Pound sterling</td>\n",
       "      <td>GBP</td>\n",
       "      <td>NaN</td>\n",
       "      <td>NaN</td>\n",
       "      <td>Developer, full-stack;Developer, mobile</td>\n",
       "      <td>Bachelor’s degree (B.A., B.S., B.Eng., etc.)</td>\n",
       "      <td>Employed full-time</td>\n",
       "      <td>NaN</td>\n",
       "      <td>NaN</td>\n",
       "      <td>NaN</td>\n",
       "      <td>Very dissatisfied</td>\n",
       "      <td>I am not interested in new job opportunities</td>\n",
       "      <td>Python;Swift</td>\n",
       "      <td>JavaScript;Swift</td>\n",
       "      <td>React Native;TensorFlow;Unity 3D</td>\n",
       "      <td>React Native</td>\n",
       "      <td>Github;Slack</td>\n",
       "      <td>Confluence;Jira;Github;Gitlab;Slack</td>\n",
       "      <td>NaN</td>\n",
       "      <td>NaN</td>\n",
       "      <td>Fairly important</td>\n",
       "      <td>NaN</td>\n",
       "      <td>NaN</td>\n",
       "      <td>Once a year</td>\n",
       "      <td>Not sure</td>\n",
       "      <td>NaN</td>\n",
       "      <td>No</td>\n",
       "      <td>NaN</td>\n",
       "      <td>NaN</td>\n",
       "      <td>Amused</td>\n",
       "      <td>Stack Overflow (public Q&amp;A for anyone who code...</td>\n",
       "      <td>Visit Stack Overflow;Go for a walk or other ph...</td>\n",
       "      <td>MacOS</td>\n",
       "      <td>1,000 to 4,999 employees</td>\n",
       "      <td>iOS;Kubernetes;Linux;MacOS</td>\n",
       "      <td>iOS</td>\n",
       "      <td>I have little or no influence</td>\n",
       "      <td>NaN</td>\n",
       "      <td>Yes</td>\n",
       "      <td>Yes, definitely</td>\n",
       "      <td>Less than once per month or monthly</td>\n",
       "      <td>Multiple times per day</td>\n",
       "      <td>NaN</td>\n",
       "      <td>NaN</td>\n",
       "      <td>NaN</td>\n",
       "      <td>Computer science, computer engineering, or sof...</td>\n",
       "      <td>NaN</td>\n",
       "      <td>NaN</td>\n",
       "      <td>Somewhat more welcome now than last year</td>\n",
       "      <td>NaN</td>\n",
       "      <td>7</td>\n",
       "      <td>4</td>\n",
       "    </tr>\n",
       "    <tr>\n",
       "      <th>2</th>\n",
       "      <td>3</td>\n",
       "      <td>I code primarily as a hobby</td>\n",
       "      <td>True</td>\n",
       "      <td>NaN</td>\n",
       "      <td>15</td>\n",
       "      <td>NaN</td>\n",
       "      <td>NaN</td>\n",
       "      <td>NaN</td>\n",
       "      <td>Russian Federation</td>\n",
       "      <td>NaN</td>\n",
       "      <td>NaN</td>\n",
       "      <td>NaN</td>\n",
       "      <td>NaN</td>\n",
       "      <td>NaN</td>\n",
       "      <td>NaN</td>\n",
       "      <td>NaN</td>\n",
       "      <td>NaN</td>\n",
       "      <td>NaN</td>\n",
       "      <td>NaN</td>\n",
       "      <td>NaN</td>\n",
       "      <td>NaN</td>\n",
       "      <td>Objective-C;Python;Swift</td>\n",
       "      <td>Objective-C;Python;Swift</td>\n",
       "      <td>NaN</td>\n",
       "      <td>NaN</td>\n",
       "      <td>NaN</td>\n",
       "      <td>NaN</td>\n",
       "      <td>NaN</td>\n",
       "      <td>NaN</td>\n",
       "      <td>NaN</td>\n",
       "      <td>NaN</td>\n",
       "      <td>NaN</td>\n",
       "      <td>Once a decade</td>\n",
       "      <td>NaN</td>\n",
       "      <td>NaN</td>\n",
       "      <td>No</td>\n",
       "      <td>NaN</td>\n",
       "      <td>NaN</td>\n",
       "      <td>NaN</td>\n",
       "      <td>Stack Overflow (public Q&amp;A for anyone who codes)</td>\n",
       "      <td>NaN</td>\n",
       "      <td>Linux-based</td>\n",
       "      <td>NaN</td>\n",
       "      <td>NaN</td>\n",
       "      <td>NaN</td>\n",
       "      <td>NaN</td>\n",
       "      <td>NaN</td>\n",
       "      <td>Yes</td>\n",
       "      <td>Yes, somewhat</td>\n",
       "      <td>A few times per month or weekly</td>\n",
       "      <td>Daily or almost daily</td>\n",
       "      <td>Neither easy nor difficult</td>\n",
       "      <td>Appropriate in length</td>\n",
       "      <td>NaN</td>\n",
       "      <td>NaN</td>\n",
       "      <td>NaN</td>\n",
       "      <td>NaN</td>\n",
       "      <td>Somewhat more welcome now than last year</td>\n",
       "      <td>NaN</td>\n",
       "      <td>4</td>\n",
       "      <td>NaN</td>\n",
       "    </tr>\n",
       "  </tbody>\n",
       "</table>\n",
       "</div>"
      ],
      "text/plain": [
       "   Respondent                      MainBranch Hobbyist  Age Age1stCode  \\\n",
       "0           1  I am a developer by profession     True  NaN         13   \n",
       "1           2  I am a developer by profession    False  NaN         19   \n",
       "2           3     I code primarily as a hobby     True  NaN         15   \n",
       "\n",
       "  CompFreq  CompTotal  SalaryUSD             Country    CurrencyDesc  \\\n",
       "0  Monthly        NaN        NaN             Germany   European Euro   \n",
       "1      NaN        NaN        NaN      United Kingdom  Pound sterling   \n",
       "2      NaN        NaN        NaN  Russian Federation             NaN   \n",
       "\n",
       "  CurrencySymbol DatabaseDesireNextYear  \\\n",
       "0            EUR   Microsoft SQL Server   \n",
       "1            GBP                    NaN   \n",
       "2            NaN                    NaN   \n",
       "\n",
       "                          DatabaseWorkedWith  \\\n",
       "0  Elasticsearch;Microsoft SQL Server;Oracle   \n",
       "1                                        NaN   \n",
       "2                                        NaN   \n",
       "\n",
       "                                             DevType  \\\n",
       "0  Developer, desktop or enterprise applications;...   \n",
       "1            Developer, full-stack;Developer, mobile   \n",
       "2                                                NaN   \n",
       "\n",
       "                                           EdLevel  \\\n",
       "0  Master’s degree (M.A., M.S., M.Eng., MBA, etc.)   \n",
       "1     Bachelor’s degree (B.A., B.S., B.Eng., etc.)   \n",
       "2                                              NaN   \n",
       "\n",
       "                                          Employment  \\\n",
       "0  Independent contractor, freelancer, or self-em...   \n",
       "1                                 Employed full-time   \n",
       "2                                                NaN   \n",
       "\n",
       "                      Ethnicity Gender  \\\n",
       "0  White or of European descent    Man   \n",
       "1                           NaN    NaN   \n",
       "2                           NaN    NaN   \n",
       "\n",
       "                                          JobFactors              JobSat  \\\n",
       "0  Languages, frameworks, and other technologies ...  Slightly satisfied   \n",
       "1                                                NaN   Very dissatisfied   \n",
       "2                                                NaN                 NaN   \n",
       "\n",
       "                                        JobSeek    LanguageDesireNextYear  \\\n",
       "0  I am not interested in new job opportunities    C#;HTML/CSS;JavaScript   \n",
       "1  I am not interested in new job opportunities              Python;Swift   \n",
       "2                                           NaN  Objective-C;Python;Swift   \n",
       "\n",
       "         LanguageWorkedWith            MiscTechDesireNextYear  \\\n",
       "0    C#;HTML/CSS;JavaScript                 .NET Core;Xamarin   \n",
       "1          JavaScript;Swift  React Native;TensorFlow;Unity 3D   \n",
       "2  Objective-C;Python;Swift                               NaN   \n",
       "\n",
       "  MiscTechWorkedWith            NEWCollabToolsDesireNextYear  \\\n",
       "0     .NET;.NET Core  Microsoft Teams;Microsoft Azure;Trello   \n",
       "1       React Native                            Github;Slack   \n",
       "2                NaN                                     NaN   \n",
       "\n",
       "                       NEWCollabToolsWorkedWith NEWDevOps       NEWDevOpsImpt  \\\n",
       "0  Confluence;Jira;Slack;Microsoft Azure;Trello        No  Somewhat important   \n",
       "1           Confluence;Jira;Github;Gitlab;Slack       NaN                 NaN   \n",
       "2                                           NaN       NaN                 NaN   \n",
       "\n",
       "          NEWEdImpt NEWJobHunt NEWJobHuntResearch       NEWLearn NEWOffTopic  \\\n",
       "0  Fairly important        NaN                NaN    Once a year    Not sure   \n",
       "1  Fairly important        NaN                NaN    Once a year    Not sure   \n",
       "2               NaN        NaN                NaN  Once a decade         NaN   \n",
       "\n",
       "  NEWOnboardGood NEWOtherComms                       NEWOvertime  \\\n",
       "0            NaN            No  Often: 1-2 days per week or more   \n",
       "1            NaN            No                               NaN   \n",
       "2            NaN            No                               NaN   \n",
       "\n",
       "                                 NEWPurchaseResearch NEWPurpleLink  \\\n",
       "0  Start a free trial;Ask developers I know/work ...        Amused   \n",
       "1                                                NaN        Amused   \n",
       "2                                                NaN           NaN   \n",
       "\n",
       "                                          NEWSOSites  \\\n",
       "0   Stack Overflow (public Q&A for anyone who codes)   \n",
       "1  Stack Overflow (public Q&A for anyone who code...   \n",
       "2   Stack Overflow (public Q&A for anyone who codes)   \n",
       "\n",
       "                                            NEWStuck        OpSys  \\\n",
       "0  Visit Stack Overflow;Go for a walk or other ph...      Windows   \n",
       "1  Visit Stack Overflow;Go for a walk or other ph...        MacOS   \n",
       "2                                                NaN  Linux-based   \n",
       "\n",
       "                    OrgSize                          PlatformDesireNextYear  \\\n",
       "0          2 to 9 employees  Android;iOS;Kubernetes;Microsoft Azure;Windows   \n",
       "1  1,000 to 4,999 employees                      iOS;Kubernetes;Linux;MacOS   \n",
       "2                       NaN                                             NaN   \n",
       "\n",
       "  PlatformWorkedWith                   PurchaseWhat                Sexuality  \\\n",
       "0            Windows                            NaN  Straight / Heterosexual   \n",
       "1                iOS  I have little or no influence                      NaN   \n",
       "2                NaN                            NaN                      NaN   \n",
       "\n",
       "  SOAccount           SOComm                           SOPartFreq  \\\n",
       "0        No   No, not at all                                  NaN   \n",
       "1       Yes  Yes, definitely  Less than once per month or monthly   \n",
       "2       Yes    Yes, somewhat      A few times per month or weekly   \n",
       "\n",
       "              SOVisitFreq                  SurveyEase           SurveyLength  \\\n",
       "0  Multiple times per day  Neither easy nor difficult  Appropriate in length   \n",
       "1  Multiple times per day                         NaN                    NaN   \n",
       "2   Daily or almost daily  Neither easy nor difficult  Appropriate in length   \n",
       "\n",
       "  Trans                                     UndergradMajor  \\\n",
       "0    No  Computer science, computer engineering, or sof...   \n",
       "1   NaN  Computer science, computer engineering, or sof...   \n",
       "2   NaN                                                NaN   \n",
       "\n",
       "  WebframeDesireNextYear    WebframeWorkedWith  \\\n",
       "0           ASP.NET Core  ASP.NET;ASP.NET Core   \n",
       "1                    NaN                   NaN   \n",
       "2                    NaN                   NaN   \n",
       "\n",
       "                              WelcomeChange  WorkWeekHrs YearsCode  \\\n",
       "0   Just as welcome now as I felt last year         50.0        36   \n",
       "1  Somewhat more welcome now than last year          NaN         7   \n",
       "2  Somewhat more welcome now than last year          NaN         4   \n",
       "\n",
       "  YearsCodePro  \n",
       "0           27  \n",
       "1            4  \n",
       "2          NaN  "
      ]
     },
     "execution_count": 41,
     "metadata": {},
     "output_type": "execute_result"
    }
   ],
   "source": [
    "# do not use map, it is not idempotent: on the second run it will set values to NaN\n",
    "survey_df['Hobbyist'] = survey_df['Hobbyist'].replace({'Yes': True, 'No': False}); survey_df.head(3)"
   ]
  },
  {
   "cell_type": "code",
   "execution_count": 38,
   "id": "059be001",
   "metadata": {},
   "outputs": [
    {
     "data": {
      "text/plain": [
       "0    Yes\n",
       "1     No\n",
       "2    Yes\n",
       "3    Yes\n",
       "4    Yes\n",
       "Name: Hobbyist, dtype: object"
      ]
     },
     "execution_count": 38,
     "metadata": {},
     "output_type": "execute_result"
    }
   ],
   "source": [
    "survey_df['Hobbyist'].replace({True: 'Yes', False: 'No'}).head()"
   ]
  }
 ],
 "metadata": {
  "kernelspec": {
   "display_name": ".venv",
   "language": "python",
   "name": "python3"
  },
  "language_info": {
   "codemirror_mode": {
    "name": "ipython",
    "version": 3
   },
   "file_extension": ".py",
   "mimetype": "text/x-python",
   "name": "python",
   "nbconvert_exporter": "python",
   "pygments_lexer": "ipython3",
   "version": "3.12.4"
  }
 },
 "nbformat": 4,
 "nbformat_minor": 5
}
