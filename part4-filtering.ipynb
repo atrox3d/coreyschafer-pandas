{
 "cells": [
  {
   "cell_type": "markdown",
   "id": "460344a3",
   "metadata": {},
   "source": [
    "# Part 4 - filtering"
   ]
  },
  {
   "cell_type": "code",
   "execution_count": 39,
   "id": "2a3f36e6",
   "metadata": {},
   "outputs": [],
   "source": [
    "import pandas as pd"
   ]
  },
  {
   "cell_type": "code",
   "execution_count": 40,
   "id": "cb79bdf9",
   "metadata": {},
   "outputs": [],
   "source": [
    "survey_df = pd.read_csv('data/survey_results_public.csv')\n",
    "schema_df = pd.read_csv('data/survey_results_schema.csv')"
   ]
  },
  {
   "cell_type": "code",
   "execution_count": 41,
   "id": "2e7b0b3e",
   "metadata": {},
   "outputs": [
    {
     "data": {
      "application/vnd.microsoft.datawrangler.viewer.v0+json": {
       "columns": [
        {
         "name": "index",
         "rawType": "int64",
         "type": "integer"
        },
        {
         "name": "first",
         "rawType": "object",
         "type": "string"
        },
        {
         "name": "last",
         "rawType": "object",
         "type": "string"
        },
        {
         "name": "email",
         "rawType": "object",
         "type": "string"
        }
       ],
       "conversionMethod": "pd.DataFrame",
       "ref": "8a19b01e-e2b4-4ed9-a5b0-0d160d55cf79",
       "rows": [
        [
         "0",
         "Corey",
         "Schafer",
         "CoreyMSchafer@gmail.com"
        ],
        [
         "1",
         "Jane",
         "Doe",
         "JaneDoe@gmail.com"
        ],
        [
         "2",
         "John",
         "Doe",
         "JohnDoe@gmail.com"
        ]
       ],
       "shape": {
        "columns": 3,
        "rows": 3
       }
      },
      "text/html": [
       "<div>\n",
       "<style scoped>\n",
       "    .dataframe tbody tr th:only-of-type {\n",
       "        vertical-align: middle;\n",
       "    }\n",
       "\n",
       "    .dataframe tbody tr th {\n",
       "        vertical-align: top;\n",
       "    }\n",
       "\n",
       "    .dataframe thead th {\n",
       "        text-align: right;\n",
       "    }\n",
       "</style>\n",
       "<table border=\"1\" class=\"dataframe\">\n",
       "  <thead>\n",
       "    <tr style=\"text-align: right;\">\n",
       "      <th></th>\n",
       "      <th>first</th>\n",
       "      <th>last</th>\n",
       "      <th>email</th>\n",
       "    </tr>\n",
       "  </thead>\n",
       "  <tbody>\n",
       "    <tr>\n",
       "      <th>0</th>\n",
       "      <td>Corey</td>\n",
       "      <td>Schafer</td>\n",
       "      <td>CoreyMSchafer@gmail.com</td>\n",
       "    </tr>\n",
       "    <tr>\n",
       "      <th>1</th>\n",
       "      <td>Jane</td>\n",
       "      <td>Doe</td>\n",
       "      <td>JaneDoe@gmail.com</td>\n",
       "    </tr>\n",
       "    <tr>\n",
       "      <th>2</th>\n",
       "      <td>John</td>\n",
       "      <td>Doe</td>\n",
       "      <td>JohnDoe@gmail.com</td>\n",
       "    </tr>\n",
       "  </tbody>\n",
       "</table>\n",
       "</div>"
      ],
      "text/plain": [
       "   first     last                    email\n",
       "0  Corey  Schafer  CoreyMSchafer@gmail.com\n",
       "1   Jane      Doe        JaneDoe@gmail.com\n",
       "2   John      Doe        JohnDoe@gmail.com"
      ]
     },
     "execution_count": 41,
     "metadata": {},
     "output_type": "execute_result"
    }
   ],
   "source": [
    "people_df = pd.DataFrame({\n",
    "    'first': 'Corey Jane John'.split(),\n",
    "    'last': 'Schafer Doe Doe'.split(),\n",
    "    'email': 'CoreyMSchafer@gmail.com JaneDoe@gmail.com JohnDoe@gmail.com'.split()\n",
    "})\n",
    "people_df"
   ]
  },
  {
   "cell_type": "code",
   "execution_count": 42,
   "id": "8b8a1be0",
   "metadata": {},
   "outputs": [],
   "source": [
    "pd.set_option('display.max_columns', 85)\n",
    "pd.set_option('display.max_rows', 85)"
   ]
  },
  {
   "cell_type": "markdown",
   "id": "da5cb810",
   "metadata": {},
   "source": [
    "## create filters"
   ]
  },
  {
   "cell_type": "markdown",
   "id": "26ecadc8",
   "metadata": {},
   "source": [
    "### bracket"
   ]
  },
  {
   "cell_type": "code",
   "execution_count": 43,
   "id": "779e0ef6",
   "metadata": {},
   "outputs": [
    {
     "data": {
      "text/plain": [
       "0    False\n",
       "1     True\n",
       "2     True\n",
       "Name: last, dtype: bool"
      ]
     },
     "execution_count": 43,
     "metadata": {},
     "output_type": "execute_result"
    }
   ],
   "source": [
    "people_df['last'] == 'Doe'"
   ]
  },
  {
   "cell_type": "markdown",
   "id": "588854ef",
   "metadata": {},
   "source": [
    "### .loc"
   ]
  },
  {
   "cell_type": "code",
   "execution_count": 44,
   "id": "11cc50c4",
   "metadata": {},
   "outputs": [
    {
     "data": {
      "text/plain": [
       "0    False\n",
       "1     True\n",
       "2     True\n",
       "Name: last, dtype: bool"
      ]
     },
     "execution_count": 44,
     "metadata": {},
     "output_type": "execute_result"
    }
   ],
   "source": [
    "people_df.loc[:, 'last'] == 'Doe'"
   ]
  },
  {
   "cell_type": "markdown",
   "id": "33230544",
   "metadata": {},
   "source": [
    "### .iloc"
   ]
  },
  {
   "cell_type": "code",
   "execution_count": 45,
   "id": "0cc04693",
   "metadata": {},
   "outputs": [
    {
     "data": {
      "text/plain": [
       "0    False\n",
       "1     True\n",
       "2     True\n",
       "Name: last, dtype: bool"
      ]
     },
     "execution_count": 45,
     "metadata": {},
     "output_type": "execute_result"
    }
   ],
   "source": [
    "people_df.iloc[:, 1] == 'Doe'"
   ]
  },
  {
   "cell_type": "markdown",
   "id": "1805b4c2",
   "metadata": {},
   "source": [
    "## assign filters"
   ]
  },
  {
   "cell_type": "code",
   "execution_count": 46,
   "id": "c881adf1",
   "metadata": {},
   "outputs": [],
   "source": [
    "filt = (people_df['last'] == 'Doe')"
   ]
  },
  {
   "cell_type": "code",
   "execution_count": 47,
   "id": "a82bd7fa",
   "metadata": {},
   "outputs": [
    {
     "data": {
      "application/vnd.microsoft.datawrangler.viewer.v0+json": {
       "columns": [
        {
         "name": "index",
         "rawType": "int64",
         "type": "integer"
        },
        {
         "name": "first",
         "rawType": "object",
         "type": "string"
        },
        {
         "name": "last",
         "rawType": "object",
         "type": "string"
        },
        {
         "name": "email",
         "rawType": "object",
         "type": "string"
        }
       ],
       "conversionMethod": "pd.DataFrame",
       "ref": "e60fef75-6654-4fbc-b06f-a3ffd24d25b5",
       "rows": [
        [
         "1",
         "Jane",
         "Doe",
         "JaneDoe@gmail.com"
        ],
        [
         "2",
         "John",
         "Doe",
         "JohnDoe@gmail.com"
        ]
       ],
       "shape": {
        "columns": 3,
        "rows": 2
       }
      },
      "text/html": [
       "<div>\n",
       "<style scoped>\n",
       "    .dataframe tbody tr th:only-of-type {\n",
       "        vertical-align: middle;\n",
       "    }\n",
       "\n",
       "    .dataframe tbody tr th {\n",
       "        vertical-align: top;\n",
       "    }\n",
       "\n",
       "    .dataframe thead th {\n",
       "        text-align: right;\n",
       "    }\n",
       "</style>\n",
       "<table border=\"1\" class=\"dataframe\">\n",
       "  <thead>\n",
       "    <tr style=\"text-align: right;\">\n",
       "      <th></th>\n",
       "      <th>first</th>\n",
       "      <th>last</th>\n",
       "      <th>email</th>\n",
       "    </tr>\n",
       "  </thead>\n",
       "  <tbody>\n",
       "    <tr>\n",
       "      <th>1</th>\n",
       "      <td>Jane</td>\n",
       "      <td>Doe</td>\n",
       "      <td>JaneDoe@gmail.com</td>\n",
       "    </tr>\n",
       "    <tr>\n",
       "      <th>2</th>\n",
       "      <td>John</td>\n",
       "      <td>Doe</td>\n",
       "      <td>JohnDoe@gmail.com</td>\n",
       "    </tr>\n",
       "  </tbody>\n",
       "</table>\n",
       "</div>"
      ],
      "text/plain": [
       "  first last              email\n",
       "1  Jane  Doe  JaneDoe@gmail.com\n",
       "2  John  Doe  JohnDoe@gmail.com"
      ]
     },
     "execution_count": 47,
     "metadata": {},
     "output_type": "execute_result"
    }
   ],
   "source": [
    "people_df[filt]"
   ]
  },
  {
   "cell_type": "code",
   "execution_count": 48,
   "id": "1cbf541d",
   "metadata": {},
   "outputs": [
    {
     "data": {
      "text/plain": [
       "1    JaneDoe@gmail.com\n",
       "2    JohnDoe@gmail.com\n",
       "Name: email, dtype: object"
      ]
     },
     "execution_count": 48,
     "metadata": {},
     "output_type": "execute_result"
    }
   ],
   "source": [
    "people_df.loc[filt, 'email']"
   ]
  },
  {
   "cell_type": "code",
   "execution_count": 49,
   "id": "7555853d",
   "metadata": {},
   "outputs": [],
   "source": [
    "filt = (people_df['last'] == 'Doe') & (people_df['first'] == 'John')"
   ]
  },
  {
   "cell_type": "code",
   "execution_count": 50,
   "id": "eef4b5ea",
   "metadata": {},
   "outputs": [
    {
     "data": {
      "text/plain": [
       "2    JohnDoe@gmail.com\n",
       "Name: email, dtype: object"
      ]
     },
     "execution_count": 50,
     "metadata": {},
     "output_type": "execute_result"
    }
   ],
   "source": [
    "people_df.loc[filt, 'email']"
   ]
  },
  {
   "cell_type": "code",
   "execution_count": 51,
   "id": "da428f4b",
   "metadata": {},
   "outputs": [],
   "source": [
    "filt = (people_df['last'] == 'Schafer') | (people_df['first'] == 'John')"
   ]
  },
  {
   "cell_type": "code",
   "execution_count": 52,
   "id": "db2af081",
   "metadata": {},
   "outputs": [
    {
     "data": {
      "text/plain": [
       "0    CoreyMSchafer@gmail.com\n",
       "2          JohnDoe@gmail.com\n",
       "Name: email, dtype: object"
      ]
     },
     "execution_count": 52,
     "metadata": {},
     "output_type": "execute_result"
    }
   ],
   "source": [
    "people_df.loc[filt, 'email']"
   ]
  },
  {
   "cell_type": "code",
   "execution_count": 53,
   "id": "9aa3e0e1",
   "metadata": {},
   "outputs": [
    {
     "data": {
      "text/plain": [
       "1    JaneDoe@gmail.com\n",
       "Name: email, dtype: object"
      ]
     },
     "execution_count": 53,
     "metadata": {},
     "output_type": "execute_result"
    }
   ],
   "source": [
    "people_df.loc[~filt, 'email']"
   ]
  },
  {
   "cell_type": "markdown",
   "id": "dc2ac520",
   "metadata": {},
   "source": [
    "# real word example"
   ]
  },
  {
   "cell_type": "code",
   "execution_count": 54,
   "id": "09172042",
   "metadata": {},
   "outputs": [
    {
     "data": {
      "text/plain": [
       "Index(['Respondent', 'MainBranch', 'Hobbyist', 'Age', 'Age1stCode', 'CompFreq',\n",
       "       'CompTotal', 'ConvertedComp', 'Country', 'CurrencyDesc',\n",
       "       'CurrencySymbol', 'DatabaseDesireNextYear', 'DatabaseWorkedWith',\n",
       "       'DevType', 'EdLevel', 'Employment', 'Ethnicity', 'Gender', 'JobFactors',\n",
       "       'JobSat', 'JobSeek', 'LanguageDesireNextYear', 'LanguageWorkedWith',\n",
       "       'MiscTechDesireNextYear', 'MiscTechWorkedWith',\n",
       "       'NEWCollabToolsDesireNextYear', 'NEWCollabToolsWorkedWith', 'NEWDevOps',\n",
       "       'NEWDevOpsImpt', 'NEWEdImpt', 'NEWJobHunt', 'NEWJobHuntResearch',\n",
       "       'NEWLearn', 'NEWOffTopic', 'NEWOnboardGood', 'NEWOtherComms',\n",
       "       'NEWOvertime', 'NEWPurchaseResearch', 'NEWPurpleLink', 'NEWSOSites',\n",
       "       'NEWStuck', 'OpSys', 'OrgSize', 'PlatformDesireNextYear',\n",
       "       'PlatformWorkedWith', 'PurchaseWhat', 'Sexuality', 'SOAccount',\n",
       "       'SOComm', 'SOPartFreq', 'SOVisitFreq', 'SurveyEase', 'SurveyLength',\n",
       "       'Trans', 'UndergradMajor', 'WebframeDesireNextYear',\n",
       "       'WebframeWorkedWith', 'WelcomeChange', 'WorkWeekHrs', 'YearsCode',\n",
       "       'YearsCodePro'],\n",
       "      dtype='object')"
      ]
     },
     "execution_count": 54,
     "metadata": {},
     "output_type": "execute_result"
    }
   ],
   "source": [
    "survey_df.columns"
   ]
  },
  {
   "cell_type": "code",
   "execution_count": 55,
   "id": "d5336d5d",
   "metadata": {},
   "outputs": [],
   "source": [
    "high_salary = (survey_df['ConvertedComp'] > 70000)"
   ]
  },
  {
   "cell_type": "code",
   "execution_count": 59,
   "id": "029b57c6",
   "metadata": {},
   "outputs": [
    {
     "data": {
      "application/vnd.microsoft.datawrangler.viewer.v0+json": {
       "columns": [
        {
         "name": "index",
         "rawType": "int64",
         "type": "integer"
        },
        {
         "name": "Country",
         "rawType": "object",
         "type": "string"
        },
        {
         "name": "LanguageWorkedWith",
         "rawType": "object",
         "type": "string"
        },
        {
         "name": "ConvertedComp",
         "rawType": "float64",
         "type": "float"
        }
       ],
       "conversionMethod": "pd.DataFrame",
       "ref": "01327504-bfed-4df6-bc2a-d7a6379e2866",
       "rows": [
        [
         "7",
         "United States",
         "Python;SQL",
         "116000.0"
        ],
        [
         "15",
         "United Kingdom",
         "Bash/Shell/PowerShell;HTML/CSS;Java;JavaScript;Kotlin;R",
         "108576.0"
        ],
        [
         "16",
         "United States",
         "C#;HTML/CSS;JavaScript;Python;SQL;VBA",
         "79000.0"
        ],
        [
         "17",
         "United States",
         "Bash/Shell/PowerShell;HTML/CSS;Perl",
         "1260000.0"
        ],
        [
         "18",
         "United States",
         "Bash/Shell/PowerShell;C#;HTML/CSS;JavaScript;SQL;TypeScript",
         "83400.0"
        ]
       ],
       "shape": {
        "columns": 3,
        "rows": 5
       }
      },
      "text/html": [
       "<div>\n",
       "<style scoped>\n",
       "    .dataframe tbody tr th:only-of-type {\n",
       "        vertical-align: middle;\n",
       "    }\n",
       "\n",
       "    .dataframe tbody tr th {\n",
       "        vertical-align: top;\n",
       "    }\n",
       "\n",
       "    .dataframe thead th {\n",
       "        text-align: right;\n",
       "    }\n",
       "</style>\n",
       "<table border=\"1\" class=\"dataframe\">\n",
       "  <thead>\n",
       "    <tr style=\"text-align: right;\">\n",
       "      <th></th>\n",
       "      <th>Country</th>\n",
       "      <th>LanguageWorkedWith</th>\n",
       "      <th>ConvertedComp</th>\n",
       "    </tr>\n",
       "  </thead>\n",
       "  <tbody>\n",
       "    <tr>\n",
       "      <th>7</th>\n",
       "      <td>United States</td>\n",
       "      <td>Python;SQL</td>\n",
       "      <td>116000.0</td>\n",
       "    </tr>\n",
       "    <tr>\n",
       "      <th>15</th>\n",
       "      <td>United Kingdom</td>\n",
       "      <td>Bash/Shell/PowerShell;HTML/CSS;Java;JavaScript...</td>\n",
       "      <td>108576.0</td>\n",
       "    </tr>\n",
       "    <tr>\n",
       "      <th>16</th>\n",
       "      <td>United States</td>\n",
       "      <td>C#;HTML/CSS;JavaScript;Python;SQL;VBA</td>\n",
       "      <td>79000.0</td>\n",
       "    </tr>\n",
       "    <tr>\n",
       "      <th>17</th>\n",
       "      <td>United States</td>\n",
       "      <td>Bash/Shell/PowerShell;HTML/CSS;Perl</td>\n",
       "      <td>1260000.0</td>\n",
       "    </tr>\n",
       "    <tr>\n",
       "      <th>18</th>\n",
       "      <td>United States</td>\n",
       "      <td>Bash/Shell/PowerShell;C#;HTML/CSS;JavaScript;S...</td>\n",
       "      <td>83400.0</td>\n",
       "    </tr>\n",
       "  </tbody>\n",
       "</table>\n",
       "</div>"
      ],
      "text/plain": [
       "           Country                                 LanguageWorkedWith  \\\n",
       "7    United States                                         Python;SQL   \n",
       "15  United Kingdom  Bash/Shell/PowerShell;HTML/CSS;Java;JavaScript...   \n",
       "16   United States              C#;HTML/CSS;JavaScript;Python;SQL;VBA   \n",
       "17   United States                Bash/Shell/PowerShell;HTML/CSS;Perl   \n",
       "18   United States  Bash/Shell/PowerShell;C#;HTML/CSS;JavaScript;S...   \n",
       "\n",
       "    ConvertedComp  \n",
       "7        116000.0  \n",
       "15       108576.0  \n",
       "16        79000.0  \n",
       "17      1260000.0  \n",
       "18        83400.0  "
      ]
     },
     "execution_count": 59,
     "metadata": {},
     "output_type": "execute_result"
    }
   ],
   "source": [
    "survey_df.loc[high_salary, ['Country', 'LanguageWorkedWith', 'ConvertedComp']].head()"
   ]
  },
  {
   "cell_type": "code",
   "execution_count": 74,
   "id": "398ba47e",
   "metadata": {},
   "outputs": [
    {
     "data": {
      "text/plain": [
       "['Italy', 'Germany', 'Canada', 'United Kingdom', 'United Stated']"
      ]
     },
     "metadata": {},
     "output_type": "display_data"
    },
    {
     "data": {
      "text/plain": [
       "0     True\n",
       "1     True\n",
       "2    False\n",
       "3    False\n",
       "4    False\n",
       "Name: Country, dtype: bool"
      ]
     },
     "execution_count": 74,
     "metadata": {},
     "output_type": "execute_result"
    }
   ],
   "source": [
    "countries = 'Italy Germany Canada'.split() + ['United Kingdom', 'United Stated']\n",
    "display(countries)\n",
    "filt_countries = survey_df['Country'].isin(countries)\n",
    "filt_countries.head()"
   ]
  },
  {
   "cell_type": "code",
   "execution_count": 79,
   "id": "0bffc5f4",
   "metadata": {},
   "outputs": [
    {
     "data": {
      "text/plain": [
       "0               Germany\n",
       "1        United Kingdom\n",
       "5               Germany\n",
       "9        United Kingdom\n",
       "10       United Kingdom\n",
       "              ...      \n",
       "64380           Germany\n",
       "64402           Germany\n",
       "64422    United Kingdom\n",
       "64432    United Kingdom\n",
       "64441            Canada\n",
       "Name: Country, Length: 11094, dtype: object"
      ]
     },
     "execution_count": 79,
     "metadata": {},
     "output_type": "execute_result"
    }
   ],
   "source": [
    "survey_df.loc[filt_countries, 'Country']"
   ]
  },
  {
   "cell_type": "code",
   "execution_count": 81,
   "id": "3c884931",
   "metadata": {},
   "outputs": [],
   "source": [
    "filter_python = (survey_df['LanguageWorkedWith'].str.contains('Python', na=False))"
   ]
  },
  {
   "cell_type": "code",
   "execution_count": 82,
   "id": "486cf05c",
   "metadata": {},
   "outputs": [
    {
     "data": {
      "text/plain": [
       "2                                 Objective-C;Python;Swift\n",
       "7                                               Python;SQL\n",
       "9                      HTML/CSS;Java;JavaScript;Python;SQL\n",
       "12                                     C;JavaScript;Python\n",
       "14        Bash/Shell/PowerShell;C;HTML/CSS;Java;Python;SQL\n",
       "                               ...                        \n",
       "64433    Bash/Shell/PowerShell;HTML/CSS;JavaScript;Perl...\n",
       "64438       C++;HTML/CSS;JavaScript;Python;Ruby;TypeScript\n",
       "64443              C++;HTML/CSS;Java;JavaScript;Python;SQL\n",
       "64446    Bash/Shell/PowerShell;C;C#;C++;HTML/CSS;Java;J...\n",
       "64457    Assembly;Bash/Shell/PowerShell;C;C#;C++;Dart;G...\n",
       "Name: LanguageWorkedWith, Length: 25287, dtype: object"
      ]
     },
     "execution_count": 82,
     "metadata": {},
     "output_type": "execute_result"
    }
   ],
   "source": [
    "survey_df.loc[filter_python, 'LanguageWorkedWith']"
   ]
  },
  {
   "cell_type": "markdown",
   "id": "69056f4c",
   "metadata": {},
   "source": [
    "# the str[0] accessor is the only vectorized way to get nth item from a **LIST**"
   ]
  },
  {
   "cell_type": "code",
   "execution_count": 68,
   "id": "79963270",
   "metadata": {},
   "outputs": [
    {
     "data": {
      "text/plain": [
       "0                               [C#, HTML/CSS, JavaScript]\n",
       "1                                      [JavaScript, Swift]\n",
       "2                             [Objective-C, Python, Swift]\n",
       "3                                                      NaN\n",
       "4                                    [HTML/CSS, Ruby, SQL]\n",
       "                               ...                        \n",
       "64456                                                  NaN\n",
       "64457    [Assembly, Bash/Shell/PowerShell, C, C#, C++, ...\n",
       "64458                                                  NaN\n",
       "64459                                           [HTML/CSS]\n",
       "64460                [C#, HTML/CSS, Java, JavaScript, SQL]\n",
       "Name: LanguageWorkedWith, Length: 64461, dtype: object"
      ]
     },
     "execution_count": 68,
     "metadata": {},
     "output_type": "execute_result"
    }
   ],
   "source": [
    "survey_df['LanguageWorkedWith'].str.split(';')"
   ]
  },
  {
   "cell_type": "code",
   "execution_count": null,
   "id": "170f292f",
   "metadata": {},
   "outputs": [
    {
     "data": {
      "text/plain": [
       "0                 C#\n",
       "1         JavaScript\n",
       "2        Objective-C\n",
       "3                NaN\n",
       "4           HTML/CSS\n",
       "            ...     \n",
       "64456            NaN\n",
       "64457       Assembly\n",
       "64458            NaN\n",
       "64459       HTML/CSS\n",
       "64460             C#\n",
       "Name: LanguageWorkedWith, Length: 64461, dtype: object"
      ]
     },
     "metadata": {},
     "output_type": "display_data"
    }
   ],
   "source": [
    "survey_df['LanguageWorkedWith'].str.split(';').str[0]"
   ]
  }
 ],
 "metadata": {
  "kernelspec": {
   "display_name": ".venv",
   "language": "python",
   "name": "python3"
  },
  "language_info": {
   "codemirror_mode": {
    "name": "ipython",
    "version": 3
   },
   "file_extension": ".py",
   "mimetype": "text/x-python",
   "name": "python",
   "nbconvert_exporter": "python",
   "pygments_lexer": "ipython3",
   "version": "3.12.4"
  }
 },
 "nbformat": 4,
 "nbformat_minor": 5
}
