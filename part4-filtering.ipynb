{
 "cells": [
  {
   "cell_type": "markdown",
   "id": "460344a3",
   "metadata": {},
   "source": [
    "# Part 4 - filtering"
   ]
  },
  {
   "cell_type": "code",
   "execution_count": 26,
   "id": "2a3f36e6",
   "metadata": {},
   "outputs": [],
   "source": [
    "import pandas as pd"
   ]
  },
  {
   "cell_type": "code",
   "execution_count": 27,
   "id": "cb79bdf9",
   "metadata": {},
   "outputs": [],
   "source": [
    "survey_df = pd.read_csv('data/survey_results_public.csv')\n",
    "schema_df = pd.read_csv('data/survey_results_schema.csv')"
   ]
  },
  {
   "cell_type": "code",
   "execution_count": 28,
   "id": "2e7b0b3e",
   "metadata": {},
   "outputs": [
    {
     "data": {
      "application/vnd.microsoft.datawrangler.viewer.v0+json": {
       "columns": [
        {
         "name": "index",
         "rawType": "int64",
         "type": "integer"
        },
        {
         "name": "first",
         "rawType": "object",
         "type": "string"
        },
        {
         "name": "last",
         "rawType": "object",
         "type": "string"
        },
        {
         "name": "email",
         "rawType": "object",
         "type": "string"
        }
       ],
       "ref": "a07e69dd-8e89-4919-a442-8731ea1e75ee",
       "rows": [
        [
         "0",
         "Corey",
         "Schafer",
         "CoreyMSchafer@gmail.com"
        ],
        [
         "1",
         "Jane",
         "Doe",
         "JaneDoe@gmail.com"
        ],
        [
         "2",
         "John",
         "Doe",
         "JohnDoe@gmail.com"
        ]
       ],
       "shape": {
        "columns": 3,
        "rows": 3
       }
      },
      "text/html": [
       "<div>\n",
       "<style scoped>\n",
       "    .dataframe tbody tr th:only-of-type {\n",
       "        vertical-align: middle;\n",
       "    }\n",
       "\n",
       "    .dataframe tbody tr th {\n",
       "        vertical-align: top;\n",
       "    }\n",
       "\n",
       "    .dataframe thead th {\n",
       "        text-align: right;\n",
       "    }\n",
       "</style>\n",
       "<table border=\"1\" class=\"dataframe\">\n",
       "  <thead>\n",
       "    <tr style=\"text-align: right;\">\n",
       "      <th></th>\n",
       "      <th>first</th>\n",
       "      <th>last</th>\n",
       "      <th>email</th>\n",
       "    </tr>\n",
       "  </thead>\n",
       "  <tbody>\n",
       "    <tr>\n",
       "      <th>0</th>\n",
       "      <td>Corey</td>\n",
       "      <td>Schafer</td>\n",
       "      <td>CoreyMSchafer@gmail.com</td>\n",
       "    </tr>\n",
       "    <tr>\n",
       "      <th>1</th>\n",
       "      <td>Jane</td>\n",
       "      <td>Doe</td>\n",
       "      <td>JaneDoe@gmail.com</td>\n",
       "    </tr>\n",
       "    <tr>\n",
       "      <th>2</th>\n",
       "      <td>John</td>\n",
       "      <td>Doe</td>\n",
       "      <td>JohnDoe@gmail.com</td>\n",
       "    </tr>\n",
       "  </tbody>\n",
       "</table>\n",
       "</div>"
      ],
      "text/plain": [
       "   first     last                    email\n",
       "0  Corey  Schafer  CoreyMSchafer@gmail.com\n",
       "1   Jane      Doe        JaneDoe@gmail.com\n",
       "2   John      Doe        JohnDoe@gmail.com"
      ]
     },
     "execution_count": 28,
     "metadata": {},
     "output_type": "execute_result"
    }
   ],
   "source": [
    "people_df = pd.DataFrame({\n",
    "    'first': 'Corey Jane John'.split(),\n",
    "    'last': 'Schafer Doe Doe'.split(),\n",
    "    'email': 'CoreyMSchafer@gmail.com JaneDoe@gmail.com JohnDoe@gmail.com'.split()\n",
    "})\n",
    "people_df"
   ]
  },
  {
   "cell_type": "code",
   "execution_count": 29,
   "id": "8b8a1be0",
   "metadata": {},
   "outputs": [],
   "source": [
    "pd.set_option('display.max_columns', 85)\n",
    "pd.set_option('display.max_rows', 85)"
   ]
  },
  {
   "cell_type": "markdown",
   "id": "da5cb810",
   "metadata": {},
   "source": [
    "## create filters"
   ]
  },
  {
   "cell_type": "markdown",
   "id": "26ecadc8",
   "metadata": {},
   "source": [
    "### bracket"
   ]
  },
  {
   "cell_type": "code",
   "execution_count": 30,
   "id": "779e0ef6",
   "metadata": {},
   "outputs": [
    {
     "data": {
      "application/vnd.microsoft.datawrangler.viewer.v0+json": {
       "columns": [
        {
         "name": "index",
         "rawType": "int64",
         "type": "integer"
        },
        {
         "name": "last",
         "rawType": "bool",
         "type": "boolean"
        }
       ],
       "ref": "56e089d9-0dd6-4f9f-901a-1fd2ec44a23f",
       "rows": [
        [
         "0",
         "False"
        ],
        [
         "1",
         "True"
        ],
        [
         "2",
         "True"
        ]
       ],
       "shape": {
        "columns": 1,
        "rows": 3
       }
      },
      "text/plain": [
       "0    False\n",
       "1     True\n",
       "2     True\n",
       "Name: last, dtype: bool"
      ]
     },
     "execution_count": 30,
     "metadata": {},
     "output_type": "execute_result"
    }
   ],
   "source": [
    "people_df['last'] == 'Doe'"
   ]
  },
  {
   "cell_type": "markdown",
   "id": "588854ef",
   "metadata": {},
   "source": [
    "### .loc"
   ]
  },
  {
   "cell_type": "code",
   "execution_count": 31,
   "id": "11cc50c4",
   "metadata": {},
   "outputs": [
    {
     "data": {
      "application/vnd.microsoft.datawrangler.viewer.v0+json": {
       "columns": [
        {
         "name": "index",
         "rawType": "int64",
         "type": "integer"
        },
        {
         "name": "last",
         "rawType": "bool",
         "type": "boolean"
        }
       ],
       "ref": "c8055f5c-d97d-4079-8692-4acad49904e5",
       "rows": [
        [
         "0",
         "False"
        ],
        [
         "1",
         "True"
        ],
        [
         "2",
         "True"
        ]
       ],
       "shape": {
        "columns": 1,
        "rows": 3
       }
      },
      "text/plain": [
       "0    False\n",
       "1     True\n",
       "2     True\n",
       "Name: last, dtype: bool"
      ]
     },
     "execution_count": 31,
     "metadata": {},
     "output_type": "execute_result"
    }
   ],
   "source": [
    "people_df.loc[:, 'last'] == 'Doe'"
   ]
  },
  {
   "cell_type": "markdown",
   "id": "33230544",
   "metadata": {},
   "source": [
    "### .iloc"
   ]
  },
  {
   "cell_type": "code",
   "execution_count": 32,
   "id": "0cc04693",
   "metadata": {},
   "outputs": [
    {
     "data": {
      "application/vnd.microsoft.datawrangler.viewer.v0+json": {
       "columns": [
        {
         "name": "index",
         "rawType": "int64",
         "type": "integer"
        },
        {
         "name": "last",
         "rawType": "bool",
         "type": "boolean"
        }
       ],
       "ref": "9977e9ce-0a1d-4b4f-b16b-3de03660ff54",
       "rows": [
        [
         "0",
         "False"
        ],
        [
         "1",
         "True"
        ],
        [
         "2",
         "True"
        ]
       ],
       "shape": {
        "columns": 1,
        "rows": 3
       }
      },
      "text/plain": [
       "0    False\n",
       "1     True\n",
       "2     True\n",
       "Name: last, dtype: bool"
      ]
     },
     "execution_count": 32,
     "metadata": {},
     "output_type": "execute_result"
    }
   ],
   "source": [
    "people_df.iloc[:, 1] == 'Doe'"
   ]
  },
  {
   "cell_type": "markdown",
   "id": "1805b4c2",
   "metadata": {},
   "source": [
    "## assign filters"
   ]
  },
  {
   "cell_type": "code",
   "execution_count": 33,
   "id": "c881adf1",
   "metadata": {},
   "outputs": [],
   "source": [
    "filt = (people_df['last'] == 'Doe')"
   ]
  },
  {
   "cell_type": "code",
   "execution_count": 34,
   "id": "a82bd7fa",
   "metadata": {},
   "outputs": [
    {
     "data": {
      "application/vnd.microsoft.datawrangler.viewer.v0+json": {
       "columns": [
        {
         "name": "index",
         "rawType": "int64",
         "type": "integer"
        },
        {
         "name": "first",
         "rawType": "object",
         "type": "string"
        },
        {
         "name": "last",
         "rawType": "object",
         "type": "string"
        },
        {
         "name": "email",
         "rawType": "object",
         "type": "string"
        }
       ],
       "ref": "974d6c66-fa93-45dd-8e59-039c02622ef5",
       "rows": [
        [
         "1",
         "Jane",
         "Doe",
         "JaneDoe@gmail.com"
        ],
        [
         "2",
         "John",
         "Doe",
         "JohnDoe@gmail.com"
        ]
       ],
       "shape": {
        "columns": 3,
        "rows": 2
       }
      },
      "text/html": [
       "<div>\n",
       "<style scoped>\n",
       "    .dataframe tbody tr th:only-of-type {\n",
       "        vertical-align: middle;\n",
       "    }\n",
       "\n",
       "    .dataframe tbody tr th {\n",
       "        vertical-align: top;\n",
       "    }\n",
       "\n",
       "    .dataframe thead th {\n",
       "        text-align: right;\n",
       "    }\n",
       "</style>\n",
       "<table border=\"1\" class=\"dataframe\">\n",
       "  <thead>\n",
       "    <tr style=\"text-align: right;\">\n",
       "      <th></th>\n",
       "      <th>first</th>\n",
       "      <th>last</th>\n",
       "      <th>email</th>\n",
       "    </tr>\n",
       "  </thead>\n",
       "  <tbody>\n",
       "    <tr>\n",
       "      <th>1</th>\n",
       "      <td>Jane</td>\n",
       "      <td>Doe</td>\n",
       "      <td>JaneDoe@gmail.com</td>\n",
       "    </tr>\n",
       "    <tr>\n",
       "      <th>2</th>\n",
       "      <td>John</td>\n",
       "      <td>Doe</td>\n",
       "      <td>JohnDoe@gmail.com</td>\n",
       "    </tr>\n",
       "  </tbody>\n",
       "</table>\n",
       "</div>"
      ],
      "text/plain": [
       "  first last              email\n",
       "1  Jane  Doe  JaneDoe@gmail.com\n",
       "2  John  Doe  JohnDoe@gmail.com"
      ]
     },
     "execution_count": 34,
     "metadata": {},
     "output_type": "execute_result"
    }
   ],
   "source": [
    "people_df[filt]"
   ]
  },
  {
   "cell_type": "code",
   "execution_count": 35,
   "id": "1cbf541d",
   "metadata": {},
   "outputs": [
    {
     "data": {
      "application/vnd.microsoft.datawrangler.viewer.v0+json": {
       "columns": [
        {
         "name": "index",
         "rawType": "int64",
         "type": "integer"
        },
        {
         "name": "email",
         "rawType": "object",
         "type": "string"
        }
       ],
       "ref": "601ea6d8-6e67-4fe1-99a7-d30c480b3083",
       "rows": [
        [
         "1",
         "JaneDoe@gmail.com"
        ],
        [
         "2",
         "JohnDoe@gmail.com"
        ]
       ],
       "shape": {
        "columns": 1,
        "rows": 2
       }
      },
      "text/plain": [
       "1    JaneDoe@gmail.com\n",
       "2    JohnDoe@gmail.com\n",
       "Name: email, dtype: object"
      ]
     },
     "execution_count": 35,
     "metadata": {},
     "output_type": "execute_result"
    }
   ],
   "source": [
    "people_df.loc[filt, 'email']"
   ]
  },
  {
   "cell_type": "code",
   "execution_count": 36,
   "id": "7555853d",
   "metadata": {},
   "outputs": [],
   "source": [
    "filt = (people_df['last'] == 'Doe') & (people_df['first'] == 'John')"
   ]
  },
  {
   "cell_type": "code",
   "execution_count": 37,
   "id": "eef4b5ea",
   "metadata": {},
   "outputs": [
    {
     "data": {
      "application/vnd.microsoft.datawrangler.viewer.v0+json": {
       "columns": [
        {
         "name": "index",
         "rawType": "int64",
         "type": "integer"
        },
        {
         "name": "email",
         "rawType": "object",
         "type": "string"
        }
       ],
       "ref": "ae121480-1690-4840-a2b6-d6e11fd39529",
       "rows": [
        [
         "2",
         "JohnDoe@gmail.com"
        ]
       ],
       "shape": {
        "columns": 1,
        "rows": 1
       }
      },
      "text/plain": [
       "2    JohnDoe@gmail.com\n",
       "Name: email, dtype: object"
      ]
     },
     "execution_count": 37,
     "metadata": {},
     "output_type": "execute_result"
    }
   ],
   "source": [
    "people_df.loc[filt, 'email']"
   ]
  },
  {
   "cell_type": "code",
   "execution_count": 38,
   "id": "da428f4b",
   "metadata": {},
   "outputs": [],
   "source": [
    "filt = (people_df['last'] == 'Schafer') | (people_df['first'] == 'John')"
   ]
  },
  {
   "cell_type": "code",
   "execution_count": 39,
   "id": "db2af081",
   "metadata": {},
   "outputs": [
    {
     "data": {
      "application/vnd.microsoft.datawrangler.viewer.v0+json": {
       "columns": [
        {
         "name": "index",
         "rawType": "int64",
         "type": "integer"
        },
        {
         "name": "email",
         "rawType": "object",
         "type": "string"
        }
       ],
       "ref": "0d5931cc-ce53-421d-b1e3-14c9f0928f69",
       "rows": [
        [
         "0",
         "CoreyMSchafer@gmail.com"
        ],
        [
         "2",
         "JohnDoe@gmail.com"
        ]
       ],
       "shape": {
        "columns": 1,
        "rows": 2
       }
      },
      "text/plain": [
       "0    CoreyMSchafer@gmail.com\n",
       "2          JohnDoe@gmail.com\n",
       "Name: email, dtype: object"
      ]
     },
     "execution_count": 39,
     "metadata": {},
     "output_type": "execute_result"
    }
   ],
   "source": [
    "people_df.loc[filt, 'email']"
   ]
  },
  {
   "cell_type": "code",
   "execution_count": 40,
   "id": "9aa3e0e1",
   "metadata": {},
   "outputs": [
    {
     "data": {
      "application/vnd.microsoft.datawrangler.viewer.v0+json": {
       "columns": [
        {
         "name": "index",
         "rawType": "int64",
         "type": "integer"
        },
        {
         "name": "email",
         "rawType": "object",
         "type": "string"
        }
       ],
       "ref": "2d426b58-ebaf-4327-a873-661929bda641",
       "rows": [
        [
         "1",
         "JaneDoe@gmail.com"
        ]
       ],
       "shape": {
        "columns": 1,
        "rows": 1
       }
      },
      "text/plain": [
       "1    JaneDoe@gmail.com\n",
       "Name: email, dtype: object"
      ]
     },
     "execution_count": 40,
     "metadata": {},
     "output_type": "execute_result"
    }
   ],
   "source": [
    "people_df.loc[~filt, 'email']"
   ]
  },
  {
   "cell_type": "markdown",
   "id": "dc2ac520",
   "metadata": {},
   "source": [
    "# real word example"
   ]
  },
  {
   "cell_type": "code",
   "execution_count": 41,
   "id": "09172042",
   "metadata": {},
   "outputs": [
    {
     "data": {
      "text/plain": [
       "Index(['Respondent', 'MainBranch', 'Hobbyist', 'Age', 'Age1stCode', 'CompFreq',\n",
       "       'CompTotal', 'ConvertedComp', 'Country', 'CurrencyDesc',\n",
       "       'CurrencySymbol', 'DatabaseDesireNextYear', 'DatabaseWorkedWith',\n",
       "       'DevType', 'EdLevel', 'Employment', 'Ethnicity', 'Gender', 'JobFactors',\n",
       "       'JobSat', 'JobSeek', 'LanguageDesireNextYear', 'LanguageWorkedWith',\n",
       "       'MiscTechDesireNextYear', 'MiscTechWorkedWith',\n",
       "       'NEWCollabToolsDesireNextYear', 'NEWCollabToolsWorkedWith', 'NEWDevOps',\n",
       "       'NEWDevOpsImpt', 'NEWEdImpt', 'NEWJobHunt', 'NEWJobHuntResearch',\n",
       "       'NEWLearn', 'NEWOffTopic', 'NEWOnboardGood', 'NEWOtherComms',\n",
       "       'NEWOvertime', 'NEWPurchaseResearch', 'NEWPurpleLink', 'NEWSOSites',\n",
       "       'NEWStuck', 'OpSys', 'OrgSize', 'PlatformDesireNextYear',\n",
       "       'PlatformWorkedWith', 'PurchaseWhat', 'Sexuality', 'SOAccount',\n",
       "       'SOComm', 'SOPartFreq', 'SOVisitFreq', 'SurveyEase', 'SurveyLength',\n",
       "       'Trans', 'UndergradMajor', 'WebframeDesireNextYear',\n",
       "       'WebframeWorkedWith', 'WelcomeChange', 'WorkWeekHrs', 'YearsCode',\n",
       "       'YearsCodePro'],\n",
       "      dtype='object')"
      ]
     },
     "execution_count": 41,
     "metadata": {},
     "output_type": "execute_result"
    }
   ],
   "source": [
    "survey_df.columns"
   ]
  },
  {
   "cell_type": "code",
   "execution_count": 42,
   "id": "d5336d5d",
   "metadata": {},
   "outputs": [],
   "source": [
    "high_salary = (survey_df['ConvertedComp'] > 70000)"
   ]
  },
  {
   "cell_type": "code",
   "execution_count": 43,
   "id": "029b57c6",
   "metadata": {},
   "outputs": [
    {
     "data": {
      "application/vnd.microsoft.datawrangler.viewer.v0+json": {
       "columns": [
        {
         "name": "index",
         "rawType": "int64",
         "type": "integer"
        },
        {
         "name": "Country",
         "rawType": "object",
         "type": "string"
        },
        {
         "name": "LanguageWorkedWith",
         "rawType": "object",
         "type": "string"
        },
        {
         "name": "ConvertedComp",
         "rawType": "float64",
         "type": "float"
        }
       ],
       "ref": "6d3789eb-97d8-48b8-9e0e-246bba5944d1",
       "rows": [
        [
         "7",
         "United States",
         "Python;SQL",
         "116000.0"
        ],
        [
         "15",
         "United Kingdom",
         "Bash/Shell/PowerShell;HTML/CSS;Java;JavaScript;Kotlin;R",
         "108576.0"
        ],
        [
         "16",
         "United States",
         "C#;HTML/CSS;JavaScript;Python;SQL;VBA",
         "79000.0"
        ],
        [
         "17",
         "United States",
         "Bash/Shell/PowerShell;HTML/CSS;Perl",
         "1260000.0"
        ],
        [
         "18",
         "United States",
         "Bash/Shell/PowerShell;C#;HTML/CSS;JavaScript;SQL;TypeScript",
         "83400.0"
        ]
       ],
       "shape": {
        "columns": 3,
        "rows": 5
       }
      },
      "text/html": [
       "<div>\n",
       "<style scoped>\n",
       "    .dataframe tbody tr th:only-of-type {\n",
       "        vertical-align: middle;\n",
       "    }\n",
       "\n",
       "    .dataframe tbody tr th {\n",
       "        vertical-align: top;\n",
       "    }\n",
       "\n",
       "    .dataframe thead th {\n",
       "        text-align: right;\n",
       "    }\n",
       "</style>\n",
       "<table border=\"1\" class=\"dataframe\">\n",
       "  <thead>\n",
       "    <tr style=\"text-align: right;\">\n",
       "      <th></th>\n",
       "      <th>Country</th>\n",
       "      <th>LanguageWorkedWith</th>\n",
       "      <th>ConvertedComp</th>\n",
       "    </tr>\n",
       "  </thead>\n",
       "  <tbody>\n",
       "    <tr>\n",
       "      <th>7</th>\n",
       "      <td>United States</td>\n",
       "      <td>Python;SQL</td>\n",
       "      <td>116000.0</td>\n",
       "    </tr>\n",
       "    <tr>\n",
       "      <th>15</th>\n",
       "      <td>United Kingdom</td>\n",
       "      <td>Bash/Shell/PowerShell;HTML/CSS;Java;JavaScript...</td>\n",
       "      <td>108576.0</td>\n",
       "    </tr>\n",
       "    <tr>\n",
       "      <th>16</th>\n",
       "      <td>United States</td>\n",
       "      <td>C#;HTML/CSS;JavaScript;Python;SQL;VBA</td>\n",
       "      <td>79000.0</td>\n",
       "    </tr>\n",
       "    <tr>\n",
       "      <th>17</th>\n",
       "      <td>United States</td>\n",
       "      <td>Bash/Shell/PowerShell;HTML/CSS;Perl</td>\n",
       "      <td>1260000.0</td>\n",
       "    </tr>\n",
       "    <tr>\n",
       "      <th>18</th>\n",
       "      <td>United States</td>\n",
       "      <td>Bash/Shell/PowerShell;C#;HTML/CSS;JavaScript;S...</td>\n",
       "      <td>83400.0</td>\n",
       "    </tr>\n",
       "  </tbody>\n",
       "</table>\n",
       "</div>"
      ],
      "text/plain": [
       "           Country                                 LanguageWorkedWith  \\\n",
       "7    United States                                         Python;SQL   \n",
       "15  United Kingdom  Bash/Shell/PowerShell;HTML/CSS;Java;JavaScript...   \n",
       "16   United States              C#;HTML/CSS;JavaScript;Python;SQL;VBA   \n",
       "17   United States                Bash/Shell/PowerShell;HTML/CSS;Perl   \n",
       "18   United States  Bash/Shell/PowerShell;C#;HTML/CSS;JavaScript;S...   \n",
       "\n",
       "    ConvertedComp  \n",
       "7        116000.0  \n",
       "15       108576.0  \n",
       "16        79000.0  \n",
       "17      1260000.0  \n",
       "18        83400.0  "
      ]
     },
     "execution_count": 43,
     "metadata": {},
     "output_type": "execute_result"
    }
   ],
   "source": [
    "survey_df.loc[high_salary, ['Country', 'LanguageWorkedWith', 'ConvertedComp']].head()"
   ]
  },
  {
   "cell_type": "code",
   "execution_count": 44,
   "id": "398ba47e",
   "metadata": {},
   "outputs": [
    {
     "data": {
      "text/plain": [
       "['Italy', 'Germany', 'Canada', 'United Kingdom', 'United Stated']"
      ]
     },
     "metadata": {},
     "output_type": "display_data"
    },
    {
     "data": {
      "application/vnd.microsoft.datawrangler.viewer.v0+json": {
       "columns": [
        {
         "name": "index",
         "rawType": "int64",
         "type": "integer"
        },
        {
         "name": "Country",
         "rawType": "bool",
         "type": "boolean"
        }
       ],
       "ref": "2d8374a2-d79e-450d-86cd-0be71c8dcd3f",
       "rows": [
        [
         "0",
         "True"
        ],
        [
         "1",
         "True"
        ],
        [
         "2",
         "False"
        ],
        [
         "3",
         "False"
        ],
        [
         "4",
         "False"
        ]
       ],
       "shape": {
        "columns": 1,
        "rows": 5
       }
      },
      "text/plain": [
       "0     True\n",
       "1     True\n",
       "2    False\n",
       "3    False\n",
       "4    False\n",
       "Name: Country, dtype: bool"
      ]
     },
     "execution_count": 44,
     "metadata": {},
     "output_type": "execute_result"
    }
   ],
   "source": [
    "countries = 'Italy Germany Canada'.split() + ['United Kingdom', 'United Stated']\n",
    "display(countries)\n",
    "filt_countries = survey_df['Country'].isin(countries)\n",
    "filt_countries.head()"
   ]
  },
  {
   "cell_type": "code",
   "execution_count": 45,
   "id": "0bffc5f4",
   "metadata": {},
   "outputs": [
    {
     "data": {
      "application/vnd.microsoft.datawrangler.viewer.v0+json": {
       "columns": [
        {
         "name": "index",
         "rawType": "int64",
         "type": "integer"
        },
        {
         "name": "Country",
         "rawType": "object",
         "type": "string"
        }
       ],
       "ref": "f6ee9212-af06-44f4-a99d-98113b0bb992",
       "rows": [
        [
         "0",
         "Germany"
        ],
        [
         "1",
         "United Kingdom"
        ],
        [
         "5",
         "Germany"
        ],
        [
         "9",
         "United Kingdom"
        ],
        [
         "10",
         "United Kingdom"
        ],
        [
         "15",
         "United Kingdom"
        ],
        [
         "22",
         "Germany"
        ],
        [
         "23",
         "Germany"
        ],
        [
         "25",
         "Canada"
        ],
        [
         "29",
         "United Kingdom"
        ],
        [
         "31",
         "Canada"
        ],
        [
         "33",
         "Germany"
        ],
        [
         "35",
         "United Kingdom"
        ],
        [
         "37",
         "Italy"
        ],
        [
         "38",
         "United Kingdom"
        ],
        [
         "46",
         "United Kingdom"
        ],
        [
         "50",
         "Canada"
        ],
        [
         "51",
         "United Kingdom"
        ],
        [
         "59",
         "Germany"
        ],
        [
         "61",
         "United Kingdom"
        ],
        [
         "63",
         "United Kingdom"
        ],
        [
         "65",
         "Canada"
        ],
        [
         "69",
         "United Kingdom"
        ],
        [
         "73",
         "United Kingdom"
        ],
        [
         "74",
         "Canada"
        ],
        [
         "77",
         "Canada"
        ],
        [
         "78",
         "Canada"
        ],
        [
         "87",
         "Canada"
        ],
        [
         "92",
         "Canada"
        ],
        [
         "93",
         "Canada"
        ],
        [
         "95",
         "Canada"
        ],
        [
         "97",
         "Canada"
        ],
        [
         "100",
         "United Kingdom"
        ],
        [
         "104",
         "Germany"
        ],
        [
         "106",
         "United Kingdom"
        ],
        [
         "109",
         "Germany"
        ],
        [
         "112",
         "Canada"
        ],
        [
         "115",
         "United Kingdom"
        ],
        [
         "118",
         "Germany"
        ],
        [
         "120",
         "United Kingdom"
        ],
        [
         "128",
         "United Kingdom"
        ],
        [
         "132",
         "United Kingdom"
        ],
        [
         "134",
         "Canada"
        ],
        [
         "135",
         "Germany"
        ],
        [
         "138",
         "Canada"
        ],
        [
         "143",
         "United Kingdom"
        ],
        [
         "145",
         "Canada"
        ],
        [
         "146",
         "Germany"
        ],
        [
         "155",
         "Canada"
        ],
        [
         "160",
         "Canada"
        ]
       ],
       "shape": {
        "columns": 1,
        "rows": 11094
       }
      },
      "text/plain": [
       "0               Germany\n",
       "1        United Kingdom\n",
       "5               Germany\n",
       "9        United Kingdom\n",
       "10       United Kingdom\n",
       "              ...      \n",
       "64380           Germany\n",
       "64402           Germany\n",
       "64422    United Kingdom\n",
       "64432    United Kingdom\n",
       "64441            Canada\n",
       "Name: Country, Length: 11094, dtype: object"
      ]
     },
     "execution_count": 45,
     "metadata": {},
     "output_type": "execute_result"
    }
   ],
   "source": [
    "survey_df.loc[filt_countries, 'Country']"
   ]
  },
  {
   "cell_type": "code",
   "execution_count": 46,
   "id": "3c884931",
   "metadata": {},
   "outputs": [],
   "source": [
    "filter_python = (survey_df['LanguageWorkedWith'].str.contains('Python', na=False))"
   ]
  },
  {
   "cell_type": "code",
   "execution_count": 47,
   "id": "486cf05c",
   "metadata": {},
   "outputs": [
    {
     "data": {
      "application/vnd.microsoft.datawrangler.viewer.v0+json": {
       "columns": [
        {
         "name": "index",
         "rawType": "int64",
         "type": "integer"
        },
        {
         "name": "LanguageWorkedWith",
         "rawType": "object",
         "type": "string"
        }
       ],
       "ref": "f28da21d-f897-4495-89f1-6fbe389573b0",
       "rows": [
        [
         "2",
         "Objective-C;Python;Swift"
        ],
        [
         "7",
         "Python;SQL"
        ],
        [
         "9",
         "HTML/CSS;Java;JavaScript;Python;SQL"
        ],
        [
         "12",
         "C;JavaScript;Python"
        ],
        [
         "14",
         "Bash/Shell/PowerShell;C;HTML/CSS;Java;Python;SQL"
        ],
        [
         "16",
         "C#;HTML/CSS;JavaScript;Python;SQL;VBA"
        ],
        [
         "21",
         "Java;Python"
        ],
        [
         "25",
         "JavaScript;Python"
        ],
        [
         "26",
         "Bash/Shell/PowerShell;C;C++;Java;Python;SQL"
        ],
        [
         "27",
         "Python;R"
        ],
        [
         "28",
         "C#;C++;HTML/CSS;Python"
        ],
        [
         "29",
         "Bash/Shell/PowerShell;C#;HTML/CSS;JavaScript;Python;SQL;TypeScript"
        ],
        [
         "31",
         "C;C++;Java;Python;SQL;VBA"
        ],
        [
         "35",
         "C#;Go;HTML/CSS;Java;JavaScript;Python;R;SQL"
        ],
        [
         "37",
         "HTML/CSS;JavaScript;Python;Ruby;Rust"
        ],
        [
         "38",
         "C#;Python"
        ],
        [
         "39",
         "C;C#;C++;HTML/CSS;JavaScript;PHP;Python;SQL"
        ],
        [
         "41",
         "Bash/Shell/PowerShell;C#;HTML/CSS;Java;JavaScript;Python"
        ],
        [
         "43",
         "HTML/CSS;Python;R;SQL;VBA"
        ],
        [
         "44",
         "Bash/Shell/PowerShell;C;C++;Java;JavaScript;Python;Scala;TypeScript"
        ],
        [
         "46",
         "Bash/Shell/PowerShell;C#;Java;JavaScript;Python;Ruby;SQL"
        ],
        [
         "50",
         "JavaScript;Python;SQL;TypeScript"
        ],
        [
         "52",
         "Dart;HTML/CSS;Python"
        ],
        [
         "54",
         "Python"
        ],
        [
         "55",
         "HTML/CSS;JavaScript;PHP;Python;SQL;TypeScript"
        ],
        [
         "59",
         "C#;HTML/CSS;Java;JavaScript;Python;SQL"
        ],
        [
         "61",
         "C#;C++;HTML/CSS;Java;Python;Ruby;SQL;Swift"
        ],
        [
         "62",
         "C;C++;HTML/CSS;Java;JavaScript;Python"
        ],
        [
         "65",
         "Bash/Shell/PowerShell;C;C#;C++;HTML/CSS;Java;JavaScript;Julia;Python;R;SQL"
        ],
        [
         "67",
         "Assembly;Bash/Shell/PowerShell;C;C#;HTML/CSS;Java;JavaScript;PHP;Python"
        ],
        [
         "68",
         "HTML/CSS;Python"
        ],
        [
         "71",
         "Bash/Shell/PowerShell;JavaScript;Python;Swift"
        ],
        [
         "74",
         "Bash/Shell/PowerShell;HTML/CSS;JavaScript;Python"
        ],
        [
         "75",
         "Assembly;Bash/Shell/PowerShell;C;C++;Python"
        ],
        [
         "76",
         "C++;HTML/CSS;Java;Python;R"
        ],
        [
         "80",
         "Bash/Shell/PowerShell;HTML/CSS;JavaScript;PHP;Python;SQL;TypeScript"
        ],
        [
         "82",
         "C;C++;HTML/CSS;Python"
        ],
        [
         "83",
         "Bash/Shell/PowerShell;C;C#;C++;HTML/CSS;Java;Python"
        ],
        [
         "84",
         "Bash/Shell/PowerShell;C#;Go;HTML/CSS;Java;JavaScript;PHP;Python;SQL;Swift"
        ],
        [
         "85",
         "Go;HTML/CSS;JavaScript;Python"
        ],
        [
         "86",
         "C#;C++;JavaScript;Python"
        ],
        [
         "87",
         "Bash/Shell/PowerShell;C++;Kotlin;Python"
        ],
        [
         "92",
         "Bash/Shell/PowerShell;C;Python;Ruby;SQL"
        ],
        [
         "93",
         "HTML/CSS;JavaScript;PHP;Python;SQL"
        ],
        [
         "96",
         "C++;Python"
        ],
        [
         "97",
         "Go;JavaScript;Python;SQL;TypeScript"
        ],
        [
         "101",
         "HTML/CSS;Java;JavaScript;Python;SQL"
        ],
        [
         "107",
         "HTML/CSS;Java;JavaScript;Python;SQL;TypeScript"
        ],
        [
         "108",
         "Bash/Shell/PowerShell;C;C++;Go;HTML/CSS;Java;JavaScript;Python;Ruby;SQL;TypeScript"
        ],
        [
         "109",
         "HTML/CSS;Java;JavaScript;Python;TypeScript"
        ]
       ],
       "shape": {
        "columns": 1,
        "rows": 25287
       }
      },
      "text/plain": [
       "2                                 Objective-C;Python;Swift\n",
       "7                                               Python;SQL\n",
       "9                      HTML/CSS;Java;JavaScript;Python;SQL\n",
       "12                                     C;JavaScript;Python\n",
       "14        Bash/Shell/PowerShell;C;HTML/CSS;Java;Python;SQL\n",
       "                               ...                        \n",
       "64433    Bash/Shell/PowerShell;HTML/CSS;JavaScript;Perl...\n",
       "64438       C++;HTML/CSS;JavaScript;Python;Ruby;TypeScript\n",
       "64443              C++;HTML/CSS;Java;JavaScript;Python;SQL\n",
       "64446    Bash/Shell/PowerShell;C;C#;C++;HTML/CSS;Java;J...\n",
       "64457    Assembly;Bash/Shell/PowerShell;C;C#;C++;Dart;G...\n",
       "Name: LanguageWorkedWith, Length: 25287, dtype: object"
      ]
     },
     "execution_count": 47,
     "metadata": {},
     "output_type": "execute_result"
    }
   ],
   "source": [
    "survey_df.loc[filter_python, 'LanguageWorkedWith']"
   ]
  },
  {
   "cell_type": "markdown",
   "id": "69056f4c",
   "metadata": {},
   "source": [
    "# the str[0] accessor is the only vectorized way to get nth item from a **LIST**"
   ]
  },
  {
   "cell_type": "code",
   "execution_count": 48,
   "id": "79963270",
   "metadata": {},
   "outputs": [
    {
     "data": {
      "application/vnd.microsoft.datawrangler.viewer.v0+json": {
       "columns": [
        {
         "name": "index",
         "rawType": "int64",
         "type": "integer"
        },
        {
         "name": "LanguageWorkedWith",
         "rawType": "object",
         "type": "unknown"
        }
       ],
       "ref": "62e917c3-405b-4caa-9750-e4d9f38db832",
       "rows": [
        [
         "0",
         "['C#', 'HTML/CSS', 'JavaScript']"
        ],
        [
         "1",
         "['JavaScript', 'Swift']"
        ],
        [
         "2",
         "['Objective-C', 'Python', 'Swift']"
        ],
        [
         "3",
         null
        ],
        [
         "4",
         "['HTML/CSS', 'Ruby', 'SQL']"
        ],
        [
         "5",
         "['HTML/CSS', 'Java', 'JavaScript']"
        ],
        [
         "6",
         "['C#', 'HTML/CSS', 'PHP']"
        ],
        [
         "7",
         "['Python', 'SQL']"
        ],
        [
         "8",
         "['HTML/CSS', 'JavaScript', 'PHP']"
        ],
        [
         "9",
         "['HTML/CSS', 'Java', 'JavaScript', 'Python', 'SQL']"
        ],
        [
         "10",
         "['C#', 'JavaScript', 'Swift']"
        ],
        [
         "11",
         "['HTML/CSS', 'JavaScript']"
        ],
        [
         "12",
         "['C', 'JavaScript', 'Python']"
        ],
        [
         "13",
         "['HTML/CSS', 'JavaScript', 'SQL', 'TypeScript']"
        ],
        [
         "14",
         "['Bash/Shell/PowerShell', 'C', 'HTML/CSS', 'Java', 'Python', 'SQL']"
        ],
        [
         "15",
         "['Bash/Shell/PowerShell', 'HTML/CSS', 'Java', 'JavaScript', 'Kotlin', 'R']"
        ],
        [
         "16",
         "['C#', 'HTML/CSS', 'JavaScript', 'Python', 'SQL', 'VBA']"
        ],
        [
         "17",
         "['Bash/Shell/PowerShell', 'HTML/CSS', 'Perl']"
        ],
        [
         "18",
         "['Bash/Shell/PowerShell', 'C#', 'HTML/CSS', 'JavaScript', 'SQL', 'TypeScript']"
        ],
        [
         "19",
         "['Java', 'JavaScript', 'SQL']"
        ],
        [
         "20",
         "['Bash/Shell/PowerShell', 'C#', 'HTML/CSS', 'Java', 'JavaScript', 'Objective-C', 'Scala', 'SQL', 'Swift', 'TypeScript']"
        ],
        [
         "21",
         "['Java', 'Python']"
        ],
        [
         "22",
         "['Bash/Shell/PowerShell', 'C#', 'C++']"
        ],
        [
         "23",
         "['Bash/Shell/PowerShell', 'Java', 'Kotlin', 'PHP', 'SQL']"
        ],
        [
         "24",
         "['Bash/Shell/PowerShell', 'C']"
        ],
        [
         "25",
         "['JavaScript', 'Python']"
        ],
        [
         "26",
         "['Bash/Shell/PowerShell', 'C', 'C++', 'Java', 'Python', 'SQL']"
        ],
        [
         "27",
         "['Python', 'R']"
        ],
        [
         "28",
         "['C#', 'C++', 'HTML/CSS', 'Python']"
        ],
        [
         "29",
         "['Bash/Shell/PowerShell', 'C#', 'HTML/CSS', 'JavaScript', 'Python', 'SQL', 'TypeScript']"
        ],
        [
         "30",
         "['C', 'C++']"
        ],
        [
         "31",
         "['C', 'C++', 'Java', 'Python', 'SQL', 'VBA']"
        ],
        [
         "32",
         "['HTML/CSS', 'JavaScript', 'TypeScript']"
        ],
        [
         "33",
         "['HTML/CSS', 'Java', 'JavaScript', 'SQL', 'TypeScript']"
        ],
        [
         "34",
         "['HTML/CSS', 'Java', 'JavaScript', 'Ruby']"
        ],
        [
         "35",
         "['C#', 'Go', 'HTML/CSS', 'Java', 'JavaScript', 'Python', 'R', 'SQL']"
        ],
        [
         "36",
         "['Bash/Shell/PowerShell', 'Haskell', 'HTML/CSS', 'JavaScript', 'SQL', 'TypeScript']"
        ],
        [
         "37",
         "['HTML/CSS', 'JavaScript', 'Python', 'Ruby', 'Rust']"
        ],
        [
         "38",
         "['C#', 'Python']"
        ],
        [
         "39",
         "['C', 'C#', 'C++', 'HTML/CSS', 'JavaScript', 'PHP', 'Python', 'SQL']"
        ],
        [
         "40",
         "['C', 'C#', 'Java', 'SQL']"
        ],
        [
         "41",
         "['Bash/Shell/PowerShell', 'C#', 'HTML/CSS', 'Java', 'JavaScript', 'Python']"
        ],
        [
         "42",
         "['Dart', 'HTML/CSS', 'Java', 'JavaScript', 'SQL']"
        ],
        [
         "43",
         "['HTML/CSS', 'Python', 'R', 'SQL', 'VBA']"
        ],
        [
         "44",
         "['Bash/Shell/PowerShell', 'C', 'C++', 'Java', 'JavaScript', 'Python', 'Scala', 'TypeScript']"
        ],
        [
         "45",
         "['Bash/Shell/PowerShell', 'C#', 'C++']"
        ],
        [
         "46",
         "['Bash/Shell/PowerShell', 'C#', 'Java', 'JavaScript', 'Python', 'Ruby', 'SQL']"
        ],
        [
         "47",
         "['JavaScript', 'Ruby', 'SQL']"
        ],
        [
         "48",
         "['C#', 'HTML/CSS', 'JavaScript', 'TypeScript']"
        ],
        [
         "49",
         "['HTML/CSS', 'JavaScript', 'PHP', 'SQL']"
        ]
       ],
       "shape": {
        "columns": 1,
        "rows": 64461
       }
      },
      "text/plain": [
       "0                               [C#, HTML/CSS, JavaScript]\n",
       "1                                      [JavaScript, Swift]\n",
       "2                             [Objective-C, Python, Swift]\n",
       "3                                                      NaN\n",
       "4                                    [HTML/CSS, Ruby, SQL]\n",
       "                               ...                        \n",
       "64456                                                  NaN\n",
       "64457    [Assembly, Bash/Shell/PowerShell, C, C#, C++, ...\n",
       "64458                                                  NaN\n",
       "64459                                           [HTML/CSS]\n",
       "64460                [C#, HTML/CSS, Java, JavaScript, SQL]\n",
       "Name: LanguageWorkedWith, Length: 64461, dtype: object"
      ]
     },
     "execution_count": 48,
     "metadata": {},
     "output_type": "execute_result"
    }
   ],
   "source": [
    "survey_df['LanguageWorkedWith'].str.split(';')"
   ]
  },
  {
   "cell_type": "code",
   "execution_count": 49,
   "id": "170f292f",
   "metadata": {},
   "outputs": [
    {
     "data": {
      "application/vnd.microsoft.datawrangler.viewer.v0+json": {
       "columns": [
        {
         "name": "index",
         "rawType": "int64",
         "type": "integer"
        },
        {
         "name": "LanguageWorkedWith",
         "rawType": "object",
         "type": "unknown"
        }
       ],
       "ref": "1fa345ea-f44c-4014-b15e-0fa7bb9eaea6",
       "rows": [
        [
         "0",
         "C#"
        ],
        [
         "1",
         "JavaScript"
        ],
        [
         "2",
         "Objective-C"
        ],
        [
         "3",
         null
        ],
        [
         "4",
         "HTML/CSS"
        ],
        [
         "5",
         "HTML/CSS"
        ],
        [
         "6",
         "C#"
        ],
        [
         "7",
         "Python"
        ],
        [
         "8",
         "HTML/CSS"
        ],
        [
         "9",
         "HTML/CSS"
        ],
        [
         "10",
         "C#"
        ],
        [
         "11",
         "HTML/CSS"
        ],
        [
         "12",
         "C"
        ],
        [
         "13",
         "HTML/CSS"
        ],
        [
         "14",
         "Bash/Shell/PowerShell"
        ],
        [
         "15",
         "Bash/Shell/PowerShell"
        ],
        [
         "16",
         "C#"
        ],
        [
         "17",
         "Bash/Shell/PowerShell"
        ],
        [
         "18",
         "Bash/Shell/PowerShell"
        ],
        [
         "19",
         "Java"
        ],
        [
         "20",
         "Bash/Shell/PowerShell"
        ],
        [
         "21",
         "Java"
        ],
        [
         "22",
         "Bash/Shell/PowerShell"
        ],
        [
         "23",
         "Bash/Shell/PowerShell"
        ],
        [
         "24",
         "Bash/Shell/PowerShell"
        ],
        [
         "25",
         "JavaScript"
        ],
        [
         "26",
         "Bash/Shell/PowerShell"
        ],
        [
         "27",
         "Python"
        ],
        [
         "28",
         "C#"
        ],
        [
         "29",
         "Bash/Shell/PowerShell"
        ],
        [
         "30",
         "C"
        ],
        [
         "31",
         "C"
        ],
        [
         "32",
         "HTML/CSS"
        ],
        [
         "33",
         "HTML/CSS"
        ],
        [
         "34",
         "HTML/CSS"
        ],
        [
         "35",
         "C#"
        ],
        [
         "36",
         "Bash/Shell/PowerShell"
        ],
        [
         "37",
         "HTML/CSS"
        ],
        [
         "38",
         "C#"
        ],
        [
         "39",
         "C"
        ],
        [
         "40",
         "C"
        ],
        [
         "41",
         "Bash/Shell/PowerShell"
        ],
        [
         "42",
         "Dart"
        ],
        [
         "43",
         "HTML/CSS"
        ],
        [
         "44",
         "Bash/Shell/PowerShell"
        ],
        [
         "45",
         "Bash/Shell/PowerShell"
        ],
        [
         "46",
         "Bash/Shell/PowerShell"
        ],
        [
         "47",
         "JavaScript"
        ],
        [
         "48",
         "C#"
        ],
        [
         "49",
         "HTML/CSS"
        ]
       ],
       "shape": {
        "columns": 1,
        "rows": 64461
       }
      },
      "text/plain": [
       "0                 C#\n",
       "1         JavaScript\n",
       "2        Objective-C\n",
       "3                NaN\n",
       "4           HTML/CSS\n",
       "            ...     \n",
       "64456            NaN\n",
       "64457       Assembly\n",
       "64458            NaN\n",
       "64459       HTML/CSS\n",
       "64460             C#\n",
       "Name: LanguageWorkedWith, Length: 64461, dtype: object"
      ]
     },
     "execution_count": 49,
     "metadata": {},
     "output_type": "execute_result"
    }
   ],
   "source": [
    "survey_df['LanguageWorkedWith'].str.split(';').str[0]"
   ]
  }
 ],
 "metadata": {
  "kernelspec": {
   "display_name": ".venv",
   "language": "python",
   "name": "python3"
  },
  "language_info": {
   "codemirror_mode": {
    "name": "ipython",
    "version": 3
   },
   "file_extension": ".py",
   "mimetype": "text/x-python",
   "name": "python",
   "nbconvert_exporter": "python",
   "pygments_lexer": "ipython3",
   "version": "3.12.4"
  }
 },
 "nbformat": 4,
 "nbformat_minor": 5
}
