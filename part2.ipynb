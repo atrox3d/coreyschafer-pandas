{
 "cells": [
  {
   "cell_type": "markdown",
   "id": "91734962",
   "metadata": {},
   "source": [
    "# Part 1 - DataFrames and Series"
   ]
  },
  {
   "cell_type": "code",
   "execution_count": 5,
   "id": "3601a059",
   "metadata": {},
   "outputs": [],
   "source": [
    "import pandas as pd"
   ]
  },
  {
   "cell_type": "code",
   "execution_count": 6,
   "id": "64a6a6e7",
   "metadata": {},
   "outputs": [],
   "source": [
    "survey_df = pd.read_csv('data/survey_results_public.csv')\n",
    "schema_df = pd.read_csv('data/survey_results_schema.csv')"
   ]
  },
  {
   "cell_type": "code",
   "execution_count": 7,
   "id": "1fdaa6d2",
   "metadata": {},
   "outputs": [
    {
     "data": {
      "application/vnd.microsoft.datawrangler.viewer.v0+json": {
       "columns": [
        {
         "name": "index",
         "rawType": "int64",
         "type": "integer"
        },
        {
         "name": "first",
         "rawType": "object",
         "type": "string"
        },
        {
         "name": "last",
         "rawType": "object",
         "type": "string"
        },
        {
         "name": "email",
         "rawType": "object",
         "type": "string"
        }
       ],
       "conversionMethod": "pd.DataFrame",
       "ref": "0d91b54a-8eca-4177-bc6b-26c388ef1fda",
       "rows": [
        [
         "0",
         "Corey",
         "Schafer",
         "CoreyMSchafer@gmail.com"
        ],
        [
         "1",
         "Jane",
         "Doe",
         "JaneDoe@gmail.com"
        ],
        [
         "2",
         "John",
         "Doe",
         "JohnDoe@gmail.com"
        ]
       ],
       "shape": {
        "columns": 3,
        "rows": 3
       }
      },
      "text/html": [
       "<div>\n",
       "<style scoped>\n",
       "    .dataframe tbody tr th:only-of-type {\n",
       "        vertical-align: middle;\n",
       "    }\n",
       "\n",
       "    .dataframe tbody tr th {\n",
       "        vertical-align: top;\n",
       "    }\n",
       "\n",
       "    .dataframe thead th {\n",
       "        text-align: right;\n",
       "    }\n",
       "</style>\n",
       "<table border=\"1\" class=\"dataframe\">\n",
       "  <thead>\n",
       "    <tr style=\"text-align: right;\">\n",
       "      <th></th>\n",
       "      <th>first</th>\n",
       "      <th>last</th>\n",
       "      <th>email</th>\n",
       "    </tr>\n",
       "  </thead>\n",
       "  <tbody>\n",
       "    <tr>\n",
       "      <th>0</th>\n",
       "      <td>Corey</td>\n",
       "      <td>Schafer</td>\n",
       "      <td>CoreyMSchafer@gmail.com</td>\n",
       "    </tr>\n",
       "    <tr>\n",
       "      <th>1</th>\n",
       "      <td>Jane</td>\n",
       "      <td>Doe</td>\n",
       "      <td>JaneDoe@gmail.com</td>\n",
       "    </tr>\n",
       "    <tr>\n",
       "      <th>2</th>\n",
       "      <td>John</td>\n",
       "      <td>Doe</td>\n",
       "      <td>JohnDoe@gmail.com</td>\n",
       "    </tr>\n",
       "  </tbody>\n",
       "</table>\n",
       "</div>"
      ],
      "text/plain": [
       "   first     last                    email\n",
       "0  Corey  Schafer  CoreyMSchafer@gmail.com\n",
       "1   Jane      Doe        JaneDoe@gmail.com\n",
       "2   John      Doe        JohnDoe@gmail.com"
      ]
     },
     "execution_count": 7,
     "metadata": {},
     "output_type": "execute_result"
    }
   ],
   "source": [
    "people_df = pd.DataFrame({\n",
    "    'first': 'Corey Jane John'.split(),\n",
    "    'last': 'Schafer Doe Doe'.split(),\n",
    "    'email': 'CoreyMSchafer@gmail.com JaneDoe@gmail.com JohnDoe@gmail.com'.split()\n",
    "})\n",
    "people_df"
   ]
  },
  {
   "cell_type": "code",
   "execution_count": 8,
   "id": "034ca1a2",
   "metadata": {},
   "outputs": [],
   "source": [
    "pd.set_option('display.max_columns', 85)\n",
    "pd.set_option('display.max_rows', 85)"
   ]
  },
  {
   "cell_type": "markdown",
   "id": "3cf17af3",
   "metadata": {},
   "source": [
    "# iloc"
   ]
  },
  {
   "cell_type": "code",
   "execution_count": 13,
   "id": "634d5493",
   "metadata": {},
   "outputs": [
    {
     "data": {
      "text/plain": [
       "first                      Corey\n",
       "last                     Schafer\n",
       "email    CoreyMSchafer@gmail.com\n",
       "Name: 0, dtype: object"
      ]
     },
     "execution_count": 13,
     "metadata": {},
     "output_type": "execute_result"
    }
   ],
   "source": [
    "people_df.iloc[0]"
   ]
  },
  {
   "cell_type": "code",
   "execution_count": 9,
   "id": "4071eb8d",
   "metadata": {},
   "outputs": [
    {
     "data": {
      "text/plain": [
       "first                      Corey\n",
       "last                     Schafer\n",
       "email    CoreyMSchafer@gmail.com\n",
       "Name: 0, dtype: object"
      ]
     },
     "execution_count": 9,
     "metadata": {},
     "output_type": "execute_result"
    }
   ],
   "source": [
    "people_df.loc[0]"
   ]
  },
  {
   "cell_type": "code",
   "execution_count": 14,
   "id": "b928a72e",
   "metadata": {},
   "outputs": [
    {
     "data": {
      "application/vnd.microsoft.datawrangler.viewer.v0+json": {
       "columns": [
        {
         "name": "index",
         "rawType": "int64",
         "type": "integer"
        },
        {
         "name": "first",
         "rawType": "object",
         "type": "string"
        },
        {
         "name": "last",
         "rawType": "object",
         "type": "string"
        },
        {
         "name": "email",
         "rawType": "object",
         "type": "string"
        }
       ],
       "conversionMethod": "pd.DataFrame",
       "ref": "ac139d51-fef3-4112-a94c-4523cd155f97",
       "rows": [
        [
         "0",
         "Corey",
         "Schafer",
         "CoreyMSchafer@gmail.com"
        ]
       ],
       "shape": {
        "columns": 3,
        "rows": 1
       }
      },
      "text/html": [
       "<div>\n",
       "<style scoped>\n",
       "    .dataframe tbody tr th:only-of-type {\n",
       "        vertical-align: middle;\n",
       "    }\n",
       "\n",
       "    .dataframe tbody tr th {\n",
       "        vertical-align: top;\n",
       "    }\n",
       "\n",
       "    .dataframe thead th {\n",
       "        text-align: right;\n",
       "    }\n",
       "</style>\n",
       "<table border=\"1\" class=\"dataframe\">\n",
       "  <thead>\n",
       "    <tr style=\"text-align: right;\">\n",
       "      <th></th>\n",
       "      <th>first</th>\n",
       "      <th>last</th>\n",
       "      <th>email</th>\n",
       "    </tr>\n",
       "  </thead>\n",
       "  <tbody>\n",
       "    <tr>\n",
       "      <th>0</th>\n",
       "      <td>Corey</td>\n",
       "      <td>Schafer</td>\n",
       "      <td>CoreyMSchafer@gmail.com</td>\n",
       "    </tr>\n",
       "  </tbody>\n",
       "</table>\n",
       "</div>"
      ],
      "text/plain": [
       "   first     last                    email\n",
       "0  Corey  Schafer  CoreyMSchafer@gmail.com"
      ]
     },
     "execution_count": 14,
     "metadata": {},
     "output_type": "execute_result"
    }
   ],
   "source": [
    "people_df.iloc[[0]]"
   ]
  },
  {
   "cell_type": "code",
   "execution_count": 15,
   "id": "f05f55a6",
   "metadata": {},
   "outputs": [
    {
     "data": {
      "application/vnd.microsoft.datawrangler.viewer.v0+json": {
       "columns": [
        {
         "name": "index",
         "rawType": "int64",
         "type": "integer"
        },
        {
         "name": "first",
         "rawType": "object",
         "type": "string"
        },
        {
         "name": "last",
         "rawType": "object",
         "type": "string"
        },
        {
         "name": "email",
         "rawType": "object",
         "type": "string"
        }
       ],
       "conversionMethod": "pd.DataFrame",
       "ref": "0056cbe8-0922-4d94-b61d-b1130dd936bd",
       "rows": [
        [
         "0",
         "Corey",
         "Schafer",
         "CoreyMSchafer@gmail.com"
        ],
        [
         "1",
         "Jane",
         "Doe",
         "JaneDoe@gmail.com"
        ]
       ],
       "shape": {
        "columns": 3,
        "rows": 2
       }
      },
      "text/html": [
       "<div>\n",
       "<style scoped>\n",
       "    .dataframe tbody tr th:only-of-type {\n",
       "        vertical-align: middle;\n",
       "    }\n",
       "\n",
       "    .dataframe tbody tr th {\n",
       "        vertical-align: top;\n",
       "    }\n",
       "\n",
       "    .dataframe thead th {\n",
       "        text-align: right;\n",
       "    }\n",
       "</style>\n",
       "<table border=\"1\" class=\"dataframe\">\n",
       "  <thead>\n",
       "    <tr style=\"text-align: right;\">\n",
       "      <th></th>\n",
       "      <th>first</th>\n",
       "      <th>last</th>\n",
       "      <th>email</th>\n",
       "    </tr>\n",
       "  </thead>\n",
       "  <tbody>\n",
       "    <tr>\n",
       "      <th>0</th>\n",
       "      <td>Corey</td>\n",
       "      <td>Schafer</td>\n",
       "      <td>CoreyMSchafer@gmail.com</td>\n",
       "    </tr>\n",
       "    <tr>\n",
       "      <th>1</th>\n",
       "      <td>Jane</td>\n",
       "      <td>Doe</td>\n",
       "      <td>JaneDoe@gmail.com</td>\n",
       "    </tr>\n",
       "  </tbody>\n",
       "</table>\n",
       "</div>"
      ],
      "text/plain": [
       "   first     last                    email\n",
       "0  Corey  Schafer  CoreyMSchafer@gmail.com\n",
       "1   Jane      Doe        JaneDoe@gmail.com"
      ]
     },
     "execution_count": 15,
     "metadata": {},
     "output_type": "execute_result"
    }
   ],
   "source": [
    "people_df.iloc[[0, 1]]"
   ]
  },
  {
   "cell_type": "code",
   "execution_count": 19,
   "id": "ea2a540a",
   "metadata": {},
   "outputs": [
    {
     "data": {
      "text/plain": [
       "0    CoreyMSchafer@gmail.com\n",
       "1          JaneDoe@gmail.com\n",
       "Name: email, dtype: object"
      ]
     },
     "execution_count": 19,
     "metadata": {},
     "output_type": "execute_result"
    }
   ],
   "source": [
    "people_df.iloc[[0, 1], 2]"
   ]
  },
  {
   "cell_type": "markdown",
   "id": "54000eeb",
   "metadata": {},
   "source": [
    "# loc"
   ]
  },
  {
   "cell_type": "code",
   "execution_count": 10,
   "id": "5d0e5113",
   "metadata": {},
   "outputs": [
    {
     "data": {
      "application/vnd.microsoft.datawrangler.viewer.v0+json": {
       "columns": [
        {
         "name": "index",
         "rawType": "int64",
         "type": "integer"
        },
        {
         "name": "first",
         "rawType": "object",
         "type": "string"
        },
        {
         "name": "last",
         "rawType": "object",
         "type": "string"
        },
        {
         "name": "email",
         "rawType": "object",
         "type": "string"
        }
       ],
       "conversionMethod": "pd.DataFrame",
       "ref": "81634995-4667-4b65-bee4-abaee6fd2cb6",
       "rows": [
        [
         "0",
         "Corey",
         "Schafer",
         "CoreyMSchafer@gmail.com"
        ]
       ],
       "shape": {
        "columns": 3,
        "rows": 1
       }
      },
      "text/html": [
       "<div>\n",
       "<style scoped>\n",
       "    .dataframe tbody tr th:only-of-type {\n",
       "        vertical-align: middle;\n",
       "    }\n",
       "\n",
       "    .dataframe tbody tr th {\n",
       "        vertical-align: top;\n",
       "    }\n",
       "\n",
       "    .dataframe thead th {\n",
       "        text-align: right;\n",
       "    }\n",
       "</style>\n",
       "<table border=\"1\" class=\"dataframe\">\n",
       "  <thead>\n",
       "    <tr style=\"text-align: right;\">\n",
       "      <th></th>\n",
       "      <th>first</th>\n",
       "      <th>last</th>\n",
       "      <th>email</th>\n",
       "    </tr>\n",
       "  </thead>\n",
       "  <tbody>\n",
       "    <tr>\n",
       "      <th>0</th>\n",
       "      <td>Corey</td>\n",
       "      <td>Schafer</td>\n",
       "      <td>CoreyMSchafer@gmail.com</td>\n",
       "    </tr>\n",
       "  </tbody>\n",
       "</table>\n",
       "</div>"
      ],
      "text/plain": [
       "   first     last                    email\n",
       "0  Corey  Schafer  CoreyMSchafer@gmail.com"
      ]
     },
     "execution_count": 10,
     "metadata": {},
     "output_type": "execute_result"
    }
   ],
   "source": [
    "people_df.loc[[0]]"
   ]
  },
  {
   "cell_type": "code",
   "execution_count": 12,
   "id": "efa83f1c",
   "metadata": {},
   "outputs": [
    {
     "data": {
      "application/vnd.microsoft.datawrangler.viewer.v0+json": {
       "columns": [
        {
         "name": "index",
         "rawType": "int64",
         "type": "integer"
        },
        {
         "name": "first",
         "rawType": "object",
         "type": "string"
        },
        {
         "name": "last",
         "rawType": "object",
         "type": "string"
        },
        {
         "name": "email",
         "rawType": "object",
         "type": "string"
        }
       ],
       "conversionMethod": "pd.DataFrame",
       "ref": "cbfb2e33-e7bb-4680-a8ae-e9085c51190e",
       "rows": [
        [
         "0",
         "Corey",
         "Schafer",
         "CoreyMSchafer@gmail.com"
        ],
        [
         "1",
         "Jane",
         "Doe",
         "JaneDoe@gmail.com"
        ]
       ],
       "shape": {
        "columns": 3,
        "rows": 2
       }
      },
      "text/html": [
       "<div>\n",
       "<style scoped>\n",
       "    .dataframe tbody tr th:only-of-type {\n",
       "        vertical-align: middle;\n",
       "    }\n",
       "\n",
       "    .dataframe tbody tr th {\n",
       "        vertical-align: top;\n",
       "    }\n",
       "\n",
       "    .dataframe thead th {\n",
       "        text-align: right;\n",
       "    }\n",
       "</style>\n",
       "<table border=\"1\" class=\"dataframe\">\n",
       "  <thead>\n",
       "    <tr style=\"text-align: right;\">\n",
       "      <th></th>\n",
       "      <th>first</th>\n",
       "      <th>last</th>\n",
       "      <th>email</th>\n",
       "    </tr>\n",
       "  </thead>\n",
       "  <tbody>\n",
       "    <tr>\n",
       "      <th>0</th>\n",
       "      <td>Corey</td>\n",
       "      <td>Schafer</td>\n",
       "      <td>CoreyMSchafer@gmail.com</td>\n",
       "    </tr>\n",
       "    <tr>\n",
       "      <th>1</th>\n",
       "      <td>Jane</td>\n",
       "      <td>Doe</td>\n",
       "      <td>JaneDoe@gmail.com</td>\n",
       "    </tr>\n",
       "  </tbody>\n",
       "</table>\n",
       "</div>"
      ],
      "text/plain": [
       "   first     last                    email\n",
       "0  Corey  Schafer  CoreyMSchafer@gmail.com\n",
       "1   Jane      Doe        JaneDoe@gmail.com"
      ]
     },
     "execution_count": 12,
     "metadata": {},
     "output_type": "execute_result"
    }
   ],
   "source": [
    "people_df.loc[[0, 1]]"
   ]
  },
  {
   "cell_type": "code",
   "execution_count": 20,
   "id": "243a725b",
   "metadata": {},
   "outputs": [
    {
     "data": {
      "text/plain": [
       "0    CoreyMSchafer@gmail.com\n",
       "1          JaneDoe@gmail.com\n",
       "Name: email, dtype: object"
      ]
     },
     "execution_count": 20,
     "metadata": {},
     "output_type": "execute_result"
    }
   ],
   "source": [
    "people_df.loc[[0, 1], 'email']"
   ]
  },
  {
   "cell_type": "code",
   "execution_count": 21,
   "id": "0fa93349",
   "metadata": {},
   "outputs": [
    {
     "data": {
      "application/vnd.microsoft.datawrangler.viewer.v0+json": {
       "columns": [
        {
         "name": "index",
         "rawType": "int64",
         "type": "integer"
        },
        {
         "name": "email",
         "rawType": "object",
         "type": "string"
        }
       ],
       "conversionMethod": "pd.DataFrame",
       "ref": "230e6bcc-c88b-45c4-a08f-9539bcb50c20",
       "rows": [
        [
         "0",
         "CoreyMSchafer@gmail.com"
        ],
        [
         "1",
         "JaneDoe@gmail.com"
        ]
       ],
       "shape": {
        "columns": 1,
        "rows": 2
       }
      },
      "text/html": [
       "<div>\n",
       "<style scoped>\n",
       "    .dataframe tbody tr th:only-of-type {\n",
       "        vertical-align: middle;\n",
       "    }\n",
       "\n",
       "    .dataframe tbody tr th {\n",
       "        vertical-align: top;\n",
       "    }\n",
       "\n",
       "    .dataframe thead th {\n",
       "        text-align: right;\n",
       "    }\n",
       "</style>\n",
       "<table border=\"1\" class=\"dataframe\">\n",
       "  <thead>\n",
       "    <tr style=\"text-align: right;\">\n",
       "      <th></th>\n",
       "      <th>email</th>\n",
       "    </tr>\n",
       "  </thead>\n",
       "  <tbody>\n",
       "    <tr>\n",
       "      <th>0</th>\n",
       "      <td>CoreyMSchafer@gmail.com</td>\n",
       "    </tr>\n",
       "    <tr>\n",
       "      <th>1</th>\n",
       "      <td>JaneDoe@gmail.com</td>\n",
       "    </tr>\n",
       "  </tbody>\n",
       "</table>\n",
       "</div>"
      ],
      "text/plain": [
       "                     email\n",
       "0  CoreyMSchafer@gmail.com\n",
       "1        JaneDoe@gmail.com"
      ]
     },
     "execution_count": 21,
     "metadata": {},
     "output_type": "execute_result"
    }
   ],
   "source": [
    "people_df.loc[[0, 1], ['email']]"
   ]
  },
  {
   "cell_type": "code",
   "execution_count": 22,
   "id": "0b0b6d3e",
   "metadata": {},
   "outputs": [
    {
     "data": {
      "application/vnd.microsoft.datawrangler.viewer.v0+json": {
       "columns": [
        {
         "name": "index",
         "rawType": "int64",
         "type": "integer"
        },
        {
         "name": "email",
         "rawType": "object",
         "type": "string"
        },
        {
         "name": "last",
         "rawType": "object",
         "type": "string"
        }
       ],
       "conversionMethod": "pd.DataFrame",
       "ref": "5ef63c31-1bbd-4b93-97bf-e596561461bf",
       "rows": [
        [
         "0",
         "CoreyMSchafer@gmail.com",
         "Schafer"
        ],
        [
         "1",
         "JaneDoe@gmail.com",
         "Doe"
        ]
       ],
       "shape": {
        "columns": 2,
        "rows": 2
       }
      },
      "text/html": [
       "<div>\n",
       "<style scoped>\n",
       "    .dataframe tbody tr th:only-of-type {\n",
       "        vertical-align: middle;\n",
       "    }\n",
       "\n",
       "    .dataframe tbody tr th {\n",
       "        vertical-align: top;\n",
       "    }\n",
       "\n",
       "    .dataframe thead th {\n",
       "        text-align: right;\n",
       "    }\n",
       "</style>\n",
       "<table border=\"1\" class=\"dataframe\">\n",
       "  <thead>\n",
       "    <tr style=\"text-align: right;\">\n",
       "      <th></th>\n",
       "      <th>email</th>\n",
       "      <th>last</th>\n",
       "    </tr>\n",
       "  </thead>\n",
       "  <tbody>\n",
       "    <tr>\n",
       "      <th>0</th>\n",
       "      <td>CoreyMSchafer@gmail.com</td>\n",
       "      <td>Schafer</td>\n",
       "    </tr>\n",
       "    <tr>\n",
       "      <th>1</th>\n",
       "      <td>JaneDoe@gmail.com</td>\n",
       "      <td>Doe</td>\n",
       "    </tr>\n",
       "  </tbody>\n",
       "</table>\n",
       "</div>"
      ],
      "text/plain": [
       "                     email     last\n",
       "0  CoreyMSchafer@gmail.com  Schafer\n",
       "1        JaneDoe@gmail.com      Doe"
      ]
     },
     "execution_count": 22,
     "metadata": {},
     "output_type": "execute_result"
    }
   ],
   "source": [
    "people_df.loc[[0, 1], ['email', 'last']]"
   ]
  },
  {
   "cell_type": "markdown",
   "id": "f7d064ed",
   "metadata": {},
   "source": [
    "# bracket"
   ]
  },
  {
   "cell_type": "markdown",
   "id": "ce181688",
   "metadata": {},
   "source": [
    "## value_counts()"
   ]
  },
  {
   "cell_type": "code",
   "execution_count": 26,
   "id": "897e5737",
   "metadata": {},
   "outputs": [
    {
     "data": {
      "text/plain": [
       "Hobbyist\n",
       "Yes    50388\n",
       "No     14028\n",
       "Name: count, dtype: int64"
      ]
     },
     "execution_count": 26,
     "metadata": {},
     "output_type": "execute_result"
    }
   ],
   "source": [
    "survey_df['Hobbyist'].value_counts()"
   ]
  },
  {
   "cell_type": "markdown",
   "id": "6b9f10e1",
   "metadata": {},
   "source": [
    "## select series label"
   ]
  },
  {
   "cell_type": "code",
   "execution_count": 31,
   "id": "68b1cc01",
   "metadata": {},
   "outputs": [
    {
     "data": {
      "text/plain": [
       "50388"
      ]
     },
     "execution_count": 31,
     "metadata": {},
     "output_type": "execute_result"
    }
   ],
   "source": [
    "survey_df['Hobbyist'].value_counts()['Yes'].item()"
   ]
  },
  {
   "cell_type": "markdown",
   "id": "8963e006",
   "metadata": {},
   "source": [
    "## multi-index series"
   ]
  },
  {
   "cell_type": "code",
   "execution_count": 51,
   "id": "016b9863",
   "metadata": {},
   "outputs": [
    {
     "data": {
      "text/plain": [
       "Hobbyist  MainBranch                                                                   \n",
       "Yes       I am a developer by profession                                                   36318\n",
       "No        I am a developer by profession                                                   10845\n",
       "Yes       I am a student who is learning to code                                            6487\n",
       "          I am not primarily a developer, but I write code sometimes as part of my work     4115\n",
       "          I code primarily as a hobby                                                       2314\n",
       "No        I am a student who is learning to code                                            1476\n",
       "          I am not primarily a developer, but I write code sometimes as part of my work     1379\n",
       "Yes       I used to be a developer by profession, but no longer am                           908\n",
       "No        I used to be a developer by profession, but no longer am                           275\n",
       "Name: count, dtype: int64"
      ]
     },
     "execution_count": 51,
     "metadata": {},
     "output_type": "execute_result"
    }
   ],
   "source": [
    "survey_df[['Hobbyist', 'MainBranch']].value_counts()"
   ]
  },
  {
   "cell_type": "markdown",
   "id": "14586512",
   "metadata": {},
   "source": [
    "## slicing rows"
   ]
  },
  {
   "cell_type": "markdown",
   "id": "4e461f2b",
   "metadata": {},
   "source": [
    "### bracket syntax"
   ]
  },
  {
   "cell_type": "code",
   "execution_count": 33,
   "id": "bd144459",
   "metadata": {},
   "outputs": [
    {
     "data": {
      "application/vnd.microsoft.datawrangler.viewer.v0+json": {
       "columns": [
        {
         "name": "index",
         "rawType": "int64",
         "type": "integer"
        },
        {
         "name": "Respondent",
         "rawType": "int64",
         "type": "integer"
        },
        {
         "name": "MainBranch",
         "rawType": "object",
         "type": "string"
        },
        {
         "name": "Hobbyist",
         "rawType": "object",
         "type": "string"
        },
        {
         "name": "Age",
         "rawType": "float64",
         "type": "float"
        },
        {
         "name": "Age1stCode",
         "rawType": "object",
         "type": "string"
        },
        {
         "name": "CompFreq",
         "rawType": "object",
         "type": "unknown"
        },
        {
         "name": "CompTotal",
         "rawType": "float64",
         "type": "float"
        },
        {
         "name": "ConvertedComp",
         "rawType": "float64",
         "type": "float"
        },
        {
         "name": "Country",
         "rawType": "object",
         "type": "string"
        },
        {
         "name": "CurrencyDesc",
         "rawType": "object",
         "type": "string"
        },
        {
         "name": "CurrencySymbol",
         "rawType": "object",
         "type": "string"
        },
        {
         "name": "DatabaseDesireNextYear",
         "rawType": "object",
         "type": "unknown"
        },
        {
         "name": "DatabaseWorkedWith",
         "rawType": "object",
         "type": "unknown"
        },
        {
         "name": "DevType",
         "rawType": "object",
         "type": "string"
        },
        {
         "name": "EdLevel",
         "rawType": "object",
         "type": "string"
        },
        {
         "name": "Employment",
         "rawType": "object",
         "type": "string"
        },
        {
         "name": "Ethnicity",
         "rawType": "object",
         "type": "unknown"
        },
        {
         "name": "Gender",
         "rawType": "object",
         "type": "unknown"
        },
        {
         "name": "JobFactors",
         "rawType": "object",
         "type": "unknown"
        },
        {
         "name": "JobSat",
         "rawType": "object",
         "type": "string"
        },
        {
         "name": "JobSeek",
         "rawType": "object",
         "type": "string"
        },
        {
         "name": "LanguageDesireNextYear",
         "rawType": "object",
         "type": "string"
        },
        {
         "name": "LanguageWorkedWith",
         "rawType": "object",
         "type": "string"
        },
        {
         "name": "MiscTechDesireNextYear",
         "rawType": "object",
         "type": "string"
        },
        {
         "name": "MiscTechWorkedWith",
         "rawType": "object",
         "type": "string"
        },
        {
         "name": "NEWCollabToolsDesireNextYear",
         "rawType": "object",
         "type": "string"
        },
        {
         "name": "NEWCollabToolsWorkedWith",
         "rawType": "object",
         "type": "string"
        },
        {
         "name": "NEWDevOps",
         "rawType": "object",
         "type": "unknown"
        },
        {
         "name": "NEWDevOpsImpt",
         "rawType": "object",
         "type": "unknown"
        },
        {
         "name": "NEWEdImpt",
         "rawType": "object",
         "type": "string"
        },
        {
         "name": "NEWJobHunt",
         "rawType": "object",
         "type": "unknown"
        },
        {
         "name": "NEWJobHuntResearch",
         "rawType": "object",
         "type": "unknown"
        },
        {
         "name": "NEWLearn",
         "rawType": "object",
         "type": "string"
        },
        {
         "name": "NEWOffTopic",
         "rawType": "object",
         "type": "string"
        },
        {
         "name": "NEWOnboardGood",
         "rawType": "object",
         "type": "unknown"
        },
        {
         "name": "NEWOtherComms",
         "rawType": "object",
         "type": "string"
        },
        {
         "name": "NEWOvertime",
         "rawType": "object",
         "type": "unknown"
        },
        {
         "name": "NEWPurchaseResearch",
         "rawType": "object",
         "type": "unknown"
        },
        {
         "name": "NEWPurpleLink",
         "rawType": "object",
         "type": "string"
        },
        {
         "name": "NEWSOSites",
         "rawType": "object",
         "type": "string"
        },
        {
         "name": "NEWStuck",
         "rawType": "object",
         "type": "string"
        },
        {
         "name": "OpSys",
         "rawType": "object",
         "type": "string"
        },
        {
         "name": "OrgSize",
         "rawType": "object",
         "type": "string"
        },
        {
         "name": "PlatformDesireNextYear",
         "rawType": "object",
         "type": "string"
        },
        {
         "name": "PlatformWorkedWith",
         "rawType": "object",
         "type": "string"
        },
        {
         "name": "PurchaseWhat",
         "rawType": "object",
         "type": "unknown"
        },
        {
         "name": "Sexuality",
         "rawType": "object",
         "type": "unknown"
        },
        {
         "name": "SOAccount",
         "rawType": "object",
         "type": "string"
        },
        {
         "name": "SOComm",
         "rawType": "object",
         "type": "string"
        },
        {
         "name": "SOPartFreq",
         "rawType": "object",
         "type": "unknown"
        },
        {
         "name": "SOVisitFreq",
         "rawType": "object",
         "type": "string"
        },
        {
         "name": "SurveyEase",
         "rawType": "object",
         "type": "unknown"
        },
        {
         "name": "SurveyLength",
         "rawType": "object",
         "type": "unknown"
        },
        {
         "name": "Trans",
         "rawType": "object",
         "type": "unknown"
        },
        {
         "name": "UndergradMajor",
         "rawType": "object",
         "type": "string"
        },
        {
         "name": "WebframeDesireNextYear",
         "rawType": "object",
         "type": "unknown"
        },
        {
         "name": "WebframeWorkedWith",
         "rawType": "object",
         "type": "unknown"
        },
        {
         "name": "WelcomeChange",
         "rawType": "object",
         "type": "string"
        },
        {
         "name": "WorkWeekHrs",
         "rawType": "float64",
         "type": "float"
        },
        {
         "name": "YearsCode",
         "rawType": "object",
         "type": "string"
        },
        {
         "name": "YearsCodePro",
         "rawType": "object",
         "type": "string"
        }
       ],
       "conversionMethod": "pd.DataFrame",
       "ref": "7a142c5a-d235-4217-8280-7f968845eb0e",
       "rows": [
        [
         "0",
         "1",
         "I am a developer by profession",
         "Yes",
         null,
         "13",
         "Monthly",
         null,
         null,
         "Germany",
         "European Euro",
         "EUR",
         "Microsoft SQL Server",
         "Elasticsearch;Microsoft SQL Server;Oracle",
         "Developer, desktop or enterprise applications;Developer, full-stack",
         "Master’s degree (M.A., M.S., M.Eng., MBA, etc.)",
         "Independent contractor, freelancer, or self-employed",
         "White or of European descent",
         "Man",
         "Languages, frameworks, and other technologies I’d be working with;Remote work options;Opportunities for professional development",
         "Slightly satisfied",
         "I am not interested in new job opportunities",
         "C#;HTML/CSS;JavaScript",
         "C#;HTML/CSS;JavaScript",
         ".NET Core;Xamarin",
         ".NET;.NET Core",
         "Microsoft Teams;Microsoft Azure;Trello",
         "Confluence;Jira;Slack;Microsoft Azure;Trello",
         "No",
         "Somewhat important",
         "Fairly important",
         null,
         null,
         "Once a year",
         "Not sure",
         null,
         "No",
         "Often: 1-2 days per week or more",
         "Start a free trial;Ask developers I know/work with",
         "Amused",
         "Stack Overflow (public Q&A for anyone who codes)",
         "Visit Stack Overflow;Go for a walk or other physical activity;Do other work and come back later",
         "Windows",
         "2 to 9 employees",
         "Android;iOS;Kubernetes;Microsoft Azure;Windows",
         "Windows",
         null,
         "Straight / Heterosexual",
         "No",
         "No, not at all",
         null,
         "Multiple times per day",
         "Neither easy nor difficult",
         "Appropriate in length",
         "No",
         "Computer science, computer engineering, or software engineering",
         "ASP.NET Core",
         "ASP.NET;ASP.NET Core",
         "Just as welcome now as I felt last year",
         "50.0",
         "36",
         "27"
        ],
        [
         "1",
         "2",
         "I am a developer by profession",
         "No",
         null,
         "19",
         null,
         null,
         null,
         "United Kingdom",
         "Pound sterling",
         "GBP",
         null,
         null,
         "Developer, full-stack;Developer, mobile",
         "Bachelor’s degree (B.A., B.S., B.Eng., etc.)",
         "Employed full-time",
         null,
         null,
         null,
         "Very dissatisfied",
         "I am not interested in new job opportunities",
         "Python;Swift",
         "JavaScript;Swift",
         "React Native;TensorFlow;Unity 3D",
         "React Native",
         "Github;Slack",
         "Confluence;Jira;Github;Gitlab;Slack",
         null,
         null,
         "Fairly important",
         null,
         null,
         "Once a year",
         "Not sure",
         null,
         "No",
         null,
         null,
         "Amused",
         "Stack Overflow (public Q&A for anyone who codes);Stack Exchange (public Q&A for a variety of topics);Stack Overflow Jobs (for job seekers)",
         "Visit Stack Overflow;Go for a walk or other physical activity",
         "MacOS",
         "1,000 to 4,999 employees",
         "iOS;Kubernetes;Linux;MacOS",
         "iOS",
         "I have little or no influence",
         null,
         "Yes",
         "Yes, definitely",
         "Less than once per month or monthly",
         "Multiple times per day",
         null,
         null,
         null,
         "Computer science, computer engineering, or software engineering",
         null,
         null,
         "Somewhat more welcome now than last year",
         null,
         "7",
         "4"
        ]
       ],
       "shape": {
        "columns": 61,
        "rows": 2
       }
      },
      "text/html": [
       "<div>\n",
       "<style scoped>\n",
       "    .dataframe tbody tr th:only-of-type {\n",
       "        vertical-align: middle;\n",
       "    }\n",
       "\n",
       "    .dataframe tbody tr th {\n",
       "        vertical-align: top;\n",
       "    }\n",
       "\n",
       "    .dataframe thead th {\n",
       "        text-align: right;\n",
       "    }\n",
       "</style>\n",
       "<table border=\"1\" class=\"dataframe\">\n",
       "  <thead>\n",
       "    <tr style=\"text-align: right;\">\n",
       "      <th></th>\n",
       "      <th>Respondent</th>\n",
       "      <th>MainBranch</th>\n",
       "      <th>Hobbyist</th>\n",
       "      <th>Age</th>\n",
       "      <th>Age1stCode</th>\n",
       "      <th>CompFreq</th>\n",
       "      <th>CompTotal</th>\n",
       "      <th>ConvertedComp</th>\n",
       "      <th>Country</th>\n",
       "      <th>CurrencyDesc</th>\n",
       "      <th>CurrencySymbol</th>\n",
       "      <th>DatabaseDesireNextYear</th>\n",
       "      <th>DatabaseWorkedWith</th>\n",
       "      <th>DevType</th>\n",
       "      <th>EdLevel</th>\n",
       "      <th>Employment</th>\n",
       "      <th>Ethnicity</th>\n",
       "      <th>Gender</th>\n",
       "      <th>JobFactors</th>\n",
       "      <th>JobSat</th>\n",
       "      <th>JobSeek</th>\n",
       "      <th>LanguageDesireNextYear</th>\n",
       "      <th>LanguageWorkedWith</th>\n",
       "      <th>MiscTechDesireNextYear</th>\n",
       "      <th>MiscTechWorkedWith</th>\n",
       "      <th>NEWCollabToolsDesireNextYear</th>\n",
       "      <th>NEWCollabToolsWorkedWith</th>\n",
       "      <th>NEWDevOps</th>\n",
       "      <th>NEWDevOpsImpt</th>\n",
       "      <th>NEWEdImpt</th>\n",
       "      <th>NEWJobHunt</th>\n",
       "      <th>NEWJobHuntResearch</th>\n",
       "      <th>NEWLearn</th>\n",
       "      <th>NEWOffTopic</th>\n",
       "      <th>NEWOnboardGood</th>\n",
       "      <th>NEWOtherComms</th>\n",
       "      <th>NEWOvertime</th>\n",
       "      <th>NEWPurchaseResearch</th>\n",
       "      <th>NEWPurpleLink</th>\n",
       "      <th>NEWSOSites</th>\n",
       "      <th>NEWStuck</th>\n",
       "      <th>OpSys</th>\n",
       "      <th>OrgSize</th>\n",
       "      <th>PlatformDesireNextYear</th>\n",
       "      <th>PlatformWorkedWith</th>\n",
       "      <th>PurchaseWhat</th>\n",
       "      <th>Sexuality</th>\n",
       "      <th>SOAccount</th>\n",
       "      <th>SOComm</th>\n",
       "      <th>SOPartFreq</th>\n",
       "      <th>SOVisitFreq</th>\n",
       "      <th>SurveyEase</th>\n",
       "      <th>SurveyLength</th>\n",
       "      <th>Trans</th>\n",
       "      <th>UndergradMajor</th>\n",
       "      <th>WebframeDesireNextYear</th>\n",
       "      <th>WebframeWorkedWith</th>\n",
       "      <th>WelcomeChange</th>\n",
       "      <th>WorkWeekHrs</th>\n",
       "      <th>YearsCode</th>\n",
       "      <th>YearsCodePro</th>\n",
       "    </tr>\n",
       "  </thead>\n",
       "  <tbody>\n",
       "    <tr>\n",
       "      <th>0</th>\n",
       "      <td>1</td>\n",
       "      <td>I am a developer by profession</td>\n",
       "      <td>Yes</td>\n",
       "      <td>NaN</td>\n",
       "      <td>13</td>\n",
       "      <td>Monthly</td>\n",
       "      <td>NaN</td>\n",
       "      <td>NaN</td>\n",
       "      <td>Germany</td>\n",
       "      <td>European Euro</td>\n",
       "      <td>EUR</td>\n",
       "      <td>Microsoft SQL Server</td>\n",
       "      <td>Elasticsearch;Microsoft SQL Server;Oracle</td>\n",
       "      <td>Developer, desktop or enterprise applications;...</td>\n",
       "      <td>Master’s degree (M.A., M.S., M.Eng., MBA, etc.)</td>\n",
       "      <td>Independent contractor, freelancer, or self-em...</td>\n",
       "      <td>White or of European descent</td>\n",
       "      <td>Man</td>\n",
       "      <td>Languages, frameworks, and other technologies ...</td>\n",
       "      <td>Slightly satisfied</td>\n",
       "      <td>I am not interested in new job opportunities</td>\n",
       "      <td>C#;HTML/CSS;JavaScript</td>\n",
       "      <td>C#;HTML/CSS;JavaScript</td>\n",
       "      <td>.NET Core;Xamarin</td>\n",
       "      <td>.NET;.NET Core</td>\n",
       "      <td>Microsoft Teams;Microsoft Azure;Trello</td>\n",
       "      <td>Confluence;Jira;Slack;Microsoft Azure;Trello</td>\n",
       "      <td>No</td>\n",
       "      <td>Somewhat important</td>\n",
       "      <td>Fairly important</td>\n",
       "      <td>NaN</td>\n",
       "      <td>NaN</td>\n",
       "      <td>Once a year</td>\n",
       "      <td>Not sure</td>\n",
       "      <td>NaN</td>\n",
       "      <td>No</td>\n",
       "      <td>Often: 1-2 days per week or more</td>\n",
       "      <td>Start a free trial;Ask developers I know/work ...</td>\n",
       "      <td>Amused</td>\n",
       "      <td>Stack Overflow (public Q&amp;A for anyone who codes)</td>\n",
       "      <td>Visit Stack Overflow;Go for a walk or other ph...</td>\n",
       "      <td>Windows</td>\n",
       "      <td>2 to 9 employees</td>\n",
       "      <td>Android;iOS;Kubernetes;Microsoft Azure;Windows</td>\n",
       "      <td>Windows</td>\n",
       "      <td>NaN</td>\n",
       "      <td>Straight / Heterosexual</td>\n",
       "      <td>No</td>\n",
       "      <td>No, not at all</td>\n",
       "      <td>NaN</td>\n",
       "      <td>Multiple times per day</td>\n",
       "      <td>Neither easy nor difficult</td>\n",
       "      <td>Appropriate in length</td>\n",
       "      <td>No</td>\n",
       "      <td>Computer science, computer engineering, or sof...</td>\n",
       "      <td>ASP.NET Core</td>\n",
       "      <td>ASP.NET;ASP.NET Core</td>\n",
       "      <td>Just as welcome now as I felt last year</td>\n",
       "      <td>50.0</td>\n",
       "      <td>36</td>\n",
       "      <td>27</td>\n",
       "    </tr>\n",
       "    <tr>\n",
       "      <th>1</th>\n",
       "      <td>2</td>\n",
       "      <td>I am a developer by profession</td>\n",
       "      <td>No</td>\n",
       "      <td>NaN</td>\n",
       "      <td>19</td>\n",
       "      <td>NaN</td>\n",
       "      <td>NaN</td>\n",
       "      <td>NaN</td>\n",
       "      <td>United Kingdom</td>\n",
       "      <td>Pound sterling</td>\n",
       "      <td>GBP</td>\n",
       "      <td>NaN</td>\n",
       "      <td>NaN</td>\n",
       "      <td>Developer, full-stack;Developer, mobile</td>\n",
       "      <td>Bachelor’s degree (B.A., B.S., B.Eng., etc.)</td>\n",
       "      <td>Employed full-time</td>\n",
       "      <td>NaN</td>\n",
       "      <td>NaN</td>\n",
       "      <td>NaN</td>\n",
       "      <td>Very dissatisfied</td>\n",
       "      <td>I am not interested in new job opportunities</td>\n",
       "      <td>Python;Swift</td>\n",
       "      <td>JavaScript;Swift</td>\n",
       "      <td>React Native;TensorFlow;Unity 3D</td>\n",
       "      <td>React Native</td>\n",
       "      <td>Github;Slack</td>\n",
       "      <td>Confluence;Jira;Github;Gitlab;Slack</td>\n",
       "      <td>NaN</td>\n",
       "      <td>NaN</td>\n",
       "      <td>Fairly important</td>\n",
       "      <td>NaN</td>\n",
       "      <td>NaN</td>\n",
       "      <td>Once a year</td>\n",
       "      <td>Not sure</td>\n",
       "      <td>NaN</td>\n",
       "      <td>No</td>\n",
       "      <td>NaN</td>\n",
       "      <td>NaN</td>\n",
       "      <td>Amused</td>\n",
       "      <td>Stack Overflow (public Q&amp;A for anyone who code...</td>\n",
       "      <td>Visit Stack Overflow;Go for a walk or other ph...</td>\n",
       "      <td>MacOS</td>\n",
       "      <td>1,000 to 4,999 employees</td>\n",
       "      <td>iOS;Kubernetes;Linux;MacOS</td>\n",
       "      <td>iOS</td>\n",
       "      <td>I have little or no influence</td>\n",
       "      <td>NaN</td>\n",
       "      <td>Yes</td>\n",
       "      <td>Yes, definitely</td>\n",
       "      <td>Less than once per month or monthly</td>\n",
       "      <td>Multiple times per day</td>\n",
       "      <td>NaN</td>\n",
       "      <td>NaN</td>\n",
       "      <td>NaN</td>\n",
       "      <td>Computer science, computer engineering, or sof...</td>\n",
       "      <td>NaN</td>\n",
       "      <td>NaN</td>\n",
       "      <td>Somewhat more welcome now than last year</td>\n",
       "      <td>NaN</td>\n",
       "      <td>7</td>\n",
       "      <td>4</td>\n",
       "    </tr>\n",
       "  </tbody>\n",
       "</table>\n",
       "</div>"
      ],
      "text/plain": [
       "   Respondent                      MainBranch Hobbyist  Age Age1stCode  \\\n",
       "0           1  I am a developer by profession      Yes  NaN         13   \n",
       "1           2  I am a developer by profession       No  NaN         19   \n",
       "\n",
       "  CompFreq  CompTotal  ConvertedComp         Country    CurrencyDesc  \\\n",
       "0  Monthly        NaN            NaN         Germany   European Euro   \n",
       "1      NaN        NaN            NaN  United Kingdom  Pound sterling   \n",
       "\n",
       "  CurrencySymbol DatabaseDesireNextYear  \\\n",
       "0            EUR   Microsoft SQL Server   \n",
       "1            GBP                    NaN   \n",
       "\n",
       "                          DatabaseWorkedWith  \\\n",
       "0  Elasticsearch;Microsoft SQL Server;Oracle   \n",
       "1                                        NaN   \n",
       "\n",
       "                                             DevType  \\\n",
       "0  Developer, desktop or enterprise applications;...   \n",
       "1            Developer, full-stack;Developer, mobile   \n",
       "\n",
       "                                           EdLevel  \\\n",
       "0  Master’s degree (M.A., M.S., M.Eng., MBA, etc.)   \n",
       "1     Bachelor’s degree (B.A., B.S., B.Eng., etc.)   \n",
       "\n",
       "                                          Employment  \\\n",
       "0  Independent contractor, freelancer, or self-em...   \n",
       "1                                 Employed full-time   \n",
       "\n",
       "                      Ethnicity Gender  \\\n",
       "0  White or of European descent    Man   \n",
       "1                           NaN    NaN   \n",
       "\n",
       "                                          JobFactors              JobSat  \\\n",
       "0  Languages, frameworks, and other technologies ...  Slightly satisfied   \n",
       "1                                                NaN   Very dissatisfied   \n",
       "\n",
       "                                        JobSeek  LanguageDesireNextYear  \\\n",
       "0  I am not interested in new job opportunities  C#;HTML/CSS;JavaScript   \n",
       "1  I am not interested in new job opportunities            Python;Swift   \n",
       "\n",
       "       LanguageWorkedWith            MiscTechDesireNextYear  \\\n",
       "0  C#;HTML/CSS;JavaScript                 .NET Core;Xamarin   \n",
       "1        JavaScript;Swift  React Native;TensorFlow;Unity 3D   \n",
       "\n",
       "  MiscTechWorkedWith            NEWCollabToolsDesireNextYear  \\\n",
       "0     .NET;.NET Core  Microsoft Teams;Microsoft Azure;Trello   \n",
       "1       React Native                            Github;Slack   \n",
       "\n",
       "                       NEWCollabToolsWorkedWith NEWDevOps       NEWDevOpsImpt  \\\n",
       "0  Confluence;Jira;Slack;Microsoft Azure;Trello        No  Somewhat important   \n",
       "1           Confluence;Jira;Github;Gitlab;Slack       NaN                 NaN   \n",
       "\n",
       "          NEWEdImpt NEWJobHunt NEWJobHuntResearch     NEWLearn NEWOffTopic  \\\n",
       "0  Fairly important        NaN                NaN  Once a year    Not sure   \n",
       "1  Fairly important        NaN                NaN  Once a year    Not sure   \n",
       "\n",
       "  NEWOnboardGood NEWOtherComms                       NEWOvertime  \\\n",
       "0            NaN            No  Often: 1-2 days per week or more   \n",
       "1            NaN            No                               NaN   \n",
       "\n",
       "                                 NEWPurchaseResearch NEWPurpleLink  \\\n",
       "0  Start a free trial;Ask developers I know/work ...        Amused   \n",
       "1                                                NaN        Amused   \n",
       "\n",
       "                                          NEWSOSites  \\\n",
       "0   Stack Overflow (public Q&A for anyone who codes)   \n",
       "1  Stack Overflow (public Q&A for anyone who code...   \n",
       "\n",
       "                                            NEWStuck    OpSys  \\\n",
       "0  Visit Stack Overflow;Go for a walk or other ph...  Windows   \n",
       "1  Visit Stack Overflow;Go for a walk or other ph...    MacOS   \n",
       "\n",
       "                    OrgSize                          PlatformDesireNextYear  \\\n",
       "0          2 to 9 employees  Android;iOS;Kubernetes;Microsoft Azure;Windows   \n",
       "1  1,000 to 4,999 employees                      iOS;Kubernetes;Linux;MacOS   \n",
       "\n",
       "  PlatformWorkedWith                   PurchaseWhat                Sexuality  \\\n",
       "0            Windows                            NaN  Straight / Heterosexual   \n",
       "1                iOS  I have little or no influence                      NaN   \n",
       "\n",
       "  SOAccount           SOComm                           SOPartFreq  \\\n",
       "0        No   No, not at all                                  NaN   \n",
       "1       Yes  Yes, definitely  Less than once per month or monthly   \n",
       "\n",
       "              SOVisitFreq                  SurveyEase           SurveyLength  \\\n",
       "0  Multiple times per day  Neither easy nor difficult  Appropriate in length   \n",
       "1  Multiple times per day                         NaN                    NaN   \n",
       "\n",
       "  Trans                                     UndergradMajor  \\\n",
       "0    No  Computer science, computer engineering, or sof...   \n",
       "1   NaN  Computer science, computer engineering, or sof...   \n",
       "\n",
       "  WebframeDesireNextYear    WebframeWorkedWith  \\\n",
       "0           ASP.NET Core  ASP.NET;ASP.NET Core   \n",
       "1                    NaN                   NaN   \n",
       "\n",
       "                              WelcomeChange  WorkWeekHrs YearsCode  \\\n",
       "0   Just as welcome now as I felt last year         50.0        36   \n",
       "1  Somewhat more welcome now than last year          NaN         7   \n",
       "\n",
       "  YearsCodePro  \n",
       "0           27  \n",
       "1            4  "
      ]
     },
     "execution_count": 33,
     "metadata": {},
     "output_type": "execute_result"
    }
   ],
   "source": [
    "survey_df[0:2]"
   ]
  },
  {
   "cell_type": "markdown",
   "id": "67bc072a",
   "metadata": {},
   "source": [
    "### loc -- inclusive"
   ]
  },
  {
   "cell_type": "code",
   "execution_count": 34,
   "id": "bb42bef8",
   "metadata": {},
   "outputs": [
    {
     "data": {
      "application/vnd.microsoft.datawrangler.viewer.v0+json": {
       "columns": [
        {
         "name": "index",
         "rawType": "int64",
         "type": "integer"
        },
        {
         "name": "Respondent",
         "rawType": "int64",
         "type": "integer"
        },
        {
         "name": "MainBranch",
         "rawType": "object",
         "type": "string"
        },
        {
         "name": "Hobbyist",
         "rawType": "object",
         "type": "string"
        },
        {
         "name": "Age",
         "rawType": "float64",
         "type": "float"
        },
        {
         "name": "Age1stCode",
         "rawType": "object",
         "type": "string"
        },
        {
         "name": "CompFreq",
         "rawType": "object",
         "type": "unknown"
        },
        {
         "name": "CompTotal",
         "rawType": "float64",
         "type": "float"
        },
        {
         "name": "ConvertedComp",
         "rawType": "float64",
         "type": "float"
        },
        {
         "name": "Country",
         "rawType": "object",
         "type": "string"
        },
        {
         "name": "CurrencyDesc",
         "rawType": "object",
         "type": "unknown"
        },
        {
         "name": "CurrencySymbol",
         "rawType": "object",
         "type": "unknown"
        },
        {
         "name": "DatabaseDesireNextYear",
         "rawType": "object",
         "type": "unknown"
        },
        {
         "name": "DatabaseWorkedWith",
         "rawType": "object",
         "type": "unknown"
        },
        {
         "name": "DevType",
         "rawType": "object",
         "type": "unknown"
        },
        {
         "name": "EdLevel",
         "rawType": "object",
         "type": "unknown"
        },
        {
         "name": "Employment",
         "rawType": "object",
         "type": "unknown"
        },
        {
         "name": "Ethnicity",
         "rawType": "object",
         "type": "unknown"
        },
        {
         "name": "Gender",
         "rawType": "object",
         "type": "unknown"
        },
        {
         "name": "JobFactors",
         "rawType": "object",
         "type": "unknown"
        },
        {
         "name": "JobSat",
         "rawType": "object",
         "type": "unknown"
        },
        {
         "name": "JobSeek",
         "rawType": "object",
         "type": "unknown"
        },
        {
         "name": "LanguageDesireNextYear",
         "rawType": "object",
         "type": "string"
        },
        {
         "name": "LanguageWorkedWith",
         "rawType": "object",
         "type": "string"
        },
        {
         "name": "MiscTechDesireNextYear",
         "rawType": "object",
         "type": "unknown"
        },
        {
         "name": "MiscTechWorkedWith",
         "rawType": "object",
         "type": "unknown"
        },
        {
         "name": "NEWCollabToolsDesireNextYear",
         "rawType": "object",
         "type": "unknown"
        },
        {
         "name": "NEWCollabToolsWorkedWith",
         "rawType": "object",
         "type": "unknown"
        },
        {
         "name": "NEWDevOps",
         "rawType": "object",
         "type": "unknown"
        },
        {
         "name": "NEWDevOpsImpt",
         "rawType": "object",
         "type": "unknown"
        },
        {
         "name": "NEWEdImpt",
         "rawType": "object",
         "type": "unknown"
        },
        {
         "name": "NEWJobHunt",
         "rawType": "object",
         "type": "unknown"
        },
        {
         "name": "NEWJobHuntResearch",
         "rawType": "object",
         "type": "unknown"
        },
        {
         "name": "NEWLearn",
         "rawType": "object",
         "type": "string"
        },
        {
         "name": "NEWOffTopic",
         "rawType": "object",
         "type": "unknown"
        },
        {
         "name": "NEWOnboardGood",
         "rawType": "object",
         "type": "unknown"
        },
        {
         "name": "NEWOtherComms",
         "rawType": "object",
         "type": "string"
        },
        {
         "name": "NEWOvertime",
         "rawType": "object",
         "type": "unknown"
        },
        {
         "name": "NEWPurchaseResearch",
         "rawType": "object",
         "type": "unknown"
        },
        {
         "name": "NEWPurpleLink",
         "rawType": "object",
         "type": "unknown"
        },
        {
         "name": "NEWSOSites",
         "rawType": "object",
         "type": "string"
        },
        {
         "name": "NEWStuck",
         "rawType": "object",
         "type": "unknown"
        },
        {
         "name": "OpSys",
         "rawType": "object",
         "type": "string"
        },
        {
         "name": "OrgSize",
         "rawType": "object",
         "type": "unknown"
        },
        {
         "name": "PlatformDesireNextYear",
         "rawType": "object",
         "type": "unknown"
        },
        {
         "name": "PlatformWorkedWith",
         "rawType": "object",
         "type": "unknown"
        },
        {
         "name": "PurchaseWhat",
         "rawType": "object",
         "type": "unknown"
        },
        {
         "name": "Sexuality",
         "rawType": "object",
         "type": "unknown"
        },
        {
         "name": "SOAccount",
         "rawType": "object",
         "type": "string"
        },
        {
         "name": "SOComm",
         "rawType": "object",
         "type": "string"
        },
        {
         "name": "SOPartFreq",
         "rawType": "object",
         "type": "unknown"
        },
        {
         "name": "SOVisitFreq",
         "rawType": "object",
         "type": "string"
        },
        {
         "name": "SurveyEase",
         "rawType": "object",
         "type": "unknown"
        },
        {
         "name": "SurveyLength",
         "rawType": "object",
         "type": "unknown"
        },
        {
         "name": "Trans",
         "rawType": "object",
         "type": "unknown"
        },
        {
         "name": "UndergradMajor",
         "rawType": "object",
         "type": "unknown"
        },
        {
         "name": "WebframeDesireNextYear",
         "rawType": "object",
         "type": "unknown"
        },
        {
         "name": "WebframeWorkedWith",
         "rawType": "object",
         "type": "unknown"
        },
        {
         "name": "WelcomeChange",
         "rawType": "object",
         "type": "string"
        },
        {
         "name": "WorkWeekHrs",
         "rawType": "float64",
         "type": "float"
        },
        {
         "name": "YearsCode",
         "rawType": "object",
         "type": "string"
        },
        {
         "name": "YearsCodePro",
         "rawType": "object",
         "type": "unknown"
        }
       ],
       "conversionMethod": "pd.DataFrame",
       "ref": "739550b5-43d7-4ce2-99a2-74810d332f9e",
       "rows": [
        [
         "0",
         "1",
         "I am a developer by profession",
         "Yes",
         null,
         "13",
         "Monthly",
         null,
         null,
         "Germany",
         "European Euro",
         "EUR",
         "Microsoft SQL Server",
         "Elasticsearch;Microsoft SQL Server;Oracle",
         "Developer, desktop or enterprise applications;Developer, full-stack",
         "Master’s degree (M.A., M.S., M.Eng., MBA, etc.)",
         "Independent contractor, freelancer, or self-employed",
         "White or of European descent",
         "Man",
         "Languages, frameworks, and other technologies I’d be working with;Remote work options;Opportunities for professional development",
         "Slightly satisfied",
         "I am not interested in new job opportunities",
         "C#;HTML/CSS;JavaScript",
         "C#;HTML/CSS;JavaScript",
         ".NET Core;Xamarin",
         ".NET;.NET Core",
         "Microsoft Teams;Microsoft Azure;Trello",
         "Confluence;Jira;Slack;Microsoft Azure;Trello",
         "No",
         "Somewhat important",
         "Fairly important",
         null,
         null,
         "Once a year",
         "Not sure",
         null,
         "No",
         "Often: 1-2 days per week or more",
         "Start a free trial;Ask developers I know/work with",
         "Amused",
         "Stack Overflow (public Q&A for anyone who codes)",
         "Visit Stack Overflow;Go for a walk or other physical activity;Do other work and come back later",
         "Windows",
         "2 to 9 employees",
         "Android;iOS;Kubernetes;Microsoft Azure;Windows",
         "Windows",
         null,
         "Straight / Heterosexual",
         "No",
         "No, not at all",
         null,
         "Multiple times per day",
         "Neither easy nor difficult",
         "Appropriate in length",
         "No",
         "Computer science, computer engineering, or software engineering",
         "ASP.NET Core",
         "ASP.NET;ASP.NET Core",
         "Just as welcome now as I felt last year",
         "50.0",
         "36",
         "27"
        ],
        [
         "1",
         "2",
         "I am a developer by profession",
         "No",
         null,
         "19",
         null,
         null,
         null,
         "United Kingdom",
         "Pound sterling",
         "GBP",
         null,
         null,
         "Developer, full-stack;Developer, mobile",
         "Bachelor’s degree (B.A., B.S., B.Eng., etc.)",
         "Employed full-time",
         null,
         null,
         null,
         "Very dissatisfied",
         "I am not interested in new job opportunities",
         "Python;Swift",
         "JavaScript;Swift",
         "React Native;TensorFlow;Unity 3D",
         "React Native",
         "Github;Slack",
         "Confluence;Jira;Github;Gitlab;Slack",
         null,
         null,
         "Fairly important",
         null,
         null,
         "Once a year",
         "Not sure",
         null,
         "No",
         null,
         null,
         "Amused",
         "Stack Overflow (public Q&A for anyone who codes);Stack Exchange (public Q&A for a variety of topics);Stack Overflow Jobs (for job seekers)",
         "Visit Stack Overflow;Go for a walk or other physical activity",
         "MacOS",
         "1,000 to 4,999 employees",
         "iOS;Kubernetes;Linux;MacOS",
         "iOS",
         "I have little or no influence",
         null,
         "Yes",
         "Yes, definitely",
         "Less than once per month or monthly",
         "Multiple times per day",
         null,
         null,
         null,
         "Computer science, computer engineering, or software engineering",
         null,
         null,
         "Somewhat more welcome now than last year",
         null,
         "7",
         "4"
        ],
        [
         "2",
         "3",
         "I code primarily as a hobby",
         "Yes",
         null,
         "15",
         null,
         null,
         null,
         "Russian Federation",
         null,
         null,
         null,
         null,
         null,
         null,
         null,
         null,
         null,
         null,
         null,
         null,
         "Objective-C;Python;Swift",
         "Objective-C;Python;Swift",
         null,
         null,
         null,
         null,
         null,
         null,
         null,
         null,
         null,
         "Once a decade",
         null,
         null,
         "No",
         null,
         null,
         null,
         "Stack Overflow (public Q&A for anyone who codes)",
         null,
         "Linux-based",
         null,
         null,
         null,
         null,
         null,
         "Yes",
         "Yes, somewhat",
         "A few times per month or weekly",
         "Daily or almost daily",
         "Neither easy nor difficult",
         "Appropriate in length",
         null,
         null,
         null,
         null,
         "Somewhat more welcome now than last year",
         null,
         "4",
         null
        ]
       ],
       "shape": {
        "columns": 61,
        "rows": 3
       }
      },
      "text/html": [
       "<div>\n",
       "<style scoped>\n",
       "    .dataframe tbody tr th:only-of-type {\n",
       "        vertical-align: middle;\n",
       "    }\n",
       "\n",
       "    .dataframe tbody tr th {\n",
       "        vertical-align: top;\n",
       "    }\n",
       "\n",
       "    .dataframe thead th {\n",
       "        text-align: right;\n",
       "    }\n",
       "</style>\n",
       "<table border=\"1\" class=\"dataframe\">\n",
       "  <thead>\n",
       "    <tr style=\"text-align: right;\">\n",
       "      <th></th>\n",
       "      <th>Respondent</th>\n",
       "      <th>MainBranch</th>\n",
       "      <th>Hobbyist</th>\n",
       "      <th>Age</th>\n",
       "      <th>Age1stCode</th>\n",
       "      <th>CompFreq</th>\n",
       "      <th>CompTotal</th>\n",
       "      <th>ConvertedComp</th>\n",
       "      <th>Country</th>\n",
       "      <th>CurrencyDesc</th>\n",
       "      <th>CurrencySymbol</th>\n",
       "      <th>DatabaseDesireNextYear</th>\n",
       "      <th>DatabaseWorkedWith</th>\n",
       "      <th>DevType</th>\n",
       "      <th>EdLevel</th>\n",
       "      <th>Employment</th>\n",
       "      <th>Ethnicity</th>\n",
       "      <th>Gender</th>\n",
       "      <th>JobFactors</th>\n",
       "      <th>JobSat</th>\n",
       "      <th>JobSeek</th>\n",
       "      <th>LanguageDesireNextYear</th>\n",
       "      <th>LanguageWorkedWith</th>\n",
       "      <th>MiscTechDesireNextYear</th>\n",
       "      <th>MiscTechWorkedWith</th>\n",
       "      <th>NEWCollabToolsDesireNextYear</th>\n",
       "      <th>NEWCollabToolsWorkedWith</th>\n",
       "      <th>NEWDevOps</th>\n",
       "      <th>NEWDevOpsImpt</th>\n",
       "      <th>NEWEdImpt</th>\n",
       "      <th>NEWJobHunt</th>\n",
       "      <th>NEWJobHuntResearch</th>\n",
       "      <th>NEWLearn</th>\n",
       "      <th>NEWOffTopic</th>\n",
       "      <th>NEWOnboardGood</th>\n",
       "      <th>NEWOtherComms</th>\n",
       "      <th>NEWOvertime</th>\n",
       "      <th>NEWPurchaseResearch</th>\n",
       "      <th>NEWPurpleLink</th>\n",
       "      <th>NEWSOSites</th>\n",
       "      <th>NEWStuck</th>\n",
       "      <th>OpSys</th>\n",
       "      <th>OrgSize</th>\n",
       "      <th>PlatformDesireNextYear</th>\n",
       "      <th>PlatformWorkedWith</th>\n",
       "      <th>PurchaseWhat</th>\n",
       "      <th>Sexuality</th>\n",
       "      <th>SOAccount</th>\n",
       "      <th>SOComm</th>\n",
       "      <th>SOPartFreq</th>\n",
       "      <th>SOVisitFreq</th>\n",
       "      <th>SurveyEase</th>\n",
       "      <th>SurveyLength</th>\n",
       "      <th>Trans</th>\n",
       "      <th>UndergradMajor</th>\n",
       "      <th>WebframeDesireNextYear</th>\n",
       "      <th>WebframeWorkedWith</th>\n",
       "      <th>WelcomeChange</th>\n",
       "      <th>WorkWeekHrs</th>\n",
       "      <th>YearsCode</th>\n",
       "      <th>YearsCodePro</th>\n",
       "    </tr>\n",
       "  </thead>\n",
       "  <tbody>\n",
       "    <tr>\n",
       "      <th>0</th>\n",
       "      <td>1</td>\n",
       "      <td>I am a developer by profession</td>\n",
       "      <td>Yes</td>\n",
       "      <td>NaN</td>\n",
       "      <td>13</td>\n",
       "      <td>Monthly</td>\n",
       "      <td>NaN</td>\n",
       "      <td>NaN</td>\n",
       "      <td>Germany</td>\n",
       "      <td>European Euro</td>\n",
       "      <td>EUR</td>\n",
       "      <td>Microsoft SQL Server</td>\n",
       "      <td>Elasticsearch;Microsoft SQL Server;Oracle</td>\n",
       "      <td>Developer, desktop or enterprise applications;...</td>\n",
       "      <td>Master’s degree (M.A., M.S., M.Eng., MBA, etc.)</td>\n",
       "      <td>Independent contractor, freelancer, or self-em...</td>\n",
       "      <td>White or of European descent</td>\n",
       "      <td>Man</td>\n",
       "      <td>Languages, frameworks, and other technologies ...</td>\n",
       "      <td>Slightly satisfied</td>\n",
       "      <td>I am not interested in new job opportunities</td>\n",
       "      <td>C#;HTML/CSS;JavaScript</td>\n",
       "      <td>C#;HTML/CSS;JavaScript</td>\n",
       "      <td>.NET Core;Xamarin</td>\n",
       "      <td>.NET;.NET Core</td>\n",
       "      <td>Microsoft Teams;Microsoft Azure;Trello</td>\n",
       "      <td>Confluence;Jira;Slack;Microsoft Azure;Trello</td>\n",
       "      <td>No</td>\n",
       "      <td>Somewhat important</td>\n",
       "      <td>Fairly important</td>\n",
       "      <td>NaN</td>\n",
       "      <td>NaN</td>\n",
       "      <td>Once a year</td>\n",
       "      <td>Not sure</td>\n",
       "      <td>NaN</td>\n",
       "      <td>No</td>\n",
       "      <td>Often: 1-2 days per week or more</td>\n",
       "      <td>Start a free trial;Ask developers I know/work ...</td>\n",
       "      <td>Amused</td>\n",
       "      <td>Stack Overflow (public Q&amp;A for anyone who codes)</td>\n",
       "      <td>Visit Stack Overflow;Go for a walk or other ph...</td>\n",
       "      <td>Windows</td>\n",
       "      <td>2 to 9 employees</td>\n",
       "      <td>Android;iOS;Kubernetes;Microsoft Azure;Windows</td>\n",
       "      <td>Windows</td>\n",
       "      <td>NaN</td>\n",
       "      <td>Straight / Heterosexual</td>\n",
       "      <td>No</td>\n",
       "      <td>No, not at all</td>\n",
       "      <td>NaN</td>\n",
       "      <td>Multiple times per day</td>\n",
       "      <td>Neither easy nor difficult</td>\n",
       "      <td>Appropriate in length</td>\n",
       "      <td>No</td>\n",
       "      <td>Computer science, computer engineering, or sof...</td>\n",
       "      <td>ASP.NET Core</td>\n",
       "      <td>ASP.NET;ASP.NET Core</td>\n",
       "      <td>Just as welcome now as I felt last year</td>\n",
       "      <td>50.0</td>\n",
       "      <td>36</td>\n",
       "      <td>27</td>\n",
       "    </tr>\n",
       "    <tr>\n",
       "      <th>1</th>\n",
       "      <td>2</td>\n",
       "      <td>I am a developer by profession</td>\n",
       "      <td>No</td>\n",
       "      <td>NaN</td>\n",
       "      <td>19</td>\n",
       "      <td>NaN</td>\n",
       "      <td>NaN</td>\n",
       "      <td>NaN</td>\n",
       "      <td>United Kingdom</td>\n",
       "      <td>Pound sterling</td>\n",
       "      <td>GBP</td>\n",
       "      <td>NaN</td>\n",
       "      <td>NaN</td>\n",
       "      <td>Developer, full-stack;Developer, mobile</td>\n",
       "      <td>Bachelor’s degree (B.A., B.S., B.Eng., etc.)</td>\n",
       "      <td>Employed full-time</td>\n",
       "      <td>NaN</td>\n",
       "      <td>NaN</td>\n",
       "      <td>NaN</td>\n",
       "      <td>Very dissatisfied</td>\n",
       "      <td>I am not interested in new job opportunities</td>\n",
       "      <td>Python;Swift</td>\n",
       "      <td>JavaScript;Swift</td>\n",
       "      <td>React Native;TensorFlow;Unity 3D</td>\n",
       "      <td>React Native</td>\n",
       "      <td>Github;Slack</td>\n",
       "      <td>Confluence;Jira;Github;Gitlab;Slack</td>\n",
       "      <td>NaN</td>\n",
       "      <td>NaN</td>\n",
       "      <td>Fairly important</td>\n",
       "      <td>NaN</td>\n",
       "      <td>NaN</td>\n",
       "      <td>Once a year</td>\n",
       "      <td>Not sure</td>\n",
       "      <td>NaN</td>\n",
       "      <td>No</td>\n",
       "      <td>NaN</td>\n",
       "      <td>NaN</td>\n",
       "      <td>Amused</td>\n",
       "      <td>Stack Overflow (public Q&amp;A for anyone who code...</td>\n",
       "      <td>Visit Stack Overflow;Go for a walk or other ph...</td>\n",
       "      <td>MacOS</td>\n",
       "      <td>1,000 to 4,999 employees</td>\n",
       "      <td>iOS;Kubernetes;Linux;MacOS</td>\n",
       "      <td>iOS</td>\n",
       "      <td>I have little or no influence</td>\n",
       "      <td>NaN</td>\n",
       "      <td>Yes</td>\n",
       "      <td>Yes, definitely</td>\n",
       "      <td>Less than once per month or monthly</td>\n",
       "      <td>Multiple times per day</td>\n",
       "      <td>NaN</td>\n",
       "      <td>NaN</td>\n",
       "      <td>NaN</td>\n",
       "      <td>Computer science, computer engineering, or sof...</td>\n",
       "      <td>NaN</td>\n",
       "      <td>NaN</td>\n",
       "      <td>Somewhat more welcome now than last year</td>\n",
       "      <td>NaN</td>\n",
       "      <td>7</td>\n",
       "      <td>4</td>\n",
       "    </tr>\n",
       "    <tr>\n",
       "      <th>2</th>\n",
       "      <td>3</td>\n",
       "      <td>I code primarily as a hobby</td>\n",
       "      <td>Yes</td>\n",
       "      <td>NaN</td>\n",
       "      <td>15</td>\n",
       "      <td>NaN</td>\n",
       "      <td>NaN</td>\n",
       "      <td>NaN</td>\n",
       "      <td>Russian Federation</td>\n",
       "      <td>NaN</td>\n",
       "      <td>NaN</td>\n",
       "      <td>NaN</td>\n",
       "      <td>NaN</td>\n",
       "      <td>NaN</td>\n",
       "      <td>NaN</td>\n",
       "      <td>NaN</td>\n",
       "      <td>NaN</td>\n",
       "      <td>NaN</td>\n",
       "      <td>NaN</td>\n",
       "      <td>NaN</td>\n",
       "      <td>NaN</td>\n",
       "      <td>Objective-C;Python;Swift</td>\n",
       "      <td>Objective-C;Python;Swift</td>\n",
       "      <td>NaN</td>\n",
       "      <td>NaN</td>\n",
       "      <td>NaN</td>\n",
       "      <td>NaN</td>\n",
       "      <td>NaN</td>\n",
       "      <td>NaN</td>\n",
       "      <td>NaN</td>\n",
       "      <td>NaN</td>\n",
       "      <td>NaN</td>\n",
       "      <td>Once a decade</td>\n",
       "      <td>NaN</td>\n",
       "      <td>NaN</td>\n",
       "      <td>No</td>\n",
       "      <td>NaN</td>\n",
       "      <td>NaN</td>\n",
       "      <td>NaN</td>\n",
       "      <td>Stack Overflow (public Q&amp;A for anyone who codes)</td>\n",
       "      <td>NaN</td>\n",
       "      <td>Linux-based</td>\n",
       "      <td>NaN</td>\n",
       "      <td>NaN</td>\n",
       "      <td>NaN</td>\n",
       "      <td>NaN</td>\n",
       "      <td>NaN</td>\n",
       "      <td>Yes</td>\n",
       "      <td>Yes, somewhat</td>\n",
       "      <td>A few times per month or weekly</td>\n",
       "      <td>Daily or almost daily</td>\n",
       "      <td>Neither easy nor difficult</td>\n",
       "      <td>Appropriate in length</td>\n",
       "      <td>NaN</td>\n",
       "      <td>NaN</td>\n",
       "      <td>NaN</td>\n",
       "      <td>NaN</td>\n",
       "      <td>Somewhat more welcome now than last year</td>\n",
       "      <td>NaN</td>\n",
       "      <td>4</td>\n",
       "      <td>NaN</td>\n",
       "    </tr>\n",
       "  </tbody>\n",
       "</table>\n",
       "</div>"
      ],
      "text/plain": [
       "   Respondent                      MainBranch Hobbyist  Age Age1stCode  \\\n",
       "0           1  I am a developer by profession      Yes  NaN         13   \n",
       "1           2  I am a developer by profession       No  NaN         19   \n",
       "2           3     I code primarily as a hobby      Yes  NaN         15   \n",
       "\n",
       "  CompFreq  CompTotal  ConvertedComp             Country    CurrencyDesc  \\\n",
       "0  Monthly        NaN            NaN             Germany   European Euro   \n",
       "1      NaN        NaN            NaN      United Kingdom  Pound sterling   \n",
       "2      NaN        NaN            NaN  Russian Federation             NaN   \n",
       "\n",
       "  CurrencySymbol DatabaseDesireNextYear  \\\n",
       "0            EUR   Microsoft SQL Server   \n",
       "1            GBP                    NaN   \n",
       "2            NaN                    NaN   \n",
       "\n",
       "                          DatabaseWorkedWith  \\\n",
       "0  Elasticsearch;Microsoft SQL Server;Oracle   \n",
       "1                                        NaN   \n",
       "2                                        NaN   \n",
       "\n",
       "                                             DevType  \\\n",
       "0  Developer, desktop or enterprise applications;...   \n",
       "1            Developer, full-stack;Developer, mobile   \n",
       "2                                                NaN   \n",
       "\n",
       "                                           EdLevel  \\\n",
       "0  Master’s degree (M.A., M.S., M.Eng., MBA, etc.)   \n",
       "1     Bachelor’s degree (B.A., B.S., B.Eng., etc.)   \n",
       "2                                              NaN   \n",
       "\n",
       "                                          Employment  \\\n",
       "0  Independent contractor, freelancer, or self-em...   \n",
       "1                                 Employed full-time   \n",
       "2                                                NaN   \n",
       "\n",
       "                      Ethnicity Gender  \\\n",
       "0  White or of European descent    Man   \n",
       "1                           NaN    NaN   \n",
       "2                           NaN    NaN   \n",
       "\n",
       "                                          JobFactors              JobSat  \\\n",
       "0  Languages, frameworks, and other technologies ...  Slightly satisfied   \n",
       "1                                                NaN   Very dissatisfied   \n",
       "2                                                NaN                 NaN   \n",
       "\n",
       "                                        JobSeek    LanguageDesireNextYear  \\\n",
       "0  I am not interested in new job opportunities    C#;HTML/CSS;JavaScript   \n",
       "1  I am not interested in new job opportunities              Python;Swift   \n",
       "2                                           NaN  Objective-C;Python;Swift   \n",
       "\n",
       "         LanguageWorkedWith            MiscTechDesireNextYear  \\\n",
       "0    C#;HTML/CSS;JavaScript                 .NET Core;Xamarin   \n",
       "1          JavaScript;Swift  React Native;TensorFlow;Unity 3D   \n",
       "2  Objective-C;Python;Swift                               NaN   \n",
       "\n",
       "  MiscTechWorkedWith            NEWCollabToolsDesireNextYear  \\\n",
       "0     .NET;.NET Core  Microsoft Teams;Microsoft Azure;Trello   \n",
       "1       React Native                            Github;Slack   \n",
       "2                NaN                                     NaN   \n",
       "\n",
       "                       NEWCollabToolsWorkedWith NEWDevOps       NEWDevOpsImpt  \\\n",
       "0  Confluence;Jira;Slack;Microsoft Azure;Trello        No  Somewhat important   \n",
       "1           Confluence;Jira;Github;Gitlab;Slack       NaN                 NaN   \n",
       "2                                           NaN       NaN                 NaN   \n",
       "\n",
       "          NEWEdImpt NEWJobHunt NEWJobHuntResearch       NEWLearn NEWOffTopic  \\\n",
       "0  Fairly important        NaN                NaN    Once a year    Not sure   \n",
       "1  Fairly important        NaN                NaN    Once a year    Not sure   \n",
       "2               NaN        NaN                NaN  Once a decade         NaN   \n",
       "\n",
       "  NEWOnboardGood NEWOtherComms                       NEWOvertime  \\\n",
       "0            NaN            No  Often: 1-2 days per week or more   \n",
       "1            NaN            No                               NaN   \n",
       "2            NaN            No                               NaN   \n",
       "\n",
       "                                 NEWPurchaseResearch NEWPurpleLink  \\\n",
       "0  Start a free trial;Ask developers I know/work ...        Amused   \n",
       "1                                                NaN        Amused   \n",
       "2                                                NaN           NaN   \n",
       "\n",
       "                                          NEWSOSites  \\\n",
       "0   Stack Overflow (public Q&A for anyone who codes)   \n",
       "1  Stack Overflow (public Q&A for anyone who code...   \n",
       "2   Stack Overflow (public Q&A for anyone who codes)   \n",
       "\n",
       "                                            NEWStuck        OpSys  \\\n",
       "0  Visit Stack Overflow;Go for a walk or other ph...      Windows   \n",
       "1  Visit Stack Overflow;Go for a walk or other ph...        MacOS   \n",
       "2                                                NaN  Linux-based   \n",
       "\n",
       "                    OrgSize                          PlatformDesireNextYear  \\\n",
       "0          2 to 9 employees  Android;iOS;Kubernetes;Microsoft Azure;Windows   \n",
       "1  1,000 to 4,999 employees                      iOS;Kubernetes;Linux;MacOS   \n",
       "2                       NaN                                             NaN   \n",
       "\n",
       "  PlatformWorkedWith                   PurchaseWhat                Sexuality  \\\n",
       "0            Windows                            NaN  Straight / Heterosexual   \n",
       "1                iOS  I have little or no influence                      NaN   \n",
       "2                NaN                            NaN                      NaN   \n",
       "\n",
       "  SOAccount           SOComm                           SOPartFreq  \\\n",
       "0        No   No, not at all                                  NaN   \n",
       "1       Yes  Yes, definitely  Less than once per month or monthly   \n",
       "2       Yes    Yes, somewhat      A few times per month or weekly   \n",
       "\n",
       "              SOVisitFreq                  SurveyEase           SurveyLength  \\\n",
       "0  Multiple times per day  Neither easy nor difficult  Appropriate in length   \n",
       "1  Multiple times per day                         NaN                    NaN   \n",
       "2   Daily or almost daily  Neither easy nor difficult  Appropriate in length   \n",
       "\n",
       "  Trans                                     UndergradMajor  \\\n",
       "0    No  Computer science, computer engineering, or sof...   \n",
       "1   NaN  Computer science, computer engineering, or sof...   \n",
       "2   NaN                                                NaN   \n",
       "\n",
       "  WebframeDesireNextYear    WebframeWorkedWith  \\\n",
       "0           ASP.NET Core  ASP.NET;ASP.NET Core   \n",
       "1                    NaN                   NaN   \n",
       "2                    NaN                   NaN   \n",
       "\n",
       "                              WelcomeChange  WorkWeekHrs YearsCode  \\\n",
       "0   Just as welcome now as I felt last year         50.0        36   \n",
       "1  Somewhat more welcome now than last year          NaN         7   \n",
       "2  Somewhat more welcome now than last year          NaN         4   \n",
       "\n",
       "  YearsCodePro  \n",
       "0           27  \n",
       "1            4  \n",
       "2          NaN  "
      ]
     },
     "execution_count": 34,
     "metadata": {},
     "output_type": "execute_result"
    }
   ],
   "source": [
    "survey_df.loc[0:2]"
   ]
  },
  {
   "cell_type": "markdown",
   "id": "41c26928",
   "metadata": {},
   "source": [
    "### iloc -- exclusive"
   ]
  },
  {
   "cell_type": "code",
   "execution_count": 35,
   "id": "a6224ced",
   "metadata": {},
   "outputs": [
    {
     "data": {
      "application/vnd.microsoft.datawrangler.viewer.v0+json": {
       "columns": [
        {
         "name": "index",
         "rawType": "int64",
         "type": "integer"
        },
        {
         "name": "Respondent",
         "rawType": "int64",
         "type": "integer"
        },
        {
         "name": "MainBranch",
         "rawType": "object",
         "type": "string"
        },
        {
         "name": "Hobbyist",
         "rawType": "object",
         "type": "string"
        },
        {
         "name": "Age",
         "rawType": "float64",
         "type": "float"
        },
        {
         "name": "Age1stCode",
         "rawType": "object",
         "type": "string"
        },
        {
         "name": "CompFreq",
         "rawType": "object",
         "type": "unknown"
        },
        {
         "name": "CompTotal",
         "rawType": "float64",
         "type": "float"
        },
        {
         "name": "ConvertedComp",
         "rawType": "float64",
         "type": "float"
        },
        {
         "name": "Country",
         "rawType": "object",
         "type": "string"
        },
        {
         "name": "CurrencyDesc",
         "rawType": "object",
         "type": "string"
        },
        {
         "name": "CurrencySymbol",
         "rawType": "object",
         "type": "string"
        },
        {
         "name": "DatabaseDesireNextYear",
         "rawType": "object",
         "type": "unknown"
        },
        {
         "name": "DatabaseWorkedWith",
         "rawType": "object",
         "type": "unknown"
        },
        {
         "name": "DevType",
         "rawType": "object",
         "type": "string"
        },
        {
         "name": "EdLevel",
         "rawType": "object",
         "type": "string"
        },
        {
         "name": "Employment",
         "rawType": "object",
         "type": "string"
        },
        {
         "name": "Ethnicity",
         "rawType": "object",
         "type": "unknown"
        },
        {
         "name": "Gender",
         "rawType": "object",
         "type": "unknown"
        },
        {
         "name": "JobFactors",
         "rawType": "object",
         "type": "unknown"
        },
        {
         "name": "JobSat",
         "rawType": "object",
         "type": "string"
        },
        {
         "name": "JobSeek",
         "rawType": "object",
         "type": "string"
        },
        {
         "name": "LanguageDesireNextYear",
         "rawType": "object",
         "type": "string"
        },
        {
         "name": "LanguageWorkedWith",
         "rawType": "object",
         "type": "string"
        },
        {
         "name": "MiscTechDesireNextYear",
         "rawType": "object",
         "type": "string"
        },
        {
         "name": "MiscTechWorkedWith",
         "rawType": "object",
         "type": "string"
        },
        {
         "name": "NEWCollabToolsDesireNextYear",
         "rawType": "object",
         "type": "string"
        },
        {
         "name": "NEWCollabToolsWorkedWith",
         "rawType": "object",
         "type": "string"
        },
        {
         "name": "NEWDevOps",
         "rawType": "object",
         "type": "unknown"
        },
        {
         "name": "NEWDevOpsImpt",
         "rawType": "object",
         "type": "unknown"
        },
        {
         "name": "NEWEdImpt",
         "rawType": "object",
         "type": "string"
        },
        {
         "name": "NEWJobHunt",
         "rawType": "object",
         "type": "unknown"
        },
        {
         "name": "NEWJobHuntResearch",
         "rawType": "object",
         "type": "unknown"
        },
        {
         "name": "NEWLearn",
         "rawType": "object",
         "type": "string"
        },
        {
         "name": "NEWOffTopic",
         "rawType": "object",
         "type": "string"
        },
        {
         "name": "NEWOnboardGood",
         "rawType": "object",
         "type": "unknown"
        },
        {
         "name": "NEWOtherComms",
         "rawType": "object",
         "type": "string"
        },
        {
         "name": "NEWOvertime",
         "rawType": "object",
         "type": "unknown"
        },
        {
         "name": "NEWPurchaseResearch",
         "rawType": "object",
         "type": "unknown"
        },
        {
         "name": "NEWPurpleLink",
         "rawType": "object",
         "type": "string"
        },
        {
         "name": "NEWSOSites",
         "rawType": "object",
         "type": "string"
        },
        {
         "name": "NEWStuck",
         "rawType": "object",
         "type": "string"
        },
        {
         "name": "OpSys",
         "rawType": "object",
         "type": "string"
        },
        {
         "name": "OrgSize",
         "rawType": "object",
         "type": "string"
        },
        {
         "name": "PlatformDesireNextYear",
         "rawType": "object",
         "type": "string"
        },
        {
         "name": "PlatformWorkedWith",
         "rawType": "object",
         "type": "string"
        },
        {
         "name": "PurchaseWhat",
         "rawType": "object",
         "type": "unknown"
        },
        {
         "name": "Sexuality",
         "rawType": "object",
         "type": "unknown"
        },
        {
         "name": "SOAccount",
         "rawType": "object",
         "type": "string"
        },
        {
         "name": "SOComm",
         "rawType": "object",
         "type": "string"
        },
        {
         "name": "SOPartFreq",
         "rawType": "object",
         "type": "unknown"
        },
        {
         "name": "SOVisitFreq",
         "rawType": "object",
         "type": "string"
        },
        {
         "name": "SurveyEase",
         "rawType": "object",
         "type": "unknown"
        },
        {
         "name": "SurveyLength",
         "rawType": "object",
         "type": "unknown"
        },
        {
         "name": "Trans",
         "rawType": "object",
         "type": "unknown"
        },
        {
         "name": "UndergradMajor",
         "rawType": "object",
         "type": "string"
        },
        {
         "name": "WebframeDesireNextYear",
         "rawType": "object",
         "type": "unknown"
        },
        {
         "name": "WebframeWorkedWith",
         "rawType": "object",
         "type": "unknown"
        },
        {
         "name": "WelcomeChange",
         "rawType": "object",
         "type": "string"
        },
        {
         "name": "WorkWeekHrs",
         "rawType": "float64",
         "type": "float"
        },
        {
         "name": "YearsCode",
         "rawType": "object",
         "type": "string"
        },
        {
         "name": "YearsCodePro",
         "rawType": "object",
         "type": "string"
        }
       ],
       "conversionMethod": "pd.DataFrame",
       "ref": "7e866bb0-d105-43c6-822d-e1a8deb309e9",
       "rows": [
        [
         "0",
         "1",
         "I am a developer by profession",
         "Yes",
         null,
         "13",
         "Monthly",
         null,
         null,
         "Germany",
         "European Euro",
         "EUR",
         "Microsoft SQL Server",
         "Elasticsearch;Microsoft SQL Server;Oracle",
         "Developer, desktop or enterprise applications;Developer, full-stack",
         "Master’s degree (M.A., M.S., M.Eng., MBA, etc.)",
         "Independent contractor, freelancer, or self-employed",
         "White or of European descent",
         "Man",
         "Languages, frameworks, and other technologies I’d be working with;Remote work options;Opportunities for professional development",
         "Slightly satisfied",
         "I am not interested in new job opportunities",
         "C#;HTML/CSS;JavaScript",
         "C#;HTML/CSS;JavaScript",
         ".NET Core;Xamarin",
         ".NET;.NET Core",
         "Microsoft Teams;Microsoft Azure;Trello",
         "Confluence;Jira;Slack;Microsoft Azure;Trello",
         "No",
         "Somewhat important",
         "Fairly important",
         null,
         null,
         "Once a year",
         "Not sure",
         null,
         "No",
         "Often: 1-2 days per week or more",
         "Start a free trial;Ask developers I know/work with",
         "Amused",
         "Stack Overflow (public Q&A for anyone who codes)",
         "Visit Stack Overflow;Go for a walk or other physical activity;Do other work and come back later",
         "Windows",
         "2 to 9 employees",
         "Android;iOS;Kubernetes;Microsoft Azure;Windows",
         "Windows",
         null,
         "Straight / Heterosexual",
         "No",
         "No, not at all",
         null,
         "Multiple times per day",
         "Neither easy nor difficult",
         "Appropriate in length",
         "No",
         "Computer science, computer engineering, or software engineering",
         "ASP.NET Core",
         "ASP.NET;ASP.NET Core",
         "Just as welcome now as I felt last year",
         "50.0",
         "36",
         "27"
        ],
        [
         "1",
         "2",
         "I am a developer by profession",
         "No",
         null,
         "19",
         null,
         null,
         null,
         "United Kingdom",
         "Pound sterling",
         "GBP",
         null,
         null,
         "Developer, full-stack;Developer, mobile",
         "Bachelor’s degree (B.A., B.S., B.Eng., etc.)",
         "Employed full-time",
         null,
         null,
         null,
         "Very dissatisfied",
         "I am not interested in new job opportunities",
         "Python;Swift",
         "JavaScript;Swift",
         "React Native;TensorFlow;Unity 3D",
         "React Native",
         "Github;Slack",
         "Confluence;Jira;Github;Gitlab;Slack",
         null,
         null,
         "Fairly important",
         null,
         null,
         "Once a year",
         "Not sure",
         null,
         "No",
         null,
         null,
         "Amused",
         "Stack Overflow (public Q&A for anyone who codes);Stack Exchange (public Q&A for a variety of topics);Stack Overflow Jobs (for job seekers)",
         "Visit Stack Overflow;Go for a walk or other physical activity",
         "MacOS",
         "1,000 to 4,999 employees",
         "iOS;Kubernetes;Linux;MacOS",
         "iOS",
         "I have little or no influence",
         null,
         "Yes",
         "Yes, definitely",
         "Less than once per month or monthly",
         "Multiple times per day",
         null,
         null,
         null,
         "Computer science, computer engineering, or software engineering",
         null,
         null,
         "Somewhat more welcome now than last year",
         null,
         "7",
         "4"
        ]
       ],
       "shape": {
        "columns": 61,
        "rows": 2
       }
      },
      "text/html": [
       "<div>\n",
       "<style scoped>\n",
       "    .dataframe tbody tr th:only-of-type {\n",
       "        vertical-align: middle;\n",
       "    }\n",
       "\n",
       "    .dataframe tbody tr th {\n",
       "        vertical-align: top;\n",
       "    }\n",
       "\n",
       "    .dataframe thead th {\n",
       "        text-align: right;\n",
       "    }\n",
       "</style>\n",
       "<table border=\"1\" class=\"dataframe\">\n",
       "  <thead>\n",
       "    <tr style=\"text-align: right;\">\n",
       "      <th></th>\n",
       "      <th>Respondent</th>\n",
       "      <th>MainBranch</th>\n",
       "      <th>Hobbyist</th>\n",
       "      <th>Age</th>\n",
       "      <th>Age1stCode</th>\n",
       "      <th>CompFreq</th>\n",
       "      <th>CompTotal</th>\n",
       "      <th>ConvertedComp</th>\n",
       "      <th>Country</th>\n",
       "      <th>CurrencyDesc</th>\n",
       "      <th>CurrencySymbol</th>\n",
       "      <th>DatabaseDesireNextYear</th>\n",
       "      <th>DatabaseWorkedWith</th>\n",
       "      <th>DevType</th>\n",
       "      <th>EdLevel</th>\n",
       "      <th>Employment</th>\n",
       "      <th>Ethnicity</th>\n",
       "      <th>Gender</th>\n",
       "      <th>JobFactors</th>\n",
       "      <th>JobSat</th>\n",
       "      <th>JobSeek</th>\n",
       "      <th>LanguageDesireNextYear</th>\n",
       "      <th>LanguageWorkedWith</th>\n",
       "      <th>MiscTechDesireNextYear</th>\n",
       "      <th>MiscTechWorkedWith</th>\n",
       "      <th>NEWCollabToolsDesireNextYear</th>\n",
       "      <th>NEWCollabToolsWorkedWith</th>\n",
       "      <th>NEWDevOps</th>\n",
       "      <th>NEWDevOpsImpt</th>\n",
       "      <th>NEWEdImpt</th>\n",
       "      <th>NEWJobHunt</th>\n",
       "      <th>NEWJobHuntResearch</th>\n",
       "      <th>NEWLearn</th>\n",
       "      <th>NEWOffTopic</th>\n",
       "      <th>NEWOnboardGood</th>\n",
       "      <th>NEWOtherComms</th>\n",
       "      <th>NEWOvertime</th>\n",
       "      <th>NEWPurchaseResearch</th>\n",
       "      <th>NEWPurpleLink</th>\n",
       "      <th>NEWSOSites</th>\n",
       "      <th>NEWStuck</th>\n",
       "      <th>OpSys</th>\n",
       "      <th>OrgSize</th>\n",
       "      <th>PlatformDesireNextYear</th>\n",
       "      <th>PlatformWorkedWith</th>\n",
       "      <th>PurchaseWhat</th>\n",
       "      <th>Sexuality</th>\n",
       "      <th>SOAccount</th>\n",
       "      <th>SOComm</th>\n",
       "      <th>SOPartFreq</th>\n",
       "      <th>SOVisitFreq</th>\n",
       "      <th>SurveyEase</th>\n",
       "      <th>SurveyLength</th>\n",
       "      <th>Trans</th>\n",
       "      <th>UndergradMajor</th>\n",
       "      <th>WebframeDesireNextYear</th>\n",
       "      <th>WebframeWorkedWith</th>\n",
       "      <th>WelcomeChange</th>\n",
       "      <th>WorkWeekHrs</th>\n",
       "      <th>YearsCode</th>\n",
       "      <th>YearsCodePro</th>\n",
       "    </tr>\n",
       "  </thead>\n",
       "  <tbody>\n",
       "    <tr>\n",
       "      <th>0</th>\n",
       "      <td>1</td>\n",
       "      <td>I am a developer by profession</td>\n",
       "      <td>Yes</td>\n",
       "      <td>NaN</td>\n",
       "      <td>13</td>\n",
       "      <td>Monthly</td>\n",
       "      <td>NaN</td>\n",
       "      <td>NaN</td>\n",
       "      <td>Germany</td>\n",
       "      <td>European Euro</td>\n",
       "      <td>EUR</td>\n",
       "      <td>Microsoft SQL Server</td>\n",
       "      <td>Elasticsearch;Microsoft SQL Server;Oracle</td>\n",
       "      <td>Developer, desktop or enterprise applications;...</td>\n",
       "      <td>Master’s degree (M.A., M.S., M.Eng., MBA, etc.)</td>\n",
       "      <td>Independent contractor, freelancer, or self-em...</td>\n",
       "      <td>White or of European descent</td>\n",
       "      <td>Man</td>\n",
       "      <td>Languages, frameworks, and other technologies ...</td>\n",
       "      <td>Slightly satisfied</td>\n",
       "      <td>I am not interested in new job opportunities</td>\n",
       "      <td>C#;HTML/CSS;JavaScript</td>\n",
       "      <td>C#;HTML/CSS;JavaScript</td>\n",
       "      <td>.NET Core;Xamarin</td>\n",
       "      <td>.NET;.NET Core</td>\n",
       "      <td>Microsoft Teams;Microsoft Azure;Trello</td>\n",
       "      <td>Confluence;Jira;Slack;Microsoft Azure;Trello</td>\n",
       "      <td>No</td>\n",
       "      <td>Somewhat important</td>\n",
       "      <td>Fairly important</td>\n",
       "      <td>NaN</td>\n",
       "      <td>NaN</td>\n",
       "      <td>Once a year</td>\n",
       "      <td>Not sure</td>\n",
       "      <td>NaN</td>\n",
       "      <td>No</td>\n",
       "      <td>Often: 1-2 days per week or more</td>\n",
       "      <td>Start a free trial;Ask developers I know/work ...</td>\n",
       "      <td>Amused</td>\n",
       "      <td>Stack Overflow (public Q&amp;A for anyone who codes)</td>\n",
       "      <td>Visit Stack Overflow;Go for a walk or other ph...</td>\n",
       "      <td>Windows</td>\n",
       "      <td>2 to 9 employees</td>\n",
       "      <td>Android;iOS;Kubernetes;Microsoft Azure;Windows</td>\n",
       "      <td>Windows</td>\n",
       "      <td>NaN</td>\n",
       "      <td>Straight / Heterosexual</td>\n",
       "      <td>No</td>\n",
       "      <td>No, not at all</td>\n",
       "      <td>NaN</td>\n",
       "      <td>Multiple times per day</td>\n",
       "      <td>Neither easy nor difficult</td>\n",
       "      <td>Appropriate in length</td>\n",
       "      <td>No</td>\n",
       "      <td>Computer science, computer engineering, or sof...</td>\n",
       "      <td>ASP.NET Core</td>\n",
       "      <td>ASP.NET;ASP.NET Core</td>\n",
       "      <td>Just as welcome now as I felt last year</td>\n",
       "      <td>50.0</td>\n",
       "      <td>36</td>\n",
       "      <td>27</td>\n",
       "    </tr>\n",
       "    <tr>\n",
       "      <th>1</th>\n",
       "      <td>2</td>\n",
       "      <td>I am a developer by profession</td>\n",
       "      <td>No</td>\n",
       "      <td>NaN</td>\n",
       "      <td>19</td>\n",
       "      <td>NaN</td>\n",
       "      <td>NaN</td>\n",
       "      <td>NaN</td>\n",
       "      <td>United Kingdom</td>\n",
       "      <td>Pound sterling</td>\n",
       "      <td>GBP</td>\n",
       "      <td>NaN</td>\n",
       "      <td>NaN</td>\n",
       "      <td>Developer, full-stack;Developer, mobile</td>\n",
       "      <td>Bachelor’s degree (B.A., B.S., B.Eng., etc.)</td>\n",
       "      <td>Employed full-time</td>\n",
       "      <td>NaN</td>\n",
       "      <td>NaN</td>\n",
       "      <td>NaN</td>\n",
       "      <td>Very dissatisfied</td>\n",
       "      <td>I am not interested in new job opportunities</td>\n",
       "      <td>Python;Swift</td>\n",
       "      <td>JavaScript;Swift</td>\n",
       "      <td>React Native;TensorFlow;Unity 3D</td>\n",
       "      <td>React Native</td>\n",
       "      <td>Github;Slack</td>\n",
       "      <td>Confluence;Jira;Github;Gitlab;Slack</td>\n",
       "      <td>NaN</td>\n",
       "      <td>NaN</td>\n",
       "      <td>Fairly important</td>\n",
       "      <td>NaN</td>\n",
       "      <td>NaN</td>\n",
       "      <td>Once a year</td>\n",
       "      <td>Not sure</td>\n",
       "      <td>NaN</td>\n",
       "      <td>No</td>\n",
       "      <td>NaN</td>\n",
       "      <td>NaN</td>\n",
       "      <td>Amused</td>\n",
       "      <td>Stack Overflow (public Q&amp;A for anyone who code...</td>\n",
       "      <td>Visit Stack Overflow;Go for a walk or other ph...</td>\n",
       "      <td>MacOS</td>\n",
       "      <td>1,000 to 4,999 employees</td>\n",
       "      <td>iOS;Kubernetes;Linux;MacOS</td>\n",
       "      <td>iOS</td>\n",
       "      <td>I have little or no influence</td>\n",
       "      <td>NaN</td>\n",
       "      <td>Yes</td>\n",
       "      <td>Yes, definitely</td>\n",
       "      <td>Less than once per month or monthly</td>\n",
       "      <td>Multiple times per day</td>\n",
       "      <td>NaN</td>\n",
       "      <td>NaN</td>\n",
       "      <td>NaN</td>\n",
       "      <td>Computer science, computer engineering, or sof...</td>\n",
       "      <td>NaN</td>\n",
       "      <td>NaN</td>\n",
       "      <td>Somewhat more welcome now than last year</td>\n",
       "      <td>NaN</td>\n",
       "      <td>7</td>\n",
       "      <td>4</td>\n",
       "    </tr>\n",
       "  </tbody>\n",
       "</table>\n",
       "</div>"
      ],
      "text/plain": [
       "   Respondent                      MainBranch Hobbyist  Age Age1stCode  \\\n",
       "0           1  I am a developer by profession      Yes  NaN         13   \n",
       "1           2  I am a developer by profession       No  NaN         19   \n",
       "\n",
       "  CompFreq  CompTotal  ConvertedComp         Country    CurrencyDesc  \\\n",
       "0  Monthly        NaN            NaN         Germany   European Euro   \n",
       "1      NaN        NaN            NaN  United Kingdom  Pound sterling   \n",
       "\n",
       "  CurrencySymbol DatabaseDesireNextYear  \\\n",
       "0            EUR   Microsoft SQL Server   \n",
       "1            GBP                    NaN   \n",
       "\n",
       "                          DatabaseWorkedWith  \\\n",
       "0  Elasticsearch;Microsoft SQL Server;Oracle   \n",
       "1                                        NaN   \n",
       "\n",
       "                                             DevType  \\\n",
       "0  Developer, desktop or enterprise applications;...   \n",
       "1            Developer, full-stack;Developer, mobile   \n",
       "\n",
       "                                           EdLevel  \\\n",
       "0  Master’s degree (M.A., M.S., M.Eng., MBA, etc.)   \n",
       "1     Bachelor’s degree (B.A., B.S., B.Eng., etc.)   \n",
       "\n",
       "                                          Employment  \\\n",
       "0  Independent contractor, freelancer, or self-em...   \n",
       "1                                 Employed full-time   \n",
       "\n",
       "                      Ethnicity Gender  \\\n",
       "0  White or of European descent    Man   \n",
       "1                           NaN    NaN   \n",
       "\n",
       "                                          JobFactors              JobSat  \\\n",
       "0  Languages, frameworks, and other technologies ...  Slightly satisfied   \n",
       "1                                                NaN   Very dissatisfied   \n",
       "\n",
       "                                        JobSeek  LanguageDesireNextYear  \\\n",
       "0  I am not interested in new job opportunities  C#;HTML/CSS;JavaScript   \n",
       "1  I am not interested in new job opportunities            Python;Swift   \n",
       "\n",
       "       LanguageWorkedWith            MiscTechDesireNextYear  \\\n",
       "0  C#;HTML/CSS;JavaScript                 .NET Core;Xamarin   \n",
       "1        JavaScript;Swift  React Native;TensorFlow;Unity 3D   \n",
       "\n",
       "  MiscTechWorkedWith            NEWCollabToolsDesireNextYear  \\\n",
       "0     .NET;.NET Core  Microsoft Teams;Microsoft Azure;Trello   \n",
       "1       React Native                            Github;Slack   \n",
       "\n",
       "                       NEWCollabToolsWorkedWith NEWDevOps       NEWDevOpsImpt  \\\n",
       "0  Confluence;Jira;Slack;Microsoft Azure;Trello        No  Somewhat important   \n",
       "1           Confluence;Jira;Github;Gitlab;Slack       NaN                 NaN   \n",
       "\n",
       "          NEWEdImpt NEWJobHunt NEWJobHuntResearch     NEWLearn NEWOffTopic  \\\n",
       "0  Fairly important        NaN                NaN  Once a year    Not sure   \n",
       "1  Fairly important        NaN                NaN  Once a year    Not sure   \n",
       "\n",
       "  NEWOnboardGood NEWOtherComms                       NEWOvertime  \\\n",
       "0            NaN            No  Often: 1-2 days per week or more   \n",
       "1            NaN            No                               NaN   \n",
       "\n",
       "                                 NEWPurchaseResearch NEWPurpleLink  \\\n",
       "0  Start a free trial;Ask developers I know/work ...        Amused   \n",
       "1                                                NaN        Amused   \n",
       "\n",
       "                                          NEWSOSites  \\\n",
       "0   Stack Overflow (public Q&A for anyone who codes)   \n",
       "1  Stack Overflow (public Q&A for anyone who code...   \n",
       "\n",
       "                                            NEWStuck    OpSys  \\\n",
       "0  Visit Stack Overflow;Go for a walk or other ph...  Windows   \n",
       "1  Visit Stack Overflow;Go for a walk or other ph...    MacOS   \n",
       "\n",
       "                    OrgSize                          PlatformDesireNextYear  \\\n",
       "0          2 to 9 employees  Android;iOS;Kubernetes;Microsoft Azure;Windows   \n",
       "1  1,000 to 4,999 employees                      iOS;Kubernetes;Linux;MacOS   \n",
       "\n",
       "  PlatformWorkedWith                   PurchaseWhat                Sexuality  \\\n",
       "0            Windows                            NaN  Straight / Heterosexual   \n",
       "1                iOS  I have little or no influence                      NaN   \n",
       "\n",
       "  SOAccount           SOComm                           SOPartFreq  \\\n",
       "0        No   No, not at all                                  NaN   \n",
       "1       Yes  Yes, definitely  Less than once per month or monthly   \n",
       "\n",
       "              SOVisitFreq                  SurveyEase           SurveyLength  \\\n",
       "0  Multiple times per day  Neither easy nor difficult  Appropriate in length   \n",
       "1  Multiple times per day                         NaN                    NaN   \n",
       "\n",
       "  Trans                                     UndergradMajor  \\\n",
       "0    No  Computer science, computer engineering, or sof...   \n",
       "1   NaN  Computer science, computer engineering, or sof...   \n",
       "\n",
       "  WebframeDesireNextYear    WebframeWorkedWith  \\\n",
       "0           ASP.NET Core  ASP.NET;ASP.NET Core   \n",
       "1                    NaN                   NaN   \n",
       "\n",
       "                              WelcomeChange  WorkWeekHrs YearsCode  \\\n",
       "0   Just as welcome now as I felt last year         50.0        36   \n",
       "1  Somewhat more welcome now than last year          NaN         7   \n",
       "\n",
       "  YearsCodePro  \n",
       "0           27  \n",
       "1            4  "
      ]
     },
     "execution_count": 35,
     "metadata": {},
     "output_type": "execute_result"
    }
   ],
   "source": [
    "survey_df.iloc[0:2]"
   ]
  },
  {
   "cell_type": "markdown",
   "id": "88112218",
   "metadata": {},
   "source": [
    "### bracket -- getting column"
   ]
  },
  {
   "cell_type": "code",
   "execution_count": 36,
   "id": "0bfc9e27",
   "metadata": {},
   "outputs": [
    {
     "data": {
      "text/plain": [
       "0    Yes\n",
       "1     No\n",
       "Name: Hobbyist, dtype: object"
      ]
     },
     "execution_count": 36,
     "metadata": {},
     "output_type": "execute_result"
    }
   ],
   "source": [
    "survey_df[0:2]['Hobbyist']"
   ]
  },
  {
   "cell_type": "markdown",
   "id": "6b3a103c",
   "metadata": {},
   "source": [
    "### bracket -- getting columns"
   ]
  },
  {
   "cell_type": "code",
   "execution_count": 42,
   "id": "7c84c0bd",
   "metadata": {},
   "outputs": [
    {
     "data": {
      "application/vnd.microsoft.datawrangler.viewer.v0+json": {
       "columns": [
        {
         "name": "index",
         "rawType": "int64",
         "type": "integer"
        },
        {
         "name": "Hobbyist",
         "rawType": "object",
         "type": "string"
        },
        {
         "name": "MainBranch",
         "rawType": "object",
         "type": "string"
        }
       ],
       "conversionMethod": "pd.DataFrame",
       "ref": "4cab3afb-f0aa-4cea-ae01-f6c3f2de09cb",
       "rows": [
        [
         "0",
         "Yes",
         "I am a developer by profession"
        ],
        [
         "1",
         "No",
         "I am a developer by profession"
        ]
       ],
       "shape": {
        "columns": 2,
        "rows": 2
       }
      },
      "text/html": [
       "<div>\n",
       "<style scoped>\n",
       "    .dataframe tbody tr th:only-of-type {\n",
       "        vertical-align: middle;\n",
       "    }\n",
       "\n",
       "    .dataframe tbody tr th {\n",
       "        vertical-align: top;\n",
       "    }\n",
       "\n",
       "    .dataframe thead th {\n",
       "        text-align: right;\n",
       "    }\n",
       "</style>\n",
       "<table border=\"1\" class=\"dataframe\">\n",
       "  <thead>\n",
       "    <tr style=\"text-align: right;\">\n",
       "      <th></th>\n",
       "      <th>Hobbyist</th>\n",
       "      <th>MainBranch</th>\n",
       "    </tr>\n",
       "  </thead>\n",
       "  <tbody>\n",
       "    <tr>\n",
       "      <th>0</th>\n",
       "      <td>Yes</td>\n",
       "      <td>I am a developer by profession</td>\n",
       "    </tr>\n",
       "    <tr>\n",
       "      <th>1</th>\n",
       "      <td>No</td>\n",
       "      <td>I am a developer by profession</td>\n",
       "    </tr>\n",
       "  </tbody>\n",
       "</table>\n",
       "</div>"
      ],
      "text/plain": [
       "  Hobbyist                      MainBranch\n",
       "0      Yes  I am a developer by profession\n",
       "1       No  I am a developer by profession"
      ]
     },
     "execution_count": 42,
     "metadata": {},
     "output_type": "execute_result"
    }
   ],
   "source": [
    "survey_df[0:2][['Hobbyist', 'MainBranch']]"
   ]
  },
  {
   "cell_type": "markdown",
   "id": "bcb1ea01",
   "metadata": {},
   "source": [
    "### loc -- getting column"
   ]
  },
  {
   "cell_type": "code",
   "execution_count": 37,
   "id": "be26d666",
   "metadata": {},
   "outputs": [
    {
     "data": {
      "text/plain": [
       "0    Yes\n",
       "1     No\n",
       "2    Yes\n",
       "Name: Hobbyist, dtype: object"
      ]
     },
     "execution_count": 37,
     "metadata": {},
     "output_type": "execute_result"
    }
   ],
   "source": [
    "survey_df.loc[0:2]['Hobbyist']"
   ]
  },
  {
   "cell_type": "markdown",
   "id": "b5634578",
   "metadata": {},
   "source": [
    "### loc -- getting columns -- outer bracket"
   ]
  },
  {
   "cell_type": "code",
   "execution_count": 43,
   "id": "b81625a9",
   "metadata": {},
   "outputs": [
    {
     "data": {
      "application/vnd.microsoft.datawrangler.viewer.v0+json": {
       "columns": [
        {
         "name": "index",
         "rawType": "int64",
         "type": "integer"
        },
        {
         "name": "Hobbyist",
         "rawType": "object",
         "type": "string"
        },
        {
         "name": "MainBranch",
         "rawType": "object",
         "type": "string"
        }
       ],
       "conversionMethod": "pd.DataFrame",
       "ref": "0cf2efdd-26d5-470a-bb84-d61729b2d05e",
       "rows": [
        [
         "0",
         "Yes",
         "I am a developer by profession"
        ],
        [
         "1",
         "No",
         "I am a developer by profession"
        ],
        [
         "2",
         "Yes",
         "I code primarily as a hobby"
        ]
       ],
       "shape": {
        "columns": 2,
        "rows": 3
       }
      },
      "text/html": [
       "<div>\n",
       "<style scoped>\n",
       "    .dataframe tbody tr th:only-of-type {\n",
       "        vertical-align: middle;\n",
       "    }\n",
       "\n",
       "    .dataframe tbody tr th {\n",
       "        vertical-align: top;\n",
       "    }\n",
       "\n",
       "    .dataframe thead th {\n",
       "        text-align: right;\n",
       "    }\n",
       "</style>\n",
       "<table border=\"1\" class=\"dataframe\">\n",
       "  <thead>\n",
       "    <tr style=\"text-align: right;\">\n",
       "      <th></th>\n",
       "      <th>Hobbyist</th>\n",
       "      <th>MainBranch</th>\n",
       "    </tr>\n",
       "  </thead>\n",
       "  <tbody>\n",
       "    <tr>\n",
       "      <th>0</th>\n",
       "      <td>Yes</td>\n",
       "      <td>I am a developer by profession</td>\n",
       "    </tr>\n",
       "    <tr>\n",
       "      <th>1</th>\n",
       "      <td>No</td>\n",
       "      <td>I am a developer by profession</td>\n",
       "    </tr>\n",
       "    <tr>\n",
       "      <th>2</th>\n",
       "      <td>Yes</td>\n",
       "      <td>I code primarily as a hobby</td>\n",
       "    </tr>\n",
       "  </tbody>\n",
       "</table>\n",
       "</div>"
      ],
      "text/plain": [
       "  Hobbyist                      MainBranch\n",
       "0      Yes  I am a developer by profession\n",
       "1       No  I am a developer by profession\n",
       "2      Yes     I code primarily as a hobby"
      ]
     },
     "execution_count": 43,
     "metadata": {},
     "output_type": "execute_result"
    }
   ],
   "source": [
    "survey_df.loc[0:2][['Hobbyist', 'MainBranch']]"
   ]
  },
  {
   "cell_type": "markdown",
   "id": "307da705",
   "metadata": {},
   "source": [
    "### loc -- getting columns -- inner bracket"
   ]
  },
  {
   "cell_type": "code",
   "execution_count": 44,
   "id": "800018f7",
   "metadata": {},
   "outputs": [
    {
     "data": {
      "application/vnd.microsoft.datawrangler.viewer.v0+json": {
       "columns": [
        {
         "name": "index",
         "rawType": "int64",
         "type": "integer"
        },
        {
         "name": "Hobbyist",
         "rawType": "object",
         "type": "string"
        },
        {
         "name": "MainBranch",
         "rawType": "object",
         "type": "string"
        }
       ],
       "conversionMethod": "pd.DataFrame",
       "ref": "c5b3f7a2-de21-4394-9472-d678a983c2f4",
       "rows": [
        [
         "0",
         "Yes",
         "I am a developer by profession"
        ],
        [
         "1",
         "No",
         "I am a developer by profession"
        ],
        [
         "2",
         "Yes",
         "I code primarily as a hobby"
        ]
       ],
       "shape": {
        "columns": 2,
        "rows": 3
       }
      },
      "text/html": [
       "<div>\n",
       "<style scoped>\n",
       "    .dataframe tbody tr th:only-of-type {\n",
       "        vertical-align: middle;\n",
       "    }\n",
       "\n",
       "    .dataframe tbody tr th {\n",
       "        vertical-align: top;\n",
       "    }\n",
       "\n",
       "    .dataframe thead th {\n",
       "        text-align: right;\n",
       "    }\n",
       "</style>\n",
       "<table border=\"1\" class=\"dataframe\">\n",
       "  <thead>\n",
       "    <tr style=\"text-align: right;\">\n",
       "      <th></th>\n",
       "      <th>Hobbyist</th>\n",
       "      <th>MainBranch</th>\n",
       "    </tr>\n",
       "  </thead>\n",
       "  <tbody>\n",
       "    <tr>\n",
       "      <th>0</th>\n",
       "      <td>Yes</td>\n",
       "      <td>I am a developer by profession</td>\n",
       "    </tr>\n",
       "    <tr>\n",
       "      <th>1</th>\n",
       "      <td>No</td>\n",
       "      <td>I am a developer by profession</td>\n",
       "    </tr>\n",
       "    <tr>\n",
       "      <th>2</th>\n",
       "      <td>Yes</td>\n",
       "      <td>I code primarily as a hobby</td>\n",
       "    </tr>\n",
       "  </tbody>\n",
       "</table>\n",
       "</div>"
      ],
      "text/plain": [
       "  Hobbyist                      MainBranch\n",
       "0      Yes  I am a developer by profession\n",
       "1       No  I am a developer by profession\n",
       "2      Yes     I code primarily as a hobby"
      ]
     },
     "execution_count": 44,
     "metadata": {},
     "output_type": "execute_result"
    }
   ],
   "source": [
    "survey_df.loc[0:2, ['Hobbyist', 'MainBranch']]"
   ]
  },
  {
   "cell_type": "markdown",
   "id": "619ecbe8",
   "metadata": {},
   "source": [
    "### loc -- getting columns -- slicing column names"
   ]
  },
  {
   "cell_type": "code",
   "execution_count": 64,
   "id": "5fa50ff9",
   "metadata": {},
   "outputs": [
    {
     "data": {
      "application/vnd.microsoft.datawrangler.viewer.v0+json": {
       "columns": [
        {
         "name": "index",
         "rawType": "int64",
         "type": "integer"
        },
        {
         "name": "MainBranch",
         "rawType": "object",
         "type": "string"
        },
        {
         "name": "Hobbyist",
         "rawType": "object",
         "type": "string"
        },
        {
         "name": "Age",
         "rawType": "float64",
         "type": "float"
        }
       ],
       "conversionMethod": "pd.DataFrame",
       "ref": "e3ce7f51-52b0-4dff-a2e0-2a48f26bef3e",
       "rows": [
        [
         "0",
         "I am a developer by profession",
         "Yes",
         null
        ],
        [
         "1",
         "I am a developer by profession",
         "No",
         null
        ],
        [
         "2",
         "I code primarily as a hobby",
         "Yes",
         null
        ]
       ],
       "shape": {
        "columns": 3,
        "rows": 3
       }
      },
      "text/html": [
       "<div>\n",
       "<style scoped>\n",
       "    .dataframe tbody tr th:only-of-type {\n",
       "        vertical-align: middle;\n",
       "    }\n",
       "\n",
       "    .dataframe tbody tr th {\n",
       "        vertical-align: top;\n",
       "    }\n",
       "\n",
       "    .dataframe thead th {\n",
       "        text-align: right;\n",
       "    }\n",
       "</style>\n",
       "<table border=\"1\" class=\"dataframe\">\n",
       "  <thead>\n",
       "    <tr style=\"text-align: right;\">\n",
       "      <th></th>\n",
       "      <th>MainBranch</th>\n",
       "      <th>Hobbyist</th>\n",
       "      <th>Age</th>\n",
       "    </tr>\n",
       "  </thead>\n",
       "  <tbody>\n",
       "    <tr>\n",
       "      <th>0</th>\n",
       "      <td>I am a developer by profession</td>\n",
       "      <td>Yes</td>\n",
       "      <td>NaN</td>\n",
       "    </tr>\n",
       "    <tr>\n",
       "      <th>1</th>\n",
       "      <td>I am a developer by profession</td>\n",
       "      <td>No</td>\n",
       "      <td>NaN</td>\n",
       "    </tr>\n",
       "    <tr>\n",
       "      <th>2</th>\n",
       "      <td>I code primarily as a hobby</td>\n",
       "      <td>Yes</td>\n",
       "      <td>NaN</td>\n",
       "    </tr>\n",
       "  </tbody>\n",
       "</table>\n",
       "</div>"
      ],
      "text/plain": [
       "                       MainBranch Hobbyist  Age\n",
       "0  I am a developer by profession      Yes  NaN\n",
       "1  I am a developer by profession       No  NaN\n",
       "2     I code primarily as a hobby      Yes  NaN"
      ]
     },
     "execution_count": 64,
     "metadata": {},
     "output_type": "execute_result"
    }
   ],
   "source": [
    "survey_df.loc[0:2, 'MainBranch':'Age']"
   ]
  },
  {
   "cell_type": "markdown",
   "id": "536340a4",
   "metadata": {},
   "source": [
    "### iloc -- getting column by position"
   ]
  },
  {
   "cell_type": "code",
   "execution_count": 53,
   "id": "a087ca12",
   "metadata": {},
   "outputs": [
    {
     "data": {
      "text/plain": [
       "0    Yes\n",
       "1     No\n",
       "Name: Hobbyist, dtype: object"
      ]
     },
     "execution_count": 53,
     "metadata": {},
     "output_type": "execute_result"
    }
   ],
   "source": [
    "survey_df.iloc[0:2, 2]"
   ]
  },
  {
   "cell_type": "markdown",
   "id": "f78e5435",
   "metadata": {},
   "source": [
    "### iloc -- getting columns with positional slices"
   ]
  },
  {
   "cell_type": "code",
   "execution_count": 57,
   "id": "72d57290",
   "metadata": {},
   "outputs": [
    {
     "data": {
      "application/vnd.microsoft.datawrangler.viewer.v0+json": {
       "columns": [
        {
         "name": "index",
         "rawType": "int64",
         "type": "integer"
        },
        {
         "name": "Hobbyist",
         "rawType": "object",
         "type": "string"
        },
        {
         "name": "Age",
         "rawType": "float64",
         "type": "float"
        },
        {
         "name": "Age1stCode",
         "rawType": "object",
         "type": "string"
        }
       ],
       "conversionMethod": "pd.DataFrame",
       "ref": "699e4603-3cae-4e34-bf11-9b0136a96978",
       "rows": [
        [
         "0",
         "Yes",
         null,
         "13"
        ],
        [
         "1",
         "No",
         null,
         "19"
        ]
       ],
       "shape": {
        "columns": 3,
        "rows": 2
       }
      },
      "text/html": [
       "<div>\n",
       "<style scoped>\n",
       "    .dataframe tbody tr th:only-of-type {\n",
       "        vertical-align: middle;\n",
       "    }\n",
       "\n",
       "    .dataframe tbody tr th {\n",
       "        vertical-align: top;\n",
       "    }\n",
       "\n",
       "    .dataframe thead th {\n",
       "        text-align: right;\n",
       "    }\n",
       "</style>\n",
       "<table border=\"1\" class=\"dataframe\">\n",
       "  <thead>\n",
       "    <tr style=\"text-align: right;\">\n",
       "      <th></th>\n",
       "      <th>Hobbyist</th>\n",
       "      <th>Age</th>\n",
       "      <th>Age1stCode</th>\n",
       "    </tr>\n",
       "  </thead>\n",
       "  <tbody>\n",
       "    <tr>\n",
       "      <th>0</th>\n",
       "      <td>Yes</td>\n",
       "      <td>NaN</td>\n",
       "      <td>13</td>\n",
       "    </tr>\n",
       "    <tr>\n",
       "      <th>1</th>\n",
       "      <td>No</td>\n",
       "      <td>NaN</td>\n",
       "      <td>19</td>\n",
       "    </tr>\n",
       "  </tbody>\n",
       "</table>\n",
       "</div>"
      ],
      "text/plain": [
       "  Hobbyist  Age Age1stCode\n",
       "0      Yes  NaN         13\n",
       "1       No  NaN         19"
      ]
     },
     "execution_count": 57,
     "metadata": {},
     "output_type": "execute_result"
    }
   ],
   "source": [
    "survey_df.iloc[0:2, 2:5]"
   ]
  }
 ],
 "metadata": {
  "kernelspec": {
   "display_name": ".venv",
   "language": "python",
   "name": "python3"
  },
  "language_info": {
   "codemirror_mode": {
    "name": "ipython",
    "version": 3
   },
   "file_extension": ".py",
   "mimetype": "text/x-python",
   "name": "python",
   "nbconvert_exporter": "python",
   "pygments_lexer": "ipython3",
   "version": "3.12.4"
  }
 },
 "nbformat": 4,
 "nbformat_minor": 5
}
