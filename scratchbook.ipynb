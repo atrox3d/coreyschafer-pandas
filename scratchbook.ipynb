{
 "cells": [
  {
   "cell_type": "code",
   "execution_count": 83,
   "id": "eb0afd72",
   "metadata": {},
   "outputs": [],
   "source": [
    "import pandas as pd\n",
    "import random"
   ]
  },
  {
   "cell_type": "code",
   "execution_count": 84,
   "id": "8fad24cb",
   "metadata": {},
   "outputs": [],
   "source": [
    "NAME_LIST = 'bob mark joe chris'.split()\n",
    "SURNAME_LIST = 'smith brown doe iggins'.split()\n",
    "ROW_COUNT = 10"
   ]
  },
  {
   "cell_type": "code",
   "execution_count": 85,
   "id": "891d20a1",
   "metadata": {},
   "outputs": [
    {
     "data": {
      "application/vnd.microsoft.datawrangler.viewer.v0+json": {
       "columns": [
        {
         "name": "index",
         "rawType": "int64",
         "type": "integer"
        },
        {
         "name": "first",
         "rawType": "object",
         "type": "string"
        },
        {
         "name": "last",
         "rawType": "object",
         "type": "string"
        },
        {
         "name": "email",
         "rawType": "object",
         "type": "string"
        }
       ],
       "conversionMethod": "pd.DataFrame",
       "ref": "ee59e920-b094-4361-9f4b-3c0a7a6c8773",
       "rows": [
        [
         "0",
         "bob",
         "brown",
         "bob.brown@mail.com"
        ],
        [
         "1",
         "mark",
         "iggins",
         "mark.iggins@mail.com"
        ],
        [
         "2",
         "mark",
         "smith",
         "mark.smith@mail.com"
        ],
        [
         "3",
         "chris",
         "doe",
         "chris.doe@mail.com"
        ],
        [
         "4",
         "mark",
         "smith",
         "mark.smith@mail.com"
        ],
        [
         "5",
         "chris",
         "iggins",
         "chris.iggins@mail.com"
        ],
        [
         "6",
         "chris",
         "smith",
         "chris.smith@mail.com"
        ],
        [
         "7",
         "chris",
         "brown",
         "chris.brown@mail.com"
        ],
        [
         "8",
         "chris",
         "doe",
         "chris.doe@mail.com"
        ],
        [
         "9",
         "chris",
         "brown",
         "chris.brown@mail.com"
        ]
       ],
       "shape": {
        "columns": 3,
        "rows": 10
       }
      },
      "text/html": [
       "<div>\n",
       "<style scoped>\n",
       "    .dataframe tbody tr th:only-of-type {\n",
       "        vertical-align: middle;\n",
       "    }\n",
       "\n",
       "    .dataframe tbody tr th {\n",
       "        vertical-align: top;\n",
       "    }\n",
       "\n",
       "    .dataframe thead th {\n",
       "        text-align: right;\n",
       "    }\n",
       "</style>\n",
       "<table border=\"1\" class=\"dataframe\">\n",
       "  <thead>\n",
       "    <tr style=\"text-align: right;\">\n",
       "      <th></th>\n",
       "      <th>first</th>\n",
       "      <th>last</th>\n",
       "      <th>email</th>\n",
       "    </tr>\n",
       "  </thead>\n",
       "  <tbody>\n",
       "    <tr>\n",
       "      <th>0</th>\n",
       "      <td>bob</td>\n",
       "      <td>brown</td>\n",
       "      <td>bob.brown@mail.com</td>\n",
       "    </tr>\n",
       "    <tr>\n",
       "      <th>1</th>\n",
       "      <td>mark</td>\n",
       "      <td>iggins</td>\n",
       "      <td>mark.iggins@mail.com</td>\n",
       "    </tr>\n",
       "    <tr>\n",
       "      <th>2</th>\n",
       "      <td>mark</td>\n",
       "      <td>smith</td>\n",
       "      <td>mark.smith@mail.com</td>\n",
       "    </tr>\n",
       "    <tr>\n",
       "      <th>3</th>\n",
       "      <td>chris</td>\n",
       "      <td>doe</td>\n",
       "      <td>chris.doe@mail.com</td>\n",
       "    </tr>\n",
       "    <tr>\n",
       "      <th>4</th>\n",
       "      <td>mark</td>\n",
       "      <td>smith</td>\n",
       "      <td>mark.smith@mail.com</td>\n",
       "    </tr>\n",
       "    <tr>\n",
       "      <th>5</th>\n",
       "      <td>chris</td>\n",
       "      <td>iggins</td>\n",
       "      <td>chris.iggins@mail.com</td>\n",
       "    </tr>\n",
       "    <tr>\n",
       "      <th>6</th>\n",
       "      <td>chris</td>\n",
       "      <td>smith</td>\n",
       "      <td>chris.smith@mail.com</td>\n",
       "    </tr>\n",
       "    <tr>\n",
       "      <th>7</th>\n",
       "      <td>chris</td>\n",
       "      <td>brown</td>\n",
       "      <td>chris.brown@mail.com</td>\n",
       "    </tr>\n",
       "    <tr>\n",
       "      <th>8</th>\n",
       "      <td>chris</td>\n",
       "      <td>doe</td>\n",
       "      <td>chris.doe@mail.com</td>\n",
       "    </tr>\n",
       "    <tr>\n",
       "      <th>9</th>\n",
       "      <td>chris</td>\n",
       "      <td>brown</td>\n",
       "      <td>chris.brown@mail.com</td>\n",
       "    </tr>\n",
       "  </tbody>\n",
       "</table>\n",
       "</div>"
      ],
      "text/plain": [
       "   first    last                  email\n",
       "0    bob   brown     bob.brown@mail.com\n",
       "1   mark  iggins   mark.iggins@mail.com\n",
       "2   mark   smith    mark.smith@mail.com\n",
       "3  chris     doe     chris.doe@mail.com\n",
       "4   mark   smith    mark.smith@mail.com\n",
       "5  chris  iggins  chris.iggins@mail.com\n",
       "6  chris   smith   chris.smith@mail.com\n",
       "7  chris   brown   chris.brown@mail.com\n",
       "8  chris     doe     chris.doe@mail.com\n",
       "9  chris   brown   chris.brown@mail.com"
      ]
     },
     "execution_count": 85,
     "metadata": {},
     "output_type": "execute_result"
    }
   ],
   "source": [
    "names = (random.choice(NAME_LIST) for _ in range(ROW_COUNT))\n",
    "surnames = (random.choice(SURNAME_LIST) for _ in range(ROW_COUNT))\n",
    "data = ((name, surname, f'{name}.{surname}@mail.com') for name, surname in zip(names, surnames))\n",
    "records = [{'first': first, 'last': last, 'email':email} for first, last, email in data]\n",
    "df = pd.DataFrame(records); df"
   ]
  },
  {
   "cell_type": "code",
   "execution_count": 86,
   "id": "5ff30437",
   "metadata": {},
   "outputs": [
    {
     "data": {
      "application/vnd.microsoft.datawrangler.viewer.v0+json": {
       "columns": [
        {
         "name": "index",
         "rawType": "int64",
         "type": "integer"
        },
        {
         "name": "first",
         "rawType": "object",
         "type": "string"
        },
        {
         "name": "last",
         "rawType": "object",
         "type": "string"
        },
        {
         "name": "email",
         "rawType": "object",
         "type": "string"
        }
       ],
       "conversionMethod": "pd.DataFrame",
       "ref": "af895ffd-591a-464b-a6f2-8d859077bd1e",
       "rows": [
        [
         "1",
         "mark",
         "iggins",
         "mark.iggins@mail.com"
        ],
        [
         "2",
         "mark",
         "smith",
         "mark.smith@mail.com"
        ],
        [
         "3",
         "chris",
         "doe",
         "chris.doe@mail.com"
        ],
        [
         "4",
         "mark",
         "smith",
         "mark.smith@mail.com"
        ],
        [
         "5",
         "chris",
         "iggins",
         "chris.iggins@mail.com"
        ],
        [
         "6",
         "chris",
         "smith",
         "chris.smith@mail.com"
        ],
        [
         "7",
         "chris",
         "brown",
         "chris.brown@mail.com"
        ],
        [
         "8",
         "chris",
         "doe",
         "chris.doe@mail.com"
        ],
        [
         "9",
         "chris",
         "brown",
         "chris.brown@mail.com"
        ]
       ],
       "shape": {
        "columns": 3,
        "rows": 9
       }
      },
      "text/html": [
       "<div>\n",
       "<style scoped>\n",
       "    .dataframe tbody tr th:only-of-type {\n",
       "        vertical-align: middle;\n",
       "    }\n",
       "\n",
       "    .dataframe tbody tr th {\n",
       "        vertical-align: top;\n",
       "    }\n",
       "\n",
       "    .dataframe thead th {\n",
       "        text-align: right;\n",
       "    }\n",
       "</style>\n",
       "<table border=\"1\" class=\"dataframe\">\n",
       "  <thead>\n",
       "    <tr style=\"text-align: right;\">\n",
       "      <th></th>\n",
       "      <th>first</th>\n",
       "      <th>last</th>\n",
       "      <th>email</th>\n",
       "    </tr>\n",
       "  </thead>\n",
       "  <tbody>\n",
       "    <tr>\n",
       "      <th>1</th>\n",
       "      <td>mark</td>\n",
       "      <td>iggins</td>\n",
       "      <td>mark.iggins@mail.com</td>\n",
       "    </tr>\n",
       "    <tr>\n",
       "      <th>2</th>\n",
       "      <td>mark</td>\n",
       "      <td>smith</td>\n",
       "      <td>mark.smith@mail.com</td>\n",
       "    </tr>\n",
       "    <tr>\n",
       "      <th>3</th>\n",
       "      <td>chris</td>\n",
       "      <td>doe</td>\n",
       "      <td>chris.doe@mail.com</td>\n",
       "    </tr>\n",
       "    <tr>\n",
       "      <th>4</th>\n",
       "      <td>mark</td>\n",
       "      <td>smith</td>\n",
       "      <td>mark.smith@mail.com</td>\n",
       "    </tr>\n",
       "    <tr>\n",
       "      <th>5</th>\n",
       "      <td>chris</td>\n",
       "      <td>iggins</td>\n",
       "      <td>chris.iggins@mail.com</td>\n",
       "    </tr>\n",
       "    <tr>\n",
       "      <th>6</th>\n",
       "      <td>chris</td>\n",
       "      <td>smith</td>\n",
       "      <td>chris.smith@mail.com</td>\n",
       "    </tr>\n",
       "    <tr>\n",
       "      <th>7</th>\n",
       "      <td>chris</td>\n",
       "      <td>brown</td>\n",
       "      <td>chris.brown@mail.com</td>\n",
       "    </tr>\n",
       "    <tr>\n",
       "      <th>8</th>\n",
       "      <td>chris</td>\n",
       "      <td>doe</td>\n",
       "      <td>chris.doe@mail.com</td>\n",
       "    </tr>\n",
       "    <tr>\n",
       "      <th>9</th>\n",
       "      <td>chris</td>\n",
       "      <td>brown</td>\n",
       "      <td>chris.brown@mail.com</td>\n",
       "    </tr>\n",
       "  </tbody>\n",
       "</table>\n",
       "</div>"
      ],
      "text/plain": [
       "   first    last                  email\n",
       "1   mark  iggins   mark.iggins@mail.com\n",
       "2   mark   smith    mark.smith@mail.com\n",
       "3  chris     doe     chris.doe@mail.com\n",
       "4   mark   smith    mark.smith@mail.com\n",
       "5  chris  iggins  chris.iggins@mail.com\n",
       "6  chris   smith   chris.smith@mail.com\n",
       "7  chris   brown   chris.brown@mail.com\n",
       "8  chris     doe     chris.doe@mail.com\n",
       "9  chris   brown   chris.brown@mail.com"
      ]
     },
     "execution_count": 86,
     "metadata": {},
     "output_type": "execute_result"
    }
   ],
   "source": [
    "df.drop(0)"
   ]
  },
  {
   "cell_type": "code",
   "execution_count": 87,
   "id": "151842d1",
   "metadata": {},
   "outputs": [
    {
     "data": {
      "application/vnd.microsoft.datawrangler.viewer.v0+json": {
       "columns": [
        {
         "name": "index",
         "rawType": "int64",
         "type": "integer"
        },
        {
         "name": "last",
         "rawType": "object",
         "type": "string"
        },
        {
         "name": "email",
         "rawType": "object",
         "type": "string"
        }
       ],
       "conversionMethod": "pd.DataFrame",
       "ref": "15a618f4-0077-4b25-a595-457f952eb28e",
       "rows": [
        [
         "0",
         "brown",
         "bob.brown@mail.com"
        ],
        [
         "1",
         "iggins",
         "mark.iggins@mail.com"
        ],
        [
         "2",
         "smith",
         "mark.smith@mail.com"
        ],
        [
         "3",
         "doe",
         "chris.doe@mail.com"
        ],
        [
         "4",
         "smith",
         "mark.smith@mail.com"
        ],
        [
         "5",
         "iggins",
         "chris.iggins@mail.com"
        ],
        [
         "6",
         "smith",
         "chris.smith@mail.com"
        ],
        [
         "7",
         "brown",
         "chris.brown@mail.com"
        ],
        [
         "8",
         "doe",
         "chris.doe@mail.com"
        ],
        [
         "9",
         "brown",
         "chris.brown@mail.com"
        ]
       ],
       "shape": {
        "columns": 2,
        "rows": 10
       }
      },
      "text/html": [
       "<div>\n",
       "<style scoped>\n",
       "    .dataframe tbody tr th:only-of-type {\n",
       "        vertical-align: middle;\n",
       "    }\n",
       "\n",
       "    .dataframe tbody tr th {\n",
       "        vertical-align: top;\n",
       "    }\n",
       "\n",
       "    .dataframe thead th {\n",
       "        text-align: right;\n",
       "    }\n",
       "</style>\n",
       "<table border=\"1\" class=\"dataframe\">\n",
       "  <thead>\n",
       "    <tr style=\"text-align: right;\">\n",
       "      <th></th>\n",
       "      <th>last</th>\n",
       "      <th>email</th>\n",
       "    </tr>\n",
       "  </thead>\n",
       "  <tbody>\n",
       "    <tr>\n",
       "      <th>0</th>\n",
       "      <td>brown</td>\n",
       "      <td>bob.brown@mail.com</td>\n",
       "    </tr>\n",
       "    <tr>\n",
       "      <th>1</th>\n",
       "      <td>iggins</td>\n",
       "      <td>mark.iggins@mail.com</td>\n",
       "    </tr>\n",
       "    <tr>\n",
       "      <th>2</th>\n",
       "      <td>smith</td>\n",
       "      <td>mark.smith@mail.com</td>\n",
       "    </tr>\n",
       "    <tr>\n",
       "      <th>3</th>\n",
       "      <td>doe</td>\n",
       "      <td>chris.doe@mail.com</td>\n",
       "    </tr>\n",
       "    <tr>\n",
       "      <th>4</th>\n",
       "      <td>smith</td>\n",
       "      <td>mark.smith@mail.com</td>\n",
       "    </tr>\n",
       "    <tr>\n",
       "      <th>5</th>\n",
       "      <td>iggins</td>\n",
       "      <td>chris.iggins@mail.com</td>\n",
       "    </tr>\n",
       "    <tr>\n",
       "      <th>6</th>\n",
       "      <td>smith</td>\n",
       "      <td>chris.smith@mail.com</td>\n",
       "    </tr>\n",
       "    <tr>\n",
       "      <th>7</th>\n",
       "      <td>brown</td>\n",
       "      <td>chris.brown@mail.com</td>\n",
       "    </tr>\n",
       "    <tr>\n",
       "      <th>8</th>\n",
       "      <td>doe</td>\n",
       "      <td>chris.doe@mail.com</td>\n",
       "    </tr>\n",
       "    <tr>\n",
       "      <th>9</th>\n",
       "      <td>brown</td>\n",
       "      <td>chris.brown@mail.com</td>\n",
       "    </tr>\n",
       "  </tbody>\n",
       "</table>\n",
       "</div>"
      ],
      "text/plain": [
       "     last                  email\n",
       "0   brown     bob.brown@mail.com\n",
       "1  iggins   mark.iggins@mail.com\n",
       "2   smith    mark.smith@mail.com\n",
       "3     doe     chris.doe@mail.com\n",
       "4   smith    mark.smith@mail.com\n",
       "5  iggins  chris.iggins@mail.com\n",
       "6   smith   chris.smith@mail.com\n",
       "7   brown   chris.brown@mail.com\n",
       "8     doe     chris.doe@mail.com\n",
       "9   brown   chris.brown@mail.com"
      ]
     },
     "execution_count": 87,
     "metadata": {},
     "output_type": "execute_result"
    }
   ],
   "source": [
    "df.drop(columns='first')"
   ]
  },
  {
   "cell_type": "code",
   "execution_count": 88,
   "id": "63f265f0",
   "metadata": {},
   "outputs": [
    {
     "data": {
      "application/vnd.microsoft.datawrangler.viewer.v0+json": {
       "columns": [
        {
         "name": "index",
         "rawType": "int64",
         "type": "integer"
        },
        {
         "name": "first",
         "rawType": "object",
         "type": "string"
        },
        {
         "name": "last",
         "rawType": "object",
         "type": "string"
        },
        {
         "name": "email",
         "rawType": "object",
         "type": "string"
        }
       ],
       "conversionMethod": "pd.DataFrame",
       "ref": "4c2a5287-4958-4ee7-b99d-bcbdaa9ef6ed",
       "rows": [
        [
         "0",
         "bob",
         "brown",
         "bob.brown@mail.com"
        ],
        [
         "2",
         "mark",
         "smith",
         "mark.smith@mail.com"
        ],
        [
         "4",
         "mark",
         "smith",
         "mark.smith@mail.com"
        ],
        [
         "6",
         "chris",
         "smith",
         "chris.smith@mail.com"
        ],
        [
         "8",
         "chris",
         "doe",
         "chris.doe@mail.com"
        ]
       ],
       "shape": {
        "columns": 3,
        "rows": 5
       }
      },
      "text/html": [
       "<div>\n",
       "<style scoped>\n",
       "    .dataframe tbody tr th:only-of-type {\n",
       "        vertical-align: middle;\n",
       "    }\n",
       "\n",
       "    .dataframe tbody tr th {\n",
       "        vertical-align: top;\n",
       "    }\n",
       "\n",
       "    .dataframe thead th {\n",
       "        text-align: right;\n",
       "    }\n",
       "</style>\n",
       "<table border=\"1\" class=\"dataframe\">\n",
       "  <thead>\n",
       "    <tr style=\"text-align: right;\">\n",
       "      <th></th>\n",
       "      <th>first</th>\n",
       "      <th>last</th>\n",
       "      <th>email</th>\n",
       "    </tr>\n",
       "  </thead>\n",
       "  <tbody>\n",
       "    <tr>\n",
       "      <th>0</th>\n",
       "      <td>bob</td>\n",
       "      <td>brown</td>\n",
       "      <td>bob.brown@mail.com</td>\n",
       "    </tr>\n",
       "    <tr>\n",
       "      <th>2</th>\n",
       "      <td>mark</td>\n",
       "      <td>smith</td>\n",
       "      <td>mark.smith@mail.com</td>\n",
       "    </tr>\n",
       "    <tr>\n",
       "      <th>4</th>\n",
       "      <td>mark</td>\n",
       "      <td>smith</td>\n",
       "      <td>mark.smith@mail.com</td>\n",
       "    </tr>\n",
       "    <tr>\n",
       "      <th>6</th>\n",
       "      <td>chris</td>\n",
       "      <td>smith</td>\n",
       "      <td>chris.smith@mail.com</td>\n",
       "    </tr>\n",
       "    <tr>\n",
       "      <th>8</th>\n",
       "      <td>chris</td>\n",
       "      <td>doe</td>\n",
       "      <td>chris.doe@mail.com</td>\n",
       "    </tr>\n",
       "  </tbody>\n",
       "</table>\n",
       "</div>"
      ],
      "text/plain": [
       "   first   last                 email\n",
       "0    bob  brown    bob.brown@mail.com\n",
       "2   mark  smith   mark.smith@mail.com\n",
       "4   mark  smith   mark.smith@mail.com\n",
       "6  chris  smith  chris.smith@mail.com\n",
       "8  chris    doe    chris.doe@mail.com"
      ]
     },
     "execution_count": 88,
     "metadata": {},
     "output_type": "execute_result"
    }
   ],
   "source": [
    "df.drop(index=[n for n in range(df.shape[0]) if n % 2])"
   ]
  },
  {
   "cell_type": "code",
   "execution_count": 89,
   "id": "0092d81d",
   "metadata": {},
   "outputs": [
    {
     "data": {
      "application/vnd.microsoft.datawrangler.viewer.v0+json": {
       "columns": [
        {
         "name": "index",
         "rawType": "int64",
         "type": "integer"
        },
        {
         "name": "first",
         "rawType": "object",
         "type": "string"
        },
        {
         "name": "last",
         "rawType": "object",
         "type": "string"
        },
        {
         "name": "email",
         "rawType": "object",
         "type": "string"
        }
       ],
       "conversionMethod": "pd.DataFrame",
       "ref": "aa5ceac8-981f-4790-bb8e-b8098c323065",
       "rows": [
        [
         "1",
         "mark",
         "iggins",
         "mark.iggins@mail.com"
        ],
        [
         "3",
         "chris",
         "doe",
         "chris.doe@mail.com"
        ],
        [
         "6",
         "chris",
         "smith",
         "chris.smith@mail.com"
        ],
        [
         "7",
         "chris",
         "brown",
         "chris.brown@mail.com"
        ]
       ],
       "shape": {
        "columns": 3,
        "rows": 4
       }
      },
      "text/html": [
       "<div>\n",
       "<style scoped>\n",
       "    .dataframe tbody tr th:only-of-type {\n",
       "        vertical-align: middle;\n",
       "    }\n",
       "\n",
       "    .dataframe tbody tr th {\n",
       "        vertical-align: top;\n",
       "    }\n",
       "\n",
       "    .dataframe thead th {\n",
       "        text-align: right;\n",
       "    }\n",
       "</style>\n",
       "<table border=\"1\" class=\"dataframe\">\n",
       "  <thead>\n",
       "    <tr style=\"text-align: right;\">\n",
       "      <th></th>\n",
       "      <th>first</th>\n",
       "      <th>last</th>\n",
       "      <th>email</th>\n",
       "    </tr>\n",
       "  </thead>\n",
       "  <tbody>\n",
       "    <tr>\n",
       "      <th>1</th>\n",
       "      <td>mark</td>\n",
       "      <td>iggins</td>\n",
       "      <td>mark.iggins@mail.com</td>\n",
       "    </tr>\n",
       "    <tr>\n",
       "      <th>3</th>\n",
       "      <td>chris</td>\n",
       "      <td>doe</td>\n",
       "      <td>chris.doe@mail.com</td>\n",
       "    </tr>\n",
       "    <tr>\n",
       "      <th>6</th>\n",
       "      <td>chris</td>\n",
       "      <td>smith</td>\n",
       "      <td>chris.smith@mail.com</td>\n",
       "    </tr>\n",
       "    <tr>\n",
       "      <th>7</th>\n",
       "      <td>chris</td>\n",
       "      <td>brown</td>\n",
       "      <td>chris.brown@mail.com</td>\n",
       "    </tr>\n",
       "  </tbody>\n",
       "</table>\n",
       "</div>"
      ],
      "text/plain": [
       "   first    last                 email\n",
       "1   mark  iggins  mark.iggins@mail.com\n",
       "3  chris     doe    chris.doe@mail.com\n",
       "6  chris   smith  chris.smith@mail.com\n",
       "7  chris   brown  chris.brown@mail.com"
      ]
     },
     "execution_count": 89,
     "metadata": {},
     "output_type": "execute_result"
    }
   ],
   "source": [
    "df.drop(index=[n for n in range(df.shape[0]) if random.choice([True, False])])"
   ]
  },
  {
   "cell_type": "code",
   "execution_count": 90,
   "id": "f47bdd64",
   "metadata": {},
   "outputs": [
    {
     "data": {
      "application/vnd.microsoft.datawrangler.viewer.v0+json": {
       "columns": [
        {
         "name": "index",
         "rawType": "int64",
         "type": "integer"
        },
        {
         "name": "last",
         "rawType": "object",
         "type": "string"
        },
        {
         "name": "email",
         "rawType": "object",
         "type": "string"
        }
       ],
       "conversionMethod": "pd.DataFrame",
       "ref": "5e758223-b268-4931-aa3e-dde26df6065d",
       "rows": [
        [
         "0",
         "brown",
         "bob.brown@mail.com"
        ],
        [
         "1",
         "iggins",
         "mark.iggins@mail.com"
        ],
        [
         "2",
         "smith",
         "mark.smith@mail.com"
        ],
        [
         "3",
         "doe",
         "chris.doe@mail.com"
        ],
        [
         "4",
         "smith",
         "mark.smith@mail.com"
        ],
        [
         "5",
         "iggins",
         "chris.iggins@mail.com"
        ],
        [
         "6",
         "smith",
         "chris.smith@mail.com"
        ],
        [
         "7",
         "brown",
         "chris.brown@mail.com"
        ],
        [
         "8",
         "doe",
         "chris.doe@mail.com"
        ],
        [
         "9",
         "brown",
         "chris.brown@mail.com"
        ]
       ],
       "shape": {
        "columns": 2,
        "rows": 10
       }
      },
      "text/html": [
       "<div>\n",
       "<style scoped>\n",
       "    .dataframe tbody tr th:only-of-type {\n",
       "        vertical-align: middle;\n",
       "    }\n",
       "\n",
       "    .dataframe tbody tr th {\n",
       "        vertical-align: top;\n",
       "    }\n",
       "\n",
       "    .dataframe thead th {\n",
       "        text-align: right;\n",
       "    }\n",
       "</style>\n",
       "<table border=\"1\" class=\"dataframe\">\n",
       "  <thead>\n",
       "    <tr style=\"text-align: right;\">\n",
       "      <th></th>\n",
       "      <th>last</th>\n",
       "      <th>email</th>\n",
       "    </tr>\n",
       "  </thead>\n",
       "  <tbody>\n",
       "    <tr>\n",
       "      <th>0</th>\n",
       "      <td>brown</td>\n",
       "      <td>bob.brown@mail.com</td>\n",
       "    </tr>\n",
       "    <tr>\n",
       "      <th>1</th>\n",
       "      <td>iggins</td>\n",
       "      <td>mark.iggins@mail.com</td>\n",
       "    </tr>\n",
       "    <tr>\n",
       "      <th>2</th>\n",
       "      <td>smith</td>\n",
       "      <td>mark.smith@mail.com</td>\n",
       "    </tr>\n",
       "    <tr>\n",
       "      <th>3</th>\n",
       "      <td>doe</td>\n",
       "      <td>chris.doe@mail.com</td>\n",
       "    </tr>\n",
       "    <tr>\n",
       "      <th>4</th>\n",
       "      <td>smith</td>\n",
       "      <td>mark.smith@mail.com</td>\n",
       "    </tr>\n",
       "    <tr>\n",
       "      <th>5</th>\n",
       "      <td>iggins</td>\n",
       "      <td>chris.iggins@mail.com</td>\n",
       "    </tr>\n",
       "    <tr>\n",
       "      <th>6</th>\n",
       "      <td>smith</td>\n",
       "      <td>chris.smith@mail.com</td>\n",
       "    </tr>\n",
       "    <tr>\n",
       "      <th>7</th>\n",
       "      <td>brown</td>\n",
       "      <td>chris.brown@mail.com</td>\n",
       "    </tr>\n",
       "    <tr>\n",
       "      <th>8</th>\n",
       "      <td>doe</td>\n",
       "      <td>chris.doe@mail.com</td>\n",
       "    </tr>\n",
       "    <tr>\n",
       "      <th>9</th>\n",
       "      <td>brown</td>\n",
       "      <td>chris.brown@mail.com</td>\n",
       "    </tr>\n",
       "  </tbody>\n",
       "</table>\n",
       "</div>"
      ],
      "text/plain": [
       "     last                  email\n",
       "0   brown     bob.brown@mail.com\n",
       "1  iggins   mark.iggins@mail.com\n",
       "2   smith    mark.smith@mail.com\n",
       "3     doe     chris.doe@mail.com\n",
       "4   smith    mark.smith@mail.com\n",
       "5  iggins  chris.iggins@mail.com\n",
       "6   smith   chris.smith@mail.com\n",
       "7   brown   chris.brown@mail.com\n",
       "8     doe     chris.doe@mail.com\n",
       "9   brown   chris.brown@mail.com"
      ]
     },
     "execution_count": 90,
     "metadata": {},
     "output_type": "execute_result"
    }
   ],
   "source": [
    "df.drop(columns=df.columns[0])"
   ]
  },
  {
   "cell_type": "code",
   "execution_count": 91,
   "id": "a520723b",
   "metadata": {},
   "outputs": [
    {
     "data": {
      "text/plain": [
       "Index([2, 4, 6], dtype='int64')"
      ]
     },
     "execution_count": 91,
     "metadata": {},
     "output_type": "execute_result"
    }
   ],
   "source": [
    "filt = (df['email'].str.contains('smith'))\n",
    "df[filt].index"
   ]
  }
 ],
 "metadata": {
  "kernelspec": {
   "display_name": ".venv",
   "language": "python",
   "name": "python3"
  },
  "language_info": {
   "codemirror_mode": {
    "name": "ipython",
    "version": 3
   },
   "file_extension": ".py",
   "mimetype": "text/x-python",
   "name": "python",
   "nbconvert_exporter": "python",
   "pygments_lexer": "ipython3",
   "version": "3.12.4"
  }
 },
 "nbformat": 4,
 "nbformat_minor": 5
}
