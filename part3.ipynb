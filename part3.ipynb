{
 "cells": [
  {
   "cell_type": "code",
   "execution_count": 117,
   "id": "36a99cf2",
   "metadata": {},
   "outputs": [],
   "source": [
    "import pandas as pd"
   ]
  },
  {
   "cell_type": "markdown",
   "id": "d74009ca",
   "metadata": {},
   "source": [
    "# Indexes"
   ]
  },
  {
   "cell_type": "markdown",
   "id": "1269fbdc",
   "metadata": {},
   "source": [
    "## setting an index"
   ]
  },
  {
   "cell_type": "markdown",
   "id": "4e8ed10f",
   "metadata": {},
   "source": [
    "### create people df"
   ]
  },
  {
   "cell_type": "code",
   "execution_count": 118,
   "id": "01dc44e1",
   "metadata": {},
   "outputs": [
    {
     "data": {
      "application/vnd.microsoft.datawrangler.viewer.v0+json": {
       "columns": [
        {
         "name": "index",
         "rawType": "int64",
         "type": "integer"
        },
        {
         "name": "first",
         "rawType": "object",
         "type": "string"
        },
        {
         "name": "last",
         "rawType": "object",
         "type": "string"
        },
        {
         "name": "email",
         "rawType": "object",
         "type": "string"
        }
       ],
       "conversionMethod": "pd.DataFrame",
       "ref": "47d075cf-965b-4fe1-acc4-c2c91b74d5ff",
       "rows": [
        [
         "0",
         "Corey",
         "Schafer",
         "CoreyMSchafer@gmail.com"
        ],
        [
         "1",
         "Jane",
         "Doe",
         "JaneDoe@gmail.com"
        ],
        [
         "2",
         "John",
         "Doe",
         "JohnDoe@gmail.com"
        ]
       ],
       "shape": {
        "columns": 3,
        "rows": 3
       }
      },
      "text/html": [
       "<div>\n",
       "<style scoped>\n",
       "    .dataframe tbody tr th:only-of-type {\n",
       "        vertical-align: middle;\n",
       "    }\n",
       "\n",
       "    .dataframe tbody tr th {\n",
       "        vertical-align: top;\n",
       "    }\n",
       "\n",
       "    .dataframe thead th {\n",
       "        text-align: right;\n",
       "    }\n",
       "</style>\n",
       "<table border=\"1\" class=\"dataframe\">\n",
       "  <thead>\n",
       "    <tr style=\"text-align: right;\">\n",
       "      <th></th>\n",
       "      <th>first</th>\n",
       "      <th>last</th>\n",
       "      <th>email</th>\n",
       "    </tr>\n",
       "  </thead>\n",
       "  <tbody>\n",
       "    <tr>\n",
       "      <th>0</th>\n",
       "      <td>Corey</td>\n",
       "      <td>Schafer</td>\n",
       "      <td>CoreyMSchafer@gmail.com</td>\n",
       "    </tr>\n",
       "    <tr>\n",
       "      <th>1</th>\n",
       "      <td>Jane</td>\n",
       "      <td>Doe</td>\n",
       "      <td>JaneDoe@gmail.com</td>\n",
       "    </tr>\n",
       "    <tr>\n",
       "      <th>2</th>\n",
       "      <td>John</td>\n",
       "      <td>Doe</td>\n",
       "      <td>JohnDoe@gmail.com</td>\n",
       "    </tr>\n",
       "  </tbody>\n",
       "</table>\n",
       "</div>"
      ],
      "text/plain": [
       "   first     last                    email\n",
       "0  Corey  Schafer  CoreyMSchafer@gmail.com\n",
       "1   Jane      Doe        JaneDoe@gmail.com\n",
       "2   John      Doe        JohnDoe@gmail.com"
      ]
     },
     "execution_count": 118,
     "metadata": {},
     "output_type": "execute_result"
    }
   ],
   "source": [
    "people_df = pd.DataFrame({\n",
    "    'first': 'Corey Jane John'.split(),\n",
    "    'last': 'Schafer Doe Doe'.split(),\n",
    "    'email': 'CoreyMSchafer@gmail.com JaneDoe@gmail.com JohnDoe@gmail.com'.split()\n",
    "})\n",
    "people_df"
   ]
  },
  {
   "cell_type": "markdown",
   "id": "c3883581",
   "metadata": {},
   "source": [
    "### reset_index"
   ]
  },
  {
   "cell_type": "code",
   "execution_count": 119,
   "id": "da7c9b9f",
   "metadata": {},
   "outputs": [
    {
     "data": {
      "application/vnd.microsoft.datawrangler.viewer.v0+json": {
       "columns": [
        {
         "name": "index",
         "rawType": "int64",
         "type": "integer"
        },
        {
         "name": "first",
         "rawType": "object",
         "type": "string"
        },
        {
         "name": "last",
         "rawType": "object",
         "type": "string"
        },
        {
         "name": "email",
         "rawType": "object",
         "type": "string"
        }
       ],
       "conversionMethod": "pd.DataFrame",
       "ref": "2caf7cd4-962e-459b-8108-41524ac07906",
       "rows": [
        [
         "0",
         "Corey",
         "Schafer",
         "CoreyMSchafer@gmail.com"
        ],
        [
         "1",
         "Jane",
         "Doe",
         "JaneDoe@gmail.com"
        ],
        [
         "2",
         "John",
         "Doe",
         "JohnDoe@gmail.com"
        ]
       ],
       "shape": {
        "columns": 3,
        "rows": 3
       }
      },
      "text/html": [
       "<div>\n",
       "<style scoped>\n",
       "    .dataframe tbody tr th:only-of-type {\n",
       "        vertical-align: middle;\n",
       "    }\n",
       "\n",
       "    .dataframe tbody tr th {\n",
       "        vertical-align: top;\n",
       "    }\n",
       "\n",
       "    .dataframe thead th {\n",
       "        text-align: right;\n",
       "    }\n",
       "</style>\n",
       "<table border=\"1\" class=\"dataframe\">\n",
       "  <thead>\n",
       "    <tr style=\"text-align: right;\">\n",
       "      <th></th>\n",
       "      <th>first</th>\n",
       "      <th>last</th>\n",
       "      <th>email</th>\n",
       "    </tr>\n",
       "  </thead>\n",
       "  <tbody>\n",
       "    <tr>\n",
       "      <th>0</th>\n",
       "      <td>Corey</td>\n",
       "      <td>Schafer</td>\n",
       "      <td>CoreyMSchafer@gmail.com</td>\n",
       "    </tr>\n",
       "    <tr>\n",
       "      <th>1</th>\n",
       "      <td>Jane</td>\n",
       "      <td>Doe</td>\n",
       "      <td>JaneDoe@gmail.com</td>\n",
       "    </tr>\n",
       "    <tr>\n",
       "      <th>2</th>\n",
       "      <td>John</td>\n",
       "      <td>Doe</td>\n",
       "      <td>JohnDoe@gmail.com</td>\n",
       "    </tr>\n",
       "  </tbody>\n",
       "</table>\n",
       "</div>"
      ],
      "text/plain": [
       "   first     last                    email\n",
       "0  Corey  Schafer  CoreyMSchafer@gmail.com\n",
       "1   Jane      Doe        JaneDoe@gmail.com\n",
       "2   John      Doe        JohnDoe@gmail.com"
      ]
     },
     "execution_count": 119,
     "metadata": {},
     "output_type": "execute_result"
    }
   ],
   "source": [
    "people_df.reset_index(inplace=True, drop=True)\n",
    "people_df"
   ]
  },
  {
   "cell_type": "markdown",
   "id": "c41b6450",
   "metadata": {},
   "source": [
    "### set index to email"
   ]
  },
  {
   "cell_type": "code",
   "execution_count": 120,
   "id": "3c33ca1f",
   "metadata": {},
   "outputs": [
    {
     "data": {
      "application/vnd.microsoft.datawrangler.viewer.v0+json": {
       "columns": [
        {
         "name": "email",
         "rawType": "object",
         "type": "string"
        },
        {
         "name": "first",
         "rawType": "object",
         "type": "string"
        },
        {
         "name": "last",
         "rawType": "object",
         "type": "string"
        }
       ],
       "conversionMethod": "pd.DataFrame",
       "ref": "c76bdd69-7997-4409-8d6c-2f176517dad1",
       "rows": [
        [
         "CoreyMSchafer@gmail.com",
         "Corey",
         "Schafer"
        ],
        [
         "JaneDoe@gmail.com",
         "Jane",
         "Doe"
        ],
        [
         "JohnDoe@gmail.com",
         "John",
         "Doe"
        ]
       ],
       "shape": {
        "columns": 2,
        "rows": 3
       }
      },
      "text/html": [
       "<div>\n",
       "<style scoped>\n",
       "    .dataframe tbody tr th:only-of-type {\n",
       "        vertical-align: middle;\n",
       "    }\n",
       "\n",
       "    .dataframe tbody tr th {\n",
       "        vertical-align: top;\n",
       "    }\n",
       "\n",
       "    .dataframe thead th {\n",
       "        text-align: right;\n",
       "    }\n",
       "</style>\n",
       "<table border=\"1\" class=\"dataframe\">\n",
       "  <thead>\n",
       "    <tr style=\"text-align: right;\">\n",
       "      <th></th>\n",
       "      <th>first</th>\n",
       "      <th>last</th>\n",
       "    </tr>\n",
       "    <tr>\n",
       "      <th>email</th>\n",
       "      <th></th>\n",
       "      <th></th>\n",
       "    </tr>\n",
       "  </thead>\n",
       "  <tbody>\n",
       "    <tr>\n",
       "      <th>CoreyMSchafer@gmail.com</th>\n",
       "      <td>Corey</td>\n",
       "      <td>Schafer</td>\n",
       "    </tr>\n",
       "    <tr>\n",
       "      <th>JaneDoe@gmail.com</th>\n",
       "      <td>Jane</td>\n",
       "      <td>Doe</td>\n",
       "    </tr>\n",
       "    <tr>\n",
       "      <th>JohnDoe@gmail.com</th>\n",
       "      <td>John</td>\n",
       "      <td>Doe</td>\n",
       "    </tr>\n",
       "  </tbody>\n",
       "</table>\n",
       "</div>"
      ],
      "text/plain": [
       "                         first     last\n",
       "email                                  \n",
       "CoreyMSchafer@gmail.com  Corey  Schafer\n",
       "JaneDoe@gmail.com         Jane      Doe\n",
       "JohnDoe@gmail.com         John      Doe"
      ]
     },
     "execution_count": 120,
     "metadata": {},
     "output_type": "execute_result"
    }
   ],
   "source": [
    "people_df.set_index('email', inplace=True)\n",
    "people_df"
   ]
  },
  {
   "cell_type": "markdown",
   "id": "14b6aad0",
   "metadata": {},
   "source": [
    "### check index"
   ]
  },
  {
   "cell_type": "code",
   "execution_count": 121,
   "id": "eb6c4e50",
   "metadata": {},
   "outputs": [
    {
     "data": {
      "text/plain": [
       "Index(['CoreyMSchafer@gmail.com', 'JaneDoe@gmail.com', 'JohnDoe@gmail.com'], dtype='object', name='email')"
      ]
     },
     "execution_count": 121,
     "metadata": {},
     "output_type": "execute_result"
    }
   ],
   "source": [
    "people_df.index"
   ]
  },
  {
   "cell_type": "markdown",
   "id": "9555fc3d",
   "metadata": {},
   "source": [
    "### loc by email index"
   ]
  },
  {
   "cell_type": "code",
   "execution_count": 122,
   "id": "1e65982d",
   "metadata": {},
   "outputs": [
    {
     "data": {
      "text/plain": [
       "first      Corey\n",
       "last     Schafer\n",
       "Name: CoreyMSchafer@gmail.com, dtype: object"
      ]
     },
     "execution_count": 122,
     "metadata": {},
     "output_type": "execute_result"
    }
   ],
   "source": [
    "people_df.loc['CoreyMSchafer@gmail.com']"
   ]
  },
  {
   "cell_type": "markdown",
   "id": "1b4a1094",
   "metadata": {},
   "source": [
    "### get value by index, column"
   ]
  },
  {
   "cell_type": "code",
   "execution_count": 123,
   "id": "26261612",
   "metadata": {},
   "outputs": [
    {
     "data": {
      "text/plain": [
       "'Schafer'"
      ]
     },
     "execution_count": 123,
     "metadata": {},
     "output_type": "execute_result"
    }
   ],
   "source": [
    "people_df.loc['CoreyMSchafer@gmail.com']['last']"
   ]
  },
  {
   "cell_type": "markdown",
   "id": "b04c42d6",
   "metadata": {},
   "source": [
    "## real world example"
   ]
  },
  {
   "cell_type": "markdown",
   "id": "f63c053b",
   "metadata": {},
   "source": [
    "### load data"
   ]
  },
  {
   "cell_type": "code",
   "execution_count": 125,
   "id": "21a3a970",
   "metadata": {},
   "outputs": [],
   "source": [
    "survey_df = pd.read_csv('data/survey_results_public.csv')\n",
    "schema_df = pd.read_csv('data/survey_results_schema.csv')"
   ]
  },
  {
   "cell_type": "markdown",
   "id": "4cf3fa94",
   "metadata": {},
   "source": [
    "### check data"
   ]
  },
  {
   "cell_type": "code",
   "execution_count": 126,
   "id": "7606e8ef",
   "metadata": {},
   "outputs": [
    {
     "data": {
      "text/plain": [
       "Index(['Respondent', 'MainBranch', 'Hobbyist', 'Age', 'Age1stCode', 'CompFreq',\n",
       "       'CompTotal', 'ConvertedComp', 'Country', 'CurrencyDesc',\n",
       "       'CurrencySymbol', 'DatabaseDesireNextYear', 'DatabaseWorkedWith',\n",
       "       'DevType', 'EdLevel', 'Employment', 'Ethnicity', 'Gender', 'JobFactors',\n",
       "       'JobSat', 'JobSeek', 'LanguageDesireNextYear', 'LanguageWorkedWith',\n",
       "       'MiscTechDesireNextYear', 'MiscTechWorkedWith',\n",
       "       'NEWCollabToolsDesireNextYear', 'NEWCollabToolsWorkedWith', 'NEWDevOps',\n",
       "       'NEWDevOpsImpt', 'NEWEdImpt', 'NEWJobHunt', 'NEWJobHuntResearch',\n",
       "       'NEWLearn', 'NEWOffTopic', 'NEWOnboardGood', 'NEWOtherComms',\n",
       "       'NEWOvertime', 'NEWPurchaseResearch', 'NEWPurpleLink', 'NEWSOSites',\n",
       "       'NEWStuck', 'OpSys', 'OrgSize', 'PlatformDesireNextYear',\n",
       "       'PlatformWorkedWith', 'PurchaseWhat', 'Sexuality', 'SOAccount',\n",
       "       'SOComm', 'SOPartFreq', 'SOVisitFreq', 'SurveyEase', 'SurveyLength',\n",
       "       'Trans', 'UndergradMajor', 'WebframeDesireNextYear',\n",
       "       'WebframeWorkedWith', 'WelcomeChange', 'WorkWeekHrs', 'YearsCode',\n",
       "       'YearsCodePro'],\n",
       "      dtype='object')"
      ]
     },
     "metadata": {},
     "output_type": "display_data"
    },
    {
     "data": {
      "application/vnd.microsoft.datawrangler.viewer.v0+json": {
       "columns": [
        {
         "name": "index",
         "rawType": "int64",
         "type": "integer"
        },
        {
         "name": "Respondent",
         "rawType": "int64",
         "type": "integer"
        },
        {
         "name": "MainBranch",
         "rawType": "object",
         "type": "string"
        },
        {
         "name": "Hobbyist",
         "rawType": "object",
         "type": "string"
        },
        {
         "name": "Age",
         "rawType": "float64",
         "type": "float"
        },
        {
         "name": "Age1stCode",
         "rawType": "object",
         "type": "string"
        },
        {
         "name": "CompFreq",
         "rawType": "object",
         "type": "string"
        },
        {
         "name": "CompTotal",
         "rawType": "float64",
         "type": "float"
        },
        {
         "name": "ConvertedComp",
         "rawType": "float64",
         "type": "float"
        },
        {
         "name": "Country",
         "rawType": "object",
         "type": "string"
        },
        {
         "name": "CurrencyDesc",
         "rawType": "object",
         "type": "string"
        },
        {
         "name": "CurrencySymbol",
         "rawType": "object",
         "type": "string"
        },
        {
         "name": "DatabaseDesireNextYear",
         "rawType": "object",
         "type": "string"
        },
        {
         "name": "DatabaseWorkedWith",
         "rawType": "object",
         "type": "string"
        },
        {
         "name": "DevType",
         "rawType": "object",
         "type": "string"
        },
        {
         "name": "EdLevel",
         "rawType": "object",
         "type": "string"
        },
        {
         "name": "Employment",
         "rawType": "object",
         "type": "string"
        },
        {
         "name": "Ethnicity",
         "rawType": "object",
         "type": "string"
        },
        {
         "name": "Gender",
         "rawType": "object",
         "type": "string"
        },
        {
         "name": "JobFactors",
         "rawType": "object",
         "type": "string"
        },
        {
         "name": "JobSat",
         "rawType": "object",
         "type": "string"
        },
        {
         "name": "JobSeek",
         "rawType": "object",
         "type": "string"
        },
        {
         "name": "LanguageDesireNextYear",
         "rawType": "object",
         "type": "string"
        },
        {
         "name": "LanguageWorkedWith",
         "rawType": "object",
         "type": "string"
        },
        {
         "name": "MiscTechDesireNextYear",
         "rawType": "object",
         "type": "string"
        },
        {
         "name": "MiscTechWorkedWith",
         "rawType": "object",
         "type": "string"
        },
        {
         "name": "NEWCollabToolsDesireNextYear",
         "rawType": "object",
         "type": "string"
        },
        {
         "name": "NEWCollabToolsWorkedWith",
         "rawType": "object",
         "type": "string"
        },
        {
         "name": "NEWDevOps",
         "rawType": "object",
         "type": "string"
        },
        {
         "name": "NEWDevOpsImpt",
         "rawType": "object",
         "type": "string"
        },
        {
         "name": "NEWEdImpt",
         "rawType": "object",
         "type": "string"
        },
        {
         "name": "NEWJobHunt",
         "rawType": "object",
         "type": "unknown"
        },
        {
         "name": "NEWJobHuntResearch",
         "rawType": "object",
         "type": "unknown"
        },
        {
         "name": "NEWLearn",
         "rawType": "object",
         "type": "string"
        },
        {
         "name": "NEWOffTopic",
         "rawType": "object",
         "type": "string"
        },
        {
         "name": "NEWOnboardGood",
         "rawType": "object",
         "type": "unknown"
        },
        {
         "name": "NEWOtherComms",
         "rawType": "object",
         "type": "string"
        },
        {
         "name": "NEWOvertime",
         "rawType": "object",
         "type": "string"
        },
        {
         "name": "NEWPurchaseResearch",
         "rawType": "object",
         "type": "string"
        },
        {
         "name": "NEWPurpleLink",
         "rawType": "object",
         "type": "string"
        },
        {
         "name": "NEWSOSites",
         "rawType": "object",
         "type": "string"
        },
        {
         "name": "NEWStuck",
         "rawType": "object",
         "type": "string"
        },
        {
         "name": "OpSys",
         "rawType": "object",
         "type": "string"
        },
        {
         "name": "OrgSize",
         "rawType": "object",
         "type": "string"
        },
        {
         "name": "PlatformDesireNextYear",
         "rawType": "object",
         "type": "string"
        },
        {
         "name": "PlatformWorkedWith",
         "rawType": "object",
         "type": "string"
        },
        {
         "name": "PurchaseWhat",
         "rawType": "object",
         "type": "unknown"
        },
        {
         "name": "Sexuality",
         "rawType": "object",
         "type": "string"
        },
        {
         "name": "SOAccount",
         "rawType": "object",
         "type": "string"
        },
        {
         "name": "SOComm",
         "rawType": "object",
         "type": "string"
        },
        {
         "name": "SOPartFreq",
         "rawType": "object",
         "type": "unknown"
        },
        {
         "name": "SOVisitFreq",
         "rawType": "object",
         "type": "string"
        },
        {
         "name": "SurveyEase",
         "rawType": "object",
         "type": "string"
        },
        {
         "name": "SurveyLength",
         "rawType": "object",
         "type": "string"
        },
        {
         "name": "Trans",
         "rawType": "object",
         "type": "string"
        },
        {
         "name": "UndergradMajor",
         "rawType": "object",
         "type": "string"
        },
        {
         "name": "WebframeDesireNextYear",
         "rawType": "object",
         "type": "string"
        },
        {
         "name": "WebframeWorkedWith",
         "rawType": "object",
         "type": "string"
        },
        {
         "name": "WelcomeChange",
         "rawType": "object",
         "type": "string"
        },
        {
         "name": "WorkWeekHrs",
         "rawType": "float64",
         "type": "float"
        },
        {
         "name": "YearsCode",
         "rawType": "object",
         "type": "string"
        },
        {
         "name": "YearsCodePro",
         "rawType": "object",
         "type": "string"
        }
       ],
       "conversionMethod": "pd.DataFrame",
       "ref": "294307a9-00d7-4077-8bb5-0d2ac6d8526e",
       "rows": [
        [
         "0",
         "1",
         "I am a developer by profession",
         "Yes",
         null,
         "13",
         "Monthly",
         null,
         null,
         "Germany",
         "European Euro",
         "EUR",
         "Microsoft SQL Server",
         "Elasticsearch;Microsoft SQL Server;Oracle",
         "Developer, desktop or enterprise applications;Developer, full-stack",
         "Master’s degree (M.A., M.S., M.Eng., MBA, etc.)",
         "Independent contractor, freelancer, or self-employed",
         "White or of European descent",
         "Man",
         "Languages, frameworks, and other technologies I’d be working with;Remote work options;Opportunities for professional development",
         "Slightly satisfied",
         "I am not interested in new job opportunities",
         "C#;HTML/CSS;JavaScript",
         "C#;HTML/CSS;JavaScript",
         ".NET Core;Xamarin",
         ".NET;.NET Core",
         "Microsoft Teams;Microsoft Azure;Trello",
         "Confluence;Jira;Slack;Microsoft Azure;Trello",
         "No",
         "Somewhat important",
         "Fairly important",
         null,
         null,
         "Once a year",
         "Not sure",
         null,
         "No",
         "Often: 1-2 days per week or more",
         "Start a free trial;Ask developers I know/work with",
         "Amused",
         "Stack Overflow (public Q&A for anyone who codes)",
         "Visit Stack Overflow;Go for a walk or other physical activity;Do other work and come back later",
         "Windows",
         "2 to 9 employees",
         "Android;iOS;Kubernetes;Microsoft Azure;Windows",
         "Windows",
         null,
         "Straight / Heterosexual",
         "No",
         "No, not at all",
         null,
         "Multiple times per day",
         "Neither easy nor difficult",
         "Appropriate in length",
         "No",
         "Computer science, computer engineering, or software engineering",
         "ASP.NET Core",
         "ASP.NET;ASP.NET Core",
         "Just as welcome now as I felt last year",
         "50.0",
         "36",
         "27"
        ]
       ],
       "shape": {
        "columns": 61,
        "rows": 1
       }
      },
      "text/html": [
       "<div>\n",
       "<style scoped>\n",
       "    .dataframe tbody tr th:only-of-type {\n",
       "        vertical-align: middle;\n",
       "    }\n",
       "\n",
       "    .dataframe tbody tr th {\n",
       "        vertical-align: top;\n",
       "    }\n",
       "\n",
       "    .dataframe thead th {\n",
       "        text-align: right;\n",
       "    }\n",
       "</style>\n",
       "<table border=\"1\" class=\"dataframe\">\n",
       "  <thead>\n",
       "    <tr style=\"text-align: right;\">\n",
       "      <th></th>\n",
       "      <th>Respondent</th>\n",
       "      <th>MainBranch</th>\n",
       "      <th>Hobbyist</th>\n",
       "      <th>Age</th>\n",
       "      <th>Age1stCode</th>\n",
       "      <th>CompFreq</th>\n",
       "      <th>CompTotal</th>\n",
       "      <th>ConvertedComp</th>\n",
       "      <th>Country</th>\n",
       "      <th>CurrencyDesc</th>\n",
       "      <th>...</th>\n",
       "      <th>SurveyEase</th>\n",
       "      <th>SurveyLength</th>\n",
       "      <th>Trans</th>\n",
       "      <th>UndergradMajor</th>\n",
       "      <th>WebframeDesireNextYear</th>\n",
       "      <th>WebframeWorkedWith</th>\n",
       "      <th>WelcomeChange</th>\n",
       "      <th>WorkWeekHrs</th>\n",
       "      <th>YearsCode</th>\n",
       "      <th>YearsCodePro</th>\n",
       "    </tr>\n",
       "  </thead>\n",
       "  <tbody>\n",
       "    <tr>\n",
       "      <th>0</th>\n",
       "      <td>1</td>\n",
       "      <td>I am a developer by profession</td>\n",
       "      <td>Yes</td>\n",
       "      <td>NaN</td>\n",
       "      <td>13</td>\n",
       "      <td>Monthly</td>\n",
       "      <td>NaN</td>\n",
       "      <td>NaN</td>\n",
       "      <td>Germany</td>\n",
       "      <td>European Euro</td>\n",
       "      <td>...</td>\n",
       "      <td>Neither easy nor difficult</td>\n",
       "      <td>Appropriate in length</td>\n",
       "      <td>No</td>\n",
       "      <td>Computer science, computer engineering, or sof...</td>\n",
       "      <td>ASP.NET Core</td>\n",
       "      <td>ASP.NET;ASP.NET Core</td>\n",
       "      <td>Just as welcome now as I felt last year</td>\n",
       "      <td>50.0</td>\n",
       "      <td>36</td>\n",
       "      <td>27</td>\n",
       "    </tr>\n",
       "  </tbody>\n",
       "</table>\n",
       "<p>1 rows × 61 columns</p>\n",
       "</div>"
      ],
      "text/plain": [
       "   Respondent                      MainBranch Hobbyist  Age Age1stCode  \\\n",
       "0           1  I am a developer by profession      Yes  NaN         13   \n",
       "\n",
       "  CompFreq  CompTotal  ConvertedComp  Country   CurrencyDesc  ...  \\\n",
       "0  Monthly        NaN            NaN  Germany  European Euro  ...   \n",
       "\n",
       "                   SurveyEase           SurveyLength Trans  \\\n",
       "0  Neither easy nor difficult  Appropriate in length    No   \n",
       "\n",
       "                                      UndergradMajor WebframeDesireNextYear  \\\n",
       "0  Computer science, computer engineering, or sof...           ASP.NET Core   \n",
       "\n",
       "     WebframeWorkedWith                            WelcomeChange WorkWeekHrs  \\\n",
       "0  ASP.NET;ASP.NET Core  Just as welcome now as I felt last year        50.0   \n",
       "\n",
       "  YearsCode YearsCodePro  \n",
       "0        36           27  \n",
       "\n",
       "[1 rows x 61 columns]"
      ]
     },
     "execution_count": 126,
     "metadata": {},
     "output_type": "execute_result"
    }
   ],
   "source": [
    "display(survey_df.columns)\n",
    "survey_df.head(1)"
   ]
  },
  {
   "cell_type": "markdown",
   "id": "422aa19b",
   "metadata": {},
   "source": [
    "### load specifying index column"
   ]
  },
  {
   "cell_type": "code",
   "execution_count": 127,
   "id": "9a1163ff",
   "metadata": {},
   "outputs": [
    {
     "data": {
      "application/vnd.microsoft.datawrangler.viewer.v0+json": {
       "columns": [
        {
         "name": "Respondent",
         "rawType": "int64",
         "type": "integer"
        },
        {
         "name": "MainBranch",
         "rawType": "object",
         "type": "string"
        },
        {
         "name": "Hobbyist",
         "rawType": "object",
         "type": "string"
        },
        {
         "name": "Age",
         "rawType": "float64",
         "type": "float"
        },
        {
         "name": "Age1stCode",
         "rawType": "object",
         "type": "string"
        },
        {
         "name": "CompFreq",
         "rawType": "object",
         "type": "unknown"
        },
        {
         "name": "CompTotal",
         "rawType": "float64",
         "type": "float"
        },
        {
         "name": "ConvertedComp",
         "rawType": "float64",
         "type": "float"
        },
        {
         "name": "Country",
         "rawType": "object",
         "type": "string"
        },
        {
         "name": "CurrencyDesc",
         "rawType": "object",
         "type": "unknown"
        },
        {
         "name": "CurrencySymbol",
         "rawType": "object",
         "type": "unknown"
        },
        {
         "name": "DatabaseDesireNextYear",
         "rawType": "object",
         "type": "unknown"
        },
        {
         "name": "DatabaseWorkedWith",
         "rawType": "object",
         "type": "unknown"
        },
        {
         "name": "DevType",
         "rawType": "object",
         "type": "unknown"
        },
        {
         "name": "EdLevel",
         "rawType": "object",
         "type": "unknown"
        },
        {
         "name": "Employment",
         "rawType": "object",
         "type": "unknown"
        },
        {
         "name": "Ethnicity",
         "rawType": "object",
         "type": "unknown"
        },
        {
         "name": "Gender",
         "rawType": "object",
         "type": "unknown"
        },
        {
         "name": "JobFactors",
         "rawType": "object",
         "type": "unknown"
        },
        {
         "name": "JobSat",
         "rawType": "object",
         "type": "unknown"
        },
        {
         "name": "JobSeek",
         "rawType": "object",
         "type": "unknown"
        },
        {
         "name": "LanguageDesireNextYear",
         "rawType": "object",
         "type": "string"
        },
        {
         "name": "LanguageWorkedWith",
         "rawType": "object",
         "type": "string"
        },
        {
         "name": "MiscTechDesireNextYear",
         "rawType": "object",
         "type": "unknown"
        },
        {
         "name": "MiscTechWorkedWith",
         "rawType": "object",
         "type": "unknown"
        },
        {
         "name": "NEWCollabToolsDesireNextYear",
         "rawType": "object",
         "type": "unknown"
        },
        {
         "name": "NEWCollabToolsWorkedWith",
         "rawType": "object",
         "type": "unknown"
        },
        {
         "name": "NEWDevOps",
         "rawType": "object",
         "type": "unknown"
        },
        {
         "name": "NEWDevOpsImpt",
         "rawType": "object",
         "type": "unknown"
        },
        {
         "name": "NEWEdImpt",
         "rawType": "object",
         "type": "unknown"
        },
        {
         "name": "NEWJobHunt",
         "rawType": "object",
         "type": "unknown"
        },
        {
         "name": "NEWJobHuntResearch",
         "rawType": "object",
         "type": "unknown"
        },
        {
         "name": "NEWLearn",
         "rawType": "object",
         "type": "string"
        },
        {
         "name": "NEWOffTopic",
         "rawType": "object",
         "type": "unknown"
        },
        {
         "name": "NEWOnboardGood",
         "rawType": "object",
         "type": "unknown"
        },
        {
         "name": "NEWOtherComms",
         "rawType": "object",
         "type": "string"
        },
        {
         "name": "NEWOvertime",
         "rawType": "object",
         "type": "unknown"
        },
        {
         "name": "NEWPurchaseResearch",
         "rawType": "object",
         "type": "unknown"
        },
        {
         "name": "NEWPurpleLink",
         "rawType": "object",
         "type": "unknown"
        },
        {
         "name": "NEWSOSites",
         "rawType": "object",
         "type": "string"
        },
        {
         "name": "NEWStuck",
         "rawType": "object",
         "type": "unknown"
        },
        {
         "name": "OpSys",
         "rawType": "object",
         "type": "string"
        },
        {
         "name": "OrgSize",
         "rawType": "object",
         "type": "unknown"
        },
        {
         "name": "PlatformDesireNextYear",
         "rawType": "object",
         "type": "unknown"
        },
        {
         "name": "PlatformWorkedWith",
         "rawType": "object",
         "type": "unknown"
        },
        {
         "name": "PurchaseWhat",
         "rawType": "object",
         "type": "unknown"
        },
        {
         "name": "Sexuality",
         "rawType": "object",
         "type": "unknown"
        },
        {
         "name": "SOAccount",
         "rawType": "object",
         "type": "string"
        },
        {
         "name": "SOComm",
         "rawType": "object",
         "type": "string"
        },
        {
         "name": "SOPartFreq",
         "rawType": "object",
         "type": "unknown"
        },
        {
         "name": "SOVisitFreq",
         "rawType": "object",
         "type": "string"
        },
        {
         "name": "SurveyEase",
         "rawType": "object",
         "type": "unknown"
        },
        {
         "name": "SurveyLength",
         "rawType": "object",
         "type": "unknown"
        },
        {
         "name": "Trans",
         "rawType": "object",
         "type": "unknown"
        },
        {
         "name": "UndergradMajor",
         "rawType": "object",
         "type": "unknown"
        },
        {
         "name": "WebframeDesireNextYear",
         "rawType": "object",
         "type": "unknown"
        },
        {
         "name": "WebframeWorkedWith",
         "rawType": "object",
         "type": "unknown"
        },
        {
         "name": "WelcomeChange",
         "rawType": "object",
         "type": "string"
        },
        {
         "name": "WorkWeekHrs",
         "rawType": "float64",
         "type": "float"
        },
        {
         "name": "YearsCode",
         "rawType": "object",
         "type": "string"
        },
        {
         "name": "YearsCodePro",
         "rawType": "object",
         "type": "unknown"
        }
       ],
       "conversionMethod": "pd.DataFrame",
       "ref": "6bf45bd6-aed2-42e5-911d-0352bb49e86c",
       "rows": [
        [
         "1",
         "I am a developer by profession",
         "Yes",
         null,
         "13",
         "Monthly",
         null,
         null,
         "Germany",
         "European Euro",
         "EUR",
         "Microsoft SQL Server",
         "Elasticsearch;Microsoft SQL Server;Oracle",
         "Developer, desktop or enterprise applications;Developer, full-stack",
         "Master’s degree (M.A., M.S., M.Eng., MBA, etc.)",
         "Independent contractor, freelancer, or self-employed",
         "White or of European descent",
         "Man",
         "Languages, frameworks, and other technologies I’d be working with;Remote work options;Opportunities for professional development",
         "Slightly satisfied",
         "I am not interested in new job opportunities",
         "C#;HTML/CSS;JavaScript",
         "C#;HTML/CSS;JavaScript",
         ".NET Core;Xamarin",
         ".NET;.NET Core",
         "Microsoft Teams;Microsoft Azure;Trello",
         "Confluence;Jira;Slack;Microsoft Azure;Trello",
         "No",
         "Somewhat important",
         "Fairly important",
         null,
         null,
         "Once a year",
         "Not sure",
         null,
         "No",
         "Often: 1-2 days per week or more",
         "Start a free trial;Ask developers I know/work with",
         "Amused",
         "Stack Overflow (public Q&A for anyone who codes)",
         "Visit Stack Overflow;Go for a walk or other physical activity;Do other work and come back later",
         "Windows",
         "2 to 9 employees",
         "Android;iOS;Kubernetes;Microsoft Azure;Windows",
         "Windows",
         null,
         "Straight / Heterosexual",
         "No",
         "No, not at all",
         null,
         "Multiple times per day",
         "Neither easy nor difficult",
         "Appropriate in length",
         "No",
         "Computer science, computer engineering, or software engineering",
         "ASP.NET Core",
         "ASP.NET;ASP.NET Core",
         "Just as welcome now as I felt last year",
         "50.0",
         "36",
         "27"
        ],
        [
         "2",
         "I am a developer by profession",
         "No",
         null,
         "19",
         null,
         null,
         null,
         "United Kingdom",
         "Pound sterling",
         "GBP",
         null,
         null,
         "Developer, full-stack;Developer, mobile",
         "Bachelor’s degree (B.A., B.S., B.Eng., etc.)",
         "Employed full-time",
         null,
         null,
         null,
         "Very dissatisfied",
         "I am not interested in new job opportunities",
         "Python;Swift",
         "JavaScript;Swift",
         "React Native;TensorFlow;Unity 3D",
         "React Native",
         "Github;Slack",
         "Confluence;Jira;Github;Gitlab;Slack",
         null,
         null,
         "Fairly important",
         null,
         null,
         "Once a year",
         "Not sure",
         null,
         "No",
         null,
         null,
         "Amused",
         "Stack Overflow (public Q&A for anyone who codes);Stack Exchange (public Q&A for a variety of topics);Stack Overflow Jobs (for job seekers)",
         "Visit Stack Overflow;Go for a walk or other physical activity",
         "MacOS",
         "1,000 to 4,999 employees",
         "iOS;Kubernetes;Linux;MacOS",
         "iOS",
         "I have little or no influence",
         null,
         "Yes",
         "Yes, definitely",
         "Less than once per month or monthly",
         "Multiple times per day",
         null,
         null,
         null,
         "Computer science, computer engineering, or software engineering",
         null,
         null,
         "Somewhat more welcome now than last year",
         null,
         "7",
         "4"
        ],
        [
         "3",
         "I code primarily as a hobby",
         "Yes",
         null,
         "15",
         null,
         null,
         null,
         "Russian Federation",
         null,
         null,
         null,
         null,
         null,
         null,
         null,
         null,
         null,
         null,
         null,
         null,
         "Objective-C;Python;Swift",
         "Objective-C;Python;Swift",
         null,
         null,
         null,
         null,
         null,
         null,
         null,
         null,
         null,
         "Once a decade",
         null,
         null,
         "No",
         null,
         null,
         null,
         "Stack Overflow (public Q&A for anyone who codes)",
         null,
         "Linux-based",
         null,
         null,
         null,
         null,
         null,
         "Yes",
         "Yes, somewhat",
         "A few times per month or weekly",
         "Daily or almost daily",
         "Neither easy nor difficult",
         "Appropriate in length",
         null,
         null,
         null,
         null,
         "Somewhat more welcome now than last year",
         null,
         "4",
         null
        ]
       ],
       "shape": {
        "columns": 60,
        "rows": 3
       }
      },
      "text/html": [
       "<div>\n",
       "<style scoped>\n",
       "    .dataframe tbody tr th:only-of-type {\n",
       "        vertical-align: middle;\n",
       "    }\n",
       "\n",
       "    .dataframe tbody tr th {\n",
       "        vertical-align: top;\n",
       "    }\n",
       "\n",
       "    .dataframe thead th {\n",
       "        text-align: right;\n",
       "    }\n",
       "</style>\n",
       "<table border=\"1\" class=\"dataframe\">\n",
       "  <thead>\n",
       "    <tr style=\"text-align: right;\">\n",
       "      <th></th>\n",
       "      <th>MainBranch</th>\n",
       "      <th>Hobbyist</th>\n",
       "      <th>Age</th>\n",
       "      <th>Age1stCode</th>\n",
       "      <th>CompFreq</th>\n",
       "      <th>CompTotal</th>\n",
       "      <th>ConvertedComp</th>\n",
       "      <th>Country</th>\n",
       "      <th>CurrencyDesc</th>\n",
       "      <th>CurrencySymbol</th>\n",
       "      <th>...</th>\n",
       "      <th>SurveyEase</th>\n",
       "      <th>SurveyLength</th>\n",
       "      <th>Trans</th>\n",
       "      <th>UndergradMajor</th>\n",
       "      <th>WebframeDesireNextYear</th>\n",
       "      <th>WebframeWorkedWith</th>\n",
       "      <th>WelcomeChange</th>\n",
       "      <th>WorkWeekHrs</th>\n",
       "      <th>YearsCode</th>\n",
       "      <th>YearsCodePro</th>\n",
       "    </tr>\n",
       "    <tr>\n",
       "      <th>Respondent</th>\n",
       "      <th></th>\n",
       "      <th></th>\n",
       "      <th></th>\n",
       "      <th></th>\n",
       "      <th></th>\n",
       "      <th></th>\n",
       "      <th></th>\n",
       "      <th></th>\n",
       "      <th></th>\n",
       "      <th></th>\n",
       "      <th></th>\n",
       "      <th></th>\n",
       "      <th></th>\n",
       "      <th></th>\n",
       "      <th></th>\n",
       "      <th></th>\n",
       "      <th></th>\n",
       "      <th></th>\n",
       "      <th></th>\n",
       "      <th></th>\n",
       "      <th></th>\n",
       "    </tr>\n",
       "  </thead>\n",
       "  <tbody>\n",
       "    <tr>\n",
       "      <th>1</th>\n",
       "      <td>I am a developer by profession</td>\n",
       "      <td>Yes</td>\n",
       "      <td>NaN</td>\n",
       "      <td>13</td>\n",
       "      <td>Monthly</td>\n",
       "      <td>NaN</td>\n",
       "      <td>NaN</td>\n",
       "      <td>Germany</td>\n",
       "      <td>European Euro</td>\n",
       "      <td>EUR</td>\n",
       "      <td>...</td>\n",
       "      <td>Neither easy nor difficult</td>\n",
       "      <td>Appropriate in length</td>\n",
       "      <td>No</td>\n",
       "      <td>Computer science, computer engineering, or sof...</td>\n",
       "      <td>ASP.NET Core</td>\n",
       "      <td>ASP.NET;ASP.NET Core</td>\n",
       "      <td>Just as welcome now as I felt last year</td>\n",
       "      <td>50.0</td>\n",
       "      <td>36</td>\n",
       "      <td>27</td>\n",
       "    </tr>\n",
       "    <tr>\n",
       "      <th>2</th>\n",
       "      <td>I am a developer by profession</td>\n",
       "      <td>No</td>\n",
       "      <td>NaN</td>\n",
       "      <td>19</td>\n",
       "      <td>NaN</td>\n",
       "      <td>NaN</td>\n",
       "      <td>NaN</td>\n",
       "      <td>United Kingdom</td>\n",
       "      <td>Pound sterling</td>\n",
       "      <td>GBP</td>\n",
       "      <td>...</td>\n",
       "      <td>NaN</td>\n",
       "      <td>NaN</td>\n",
       "      <td>NaN</td>\n",
       "      <td>Computer science, computer engineering, or sof...</td>\n",
       "      <td>NaN</td>\n",
       "      <td>NaN</td>\n",
       "      <td>Somewhat more welcome now than last year</td>\n",
       "      <td>NaN</td>\n",
       "      <td>7</td>\n",
       "      <td>4</td>\n",
       "    </tr>\n",
       "    <tr>\n",
       "      <th>3</th>\n",
       "      <td>I code primarily as a hobby</td>\n",
       "      <td>Yes</td>\n",
       "      <td>NaN</td>\n",
       "      <td>15</td>\n",
       "      <td>NaN</td>\n",
       "      <td>NaN</td>\n",
       "      <td>NaN</td>\n",
       "      <td>Russian Federation</td>\n",
       "      <td>NaN</td>\n",
       "      <td>NaN</td>\n",
       "      <td>...</td>\n",
       "      <td>Neither easy nor difficult</td>\n",
       "      <td>Appropriate in length</td>\n",
       "      <td>NaN</td>\n",
       "      <td>NaN</td>\n",
       "      <td>NaN</td>\n",
       "      <td>NaN</td>\n",
       "      <td>Somewhat more welcome now than last year</td>\n",
       "      <td>NaN</td>\n",
       "      <td>4</td>\n",
       "      <td>NaN</td>\n",
       "    </tr>\n",
       "  </tbody>\n",
       "</table>\n",
       "<p>3 rows × 60 columns</p>\n",
       "</div>"
      ],
      "text/plain": [
       "                                MainBranch Hobbyist  Age Age1stCode CompFreq  \\\n",
       "Respondent                                                                     \n",
       "1           I am a developer by profession      Yes  NaN         13  Monthly   \n",
       "2           I am a developer by profession       No  NaN         19      NaN   \n",
       "3              I code primarily as a hobby      Yes  NaN         15      NaN   \n",
       "\n",
       "            CompTotal  ConvertedComp             Country    CurrencyDesc  \\\n",
       "Respondent                                                                 \n",
       "1                 NaN            NaN             Germany   European Euro   \n",
       "2                 NaN            NaN      United Kingdom  Pound sterling   \n",
       "3                 NaN            NaN  Russian Federation             NaN   \n",
       "\n",
       "           CurrencySymbol  ...                  SurveyEase  \\\n",
       "Respondent                 ...                               \n",
       "1                     EUR  ...  Neither easy nor difficult   \n",
       "2                     GBP  ...                         NaN   \n",
       "3                     NaN  ...  Neither easy nor difficult   \n",
       "\n",
       "                     SurveyLength Trans  \\\n",
       "Respondent                                \n",
       "1           Appropriate in length    No   \n",
       "2                             NaN   NaN   \n",
       "3           Appropriate in length   NaN   \n",
       "\n",
       "                                               UndergradMajor  \\\n",
       "Respondent                                                      \n",
       "1           Computer science, computer engineering, or sof...   \n",
       "2           Computer science, computer engineering, or sof...   \n",
       "3                                                         NaN   \n",
       "\n",
       "           WebframeDesireNextYear    WebframeWorkedWith  \\\n",
       "Respondent                                                \n",
       "1                    ASP.NET Core  ASP.NET;ASP.NET Core   \n",
       "2                             NaN                   NaN   \n",
       "3                             NaN                   NaN   \n",
       "\n",
       "                                       WelcomeChange WorkWeekHrs YearsCode  \\\n",
       "Respondent                                                                   \n",
       "1            Just as welcome now as I felt last year        50.0        36   \n",
       "2           Somewhat more welcome now than last year         NaN         7   \n",
       "3           Somewhat more welcome now than last year         NaN         4   \n",
       "\n",
       "           YearsCodePro  \n",
       "Respondent               \n",
       "1                    27  \n",
       "2                     4  \n",
       "3                   NaN  \n",
       "\n",
       "[3 rows x 60 columns]"
      ]
     },
     "execution_count": 127,
     "metadata": {},
     "output_type": "execute_result"
    }
   ],
   "source": [
    "survey_df = pd.read_csv('data/survey_results_public.csv', index_col='Respondent');survey_df.head(3)"
   ]
  },
  {
   "cell_type": "code",
   "execution_count": 128,
   "id": "e24887ce",
   "metadata": {},
   "outputs": [
    {
     "data": {
      "text/plain": [
       "Index(['Column', 'QuestionText'], dtype='object')"
      ]
     },
     "metadata": {},
     "output_type": "display_data"
    },
    {
     "data": {
      "application/vnd.microsoft.datawrangler.viewer.v0+json": {
       "columns": [
        {
         "name": "index",
         "rawType": "int64",
         "type": "integer"
        },
        {
         "name": "Column",
         "rawType": "object",
         "type": "string"
        },
        {
         "name": "QuestionText",
         "rawType": "object",
         "type": "string"
        }
       ],
       "conversionMethod": "pd.DataFrame",
       "ref": "38ad488a-a9c9-4cfe-9791-3f94537e9784",
       "rows": [
        [
         "0",
         "Respondent",
         "Randomized respondent ID number (not in order of survey response time)"
        ],
        [
         "1",
         "MainBranch",
         "Which of the following options best describes you today? Here, by \"developer\" we mean \"someone who writes code.\""
        ],
        [
         "2",
         "Hobbyist",
         "Do you code as a hobby?"
        ]
       ],
       "shape": {
        "columns": 2,
        "rows": 3
       }
      },
      "text/html": [
       "<div>\n",
       "<style scoped>\n",
       "    .dataframe tbody tr th:only-of-type {\n",
       "        vertical-align: middle;\n",
       "    }\n",
       "\n",
       "    .dataframe tbody tr th {\n",
       "        vertical-align: top;\n",
       "    }\n",
       "\n",
       "    .dataframe thead th {\n",
       "        text-align: right;\n",
       "    }\n",
       "</style>\n",
       "<table border=\"1\" class=\"dataframe\">\n",
       "  <thead>\n",
       "    <tr style=\"text-align: right;\">\n",
       "      <th></th>\n",
       "      <th>Column</th>\n",
       "      <th>QuestionText</th>\n",
       "    </tr>\n",
       "  </thead>\n",
       "  <tbody>\n",
       "    <tr>\n",
       "      <th>0</th>\n",
       "      <td>Respondent</td>\n",
       "      <td>Randomized respondent ID number (not in order ...</td>\n",
       "    </tr>\n",
       "    <tr>\n",
       "      <th>1</th>\n",
       "      <td>MainBranch</td>\n",
       "      <td>Which of the following options best describes ...</td>\n",
       "    </tr>\n",
       "    <tr>\n",
       "      <th>2</th>\n",
       "      <td>Hobbyist</td>\n",
       "      <td>Do you code as a hobby?</td>\n",
       "    </tr>\n",
       "  </tbody>\n",
       "</table>\n",
       "</div>"
      ],
      "text/plain": [
       "       Column                                       QuestionText\n",
       "0  Respondent  Randomized respondent ID number (not in order ...\n",
       "1  MainBranch  Which of the following options best describes ...\n",
       "2    Hobbyist                            Do you code as a hobby?"
      ]
     },
     "execution_count": 128,
     "metadata": {},
     "output_type": "execute_result"
    }
   ],
   "source": [
    "display(schema_df.columns); schema_df.head(3)"
   ]
  },
  {
   "cell_type": "markdown",
   "id": "5b8ebf14",
   "metadata": {},
   "source": [
    "### set index after loading"
   ]
  },
  {
   "cell_type": "code",
   "execution_count": 129,
   "id": "533a2157",
   "metadata": {},
   "outputs": [],
   "source": [
    "schema_df.set_index('Column', inplace=True)"
   ]
  },
  {
   "cell_type": "markdown",
   "id": "8fd38ece",
   "metadata": {},
   "source": [
    "### get value by index, column"
   ]
  },
  {
   "cell_type": "code",
   "execution_count": 130,
   "id": "59391b12",
   "metadata": {},
   "outputs": [
    {
     "data": {
      "text/plain": [
       "'Which of the following describe you, if any? Please check all that apply. If you prefer not to answer, you may leave this question blank.'"
      ]
     },
     "execution_count": 130,
     "metadata": {},
     "output_type": "execute_result"
    }
   ],
   "source": [
    "schema_df.loc['Gender', 'QuestionText']"
   ]
  },
  {
   "cell_type": "markdown",
   "id": "98a51f94",
   "metadata": {},
   "source": [
    "### sort index"
   ]
  },
  {
   "cell_type": "code",
   "execution_count": 131,
   "id": "528470da",
   "metadata": {},
   "outputs": [
    {
     "data": {
      "application/vnd.microsoft.datawrangler.viewer.v0+json": {
       "columns": [
        {
         "name": "Column",
         "rawType": "object",
         "type": "string"
        },
        {
         "name": "QuestionText",
         "rawType": "object",
         "type": "string"
        }
       ],
       "conversionMethod": "pd.DataFrame",
       "ref": "fca0a674-e86a-4b59-9cab-34f94d32f28c",
       "rows": [
        [
         "YearsCodePro",
         "NOT including education, how many years have you coded professionally (as a part of your work)?"
        ],
        [
         "YearsCode",
         "Including any education, how many years have you been coding in total?"
        ],
        [
         "WorkWeekHrs",
         "On average, how many hours per week do you work? Please enter a whole number in the box."
        ],
        [
         "WelcomeChange",
         "Compared to last year, how welcome do you feel on Stack Overflow?"
        ],
        [
         "WebframeWorkedWith",
         "Which web frameworks have you done extensive development work in over the past year, and which do you want to work in over the next year? (If you both worked with the framework and want to continue to do so, please check both boxes in that row.)"
        ],
        [
         "WebframeDesireNextYear",
         "Which web frameworks have you done extensive development work in over the past year, and which do you want to work in over the next year? (If you both worked with the framework and want to continue to do so, please check both boxes in that row.)"
        ],
        [
         "UndergradMajor",
         "What was your primary field of study?"
        ],
        [
         "Trans",
         "Are you transgender?"
        ],
        [
         "SurveyLength",
         "How do you feel about the length of the survey this year?"
        ],
        [
         "SurveyEase",
         "How easy or difficult was this survey to complete?"
        ],
        [
         "Sexuality",
         "Which of the following describe you, if any? Please check all that apply. If you prefer not to answer, you may leave this question blank."
        ],
        [
         "SOVisitFreq",
         "How frequently would you say you visit Stack Overflow?"
        ],
        [
         "SOPartFreq",
         "How frequently would you say you participate in Q&A on Stack Overflow? By participate we mean ask, answer, vote for, or comment on questions."
        ],
        [
         "SOComm",
         "Do you consider yourself a member of the Stack Overflow community?"
        ],
        [
         "SOAccount",
         "Do you have a Stack Overflow account?"
        ],
        [
         "Respondent",
         "Randomized respondent ID number (not in order of survey response time)"
        ],
        [
         "PurchaseWhat",
         "What level of influence do you, personally, have over new technology purchases at your organization?"
        ],
        [
         "PlatformWorkedWith",
         "Which platforms have you done extensive development work in over the past year, and which do you want to work in over the next year? (If you both worked with the platform and want to continue to do so, please check both boxes in that row.)"
        ],
        [
         "PlatformDesireNextYear",
         "Which platforms have you done extensive development work in over the past year, and which do you want to work in over the next year? (If you both worked with the platform and want to continue to do so, please check both boxes in that row.)"
        ],
        [
         "OrgSize",
         "Approximately how many people are employed by the company or organization you currently work for?"
        ],
        [
         "OpSys",
         "What is the primary operating system in which you work?"
        ],
        [
         "NEWStuck",
         "What do you do when you get stuck on a problem? Select all that apply."
        ],
        [
         "NEWSOSites",
         "Which of the following Stack Overflow sites have you visited? Select all that apply."
        ],
        [
         "NEWPurpleLink",
         "You search for a coding solution online and the first result link is purple because you already visited it. How do you feel?"
        ],
        [
         "NEWPurchaseResearch",
         "When buying a new tool or software, how do you discover and research available solutions? Select all that apply."
        ],
        [
         "NEWOvertime",
         "How often do you work overtime or beyond the formal time expectation of your job?"
        ],
        [
         "NEWOtherComms",
         "Are you a member of any other online developer communities?"
        ],
        [
         "NEWOnboardGood",
         "Do you think your company has a good onboarding process? (By onboarding, we mean the structured process of getting you settled in to your new role at a company)"
        ],
        [
         "NEWOffTopic",
         "Do you think Stack Overflow should relax restrictions on what is considered “off-topic”?"
        ],
        [
         "NEWLearn",
         "How frequently do you learn a new language or framework?"
        ],
        [
         "NEWJobHuntResearch",
         "When job searching, how do you learn more about a company? Select all that apply."
        ],
        [
         "NEWJobHunt",
         "In general, what drives you to look for a new job? Select all that apply."
        ],
        [
         "NEWEdImpt",
         "How important is a formal education, such as a university degree in computer science, to your career?"
        ],
        [
         "NEWDevOpsImpt",
         "How important is the practice of DevOps to scaling software development?"
        ],
        [
         "NEWDevOps",
         "Does your company have a dedicated DevOps person?"
        ],
        [
         "NEWCollabToolsWorkedWith",
         "Which collaboration tools have you done extensive development work in over the past year, and which do you want to work in over the next year? (If you worked with the tool and want to continue to do so, please check both boxes in that row.)"
        ],
        [
         "NEWCollabToolsDesireNextYear",
         "Which collaboration tools have you done extensive development work in over the past year, and which do you want to work in over the next year? (If you worked with the tool and want to continue to do so, please check both boxes in that row.)"
        ],
        [
         "MiscTechWorkedWith",
         "Which other frameworks, libraries, and tools have you done extensive development work in over the past year, and which do you want to work in over the next year? (If you both worked with the framework and want to continue to do so, please check both boxes in that row.)"
        ],
        [
         "MiscTechDesireNextYear",
         "Which other frameworks, libraries, and tools have you done extensive development work in over the past year, and which do you want to work in over the next year? (If you both worked with the framework and want to continue to do so, please check both boxes in that row.)"
        ],
        [
         "MainBranch",
         "Which of the following options best describes you today? Here, by \"developer\" we mean \"someone who writes code.\""
        ],
        [
         "LanguageWorkedWith",
         "Which programming, scripting, and markup languages have you done extensive development work in over the past year, and which do you want to work in over the next year? (If you both worked with the language and want to continue to do so, please check both boxes in that row.)"
        ],
        [
         "LanguageDesireNextYear",
         "Which programming, scripting, and markup languages have you done extensive development work in over the past year, and which do you want to work in over the next year? (If you both worked with the language and want to continue to do so, please check both boxes in that row.)"
        ],
        [
         "JobSeek",
         "Which of the following best describes your current job-seeking status?"
        ],
        [
         "JobSat",
         "How satisfied are you with your current job? (If you work multiple jobs, answer for the one you spend the most hours on.)"
        ],
        [
         "JobFactors",
         "Imagine that you are deciding between two job offers with the same compensation, benefits, and location. Of the following factors, which 3 are MOST important to you?"
        ],
        [
         "Hobbyist",
         "Do you code as a hobby?"
        ],
        [
         "Gender",
         "Which of the following describe you, if any? Please check all that apply. If you prefer not to answer, you may leave this question blank."
        ],
        [
         "Ethnicity",
         "Which of the following describe you, if any? Please check all that apply. If you prefer not to answer, you may leave this question blank."
        ],
        [
         "Employment",
         "Which of the following best describes your current employment status?"
        ],
        [
         "EdLevel",
         "Which of the following best describes the highest level of formal education that you’ve completed?"
        ]
       ],
       "shape": {
        "columns": 1,
        "rows": 61
       }
      },
      "text/html": [
       "<div>\n",
       "<style scoped>\n",
       "    .dataframe tbody tr th:only-of-type {\n",
       "        vertical-align: middle;\n",
       "    }\n",
       "\n",
       "    .dataframe tbody tr th {\n",
       "        vertical-align: top;\n",
       "    }\n",
       "\n",
       "    .dataframe thead th {\n",
       "        text-align: right;\n",
       "    }\n",
       "</style>\n",
       "<table border=\"1\" class=\"dataframe\">\n",
       "  <thead>\n",
       "    <tr style=\"text-align: right;\">\n",
       "      <th></th>\n",
       "      <th>QuestionText</th>\n",
       "    </tr>\n",
       "    <tr>\n",
       "      <th>Column</th>\n",
       "      <th></th>\n",
       "    </tr>\n",
       "  </thead>\n",
       "  <tbody>\n",
       "    <tr>\n",
       "      <th>YearsCodePro</th>\n",
       "      <td>NOT including education, how many years have y...</td>\n",
       "    </tr>\n",
       "    <tr>\n",
       "      <th>YearsCode</th>\n",
       "      <td>Including any education, how many years have y...</td>\n",
       "    </tr>\n",
       "    <tr>\n",
       "      <th>WorkWeekHrs</th>\n",
       "      <td>On average, how many hours per week do you wor...</td>\n",
       "    </tr>\n",
       "    <tr>\n",
       "      <th>WelcomeChange</th>\n",
       "      <td>Compared to last year, how welcome do you feel...</td>\n",
       "    </tr>\n",
       "    <tr>\n",
       "      <th>WebframeWorkedWith</th>\n",
       "      <td>Which web frameworks have you done extensive d...</td>\n",
       "    </tr>\n",
       "    <tr>\n",
       "      <th>...</th>\n",
       "      <td>...</td>\n",
       "    </tr>\n",
       "    <tr>\n",
       "      <th>ConvertedComp</th>\n",
       "      <td>Salary converted to annual USD salaries using ...</td>\n",
       "    </tr>\n",
       "    <tr>\n",
       "      <th>CompTotal</th>\n",
       "      <td>What is your current total compensation (salar...</td>\n",
       "    </tr>\n",
       "    <tr>\n",
       "      <th>CompFreq</th>\n",
       "      <td>Is that compensation weekly, monthly, or yearly?</td>\n",
       "    </tr>\n",
       "    <tr>\n",
       "      <th>Age1stCode</th>\n",
       "      <td>At what age did you write your first line of c...</td>\n",
       "    </tr>\n",
       "    <tr>\n",
       "      <th>Age</th>\n",
       "      <td>What is your age (in years)? If you prefer not...</td>\n",
       "    </tr>\n",
       "  </tbody>\n",
       "</table>\n",
       "<p>61 rows × 1 columns</p>\n",
       "</div>"
      ],
      "text/plain": [
       "                                                         QuestionText\n",
       "Column                                                               \n",
       "YearsCodePro        NOT including education, how many years have y...\n",
       "YearsCode           Including any education, how many years have y...\n",
       "WorkWeekHrs         On average, how many hours per week do you wor...\n",
       "WelcomeChange       Compared to last year, how welcome do you feel...\n",
       "WebframeWorkedWith  Which web frameworks have you done extensive d...\n",
       "...                                                               ...\n",
       "ConvertedComp       Salary converted to annual USD salaries using ...\n",
       "CompTotal           What is your current total compensation (salar...\n",
       "CompFreq             Is that compensation weekly, monthly, or yearly?\n",
       "Age1stCode          At what age did you write your first line of c...\n",
       "Age                 What is your age (in years)? If you prefer not...\n",
       "\n",
       "[61 rows x 1 columns]"
      ]
     },
     "execution_count": 131,
     "metadata": {},
     "output_type": "execute_result"
    }
   ],
   "source": [
    "schema_df.sort_index(ascending=False)"
   ]
  },
  {
   "cell_type": "markdown",
   "id": "e42bf62a",
   "metadata": {},
   "source": [
    "### sort values"
   ]
  },
  {
   "cell_type": "code",
   "execution_count": 132,
   "id": "e06c0ab0",
   "metadata": {},
   "outputs": [
    {
     "data": {
      "application/vnd.microsoft.datawrangler.viewer.v0+json": {
       "columns": [
        {
         "name": "Column",
         "rawType": "object",
         "type": "string"
        },
        {
         "name": "QuestionText",
         "rawType": "object",
         "type": "string"
        }
       ],
       "conversionMethod": "pd.DataFrame",
       "ref": "74150709-915d-479e-82fb-e22fedb8d089",
       "rows": [
        [
         "OrgSize",
         "Approximately how many people are employed by the company or organization you currently work for?"
        ],
        [
         "NEWOtherComms",
         "Are you a member of any other online developer communities?"
        ],
        [
         "Trans",
         "Are you transgender?"
        ],
        [
         "Age1stCode",
         "At what age did you write your first line of code or program? (e.g., webpage, Hello World, Scratch project)"
        ],
        [
         "WelcomeChange",
         "Compared to last year, how welcome do you feel on Stack Overflow?"
        ],
        [
         "Hobbyist",
         "Do you code as a hobby?"
        ],
        [
         "SOComm",
         "Do you consider yourself a member of the Stack Overflow community?"
        ],
        [
         "SOAccount",
         "Do you have a Stack Overflow account?"
        ],
        [
         "NEWOffTopic",
         "Do you think Stack Overflow should relax restrictions on what is considered “off-topic”?"
        ],
        [
         "NEWOnboardGood",
         "Do you think your company has a good onboarding process? (By onboarding, we mean the structured process of getting you settled in to your new role at a company)"
        ],
        [
         "NEWDevOps",
         "Does your company have a dedicated DevOps person?"
        ],
        [
         "SurveyLength",
         "How do you feel about the length of the survey this year?"
        ],
        [
         "SurveyEase",
         "How easy or difficult was this survey to complete?"
        ],
        [
         "NEWLearn",
         "How frequently do you learn a new language or framework?"
        ],
        [
         "SOPartFreq",
         "How frequently would you say you participate in Q&A on Stack Overflow? By participate we mean ask, answer, vote for, or comment on questions."
        ],
        [
         "SOVisitFreq",
         "How frequently would you say you visit Stack Overflow?"
        ],
        [
         "NEWEdImpt",
         "How important is a formal education, such as a university degree in computer science, to your career?"
        ],
        [
         "NEWDevOpsImpt",
         "How important is the practice of DevOps to scaling software development?"
        ],
        [
         "NEWOvertime",
         "How often do you work overtime or beyond the formal time expectation of your job?"
        ],
        [
         "JobSat",
         "How satisfied are you with your current job? (If you work multiple jobs, answer for the one you spend the most hours on.)"
        ],
        [
         "JobFactors",
         "Imagine that you are deciding between two job offers with the same compensation, benefits, and location. Of the following factors, which 3 are MOST important to you?"
        ],
        [
         "NEWJobHunt",
         "In general, what drives you to look for a new job? Select all that apply."
        ],
        [
         "YearsCode",
         "Including any education, how many years have you been coding in total?"
        ],
        [
         "CompFreq",
         "Is that compensation weekly, monthly, or yearly?"
        ],
        [
         "YearsCodePro",
         "NOT including education, how many years have you coded professionally (as a part of your work)?"
        ],
        [
         "WorkWeekHrs",
         "On average, how many hours per week do you work? Please enter a whole number in the box."
        ],
        [
         "Respondent",
         "Randomized respondent ID number (not in order of survey response time)"
        ],
        [
         "ConvertedComp",
         "Salary converted to annual USD salaries using the exchange rate on 2020-02-19, assuming 12 working months and 50 working weeks."
        ],
        [
         "NEWStuck",
         "What do you do when you get stuck on a problem? Select all that apply."
        ],
        [
         "OpSys",
         "What is the primary operating system in which you work?"
        ],
        [
         "Age",
         "What is your age (in years)? If you prefer not to answer, you may leave this question blank."
        ],
        [
         "CompTotal",
         "What is your current total compensation (salary, bonuses, and perks, before taxes and deductions), in `CurrencySymbol`? Please enter a whole number in the box below, without any punctuation. If you are paid hourly, please estimate an equivalent weekly, monthly, or yearly salary. If you prefer not to answer, please leave the box empty."
        ],
        [
         "PurchaseWhat",
         "What level of influence do you, personally, have over new technology purchases at your organization?"
        ],
        [
         "UndergradMajor",
         "What was your primary field of study?"
        ],
        [
         "NEWPurchaseResearch",
         "When buying a new tool or software, how do you discover and research available solutions? Select all that apply."
        ],
        [
         "NEWJobHuntResearch",
         "When job searching, how do you learn more about a company? Select all that apply."
        ],
        [
         "Country",
         "Where do you live?"
        ],
        [
         "NEWCollabToolsDesireNextYear",
         "Which collaboration tools have you done extensive development work in over the past year, and which do you want to work in over the next year? (If you worked with the tool and want to continue to do so, please check both boxes in that row.)"
        ],
        [
         "NEWCollabToolsWorkedWith",
         "Which collaboration tools have you done extensive development work in over the past year, and which do you want to work in over the next year? (If you worked with the tool and want to continue to do so, please check both boxes in that row.)"
        ],
        [
         "CurrencyDesc",
         "Which currency do you use day-to-day? If your answer is complicated, please pick the one you're most comfortable estimating in."
        ],
        [
         "CurrencySymbol",
         "Which currency do you use day-to-day? If your answer is complicated, please pick the one you're most comfortable estimating in."
        ],
        [
         "DatabaseDesireNextYear",
         "Which database environments have you done extensive development work in over the past year, and which do you want to work in over the next year? (If you both worked with the database and want to continue to do so, please check both boxes in that row.)"
        ],
        [
         "DatabaseWorkedWith",
         "Which database environments have you done extensive development work in over the past year, and which do you want to work in over the next year? (If you both worked with the database and want to continue to do so, please check both boxes in that row.)"
        ],
        [
         "NEWSOSites",
         "Which of the following Stack Overflow sites have you visited? Select all that apply."
        ],
        [
         "EdLevel",
         "Which of the following best describes the highest level of formal education that you’ve completed?"
        ],
        [
         "Employment",
         "Which of the following best describes your current employment status?"
        ],
        [
         "JobSeek",
         "Which of the following best describes your current job-seeking status?"
        ],
        [
         "Ethnicity",
         "Which of the following describe you, if any? Please check all that apply. If you prefer not to answer, you may leave this question blank."
        ],
        [
         "Sexuality",
         "Which of the following describe you, if any? Please check all that apply. If you prefer not to answer, you may leave this question blank."
        ],
        [
         "Gender",
         "Which of the following describe you, if any? Please check all that apply. If you prefer not to answer, you may leave this question blank."
        ]
       ],
       "shape": {
        "columns": 1,
        "rows": 61
       }
      },
      "text/html": [
       "<div>\n",
       "<style scoped>\n",
       "    .dataframe tbody tr th:only-of-type {\n",
       "        vertical-align: middle;\n",
       "    }\n",
       "\n",
       "    .dataframe tbody tr th {\n",
       "        vertical-align: top;\n",
       "    }\n",
       "\n",
       "    .dataframe thead th {\n",
       "        text-align: right;\n",
       "    }\n",
       "</style>\n",
       "<table border=\"1\" class=\"dataframe\">\n",
       "  <thead>\n",
       "    <tr style=\"text-align: right;\">\n",
       "      <th></th>\n",
       "      <th>QuestionText</th>\n",
       "    </tr>\n",
       "    <tr>\n",
       "      <th>Column</th>\n",
       "      <th></th>\n",
       "    </tr>\n",
       "  </thead>\n",
       "  <tbody>\n",
       "    <tr>\n",
       "      <th>OrgSize</th>\n",
       "      <td>Approximately how many people are employed by ...</td>\n",
       "    </tr>\n",
       "    <tr>\n",
       "      <th>NEWOtherComms</th>\n",
       "      <td>Are you a member of any other online developer...</td>\n",
       "    </tr>\n",
       "    <tr>\n",
       "      <th>Trans</th>\n",
       "      <td>Are you transgender?</td>\n",
       "    </tr>\n",
       "    <tr>\n",
       "      <th>Age1stCode</th>\n",
       "      <td>At what age did you write your first line of c...</td>\n",
       "    </tr>\n",
       "    <tr>\n",
       "      <th>WelcomeChange</th>\n",
       "      <td>Compared to last year, how welcome do you feel...</td>\n",
       "    </tr>\n",
       "    <tr>\n",
       "      <th>...</th>\n",
       "      <td>...</td>\n",
       "    </tr>\n",
       "    <tr>\n",
       "      <th>LanguageDesireNextYear</th>\n",
       "      <td>Which programming, scripting, and markup langu...</td>\n",
       "    </tr>\n",
       "    <tr>\n",
       "      <th>LanguageWorkedWith</th>\n",
       "      <td>Which programming, scripting, and markup langu...</td>\n",
       "    </tr>\n",
       "    <tr>\n",
       "      <th>WebframeDesireNextYear</th>\n",
       "      <td>Which web frameworks have you done extensive d...</td>\n",
       "    </tr>\n",
       "    <tr>\n",
       "      <th>WebframeWorkedWith</th>\n",
       "      <td>Which web frameworks have you done extensive d...</td>\n",
       "    </tr>\n",
       "    <tr>\n",
       "      <th>NEWPurpleLink</th>\n",
       "      <td>You search for a coding solution online and th...</td>\n",
       "    </tr>\n",
       "  </tbody>\n",
       "</table>\n",
       "<p>61 rows × 1 columns</p>\n",
       "</div>"
      ],
      "text/plain": [
       "                                                             QuestionText\n",
       "Column                                                                   \n",
       "OrgSize                 Approximately how many people are employed by ...\n",
       "NEWOtherComms           Are you a member of any other online developer...\n",
       "Trans                                                Are you transgender?\n",
       "Age1stCode              At what age did you write your first line of c...\n",
       "WelcomeChange           Compared to last year, how welcome do you feel...\n",
       "...                                                                   ...\n",
       "LanguageDesireNextYear  Which programming, scripting, and markup langu...\n",
       "LanguageWorkedWith      Which programming, scripting, and markup langu...\n",
       "WebframeDesireNextYear  Which web frameworks have you done extensive d...\n",
       "WebframeWorkedWith      Which web frameworks have you done extensive d...\n",
       "NEWPurpleLink           You search for a coding solution online and th...\n",
       "\n",
       "[61 rows x 1 columns]"
      ]
     },
     "execution_count": 132,
     "metadata": {},
     "output_type": "execute_result"
    }
   ],
   "source": [
    "schema_df.sort_values(by='QuestionText')"
   ]
  }
 ],
 "metadata": {
  "kernelspec": {
   "display_name": ".venv",
   "language": "python",
   "name": "python3"
  },
  "language_info": {
   "codemirror_mode": {
    "name": "ipython",
    "version": 3
   },
   "file_extension": ".py",
   "mimetype": "text/x-python",
   "name": "python",
   "nbconvert_exporter": "python",
   "pygments_lexer": "ipython3",
   "version": "3.12.4"
  }
 },
 "nbformat": 4,
 "nbformat_minor": 5
}
